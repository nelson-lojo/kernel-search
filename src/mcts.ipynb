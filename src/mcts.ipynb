{
 "cells": [
  {
   "cell_type": "code",
   "execution_count": 1,
   "metadata": {
    "metadata": {}
   },
   "outputs": [],
   "source": [
    "from __future__ import annotations\n",
    "from exo import proc, DRAM, Procedure, SchedulingError, Memory\n",
    "import exo.query_asts as exo_ast\n",
    "import multiprocessing as mp\n",
    "import concurrent.futures\n",
    "\n",
    "import re\n",
    "import sys\n",
    "from itertools import chain\n",
    "from functools import reduce\n",
    "from typing import Any, Callable, Optional\n",
    "\n",
    "from psutil import Process, cpu_count\n",
    "Process().cpu_affinity(list(range(cpu_count())))\n",
    "\n",
    "sys.setrecursionlimit(10_000)\n",
    "\n",
    "\n",
    "BRANCHING_THRESHOLD: int = 3\n",
    "CONTROL_STRUCTURE = (exo_ast.For, exo_ast.If, exo_ast.Proc)\n",
    "SYMBOL_STRUCTURE = (exo_ast.Read, exo_ast.Reduce, exo_ast.Alloc, exo_ast.Assign)\n",
    "LOOP_SPLIT_SIZES: int = 4"
   ]
  },
  {
   "cell_type": "markdown",
   "metadata": {},
   "source": [
    "#### Debugging and Profiling tools"
   ]
  },
  {
   "cell_type": "code",
   "execution_count": 2,
   "metadata": {
    "metadata": {}
   },
   "outputs": [],
   "source": [
    "from pprint import pprint\n",
    "import cProfile\n",
    "\n",
    "def profileit(do_print: bool = False):\n",
    "    def inner(func):\n",
    "        def wrapper(*args, **kwargs):\n",
    "            prof = cProfile.Profile()\n",
    "            retval = prof.runcall(func, *args, **kwargs)\n",
    "\n",
    "            if do_print:\n",
    "                prof.print_stats(sort=\"cumtime\")\n",
    "            else:\n",
    "                prof.dump_stats(f\"{func.__name__}.profile\")\n",
    "\n",
    "            return retval\n",
    "        return wrapper\n",
    "    return inner"
   ]
  },
  {
   "cell_type": "markdown",
   "metadata": {},
   "source": [
    "### Query AST Classes (copied from the docstring)\n",
    "---\n",
    "\n",
    "In this notebook, we work the QAST (as opposed to the LoopIR AST, Memory AST, Parallel AST, C compilation AST, etc.). This is primarily due to ease of programmability, as most features of the code are easily extractable from either a regex or a traversal of the QAST. \n",
    "\n",
    "Exo ast nodes are organized into a hierarchy of dataclasses:"
   ]
  },
  {
   "cell_type": "markdown",
   "metadata": {},
   "source": [
    "- QueryAST\n",
    "  - `Proc`  ( name : str, args : list[FnArg], assertions : list[Expr],\n",
    "                        body : list[Stmt],  instruction : Optional[str] )\n",
    "  - `Stmt`\n",
    "    - `Assign`    ( name : str,   lhs_type : Type,    idx : list[Expr],\n",
    "                              rhs  : Expr )\n",
    "    - `Reduce`    ( name : str,   lhs_type : Type,    idx : list[Expr],\n",
    "                              rhs  : Expr )\n",
    "    - `WriteConfig` ( config : Config, field : str,\n",
    "                              rhs  : Expr )\n",
    "    - `Pass`      ()\n",
    "    - `If`        ( cond : Expr,  body : list[Stmt],  orelse : list[Stmt] )\n",
    "    - `For`       ( name : str,   lo   : Expr,        hi : Expr,\n",
    "                              body : list[Stmt],  is_par : bool )\n",
    "    - `Alloc`     ( name : str,   type : Type,        memory : Optional[Memory] )\n",
    "    - `Call`      ( proc : str,   args : list[Expr] )\n",
    "    - `WindowStmt`( name : str,   rhs  : Expr )\n",
    "  - `Expr`\n",
    "    - `Read`    ( name : str,   idx  : list[Expr],    type : Type )\n",
    "    - `Const`   ( val  : Any,   type : Type )\n",
    "    - `USub`    ( arg  : Expr,  type : Type )\n",
    "    - `BinOp`   ( op   : str,   lhs  : Expr,\n",
    "                            rhs  : Expr,          type : Type )\n",
    "    - `BuiltIn` ( func : str,   args : list[Expr],    type : Type )\n",
    "    - `WindowExpr`( name : str, idx : list[WAccess],  type : Type )\n",
    "    - `StrideExpr`( name : str, dim : int,            type : Type )\n",
    "    - `ReadConfig`( config : Config, field : str,     type : Type )\n",
    "  - `WAccess`\n",
    "    - `Interval`( lo : Expr, hi : Expr )\n",
    "    - `Point`( pt : Expr )\n",
    "  - `FnArg` ( name : str, type : Type, memory : Optional[Memory] )\n",
    "  - `Type`\n",
    "    - `R`()\n",
    "    - `f16`()\n",
    "    - `f32`()\n",
    "    - `f64`()\n",
    "    - `i8`()\n",
    "    - `i32`()\n",
    "    - `bool`()\n",
    "    - `int`()\n",
    "    - `index`()\n",
    "    - `size`()\n",
    "    - `stride`()\n",
    "    - `tensor`( hi : list[Expr], is_window : bool, type : Type )"
   ]
  },
  {
   "cell_type": "markdown",
   "metadata": {},
   "source": [
    "## Code"
   ]
  },
  {
   "cell_type": "markdown",
   "metadata": {},
   "source": [
    "### Infrastructure"
   ]
  },
  {
   "cell_type": "markdown",
   "metadata": {},
   "source": [
    "#### Tools initialization"
   ]
  },
  {
   "cell_type": "code",
   "execution_count": 3,
   "metadata": {
    "metadata": {}
   },
   "outputs": [
    {
     "name": "stdout",
     "output_type": "stream",
     "text": [
      "Proc(name='generated_operation',\n",
      "     args=[FnArg(name='In',\n",
      "                 type=tensor(hi=[Const(val=16, type=int()),\n",
      "                                 Const(val=16, type=int())],\n",
      "                             is_window=False,\n",
      "                             type=i8()),\n",
      "                 memory=<class 'exo.memory.DRAM'>),\n",
      "           FnArg(name='Weights',\n",
      "                 type=tensor(hi=[Const(val=16, type=int()),\n",
      "                                 Const(val=16, type=int())],\n",
      "                             is_window=False,\n",
      "                             type=i8()),\n",
      "                 memory=<class 'exo.memory.DRAM'>),\n",
      "           FnArg(name='Out',\n",
      "                 type=tensor(hi=[Const(val=16, type=int()),\n",
      "                                 Const(val=16, type=int())],\n",
      "                             is_window=False,\n",
      "                             type=i8()),\n",
      "                 memory=<class 'exo.memory.DRAM'>)],\n",
      "     assertions=[],\n",
      "     body=[For(name='i',\n",
      "               lo=Const(val=0, type=int()),\n",
      "               hi=Const(val=16, type=int()),\n",
      "               body=[For(name='j',\n",
      "                         lo=Const(val=0, type=int()),\n",
      "                         hi=Const(val=16, type=int()),\n",
      "                         body=[For(name='k',\n",
      "                                   lo=Const(val=0, type=int()),\n",
      "                                   hi=Const(val=16, type=int()),\n",
      "                                   body=[Reduce(name='Out',\n",
      "                                                lhs_type=i8(),\n",
      "                                                idx=[Read(name='i',\n",
      "                                                          idx=[],\n",
      "                                                          type=index()),\n",
      "                                                     Read(name='j',\n",
      "                                                          idx=[],\n",
      "                                                          type=index())],\n",
      "                                                rhs=BinOp(op='*',\n",
      "                                                          lhs=Read(name='In',\n",
      "                                                                   idx=[Read(name='i',\n",
      "                                                                             idx=[],\n",
      "                                                                             type=index()),\n",
      "                                                                        Read(name='k',\n",
      "                                                                             idx=[],\n",
      "                                                                             type=index())],\n",
      "                                                                   type=i8()),\n",
      "                                                          rhs=Read(name='Weights',\n",
      "                                                                   idx=[Read(name='k',\n",
      "                                                                             idx=[],\n",
      "                                                                             type=index()),\n",
      "                                                                        Read(name='j',\n",
      "                                                                             idx=[],\n",
      "                                                                             type=index())],\n",
      "                                                                   type=i8()),\n",
      "                                                          type=i8()))],\n",
      "                                   is_par=False)],\n",
      "                         is_par=False)],\n",
      "               is_par=False)],\n",
      "     instruction=None)\n"
     ]
    }
   ],
   "source": [
    "def get_exo_proc() -> Procedure:\n",
    "    @proc\n",
    "    def generated_operation(\n",
    "        In: i8[16, 16] @ DRAM,\n",
    "        Weights: i8[16, 16] @ DRAM,\n",
    "        Out: i8[16, 16] @ DRAM,\n",
    "    ):\n",
    "        for i in seq(0, 16):\n",
    "            for j in seq(0, 16):\n",
    "                for k in seq(0, 16):\n",
    "                    Out[i, j] += In[i, k] * Weights[k, j]\n",
    "\n",
    "    return generated_operation\n",
    "\n",
    "PROC_AST: exo_ast.Proc = get_exo_proc().get_ast() # pyright: ignore[reportAssignmentType]\n",
    "pprint(PROC_AST)"
   ]
  },
  {
   "cell_type": "code",
   "execution_count": 4,
   "metadata": {
    "metadata": {}
   },
   "outputs": [],
   "source": [
    "def extract_c_code(proc: Procedure) -> str:\n",
    "    \"\"\"Compile the procedure to C code and remove all header information\"\"\"\n",
    "    return proc.c_code_str().split(\"#include <stdlib.h>\")[-1]"
   ]
  },
  {
   "cell_type": "code",
   "execution_count": 5,
   "metadata": {},
   "outputs": [],
   "source": [
    "def get_pattern_from_node(ast: exo_ast.QueryAST):\n",
    "    \"\"\"Produce a \"pattern\" necessary to match this node using normal scheduling operations\"\"\"\n",
    "    match ast:\n",
    "        case exo_ast.For(name=n):\n",
    "            return f\"for {n} in _ : _\"\n",
    "        case _:\n",
    "            raise NotImplementedError"
   ]
  },
  {
   "cell_type": "code",
   "execution_count": 6,
   "metadata": {},
   "outputs": [],
   "source": [
    "def parallel_nest_call(lst, mapping, enable: bool, \n",
    "    threshold: int = BRANCHING_THRESHOLD,\n",
    "    d_type: type[list | set] = list,\n",
    "    reduction = chain\n",
    "    ):\n",
    "    \"\"\"Helper method to enable parallel traversals of the AST\"\"\"\n",
    "    if enable and len(lst) > threshold:\n",
    "        with mp.Pool() as pool:\n",
    "            return d_type(reduction(\n",
    "                *pool.starmap(mapping, [(item, False) for item in lst]\n",
    "            )))\n",
    "    return d_type(reduction(*[mapping(item, can_split=enable) for item in lst]))"
   ]
  },
  {
   "cell_type": "code",
   "execution_count": 7,
   "metadata": {},
   "outputs": [
    {
     "data": {
      "text/plain": [
       "{'In': [16, 16], 'Weights': [16, 16], 'Out': [16, 16]}"
      ]
     },
     "execution_count": 7,
     "metadata": {},
     "output_type": "execute_result"
    }
   ],
   "source": [
    "DTYPE = \"i8\"\n",
    "def get_names_and_dimensions(proc: Procedure) -> dict[str, list[int]]:\n",
    "    \"\"\"Get all buffers that are defined *somewhere* in the procedure\"\"\"\n",
    "    src_code = str(proc)\n",
    "\n",
    "    matches = re.findall(f'([a-zA-Z_0-9]*): {DTYPE}\\[([^\\]]*)\\]', src_code)\n",
    "\n",
    "    dims = {\n",
    "        name: [ int(d) for d in dims.split(\", \") ]\n",
    "        for name, dims in matches\n",
    "    }\n",
    "\n",
    "    return dims\n",
    "get_names_and_dimensions(get_exo_proc())#, [\"Out\", \"In\", \"Weights\"])"
   ]
  },
  {
   "cell_type": "markdown",
   "metadata": {},
   "source": [
    "#### AST Traversals"
   ]
  },
  {
   "cell_type": "code",
   "execution_count": 8,
   "metadata": {},
   "outputs": [
    {
     "data": {
      "text/plain": [
       "[For(name='i', lo=Const(val=0, type=int()), hi=Const(val=16, type=int()), body=[For(name='j', lo=Const(val=0, type=int()), hi=Const(val=16, type=int()), body=[For(name='k', lo=Const(val=0, type=int()), hi=Const(val=16, type=int()), body=[Reduce(name='Out', lhs_type=i8(), idx=[Read(name='i', idx=[], type=index()), Read(name='j', idx=[], type=index())], rhs=BinOp(op='*', lhs=Read(name='In', idx=[Read(name='i', idx=[], type=index()), Read(name='k', idx=[], type=index())], type=i8()), rhs=Read(name='Weights', idx=[Read(name='k', idx=[], type=index()), Read(name='j', idx=[], type=index())], type=i8()), type=i8()))], is_par=False)], is_par=False)], is_par=False),\n",
       " For(name='j', lo=Const(val=0, type=int()), hi=Const(val=16, type=int()), body=[For(name='k', lo=Const(val=0, type=int()), hi=Const(val=16, type=int()), body=[Reduce(name='Out', lhs_type=i8(), idx=[Read(name='i', idx=[], type=index()), Read(name='j', idx=[], type=index())], rhs=BinOp(op='*', lhs=Read(name='In', idx=[Read(name='i', idx=[], type=index()), Read(name='k', idx=[], type=index())], type=i8()), rhs=Read(name='Weights', idx=[Read(name='k', idx=[], type=index()), Read(name='j', idx=[], type=index())], type=i8()), type=i8()))], is_par=False)], is_par=False),\n",
       " For(name='k', lo=Const(val=0, type=int()), hi=Const(val=16, type=int()), body=[Reduce(name='Out', lhs_type=i8(), idx=[Read(name='i', idx=[], type=index()), Read(name='j', idx=[], type=index())], rhs=BinOp(op='*', lhs=Read(name='In', idx=[Read(name='i', idx=[], type=index()), Read(name='k', idx=[], type=index())], type=i8()), rhs=Read(name='Weights', idx=[Read(name='k', idx=[], type=index()), Read(name='j', idx=[], type=index())], type=i8()), type=i8()))], is_par=False)]"
      ]
     },
     "execution_count": 8,
     "metadata": {},
     "output_type": "execute_result"
    }
   ],
   "source": [
    "def find_all_blocks(mod: exo_ast.QueryAST, can_split: bool = True) -> list[exo_ast.For | exo_ast.If]:\n",
    "    \"\"\"Produce a list of the For/If nodes in the ast.Module in depth-wise order.\"\"\"\n",
    "    if not isinstance(mod, CONTROL_STRUCTURE):\n",
    "        return [ ]\n",
    "\n",
    "    match mod:\n",
    "        case exo_ast.For(body=b) | exo_ast.If(body=b):\n",
    "            return [mod] + parallel_nest_call(b, find_all_blocks, enable=can_split)\n",
    "        case exo_ast.Proc(body=b):\n",
    "            return parallel_nest_call(b, find_all_blocks, enable=can_split)\n",
    "        case _:\n",
    "            raise ValueError\n",
    "\n",
    "find_all_blocks(PROC_AST)"
   ]
  },
  {
   "cell_type": "code",
   "execution_count": 9,
   "metadata": {
    "metadata": {}
   },
   "outputs": [
    {
     "data": {
      "text/plain": [
       "[For(name='i', lo=Const(val=0, type=int()), hi=Const(val=16, type=int()), body=[For(name='j', lo=Const(val=0, type=int()), hi=Const(val=16, type=int()), body=[For(name='k', lo=Const(val=0, type=int()), hi=Const(val=16, type=int()), body=[Reduce(name='Out', lhs_type=i8(), idx=[Read(name='i', idx=[], type=index()), Read(name='j', idx=[], type=index())], rhs=BinOp(op='*', lhs=Read(name='In', idx=[Read(name='i', idx=[], type=index()), Read(name='k', idx=[], type=index())], type=i8()), rhs=Read(name='Weights', idx=[Read(name='k', idx=[], type=index()), Read(name='j', idx=[], type=index())], type=i8()), type=i8()))], is_par=False)], is_par=False)], is_par=False),\n",
       " For(name='j', lo=Const(val=0, type=int()), hi=Const(val=16, type=int()), body=[For(name='k', lo=Const(val=0, type=int()), hi=Const(val=16, type=int()), body=[Reduce(name='Out', lhs_type=i8(), idx=[Read(name='i', idx=[], type=index()), Read(name='j', idx=[], type=index())], rhs=BinOp(op='*', lhs=Read(name='In', idx=[Read(name='i', idx=[], type=index()), Read(name='k', idx=[], type=index())], type=i8()), rhs=Read(name='Weights', idx=[Read(name='k', idx=[], type=index()), Read(name='j', idx=[], type=index())], type=i8()), type=i8()))], is_par=False)], is_par=False),\n",
       " For(name='k', lo=Const(val=0, type=int()), hi=Const(val=16, type=int()), body=[Reduce(name='Out', lhs_type=i8(), idx=[Read(name='i', idx=[], type=index()), Read(name='j', idx=[], type=index())], rhs=BinOp(op='*', lhs=Read(name='In', idx=[Read(name='i', idx=[], type=index()), Read(name='k', idx=[], type=index())], type=i8()), rhs=Read(name='Weights', idx=[Read(name='k', idx=[], type=index()), Read(name='j', idx=[], type=index())], type=i8()), type=i8()))], is_par=False)]"
      ]
     },
     "execution_count": 9,
     "metadata": {},
     "output_type": "execute_result"
    }
   ],
   "source": [
    "def extract_fors(mod: exo_ast.QueryAST, can_split: bool = True) -> list[exo_ast.For]:\n",
    "    \"\"\"Produce a list of the For nodes in the ast.Module in depth-wise order.\"\"\"\n",
    "    all_blocks = find_all_blocks(mod, can_split=can_split)\n",
    "    fors: list[exo_ast.For] = filter(lambda b: isinstance(b, exo_ast.For), all_blocks) # pyright: ignore[reportAssignmentType]\n",
    "    return list(fors)\n",
    "\n",
    "extract_fors(PROC_AST)"
   ]
  },
  {
   "cell_type": "code",
   "execution_count": 10,
   "metadata": {
    "metadata": {}
   },
   "outputs": [],
   "source": [
    "union = lambda iter_of_sets: reduce(lambda a, b: a | b, iter_of_sets, set())"
   ]
  },
  {
   "cell_type": "code",
   "execution_count": 11,
   "metadata": {
    "metadata": {}
   },
   "outputs": [
    {
     "data": {
      "text/plain": [
       "{('i', 'j'), ('j', 'k')}"
      ]
     },
     "execution_count": 11,
     "metadata": {},
     "output_type": "execute_result"
    }
   ],
   "source": [
    "def get_swappable_loops(ast: exo_ast.QueryAST, can_split: bool = True) -> set[tuple[str, str]]:\n",
    "    \"\"\"Return a set of all swappable for loops\"\"\"\n",
    "    if not isinstance(ast, CONTROL_STRUCTURE):\n",
    "        return set([])\n",
    "\n",
    "    match ast:\n",
    "        case exo_ast.For(name=name, body=[exo_ast.For(name=inner_name)]):\n",
    "            return set([(name, inner_name)]) \\\n",
    "                 | get_swappable_loops(ast.body[0], can_split)\n",
    "        case exo_ast.Proc(body=b) | exo_ast.If(body=b) | exo_ast.For(body=b):\n",
    "            # unfortunately not as simple as the following:\n",
    "            # return parallel_nest_call(b, get_swappable_loops, can_split, d_type=set, reduction=union)\n",
    "            if can_split and len(b) > BRANCHING_THRESHOLD:\n",
    "                with mp.Pool() as pool:\n",
    "                    return union(pool.starmap(get_swappable_loops, \n",
    "                        [ (node, False) for node in b ] \n",
    "                    ))\n",
    "\n",
    "            return union([\n",
    "                get_swappable_loops(node, can_split)\n",
    "                for node in b\n",
    "            ])\n",
    "        case _:\n",
    "            raise ValueError\n",
    "\n",
    "get_swappable_loops(PROC_AST)"
   ]
  },
  {
   "cell_type": "code",
   "execution_count": 12,
   "metadata": {},
   "outputs": [
    {
     "data": {
      "text/plain": [
       "[For(name='k', lo=Const(val=0, type=int()), hi=Const(val=16, type=int()), body=[Reduce(name='Out', lhs_type=i8(), idx=[Read(name='i', idx=[], type=index()), Read(name='j', idx=[], type=index())], rhs=BinOp(op='*', lhs=Read(name='In', idx=[Read(name='i', idx=[], type=index()), Read(name='k', idx=[], type=index())], type=i8()), rhs=Read(name='Weights', idx=[Read(name='k', idx=[], type=index()), Read(name='j', idx=[], type=index())], type=i8()), type=i8()))], is_par=False)]"
      ]
     },
     "execution_count": 12,
     "metadata": {},
     "output_type": "execute_result"
    }
   ],
   "source": [
    "def find_innermost_loops(mod: exo_ast.QueryAST, can_split: bool = True) -> list[exo_ast.For]:\n",
    "    \"\"\"Get all loops with no loops inside them\"\"\"\n",
    "    if not isinstance(mod, CONTROL_STRUCTURE):\n",
    "        return [ ]\n",
    "\n",
    "    match mod:\n",
    "        case exo_ast.Proc(body=b) | exo_ast.If(body=b):\n",
    "            return parallel_nest_call(b, find_innermost_loops, enable=can_split)\n",
    "        case exo_ast.For(body=b):\n",
    "            if any(map(lambda n: isinstance(n, exo_ast.For), b)):\n",
    "                return parallel_nest_call(b, find_innermost_loops, enable=can_split)\n",
    "            return [mod]\n",
    "        case _:\n",
    "            raise ValueError\n",
    "\n",
    "find_innermost_loops(PROC_AST)"
   ]
  },
  {
   "cell_type": "markdown",
   "metadata": {},
   "source": [
    "#### Lazy Transform Wrapper"
   ]
  },
  {
   "cell_type": "code",
   "execution_count": 13,
   "metadata": {
    "metadata": {}
   },
   "outputs": [],
   "source": [
    "from exo.stdlib.scheduling import (\n",
    "    simplify,\n",
    "    unroll_loop,\n",
    "    reorder_loops,\n",
    "    divide_loop,\n",
    "    replace_all,\n",
    "    \n",
    "    stage_mem,\n",
    "    set_memory,\n",
    "    divide_dim,\n",
    "    mult_dim,\n",
    "    unroll_buffer,\n",
    "    # join_loops,\n",
    "    # cut_loop,\n",
    "    # shift_loop,\n",
    "    # mult_loops,\n",
    "    # remove_loop\n",
    ")"
   ]
  },
  {
   "cell_type": "code",
   "execution_count": 14,
   "metadata": {},
   "outputs": [],
   "source": [
    "class ScheduledProc:\n",
    "    \"\"\"A wrapper class to allow for lazy evaluation of scheduling operations\"\"\"\n",
    "    def __init__(self, exo_sched_func: Callable, args: list = [], kwargs: dict[str, Any] = {}):\n",
    "        self.sched_func = exo_sched_func\n",
    "        self.func_args = args\n",
    "        self.func_kwargs = kwargs\n",
    "\n",
    "    def _apply_transform(self, proc: Procedure) -> Procedure:\n",
    "        func = self.sched_func\n",
    "\n",
    "        return func(\n",
    "            proc, \n",
    "            *self.func_args,\n",
    "            **self.func_kwargs\n",
    "        )\n",
    "\n",
    "    def __repr__(self):\n",
    "        return (\n",
    "            f\"{self.sched_func.__name__}(<proc>, \"\n",
    "          + \", \".join(map(str, self.func_args))\n",
    "          + \", \"\n",
    "          + \", \".join([f\"{key} = {val}\" for key, val in self.func_kwargs.items()])\n",
    "          + \")\"\n",
    "        )\n",
    "\n",
    "    def __call__(self, proc: Procedure) -> Procedure | None:\n",
    "        try:\n",
    "            return self._apply_transform(proc)\n",
    "        except SchedulingError as e:\n",
    "            print(f\"WARNING: Encountered {e}\")\n",
    "            return None"
   ]
  },
  {
   "cell_type": "markdown",
   "metadata": {},
   "source": [
    "### Transforms"
   ]
  },
  {
   "cell_type": "markdown",
   "metadata": {},
   "source": [
    "#### Valid branches logic"
   ]
  },
  {
   "cell_type": "code",
   "execution_count": 15,
   "metadata": {},
   "outputs": [],
   "source": [
    "from exo.platforms.rvv import RVV"
   ]
  },
  {
   "cell_type": "code",
   "execution_count": 16,
   "metadata": {
    "metadata": {}
   },
   "outputs": [
    {
     "data": {
      "text/plain": [
       "[reorder_loops(<proc>, j k, ), reorder_loops(<proc>, i j, )]"
      ]
     },
     "execution_count": 16,
     "metadata": {},
     "output_type": "execute_result"
    }
   ],
   "source": [
    "def get_loop_reorders(ast: exo_ast.Proc, **kwargs) -> list[ScheduledProc]:\n",
    "    \"\"\"Get all valid loop reordering transforms\"\"\"\n",
    "    loop_pairs = get_swappable_loops(ast)\n",
    "    return [\n",
    "        ScheduledProc(\n",
    "            reorder_loops,\n",
    "            [\" \".join(list(loop_pair))], \n",
    "            {}\n",
    "        ) for loop_pair in loop_pairs\n",
    "    ]\n",
    "\n",
    "get_loop_reorders(PROC_AST)"
   ]
  },
  {
   "cell_type": "code",
   "execution_count": 17,
   "metadata": {},
   "outputs": [
    {
     "data": {
      "text/plain": [
       "[unroll(<proc>, , ), unroll(<proc>, , ), unroll(<proc>, , )]"
      ]
     },
     "execution_count": 17,
     "metadata": {},
     "output_type": "execute_result"
    }
   ],
   "source": [
    "def get_loop_unrolls(ast: exo_ast.Proc, **kwargs) -> list[ScheduledProc]:\n",
    "    \"\"\"Get every possible loop unrolling transform\"\"\"\n",
    "    all_loops = extract_fors(ast)\n",
    "    unrolls = [ ]\n",
    "    for loop in all_loops:\n",
    "        def unroll(proc: Procedure) -> Procedure:\n",
    "            p = unroll_loop(proc, loop.name)\n",
    "            # p = simplify(p)\n",
    "            return p\n",
    "        unrolls.append(ScheduledProc(unroll))\n",
    "\n",
    "    return unrolls\n",
    "\n",
    "get_loop_unrolls(PROC_AST)"
   ]
  },
  {
   "cell_type": "code",
   "execution_count": 18,
   "metadata": {},
   "outputs": [
    {
     "data": {
      "text/plain": [
       "[split(<proc>, , ), split(<proc>, , ), split(<proc>, , )]"
      ]
     },
     "execution_count": 18,
     "metadata": {},
     "output_type": "execute_result"
    }
   ],
   "source": [
    "def get_loop_splits(ast: exo_ast.Proc, **kwargs) -> list[ScheduledProc]:\n",
    "    \"\"\"Get every loop split given `LOOP_SPLIT_SIZES` set earlier in the notebook\"\"\"\n",
    "    lowest_loops = find_innermost_loops(ast)\n",
    "\n",
    "    splits: list[ScheduledProc] = [ ]\n",
    "    for loop in lowest_loops:\n",
    "        if not (isinstance(loop.hi, exo_ast.Const) and isinstance(loop.lo, exo_ast.Const)):\n",
    "            continue # we can't split loops without constant bounds\n",
    "\n",
    "        for split_const in range(LOOP_SPLIT_SIZES, loop.hi.val - loop.lo.val, LOOP_SPLIT_SIZES):\n",
    "            new_loops = [f\"{loop.name}_out\", f\"{loop.name}_in\"]\n",
    "            def split(proc: Procedure) -> Procedure:\n",
    "                p = divide_loop(proc, loop.name, split_const, new_loops, tail=\"cut\")\n",
    "                # p = simplify(p)\n",
    "                return p\n",
    "\n",
    "            splits.append(ScheduledProc(split))\n",
    "\n",
    "    return splits\n",
    "\n",
    "get_loop_splits(PROC_AST)"
   ]
  },
  {
   "cell_type": "code",
   "execution_count": 19,
   "metadata": {},
   "outputs": [],
   "source": [
    "def get_loop_fusions(ast: exo_ast.Proc, **kwargs): raise NotImplementedError\n",
    "    # all_loops = extract_fors(ast)\n",
    "\n",
    "    # fusions = [ ]\n",
    "    # num_loops = len(all_loops)\n",
    "    # for i in range(num_loops):\n",
    "    #     for j in range(i+1, num_loops):\n",
    "    #         loop1 = get_pattern_from_node(all_loops[i])\n",
    "    #         loop2 = get_pattern_from_node(all_loops[j])\n",
    "    #         fusions.append(ScheduledProc(join_loops, [loop1, loop2]))\n",
    "    \n",
    "    # return fusions\n",
    "# fs = get_loop_fusions(PROC_AST)\n",
    "# fs[1](get_exo_proc())"
   ]
  },
  {
   "cell_type": "code",
   "execution_count": 20,
   "metadata": {},
   "outputs": [
    {
     "data": {
      "text/plain": [
       "(18,\n",
       " [do_stage(<proc>, , ),\n",
       "  do_stage(<proc>, , ),\n",
       "  do_stage(<proc>, , ),\n",
       "  do_stage(<proc>, , ),\n",
       "  do_stage(<proc>, , ),\n",
       "  do_stage(<proc>, , ),\n",
       "  do_stage(<proc>, , ),\n",
       "  do_stage(<proc>, , ),\n",
       "  do_stage(<proc>, , ),\n",
       "  do_stage(<proc>, , ),\n",
       "  do_stage(<proc>, , ),\n",
       "  do_stage(<proc>, , ),\n",
       "  do_stage(<proc>, , ),\n",
       "  do_stage(<proc>, , ),\n",
       "  do_stage(<proc>, , ),\n",
       "  do_stage(<proc>, , ),\n",
       "  do_stage(<proc>, , ),\n",
       "  do_stage(<proc>, , )])"
      ]
     },
     "execution_count": 20,
     "metadata": {},
     "output_type": "execute_result"
    }
   ],
   "source": [
    "def get_mem_stages(proc: Procedure, **kwargs) -> list[Procedure]:\n",
    "    \"\"\"Stage every identifier outside of every block onto every memory\"\"\"\n",
    "    blocks = find_all_blocks(proc.get_ast()) # pyright: ignore[reportArgumentType]\n",
    "    try:\n",
    "        buffers = get_names_and_dimensions(proc)\n",
    "    except ValueError as _:\n",
    "        return [ ]\n",
    "    \n",
    "\n",
    "    stages = [ ]\n",
    "    for buff_name, dims in buffers.items():\n",
    "        for block in blocks:\n",
    "            for mem in [RVV, DRAM]:\n",
    "\n",
    "                block_pattern = get_pattern_from_node(block)\n",
    "                new_symbol = f\"{buff_name}Staged\"\n",
    "                window_expr = f\"{buff_name}[{','.join([f'0:{end}' for end in dims])}]\"\n",
    "\n",
    "                def do_stage(proc):\n",
    "                    proc = stage_mem(proc, block_pattern, window_expr, new_symbol)\n",
    "                    proc = set_memory(proc, new_symbol, mem)\n",
    "                    # proc = simplify(proc)\n",
    "                    return proc\n",
    "\n",
    "                stages.append(ScheduledProc(do_stage))\n",
    "\n",
    "    return stages\n",
    "e = get_mem_stages(get_exo_proc())\n",
    "len(e), e"
   ]
  },
  {
   "cell_type": "code",
   "execution_count": 21,
   "metadata": {},
   "outputs": [
    {
     "data": {
      "text/plain": [
       "[reshape(<proc>, , ), reshape(<proc>, , ), reshape(<proc>, , )]"
      ]
     },
     "execution_count": 21,
     "metadata": {},
     "output_type": "execute_result"
    }
   ],
   "source": [
    "def get_buff_reshapes(proc: Procedure, **kwargs):\n",
    "    \"\"\"Get a flattening of every buffer to be of dimension (-1, 4) to eventually work with rvv\"\"\"\n",
    "    try:\n",
    "        buffers = get_names_and_dimensions(proc)\n",
    "    except ValueError as _:\n",
    "        return [ ]\n",
    "\n",
    "    reshapes = [ ]\n",
    "    for buff, dims in buffers.items():\n",
    "        num_flattens = len(dims) - 1\n",
    "        def reshape(proc: Procedure) -> Procedure:\n",
    "            proc = divide_dim(proc, f\"{buff} : _\", len(dims)-1, 4)\n",
    "            for _ in range(num_flattens):\n",
    "                proc = mult_dim(proc, buff, 0, 1)\n",
    "            \n",
    "            # proc = simplify(proc)\n",
    "            return proc\n",
    "\n",
    "        reshapes.append(ScheduledProc(reshape))\n",
    "\n",
    "    return reshapes\n",
    "get_buff_reshapes(get_exo_proc())"
   ]
  },
  {
   "cell_type": "code",
   "execution_count": 22,
   "metadata": {},
   "outputs": [
    {
     "data": {
      "text/plain": [
       "[]"
      ]
     },
     "execution_count": 22,
     "metadata": {},
     "output_type": "execute_result"
    }
   ],
   "source": [
    "def get_buff_unrolls(proc: Procedure) -> list[ScheduledProc]:\n",
    "    \"\"\"Get an unrolling of every buffer that is of shape (-1, 4)\"\"\"\n",
    "    try:\n",
    "        buffers = get_names_and_dimensions(proc)\n",
    "    except ValueError as _:\n",
    "        return [ ]\n",
    "\n",
    "    unrolls = [ ]\n",
    "    for name, dims in buffers.items():\n",
    "        if len(dims) != 2 or dims[1] != 4:\n",
    "            # if the buffer can't be put onto RVV, skip\n",
    "            continue\n",
    "        \n",
    "        unrolls.append(ScheduledProc(unroll_buffer, [name, 0]))\n",
    "    \n",
    "    return unrolls\n",
    "get_buff_unrolls(get_exo_proc())"
   ]
  },
  {
   "cell_type": "markdown",
   "metadata": {},
   "source": [
    "#### Gemmini instructions"
   ]
  },
  {
   "cell_type": "markdown",
   "metadata": {},
   "source": [
    "This section ended up getting abandoned due to the complexity of dealing with *two* necessary memory staging transforms per output buffer. The problem was simplified to only search for RVV algorithms to improve the chance that a valid algorithm could be found in time"
   ]
  },
  {
   "cell_type": "code",
   "execution_count": 23,
   "metadata": {},
   "outputs": [],
   "source": [
    "from exo.platforms.gemmini import (\n",
    "    do_ld_i8_block_id1,\n",
    "    do_ld_i8_vector,\n",
    "    do_ld_i8,\n",
    "\n",
    "    do_matmul_i8,\n",
    "\n",
    "    st_acc_i32,\n",
    "    do_st_acc_i8,\n",
    "\n",
    "    config_ld_i8,\n",
    "    config_ld_i8_id1,\n",
    "    config_matmul,\n",
    "\n",
    ")\n",
    "\n",
    "from exo.API import check_eqv_proc\n",
    "\n",
    "def find_eq_gemmini_subtrees(ast: exo_ast.QueryAST) -> list[exo_ast.QueryAST]:\n",
    "    ...\n",
    "\n",
    "def get_gemmini_insts(_: exo_ast.Proc) -> list[ScheduledProc]:\n",
    "    return [\n",
    "        ScheduledProc(replace_all, [gemmini_inst])\n",
    "        for gemmini_inst in [\n",
    "            # do_ld_i8_block_id1,\n",
    "            # do_matmul_i8\n",
    "\n",
    "        ]\n",
    "    ]\n",
    "\n",
    "ALL_INSTS = [\n",
    "    \"acc_scale\",\n",
    "] + [ # i8 loading config insts\n",
    "    \"config_ld_i8\" + suff\n",
    "    for suff in [\n",
    "        \"\", \"_id1\", \"_id2\", \"_s2_id1\"\n",
    "    ]\n",
    "] + [ # i8 loads\n",
    "    \"do_ld_i8\" + suff # ld_i8_prototype\n",
    "    for suff in [\n",
    "        \"\", \"_id1\", \"_id2\", \"_s2_id1\", \n",
    "        \"_block_id1\", \n",
    "        \"_block_id2\", \n",
    "        \"_vector\",\n",
    "    ]\n",
    "] + [ # i8 block loads (not \"do\")\n",
    "    \"ld_i8_block\" + suff\n",
    "    for suff in [\n",
    "        \"\",\n",
    "        \"_id1\", \"_id1_v2\", \"_id1_s2_v2\",\n",
    "        \"_id2\", \"_id2_v2\", \"_id2_s2_v2\",\n",
    "    ]\n",
    "] + [ # remaining i8 loads (not \"do\")\n",
    "    \"ld_i8\" + suff # this one is the same as do_ld_i8, but with a pass statement\n",
    "    for suff in [\n",
    "        \"\", \"_v2\", \"_s2\",\n",
    "        \"_id1\", \"_id1_v2\", \"_id1_s2_v2\",\n",
    "        \"_id2\", \"_id2_v2\", \"_id2_s2_v2\",\n",
    "        \"_vector\",\n",
    "    ]\n",
    "] + [\n",
    "    \"do_ld_acc_i32\",\n",
    "    \"do_ld_acc_i32_vector\",\n",
    "\n",
    "    \"config_ld_acc_i32_vector\",\n",
    "    \n",
    "    \"ld_acc_i8\",\n",
    "    \"ld_acc_i32\",\n",
    "    \"ld_acc_i32_vector\",\n",
    "    \"ld_acc_i32_vector_v2\",\n",
    "\n",
    "\n",
    "    \"zero_block_id2\",\n",
    "    \n",
    "    \"st_i8\",\n",
    "\n",
    "    \"clamp\",\n",
    "\n",
    "    \"config_st_acc_i8\",\n",
    "    \"do_st_acc_i8\",\n",
    "\n",
    "    \"st_acc_i8\",\n",
    "    \"st_acc_i8_v2\",\n",
    "    \"st_acc_i8_s2_v2\",\n",
    "    \n",
    "    \"st_acc_i32\",\n",
    "    \n",
    "    \"config_zero\",\n",
    "\n",
    "    \"do_zero_i8\",\n",
    "    \"do_zero_i8_vector\",\n",
    "\n",
    "    \"do_zero_acc_i32\",\n",
    "\n",
    "    \"zero_acc_i32_v2\",\n",
    "    \"zero_acc_i32\",\n",
    "    \n",
    "    \n",
    "    \"zero_i8\",\n",
    "    \"zero_i8_v2\",\n",
    "    \"zero_i8_vector\",\n",
    "    \"zero_i8_vector_v2\",\n",
    "    \n",
    "\n",
    "    \"config_matmul\",\n",
    "\n",
    "    \"do_matmul_i8\",\n",
    "    # \"matmul_i8_v2\",\n",
    "    # \"matmul_i8\",\n",
    "\n",
    "    # \"do_matmul_acc_i8\",\n",
    "    # \"matmul_acc_i8_v2\",\n",
    "    # \"matmul_acc_i8\",\n",
    "]"
   ]
  },
  {
   "cell_type": "markdown",
   "metadata": {},
   "source": [
    "#### RVV instructions"
   ]
  },
  {
   "cell_type": "code",
   "execution_count": 24,
   "metadata": {},
   "outputs": [],
   "source": [
    "import exo.platforms.rvv as r"
   ]
  },
  {
   "cell_type": "code",
   "execution_count": 25,
   "metadata": {},
   "outputs": [],
   "source": [
    "def replace_rvv_ld_st(proc: Procedure) -> Procedure:\n",
    "    return ( replace_all(\n",
    "        replace_all(\n",
    "            proc, \n",
    "            r.rvv_vld_4xf32\n",
    "        )\n",
    "        , r.rvv_vst_4xf32)\n",
    "    )"
   ]
  },
  {
   "cell_type": "code",
   "execution_count": 26,
   "metadata": {},
   "outputs": [
    {
     "data": {
      "text/plain": [
       "[replace_rvv_ld_st(<proc>, , ),\n",
       " replace_all(<proc>, def rvv_vfmacc_1xf32_4xf32(dst: [f32][4] @ RVV, lhs: [f32][1] @ DRAM,\n",
       "                            rhs: [f32][4] @ RVV, vl: size):\n",
       "     # @instr {dst_data} = __riscv_vfmacc_vf_f32m1{dst_data}, {lhs_data}, {rhs_data},{vl});\n",
       "     assert stride(dst, 0) == 1\n",
       "     assert stride(lhs, 0) == 1\n",
       "     assert stride(rhs, 0) == 1\n",
       "     assert vl >= 0\n",
       "     assert vl <= 4\n",
       "     for i in seq(0, vl):\n",
       "         dst[i] += lhs[0] * rhs[i], ),\n",
       " replace_all(<proc>, def rvv_vfmacc_4xf32_4xf32(dst: [f32][4] @ RVV, lhs: [f32][4] @ RVV,\n",
       "                            rhs: [f32][4] @ RVV, vl: size):\n",
       "     # @instr {dst_data} = __riscv_vfmacc_vv_f32m1({dst_data}, {lhs_data}, {rhs_data},{vl});\n",
       "     assert stride(dst, 0) == 1\n",
       "     assert stride(lhs, 0) == 1\n",
       "     assert stride(rhs, 0) == 1\n",
       "     assert vl >= 0\n",
       "     assert vl <= 4\n",
       "     for i in seq(0, vl):\n",
       "         dst[i] += lhs[i] * rhs[i], ),\n",
       " replace_all(<proc>, def rvv_vfmacc_4xf32_1xf32(dst: [f32][4] @ RVV, lhs: [f32][4] @ RVV,\n",
       "                            rhs: [f32][1] @ DRAM, vl: size):\n",
       "     # @instr {dst_data} = __riscv_vfmacc_vf_f32m1{dst_data}, {rhs_data}, {lhs_data},{vl});\n",
       "     assert stride(dst, 0) == 1\n",
       "     assert stride(lhs, 0) == 1\n",
       "     assert stride(rhs, 0) == 1\n",
       "     assert vl >= 0\n",
       "     assert vl <= 4\n",
       "     for i in seq(0, vl):\n",
       "         dst[i] += lhs[i] * rhs[0], )]"
      ]
     },
     "execution_count": 26,
     "metadata": {},
     "output_type": "execute_result"
    }
   ],
   "source": [
    "def get_rvv_insts(**_) -> list[ScheduledProc]:\n",
    "    return [\n",
    "        ScheduledProc(replace_rvv_ld_st),\n",
    "        ScheduledProc(replace_all, [r.rvv_vfmacc_1xf32_4xf32]),\n",
    "        ScheduledProc(replace_all, [r.rvv_vfmacc_4xf32_4xf32]),\n",
    "        ScheduledProc(replace_all, [r.rvv_vfmacc_4xf32_1xf32]),\n",
    "        # ScheduledProc(replace_all, [r.rvv_broadcast_4xf32]),\n",
    "        # ScheduledProc(replace_all, [r.rvv_broadcast_4xf32_0]),\n",
    "        # ScheduledProc(replace_all, [r.rvv_broadcast_4xf32_scalar]),\n",
    "    ]\n",
    "get_rvv_insts(ast=PROC_AST)"
   ]
  },
  {
   "cell_type": "markdown",
   "metadata": {},
   "source": [
    "#### Aggregate all valid branches"
   ]
  },
  {
   "cell_type": "code",
   "execution_count": 27,
   "metadata": {
    "metadata": {}
   },
   "outputs": [
    {
     "data": {
      "text/markdown": [
       "```python\n",
       "def generated_operation(In: i8[16, 16] @ DRAM, Weights: i8[16, 16] @ DRAM,\n",
       "                        Out: i8[16, 16] @ DRAM):\n",
       "    for i in seq(0, 16):\n",
       "        for k in seq(0, 16):\n",
       "            for j in seq(0, 16):\n",
       "                Out[i, j] += In[i, k] * Weights[k, j]\n",
       "```"
      ],
      "text/plain": [
       "<exo.API.Procedure at 0x7fffe296efe0>"
      ]
     },
     "execution_count": 27,
     "metadata": {},
     "output_type": "execute_result"
    }
   ],
   "source": [
    "def get_all_exo_tsfs(proc: Procedure, include_simplify: bool = True, debug: bool = False):\n",
    "    \"\"\"Get a list of all possible transforms that can be applied to a procedure\"\"\"\n",
    "    root_ast: exo_ast.Proc = proc.get_ast() # pyright: ignore[reportAssignmentType]\n",
    "    tsfs: list[ScheduledProc] = [ ]\n",
    "\n",
    "    for expansion in [\n",
    "        get_loop_reorders,\n",
    "        get_mem_stages,\n",
    "        get_buff_reshapes,\n",
    "        get_loop_unrolls,\n",
    "        get_loop_splits,\n",
    "        # get_gemmini_insts,\n",
    "        get_rvv_insts,\n",
    "    ]:\n",
    "\n",
    "        new_tsfs = expansion(\n",
    "            ast = root_ast,\n",
    "            proc = proc,\n",
    "        )\n",
    "\n",
    "        if debug:\n",
    "            print(f\"\\t  Found {len(new_tsfs)} cases of {expansion.__name__}\")\n",
    "\n",
    "        tsfs.extend(new_tsfs)\n",
    "\n",
    "    if include_simplify:\n",
    "        tsfs.append(ScheduledProc(simplify))\n",
    "\n",
    "    return tsfs\n",
    "\n",
    "p = get_exo_proc()\n",
    "tsf = get_all_exo_tsfs(get_exo_proc())[0]\n",
    "tsf(p)"
   ]
  },
  {
   "cell_type": "markdown",
   "metadata": {},
   "source": [
    "### Tree-search"
   ]
  },
  {
   "cell_type": "code",
   "execution_count": 28,
   "metadata": {},
   "outputs": [],
   "source": [
    "import os\n",
    "\n",
    "from heapq import heappop, heappush, heapify\n",
    "from importlib import reload\n",
    "from random import random\n",
    "\n",
    "from evaluate import PersistentQueue, PersistentHeap, PersistentMap, QUEUE_FILE, ARTIFACT_DIR\n",
    "\n",
    "LOGFILE = f\"{ARTIFACT_DIR}/tree_search.log\""
   ]
  },
  {
   "cell_type": "code",
   "execution_count": 29,
   "metadata": {},
   "outputs": [],
   "source": [
    "## Stub functions for future work\n",
    "def apply_scheduled_proc(sp: ScheduledProc, p: Procedure): # possibly needed for parallelism\n",
    "    return sp(p), p\n",
    "\n",
    "def estimate_cost(proc: Procedure) -> float:\n",
    "    # This would be where we add the secret sauce\n",
    "    # e.g. : AlphaDev as a value network or some \n",
    "    #        AST-native heuristic\n",
    "\n",
    "    # for now, we guess a random cost since that seems to \n",
    "    #   visit nodes faster (at least visually)\n",
    "    return random()"
   ]
  },
  {
   "cell_type": "markdown",
   "metadata": {},
   "source": [
    "#### Persistence Helpers"
   ]
  },
  {
   "cell_type": "markdown",
   "metadata": {},
   "source": [
    "##### Search state tracking"
   ]
  },
  {
   "cell_type": "code",
   "execution_count": 30,
   "metadata": {},
   "outputs": [],
   "source": [
    "class VisitationTrackerClassic:\n",
    "\n",
    "    def __init__(self, starting_nodes):\n",
    "        self.underlying = [ ]\n",
    "        self.see(starting_nodes)\n",
    "\n",
    "    def visit(self) -> \"node\":\n",
    "        return heappop(self.underlying)\n",
    "\n",
    "    def see(self, nodes) -> None:\n",
    "        for node in nodes:\n",
    "            heappush(self.underlying, node)\n",
    "\n",
    "    def hasitems(self) -> bool:\n",
    "        return len(self.underlying) > 0"
   ]
  },
  {
   "cell_type": "code",
   "execution_count": 31,
   "metadata": {},
   "outputs": [],
   "source": [
    "HEAP_SPLIT_THRESH = 5\n",
    "\n",
    "class VisitationTracker:\n",
    "\n",
    "    def __init__(self, starting_nodes: list = [ ], directory: str = f\"{ARTIFACT_DIR}/visitation/\"):\n",
    "        os.makedirs(directory, exist_ok=True)\n",
    "        self.dir = directory\n",
    "        self.heads_file = self.dir + f\"/heads.pkl\"\n",
    "        self.branch_file = self.dir + f\"/branches.pkl\"\n",
    "        self.perst_heap = PersistentHeap(self.heads_file, overwrite=False)\n",
    "        self.branches = PersistentMap(self.branch_file, overwrite=False)\n",
    "\n",
    "        self.see(starting_nodes)\n",
    "\n",
    "    def visit(self) -> \"node\":\n",
    "        out_head = self.perst_heap.get()\n",
    "        if out_head is None:\n",
    "            return None\n",
    "\n",
    "        branch_to_update = self.branches.get(out_head)\n",
    "        if branch_to_update is None:\n",
    "            return out_head\n",
    "\n",
    "        new_head = branch_to_update.get()\n",
    "\n",
    "        if new_head is None:\n",
    "            self.branches.remove(out_head)\n",
    "        else:\n",
    "            self.perst_heap.put(new_head)\n",
    "\n",
    "        return out_head\n",
    "\n",
    "    def see(self, nodes: list) -> None:\n",
    "        add_nodes = nodes[:]\n",
    "\n",
    "        if len(add_nodes) > HEAP_SPLIT_THRESH:\n",
    "            while len(add_nodes) > 0:\n",
    "                self.see(add_nodes[:HEAP_SPLIT_THRESH])\n",
    "                add_nodes = add_nodes[HEAP_SPLIT_THRESH:]\n",
    "            return\n",
    "\n",
    "        if len(nodes) == 0:\n",
    "            return\n",
    "\n",
    "        new_branch = PersistentHeap(\n",
    "            filename=self._get_new_file(f\"{len(add_nodes)}\"),\n",
    "            overwrite=True\n",
    "        )\n",
    "\n",
    "        heapify(add_nodes)\n",
    "        head = heappop(add_nodes)\n",
    "        new_branch.put(*add_nodes)\n",
    "    \n",
    "        self.perst_heap.put(head)\n",
    "        self.branches.put(key=head, value=new_branch)\n",
    "\n",
    "    def _get_new_file(self, suffix: str = \"\") -> str:\n",
    "        return f\"{self.dir}/{str(hash(random()))}_{suffix}.pkl\"\n",
    "\n",
    "    def hasitems(self) -> bool:\n",
    "        tmp = self.perst_heap.get()\n",
    "        we_have_an_item = tmp is not None\n",
    "        self.perst_heap.put(tmp)\n",
    "        return we_have_an_item"
   ]
  },
  {
   "cell_type": "markdown",
   "metadata": {},
   "source": [
    "##### Misc"
   ]
  },
  {
   "cell_type": "code",
   "execution_count": 32,
   "metadata": {},
   "outputs": [],
   "source": [
    "def save_checkpoint(num: int):\n",
    "    for filename in [LOGFILE, QUEUE_FILE]:\n",
    "        chkpt_fname = os.path.dirname(filename) + \\\n",
    "            f\"/{num}_\" + os.path.basename(filename)\n",
    "        os.system(f\"cp -r \\\"{filename}\\\" \\\"{chkpt_fname}\\\"\")"
   ]
  },
  {
   "cell_type": "code",
   "execution_count": 33,
   "metadata": {},
   "outputs": [
    {
     "data": {
      "text/plain": [
       "0"
      ]
     },
     "execution_count": 33,
     "metadata": {},
     "output_type": "execute_result"
    }
   ],
   "source": [
    "os.system(f\"rm -rf {ARTIFACT_DIR}/*\")"
   ]
  },
  {
   "cell_type": "code",
   "execution_count": 34,
   "metadata": {},
   "outputs": [],
   "source": [
    "evaluation_queue = PersistentQueue(persistence_file=QUEUE_FILE, overwrite=False)"
   ]
  },
  {
   "cell_type": "markdown",
   "metadata": {},
   "source": [
    "##### Logging"
   ]
  },
  {
   "cell_type": "code",
   "execution_count": 35,
   "metadata": {},
   "outputs": [],
   "source": [
    "def write_log(entry: str, write_to: Optional[str] = None):\n",
    "    if write_to is not None and write_to != \"\":\n",
    "        with open(write_to, 'a') as f:\n",
    "            f.write(entry.strip() + \"\\n\")\n",
    "    else:\n",
    "        print(entry)"
   ]
  },
  {
   "cell_type": "code",
   "execution_count": 36,
   "metadata": {},
   "outputs": [],
   "source": [
    "def log_branch(\n",
    "        parent: Procedure,\n",
    "        child: Optional[Procedure] = None,\n",
    "        failed: bool = False,\n",
    "        write_to: Optional[str] = LOGFILE\n",
    "    ):\n",
    "\n",
    "    parent_hash = hash(extract_c_code(parent))\n",
    "    if child is None:\n",
    "        write_log(f\"# {parent_hash} revisited\", write_to=write_to)\n",
    "        return\n",
    "    child_hash = hash(extract_c_code(child))\n",
    "    write_log(\n",
    "        f\"{parent_hash} -> {child_hash}\" + (\" # failed\" if failed else \"\"),\n",
    "        write_to=write_to\n",
    "    )"
   ]
  },
  {
   "cell_type": "markdown",
   "metadata": {},
   "source": [
    "##### Serialization"
   ]
  },
  {
   "cell_type": "code",
   "execution_count": 37,
   "metadata": {},
   "outputs": [],
   "source": [
    "def serialize_proc(proc: Procedure) -> str:\n",
    "    return str(proc)"
   ]
  },
  {
   "cell_type": "code",
   "execution_count": 38,
   "metadata": {},
   "outputs": [],
   "source": [
    "def deserialize_proc(proc_str: str) -> Procedure:\n",
    "    prelude = \"\"\"from __future__ import annotations\n",
    "from exo import proc, DRAM\n",
    "from exo.platforms.rvv import *\n",
    "@proc\\n\"\"\"\n",
    "# prelude = \"\"\n",
    "    total_code = prelude + proc_str\n",
    "\n",
    "    with open(\"my_out.py\", \"w\") as f:\n",
    "        f.write(total_code)\n",
    "\n",
    "    import my_out\n",
    "    reload(my_out)\n",
    "    return my_out.generated_operation"
   ]
  },
  {
   "cell_type": "markdown",
   "metadata": {},
   "source": [
    "#### Core Algorithm"
   ]
  },
  {
   "cell_type": "code",
   "execution_count": 39,
   "metadata": {},
   "outputs": [
    {
     "name": "stdout",
     "output_type": "stream",
     "text": [
      "()\n",
      "((0, 0, 'def generated_operation(In: i8[16, 16] @ DRAM, Weights: i8[16, 16] @ DRAM,\\n                        Out: i8[16, 16] @ DRAM):\\n    for i in seq(0, 16):\\n        for j in seq(0, 16):\\n            for k in seq(0, 16):\\n                Out[i, j] += In[i, k] * Weights[k, j]'),)\n",
      "((0, 0, 'def generated_operation(In: i8[16, 16] @ DRAM, Weights: i8[16, 16] @ DRAM,\\n                        Out: i8[16, 16] @ DRAM):\\n    for i in seq(0, 16):\\n        for j in seq(0, 16):\\n            for k in seq(0, 16):\\n                Out[i, j] += In[i, k] * Weights[k, j]'),)\n",
      "expanding node 1\n",
      "went to a thing\n"
     ]
    },
    {
     "name": "stdout",
     "output_type": "stream",
     "text": [
      "WARNING: Encountered find: failed to find matches\n",
      "Pattern: Out : _\n",
      "WARNING: Encountered find: failed to find matches\n",
      "Pattern: Out : _\n",
      "WARNING: Encountered find: failed to find matches\n",
      "Pattern: Out : _\n",
      "((0.2466905700761014, 0.16232725368081602, 'def generated_operation(In: i8[16, 16] @ DRAM, Weights: i8[16, 16] @ DRAM,\\n                        Out: i8[16, 16] @ DRAM):\\n    for i in seq(0, 16):\\n        for j in seq(0, 16):\\n            OutStaged: i8[16 - 0, 16 - 0] @ DRAM\\n            for i0 in seq(0, 16 - 0):\\n                for i1 in seq(0, 16 - 0):\\n                    OutStaged[i0, i1] = Out[i0 + 0, i1 + 0]\\n            for k in seq(0, 16):\\n                OutStaged[i - 0, j - 0] += In[i, k] * Weights[k, j]\\n            for i0 in seq(0, 16 - 0):\\n                for i1 in seq(0, 16 - 0):\\n                    Out[i0 + 0, i1 + 0] = OutStaged[i0, i1]'), (0.2511853695866547, 0.44552222944654796, 'def generated_operation(In: i8[16, 16] @ DRAM, Weights: i8[16, 16] @ DRAM,\\n                        Out: i8[16, 16] @ DRAM):\\n    for i in seq(0, 16):\\n        for k in seq(0, 16):\\n            for j in seq(0, 16):\\n                Out[i, j] += In[i, k] * Weights[k, j]'), (0.803000532032368, 0.47274478157965394, 'def generated_operation(In: i8[16, 16] @ DRAM, Weights: i8[16, 16] @ DRAM,\\n                        Out: i8[16, 16] @ DRAM):\\n    for i in seq(0, 16):\\n        for j in seq(0, 16):\\n            OutStaged: i8[16 - 0, 16 - 0] @ DRAM\\n            for i0 in seq(0, 16 - 0):\\n                for i1 in seq(0, 16 - 0):\\n                    OutStaged[i0, i1] = Out[i0 + 0, i1 + 0]\\n            for k in seq(0, 16):\\n                OutStaged[i - 0, j - 0] += In[i, k] * Weights[k, j]\\n            for i0 in seq(0, 16 - 0):\\n                for i1 in seq(0, 16 - 0):\\n                    Out[i0 + 0, i1 + 0] = OutStaged[i0, i1]'), (0.28271934228646356, 0.8290697004143195, 'def generated_operation(In: i8[16, 16] @ DRAM, Weights: i8[16, 16] @ DRAM,\\n                        Out: i8[16, 16] @ DRAM):\\n    for i in seq(0, 16):\\n        for j in seq(0, 16):\\n            OutStaged: i8[16 - 0, 16 - 0] @ DRAM\\n            for i0 in seq(0, 16 - 0):\\n                for i1 in seq(0, 16 - 0):\\n                    OutStaged[i0, i1] = Out[i0 + 0, i1 + 0]\\n            for k in seq(0, 16):\\n                OutStaged[i - 0, j - 0] += In[i, k] * Weights[k, j]\\n            for i0 in seq(0, 16 - 0):\\n                for i1 in seq(0, 16 - 0):\\n                    Out[i0 + 0, i1 + 0] = OutStaged[i0, i1]'))\n",
      "((0.10612490104530325, 0.7390504769664191, 'def generated_operation(In: i8[16, 16] @ DRAM, Weights: i8[16, 16] @ DRAM,\\n                        Out: i8[16, 16] @ DRAM):\\n    for j in seq(0, 16):\\n        for i in seq(0, 16):\\n            for k in seq(0, 16):\\n                Out[i, j] += In[i, k] * Weights[k, j]'),)\n",
      "((0.46482771493304764, 0.971193773972704, 'def generated_operation(In: i8[16, 16] @ DRAM, Weights: i8[16, 16] @ DRAM,\\n                        Out: i8[16, 16] @ DRAM):\\n    for i in seq(0, 16):\\n        for j in seq(0, 16):\\n            OutStaged: i8[16 - 0, 16 - 0] @ DRAM\\n            for i0 in seq(0, 16 - 0):\\n                for i1 in seq(0, 16 - 0):\\n                    OutStaged[i0, i1] = Out[i0 + 0, i1 + 0]\\n            for k in seq(0, 16):\\n                OutStaged[i - 0, j - 0] += In[i, k] * Weights[k, j]\\n            for i0 in seq(0, 16 - 0):\\n                for i1 in seq(0, 16 - 0):\\n                    Out[i0 + 0, i1 + 0] = OutStaged[i0, i1]'), (0.5220064843089046, 0.3435213421237271, 'def generated_operation(In: i8[16, 16] @ DRAM, Weights: i8[16, 16] @ DRAM,\\n                        Out: i8[16, 16] @ DRAM):\\n    for i in seq(0, 16):\\n        for j in seq(0, 16):\\n            OutStaged: i8[16 - 0, 16 - 0] @ DRAM\\n            for i0 in seq(0, 16 - 0):\\n                for i1 in seq(0, 16 - 0):\\n                    OutStaged[i0, i1] = Out[i0 + 0, i1 + 0]\\n            for k in seq(0, 16):\\n                OutStaged[i - 0, j - 0] += In[i, k] * Weights[k, j]\\n            for i0 in seq(0, 16 - 0):\\n                for i1 in seq(0, 16 - 0):\\n                    Out[i0 + 0, i1 + 0] = OutStaged[i0, i1]'), (0.7613002850339629, 0.23952599308169964, 'def generated_operation(In: i8[16, 16] @ DRAM, Weights: i8[16, 16] @ DRAM,\\n                        Out: i8[16, 16] @ DRAM):\\n    for i in seq(0, 16):\\n        for j in seq(0, 16):\\n            OutStaged: i8[16 - 0, 16 - 0] @ DRAM\\n            for i0 in seq(0, 16 - 0):\\n                for i1 in seq(0, 16 - 0):\\n                    OutStaged[i0, i1] = Out[i0 + 0, i1 + 0]\\n            for k in seq(0, 16):\\n                OutStaged[i - 0, j - 0] += In[i, k] * Weights[k, j]\\n            for i0 in seq(0, 16 - 0):\\n                for i1 in seq(0, 16 - 0):\\n                    Out[i0 + 0, i1 + 0] = OutStaged[i0, i1]'), (0.855281483173658, 0.5724669736400765, 'def generated_operation(In: i8[16, 16] @ DRAM, Weights: i8[16, 16] @ DRAM,\\n                        Out: i8[16, 16] @ DRAM):\\n    for i in seq(0, 16):\\n        for j in seq(0, 16):\\n            OutStaged: i8[16 - 0, 16 - 0] @ DRAM\\n            for i0 in seq(0, 16 - 0):\\n                for i1 in seq(0, 16 - 0):\\n                    OutStaged[i0, i1] = Out[i0 + 0, i1 + 0]\\n            for k in seq(0, 16):\\n                OutStaged[i - 0, j - 0] += In[i, k] * Weights[k, j]\\n            for i0 in seq(0, 16 - 0):\\n                for i1 in seq(0, 16 - 0):\\n                    Out[i0 + 0, i1 + 0] = OutStaged[i0, i1]'))\n",
      "((0.29127275610958814, 0.775414299968182, 'def generated_operation(In: i8[16, 16] @ DRAM, Weights: i8[16, 16] @ DRAM,\\n                        Out: i8[16, 16] @ DRAM):\\n    for i in seq(0, 16):\\n        for j in seq(0, 16):\\n            OutStaged: i8[16 - 0, 16 - 0] @ DRAM\\n            for i0 in seq(0, 16 - 0):\\n                for i1 in seq(0, 16 - 0):\\n                    OutStaged[i0, i1] = Out[i0 + 0, i1 + 0]\\n            for k in seq(0, 16):\\n                OutStaged[i - 0, j - 0] += In[i, k] * Weights[k, j]\\n            for i0 in seq(0, 16 - 0):\\n                for i1 in seq(0, 16 - 0):\\n                    Out[i0 + 0, i1 + 0] = OutStaged[i0, i1]'),)\n",
      "((0.6170962237870451, 0.16549815451686523, 'def generated_operation(In: i8[16, 16] @ DRAM, Weights: i8[16, 16] @ DRAM,\\n                        Out: i8[16, 16] @ DRAM):\\n    for i in seq(0, 16):\\n        for j in seq(0, 16):\\n            OutStaged: i8[16 - 0, 16 - 0] @ DRAM\\n            for i0 in seq(0, 16 - 0):\\n                for i1 in seq(0, 16 - 0):\\n                    OutStaged[i0, i1] = Out[i0 + 0, i1 + 0]\\n            for k in seq(0, 16):\\n                OutStaged[i - 0, j - 0] += In[i, k] * Weights[k, j]\\n            for i0 in seq(0, 16 - 0):\\n                for i1 in seq(0, 16 - 0):\\n                    Out[i0 + 0, i1 + 0] = OutStaged[i0, i1]'), (0.7252354534348843, 0.33092352667368896, 'def generated_operation(In: i8[16, 16] @ DRAM, Weights: i8[16, 16] @ DRAM,\\n                        Out: i8[16, 16] @ DRAM):\\n    for i in seq(0, 16):\\n        for j in seq(0, 16):\\n            OutStaged: i8[16 - 0, 16 - 0] @ DRAM\\n            for i0 in seq(0, 16 - 0):\\n                for i1 in seq(0, 16 - 0):\\n                    OutStaged[i0, i1] = Out[i0 + 0, i1 + 0]\\n            for k in seq(0, 16):\\n                OutStaged[i - 0, j - 0] += In[i, k] * Weights[k, j]\\n            for i0 in seq(0, 16 - 0):\\n                for i1 in seq(0, 16 - 0):\\n                    Out[i0 + 0, i1 + 0] = OutStaged[i0, i1]'), (0.8326853490475994, 0.2856891051840075, 'def generated_operation(In: i8[16, 16] @ DRAM, Weights: i8[16, 16] @ DRAM,\\n                        Out: i8[16, 16] @ DRAM):\\n    for i in seq(0, 16):\\n        for j in seq(0, 16):\\n            OutStaged: i8[16 - 0, 16 - 0] @ DRAM\\n            for i0 in seq(0, 16 - 0):\\n                for i1 in seq(0, 16 - 0):\\n                    OutStaged[i0, i1] = Out[i0 + 0, i1 + 0]\\n            for k in seq(0, 16):\\n                OutStaged[i - 0, j - 0] += In[i, k] * Weights[k, j]\\n            for i0 in seq(0, 16 - 0):\\n                for i1 in seq(0, 16 - 0):\\n                    Out[i0 + 0, i1 + 0] = OutStaged[i0, i1]'), (0.8146499247779551, 0.4635761775315099, 'def generated_operation(In: i8[16, 16] @ DRAM, Weights: i8[16, 16] @ DRAM,\\n                        Out: i8[16, 16] @ DRAM):\\n    for i in seq(0, 16):\\n        for j in seq(0, 16):\\n            OutStaged: i8[16 - 0, 16 - 0] @ DRAM\\n            for i0 in seq(0, 16 - 0):\\n                for i1 in seq(0, 16 - 0):\\n                    OutStaged[i0, i1] = Out[i0 + 0, i1 + 0]\\n            for k in seq(0, 16):\\n                OutStaged[i - 0, j - 0] += In[i, k] * Weights[k, j]\\n            for i0 in seq(0, 16 - 0):\\n                for i1 in seq(0, 16 - 0):\\n                    Out[i0 + 0, i1 + 0] = OutStaged[i0, i1]'))\n",
      "((0.5691224145358053, 0.3892718829072066, 'def generated_operation(In: i8[16, 16] @ DRAM, Weights: i8[16, 16] @ DRAM,\\n                        Out: i8[16, 16] @ DRAM):\\n    for i in seq(0, 16):\\n        for j in seq(0, 16):\\n            OutStaged: i8[16 - 0, 16 - 0] @ DRAM\\n            for i0 in seq(0, 16 - 0):\\n                for i1 in seq(0, 16 - 0):\\n                    OutStaged[i0, i1] = Out[i0 + 0, i1 + 0]\\n            for k in seq(0, 16):\\n                OutStaged[i - 0, j - 0] += In[i, k] * Weights[k, j]\\n            for i0 in seq(0, 16 - 0):\\n                for i1 in seq(0, 16 - 0):\\n                    Out[i0 + 0, i1 + 0] = OutStaged[i0, i1]'),)\n",
      "((0.29354324695123746, 0.6371320583443216, 'def generated_operation(In: i8[16, 16] @ DRAM, Weights: i8[16, 16] @ DRAM,\\n                        Out: i8[16, 16] @ DRAM):\\n    for i in seq(0, 16):\\n        for j in seq(0, 16):\\n            OutStaged: i8[16 - 0, 16 - 0] @ DRAM\\n            for i0 in seq(0, 16 - 0):\\n                for i1 in seq(0, 16 - 0):\\n                    OutStaged[i0, i1] = Out[i0 + 0, i1 + 0]\\n            for k in seq(0, 16):\\n                OutStaged[i - 0, j - 0] += In[i, k] * Weights[k, j]\\n            for i0 in seq(0, 16 - 0):\\n                for i1 in seq(0, 16 - 0):\\n                    Out[i0 + 0, i1 + 0] = OutStaged[i0, i1]'), (0.5140205486881029, 0.044968300140108663, 'def generated_operation(In: i8[16, 16] @ DRAM, Weights: i8[16, 16] @ DRAM,\\n                        Out: i8[16, 16] @ DRAM):\\n    for i in seq(0, 16):\\n        for j in seq(0, 16):\\n            OutStaged: i8[16 - 0, 16 - 0] @ DRAM\\n            for i0 in seq(0, 16 - 0):\\n                for i1 in seq(0, 16 - 0):\\n                    OutStaged[i0, i1] = Out[i0 + 0, i1 + 0]\\n            for k in seq(0, 16):\\n                OutStaged[i - 0, j - 0] += In[i, k] * Weights[k, j]\\n            for i0 in seq(0, 16 - 0):\\n                for i1 in seq(0, 16 - 0):\\n                    Out[i0 + 0, i1 + 0] = OutStaged[i0, i1]'), (0.3098927873884699, 0.8033368662405526, 'def generated_operation(In: i8[16, 16] @ DRAM, Weights: i8[16, 16] @ DRAM,\\n                        Out: i8[16, 16] @ DRAM):\\n    for i in seq(0, 16):\\n        for j in seq(0, 16):\\n            OutStaged: i8[16 - 0, 16 - 0] @ DRAM\\n            for i0 in seq(0, 16 - 0):\\n                for i1 in seq(0, 16 - 0):\\n                    OutStaged[i0, i1] = Out[i0 + 0, i1 + 0]\\n            for k in seq(0, 16):\\n                OutStaged[i - 0, j - 0] += In[i, k] * Weights[k, j]\\n            for i0 in seq(0, 16 - 0):\\n                for i1 in seq(0, 16 - 0):\\n                    Out[i0 + 0, i1 + 0] = OutStaged[i0, i1]'), (0.6638610452041116, 0.12067945038406036, 'def generated_operation(In: i8[16, 16] @ DRAM, Weights: i8[16, 16] @ DRAM,\\n                        Out: i8[16, 16] @ DRAM):\\n    for i in seq(0, 16):\\n        for j in seq(0, 16):\\n            OutStaged: i8[16 - 0, 16 - 0] @ DRAM\\n            for i0 in seq(0, 16 - 0):\\n                for i1 in seq(0, 16 - 0):\\n                    OutStaged[i0, i1] = Out[i0 + 0, i1 + 0]\\n            for k in seq(0, 16):\\n                OutStaged[i - 0, j - 0] += In[i, k] * Weights[k, j]\\n            for i0 in seq(0, 16 - 0):\\n                for i1 in seq(0, 16 - 0):\\n                    Out[i0 + 0, i1 + 0] = OutStaged[i0, i1]'))\n",
      "((0.2522433791894345, 0.6722081271348359, 'def generated_operation(In: i8[16, 16] @ DRAM, Weights: i8[16, 16] @ DRAM,\\n                        Out: i8[16, 16] @ DRAM):\\n    for i in seq(0, 16):\\n        for j in seq(0, 16):\\n            OutStaged: i8[16 - 0, 16 - 0] @ DRAM\\n            for i0 in seq(0, 16 - 0):\\n                for i1 in seq(0, 16 - 0):\\n                    OutStaged[i0, i1] = Out[i0 + 0, i1 + 0]\\n            for k in seq(0, 16):\\n                OutStaged[i - 0, j - 0] += In[i, k] * Weights[k, j]\\n            for i0 in seq(0, 16 - 0):\\n                for i1 in seq(0, 16 - 0):\\n                    Out[i0 + 0, i1 + 0] = OutStaged[i0, i1]'),)\n",
      "((0.1551584148375299, 0.4081500665436488, 'def generated_operation(In: i8[16, 16] @ DRAM, Weights: i8[16, 16] @ DRAM,\\n                        Out: i8[16, 16] @ DRAM):\\n    for i in seq(0, 16):\\n        for j in seq(0, 16):\\n            for k_out in seq(0, 16 / 12):\\n                for k_in in seq(0, 12):\\n                    Out[i, j] += In[i, 12 * k_out +\\n                                    k_in] * Weights[12 * k_out + k_in, j]\\n            for k_in in seq(0, 16 % 12):\\n                Out[i, j] += In[i, k_in +\\n                                16 / 12 * 12] * Weights[k_in + 16 / 12 * 12, j]'), (0.4387623819206419, 0.5622674683855458, 'def generated_operation(In: i8[16, 16] @ DRAM, Weights: i8[16, 16] @ DRAM,\\n                        Out: i8[16, 16] @ DRAM):\\n    for i in seq(0, 16):\\n        for j in seq(0, 16):\\n            Out[i, j] += In[i, 0] * Weights[0, j]\\n            Out[i, j] += In[i, 1] * Weights[1, j]\\n            Out[i, j] += In[i, 2] * Weights[2, j]\\n            Out[i, j] += In[i, 3] * Weights[3, j]\\n            Out[i, j] += In[i, 4] * Weights[4, j]\\n            Out[i, j] += In[i, 5] * Weights[5, j]\\n            Out[i, j] += In[i, 6] * Weights[6, j]\\n            Out[i, j] += In[i, 7] * Weights[7, j]\\n            Out[i, j] += In[i, 8] * Weights[8, j]\\n            Out[i, j] += In[i, 9] * Weights[9, j]\\n            Out[i, j] += In[i, 10] * Weights[10, j]\\n            Out[i, j] += In[i, 11] * Weights[11, j]\\n            Out[i, j] += In[i, 12] * Weights[12, j]\\n            Out[i, j] += In[i, 13] * Weights[13, j]\\n            Out[i, j] += In[i, 14] * Weights[14, j]\\n            Out[i, j] += In[i, 15] * Weights[15, j]'), (0.19916754138555293, 0.006777877876132488, 'def generated_operation(In: i8[16, 16] @ DRAM, Weights: i8[16, 16] @ DRAM,\\n                        Out: i8[16, 16] @ DRAM):\\n    for i in seq(0, 16):\\n        for j in seq(0, 16):\\n            Out[i, j] += In[i, 0] * Weights[0, j]\\n            Out[i, j] += In[i, 1] * Weights[1, j]\\n            Out[i, j] += In[i, 2] * Weights[2, j]\\n            Out[i, j] += In[i, 3] * Weights[3, j]\\n            Out[i, j] += In[i, 4] * Weights[4, j]\\n            Out[i, j] += In[i, 5] * Weights[5, j]\\n            Out[i, j] += In[i, 6] * Weights[6, j]\\n            Out[i, j] += In[i, 7] * Weights[7, j]\\n            Out[i, j] += In[i, 8] * Weights[8, j]\\n            Out[i, j] += In[i, 9] * Weights[9, j]\\n            Out[i, j] += In[i, 10] * Weights[10, j]\\n            Out[i, j] += In[i, 11] * Weights[11, j]\\n            Out[i, j] += In[i, 12] * Weights[12, j]\\n            Out[i, j] += In[i, 13] * Weights[13, j]\\n            Out[i, j] += In[i, 14] * Weights[14, j]\\n            Out[i, j] += In[i, 15] * Weights[15, j]'), (0.607243558100006, 0.2639219065730506, 'def generated_operation(In: i8[16, 16] @ DRAM, Weights: i8[16, 16] @ DRAM,\\n                        Out: i8[16, 16] @ DRAM):\\n    for i in seq(0, 16):\\n        for j in seq(0, 16):\\n            for k_out in seq(0, 16 / 12):\\n                for k_in in seq(0, 12):\\n                    Out[i, j] += In[i, 12 * k_out +\\n                                    k_in] * Weights[12 * k_out + k_in, j]\\n            for k_in in seq(0, 16 % 12):\\n                Out[i, j] += In[i, k_in +\\n                                16 / 12 * 12] * Weights[k_in + 16 / 12 * 12, j]'))\n",
      "((0.04371929121189466, 0.7060425087564203, 'def generated_operation(In: i8[16, 16] @ DRAM, Weights: i8[16, 16] @ DRAM,\\n                        Out: i8[16, 16] @ DRAM):\\n    for i in seq(0, 16):\\n        for j in seq(0, 16):\\n            Out[i, j] += In[i, 0] * Weights[0, j]\\n            Out[i, j] += In[i, 1] * Weights[1, j]\\n            Out[i, j] += In[i, 2] * Weights[2, j]\\n            Out[i, j] += In[i, 3] * Weights[3, j]\\n            Out[i, j] += In[i, 4] * Weights[4, j]\\n            Out[i, j] += In[i, 5] * Weights[5, j]\\n            Out[i, j] += In[i, 6] * Weights[6, j]\\n            Out[i, j] += In[i, 7] * Weights[7, j]\\n            Out[i, j] += In[i, 8] * Weights[8, j]\\n            Out[i, j] += In[i, 9] * Weights[9, j]\\n            Out[i, j] += In[i, 10] * Weights[10, j]\\n            Out[i, j] += In[i, 11] * Weights[11, j]\\n            Out[i, j] += In[i, 12] * Weights[12, j]\\n            Out[i, j] += In[i, 13] * Weights[13, j]\\n            Out[i, j] += In[i, 14] * Weights[14, j]\\n            Out[i, j] += In[i, 15] * Weights[15, j]'),)\n",
      "((0.17537966972019536, 0.3124680060324856, 'def generated_operation(In: i8[16, 16] @ DRAM, Weights: i8[16, 16] @ DRAM,\\n                        Out: i8[16, 16] @ DRAM):\\n    for i in seq(0, 16):\\n        for j in seq(0, 16):\\n            for k_out in seq(0, 16 / 12):\\n                for k_in in seq(0, 12):\\n                    Out[i, j] += In[i, 12 * k_out +\\n                                    k_in] * Weights[12 * k_out + k_in, j]\\n            for k_in in seq(0, 16 % 12):\\n                Out[i, j] += In[i, k_in +\\n                                16 / 12 * 12] * Weights[k_in + 16 / 12 * 12, j]'), (0.9817467380614001, 0.5159249308142232, 'def generated_operation(In: i8[16, 16] @ DRAM, Weights: i8[16, 16] @ DRAM,\\n                        Out: i8[16, 16] @ DRAM):\\n    for i in seq(0, 16):\\n        for j in seq(0, 16):\\n            for k in seq(0, 16):\\n                Out[i, j] += In[i, k] * Weights[k, j]'), (0.2219042638971378, 0.28694602372790046, 'def generated_operation(In: i8[16, 16] @ DRAM, Weights: i8[16, 16] @ DRAM,\\n                        Out: i8[16, 16] @ DRAM):\\n    for i in seq(0, 16):\\n        for j in seq(0, 16):\\n            for k in seq(0, 16):\\n                Out[i, j] += In[i, k] * Weights[k, j]'), (0.9976180838413452, 0.23822058001387325, 'def generated_operation(In: i8[16, 16] @ DRAM, Weights: i8[16, 16] @ DRAM,\\n                        Out: i8[16, 16] @ DRAM):\\n    for i in seq(0, 16):\\n        for j in seq(0, 16):\\n            for k in seq(0, 16):\\n                Out[i, j] += In[i, k] * Weights[k, j]'))\n",
      "((0.16846693892440645, 0.19964509402645614, 'def generated_operation(In: i8[16, 16] @ DRAM, Weights: i8[16, 16] @ DRAM,\\n                        Out: i8[16, 16] @ DRAM):\\n    for i in seq(0, 16):\\n        for j in seq(0, 16):\\n            for k in seq(0, 16):\\n                Out[i, j] += In[i, k] * Weights[k, j]'),)\n",
      "()\n",
      "((0.6349254682991528, 0.5759007053890726, 'def generated_operation(In: i8[16, 16] @ DRAM, Weights: i8[16, 16] @ DRAM,\\n                        Out: i8[16, 16] @ DRAM):\\n    for i in seq(0, 16):\\n        for j in seq(0, 16):\\n            for k in seq(0, 16):\\n                Out[i, j] += In[i, k] * Weights[k, j]'),)\n",
      "((0.04371929121189466, 0.7060425087564203, 'def generated_operation(In: i8[16, 16] @ DRAM, Weights: i8[16, 16] @ DRAM,\\n                        Out: i8[16, 16] @ DRAM):\\n    for i in seq(0, 16):\\n        for j in seq(0, 16):\\n            Out[i, j] += In[i, 0] * Weights[0, j]\\n            Out[i, j] += In[i, 1] * Weights[1, j]\\n            Out[i, j] += In[i, 2] * Weights[2, j]\\n            Out[i, j] += In[i, 3] * Weights[3, j]\\n            Out[i, j] += In[i, 4] * Weights[4, j]\\n            Out[i, j] += In[i, 5] * Weights[5, j]\\n            Out[i, j] += In[i, 6] * Weights[6, j]\\n            Out[i, j] += In[i, 7] * Weights[7, j]\\n            Out[i, j] += In[i, 8] * Weights[8, j]\\n            Out[i, j] += In[i, 9] * Weights[9, j]\\n            Out[i, j] += In[i, 10] * Weights[10, j]\\n            Out[i, j] += In[i, 11] * Weights[11, j]\\n            Out[i, j] += In[i, 12] * Weights[12, j]\\n            Out[i, j] += In[i, 13] * Weights[13, j]\\n            Out[i, j] += In[i, 14] * Weights[14, j]\\n            Out[i, j] += In[i, 15] * Weights[15, j]'),)\n",
      "expanding node 2\n",
      "((0.1551584148375299, 0.4081500665436488, 'def generated_operation(In: i8[16, 16] @ DRAM, Weights: i8[16, 16] @ DRAM,\\n                        Out: i8[16, 16] @ DRAM):\\n    for i in seq(0, 16):\\n        for j in seq(0, 16):\\n            for k_out in seq(0, 16 / 12):\\n                for k_in in seq(0, 12):\\n                    Out[i, j] += In[i, 12 * k_out +\\n                                    k_in] * Weights[12 * k_out + k_in, j]\\n            for k_in in seq(0, 16 % 12):\\n                Out[i, j] += In[i, k_in +\\n                                16 / 12 * 12] * Weights[k_in + 16 / 12 * 12, j]'),)\n",
      "went to a thing\n",
      "WARNING: Encountered find: failed to find matches\n",
      "Pattern: Out : _\n",
      "WARNING: Encountered find: failed to find matches\n",
      "Pattern: Out : _\n",
      "WARNING: Encountered find: failed to find matches\n",
      "Pattern: Out : _\n",
      "((0.44524911289659774, 0.20101031056408736, 'def generated_operation(In: i8[16, 16] @ DRAM, Weights: i8[16, 16] @ DRAM,\\n                        Out: i8[16, 16] @ DRAM):\\n    for i in seq(0, 16):\\n        OutStaged: i8[16 - 0, 16 - 0] @ DRAM\\n        for i0 in seq(0, 16 - 0):\\n            for i1 in seq(0, 16 - 0):\\n                OutStaged[i0, i1] = Out[i0 + 0, i1 + 0]\\n        for j in seq(0, 16):\\n            OutStaged[i - 0, j - 0] += In[i, 0] * Weights[0, j]\\n            OutStaged[i - 0, j - 0] += In[i, 1] * Weights[1, j]\\n            OutStaged[i - 0, j - 0] += In[i, 2] * Weights[2, j]\\n            OutStaged[i - 0, j - 0] += In[i, 3] * Weights[3, j]\\n            OutStaged[i - 0, j - 0] += In[i, 4] * Weights[4, j]\\n            OutStaged[i - 0, j - 0] += In[i, 5] * Weights[5, j]\\n            OutStaged[i - 0, j - 0] += In[i, 6] * Weights[6, j]\\n            OutStaged[i - 0, j - 0] += In[i, 7] * Weights[7, j]\\n            OutStaged[i - 0, j - 0] += In[i, 8] * Weights[8, j]\\n            OutStaged[i - 0, j - 0] += In[i, 9] * Weights[9, j]\\n            OutStaged[i - 0, j - 0] += In[i, 10] * Weights[10, j]\\n            OutStaged[i - 0, j - 0] += In[i, 11] * Weights[11, j]\\n            OutStaged[i - 0, j - 0] += In[i, 12] * Weights[12, j]\\n            OutStaged[i - 0, j - 0] += In[i, 13] * Weights[13, j]\\n            OutStaged[i - 0, j - 0] += In[i, 14] * Weights[14, j]\\n            OutStaged[i - 0, j - 0] += In[i, 15] * Weights[15, j]\\n        for i0 in seq(0, 16 - 0):\\n            for i1 in seq(0, 16 - 0):\\n                Out[i0 + 0, i1 + 0] = OutStaged[i0, i1]'), (0.578406767851795, 0.8528646539033958, 'def generated_operation(In: i8[16, 16] @ DRAM, Weights: i8[16, 16] @ DRAM,\\n                        Out: i8[16, 16] @ DRAM):\\n    for j in seq(0, 16):\\n        for i in seq(0, 16):\\n            Out[i, j] += In[i, 0] * Weights[0, j]\\n            Out[i, j] += In[i, 1] * Weights[1, j]\\n            Out[i, j] += In[i, 2] * Weights[2, j]\\n            Out[i, j] += In[i, 3] * Weights[3, j]\\n            Out[i, j] += In[i, 4] * Weights[4, j]\\n            Out[i, j] += In[i, 5] * Weights[5, j]\\n            Out[i, j] += In[i, 6] * Weights[6, j]\\n            Out[i, j] += In[i, 7] * Weights[7, j]\\n            Out[i, j] += In[i, 8] * Weights[8, j]\\n            Out[i, j] += In[i, 9] * Weights[9, j]\\n            Out[i, j] += In[i, 10] * Weights[10, j]\\n            Out[i, j] += In[i, 11] * Weights[11, j]\\n            Out[i, j] += In[i, 12] * Weights[12, j]\\n            Out[i, j] += In[i, 13] * Weights[13, j]\\n            Out[i, j] += In[i, 14] * Weights[14, j]\\n            Out[i, j] += In[i, 15] * Weights[15, j]'), (0.8463844210505302, 0.340296022657098, 'def generated_operation(In: i8[16, 16] @ DRAM, Weights: i8[16, 16] @ DRAM,\\n                        Out: i8[16, 16] @ DRAM):\\n    for i in seq(0, 16):\\n        OutStaged: i8[16 - 0, 16 - 0] @ DRAM\\n        for i0 in seq(0, 16 - 0):\\n            for i1 in seq(0, 16 - 0):\\n                OutStaged[i0, i1] = Out[i0 + 0, i1 + 0]\\n        for j in seq(0, 16):\\n            OutStaged[i - 0, j - 0] += In[i, 0] * Weights[0, j]\\n            OutStaged[i - 0, j - 0] += In[i, 1] * Weights[1, j]\\n            OutStaged[i - 0, j - 0] += In[i, 2] * Weights[2, j]\\n            OutStaged[i - 0, j - 0] += In[i, 3] * Weights[3, j]\\n            OutStaged[i - 0, j - 0] += In[i, 4] * Weights[4, j]\\n            OutStaged[i - 0, j - 0] += In[i, 5] * Weights[5, j]\\n            OutStaged[i - 0, j - 0] += In[i, 6] * Weights[6, j]\\n            OutStaged[i - 0, j - 0] += In[i, 7] * Weights[7, j]\\n            OutStaged[i - 0, j - 0] += In[i, 8] * Weights[8, j]\\n            OutStaged[i - 0, j - 0] += In[i, 9] * Weights[9, j]\\n            OutStaged[i - 0, j - 0] += In[i, 10] * Weights[10, j]\\n            OutStaged[i - 0, j - 0] += In[i, 11] * Weights[11, j]\\n            OutStaged[i - 0, j - 0] += In[i, 12] * Weights[12, j]\\n            OutStaged[i - 0, j - 0] += In[i, 13] * Weights[13, j]\\n            OutStaged[i - 0, j - 0] += In[i, 14] * Weights[14, j]\\n            OutStaged[i - 0, j - 0] += In[i, 15] * Weights[15, j]\\n        for i0 in seq(0, 16 - 0):\\n            for i1 in seq(0, 16 - 0):\\n                Out[i0 + 0, i1 + 0] = OutStaged[i0, i1]'), (0.8727328579435222, 0.15232015704758184, 'def generated_operation(In: i8[16, 16] @ DRAM, Weights: i8[16, 16] @ DRAM,\\n                        Out: i8[16, 16] @ DRAM):\\n    for i in seq(0, 16):\\n        OutStaged: i8[16 - 0, 16 - 0] @ DRAM\\n        for i0 in seq(0, 16 - 0):\\n            for i1 in seq(0, 16 - 0):\\n                OutStaged[i0, i1] = Out[i0 + 0, i1 + 0]\\n        for j in seq(0, 16):\\n            OutStaged[i - 0, j - 0] += In[i, 0] * Weights[0, j]\\n            OutStaged[i - 0, j - 0] += In[i, 1] * Weights[1, j]\\n            OutStaged[i - 0, j - 0] += In[i, 2] * Weights[2, j]\\n            OutStaged[i - 0, j - 0] += In[i, 3] * Weights[3, j]\\n            OutStaged[i - 0, j - 0] += In[i, 4] * Weights[4, j]\\n            OutStaged[i - 0, j - 0] += In[i, 5] * Weights[5, j]\\n            OutStaged[i - 0, j - 0] += In[i, 6] * Weights[6, j]\\n            OutStaged[i - 0, j - 0] += In[i, 7] * Weights[7, j]\\n            OutStaged[i - 0, j - 0] += In[i, 8] * Weights[8, j]\\n            OutStaged[i - 0, j - 0] += In[i, 9] * Weights[9, j]\\n            OutStaged[i - 0, j - 0] += In[i, 10] * Weights[10, j]\\n            OutStaged[i - 0, j - 0] += In[i, 11] * Weights[11, j]\\n            OutStaged[i - 0, j - 0] += In[i, 12] * Weights[12, j]\\n            OutStaged[i - 0, j - 0] += In[i, 13] * Weights[13, j]\\n            OutStaged[i - 0, j - 0] += In[i, 14] * Weights[14, j]\\n            OutStaged[i - 0, j - 0] += In[i, 15] * Weights[15, j]\\n        for i0 in seq(0, 16 - 0):\\n            for i1 in seq(0, 16 - 0):\\n                Out[i0 + 0, i1 + 0] = OutStaged[i0, i1]'))\n",
      "((0.37694868338843723, 0.6245669635629605, 'def generated_operation(In: i8[16, 16] @ DRAM, Weights: i8[16, 16] @ DRAM,\\n                        Out: i8[16, 16] @ DRAM):\\n    for i in seq(0, 16):\\n        OutStaged: i8[16 - 0, 16 - 0] @ DRAM\\n        for i0 in seq(0, 16 - 0):\\n            for i1 in seq(0, 16 - 0):\\n                OutStaged[i0, i1] = Out[i0 + 0, i1 + 0]\\n        for j in seq(0, 16):\\n            OutStaged[i - 0, j - 0] += In[i, 0] * Weights[0, j]\\n            OutStaged[i - 0, j - 0] += In[i, 1] * Weights[1, j]\\n            OutStaged[i - 0, j - 0] += In[i, 2] * Weights[2, j]\\n            OutStaged[i - 0, j - 0] += In[i, 3] * Weights[3, j]\\n            OutStaged[i - 0, j - 0] += In[i, 4] * Weights[4, j]\\n            OutStaged[i - 0, j - 0] += In[i, 5] * Weights[5, j]\\n            OutStaged[i - 0, j - 0] += In[i, 6] * Weights[6, j]\\n            OutStaged[i - 0, j - 0] += In[i, 7] * Weights[7, j]\\n            OutStaged[i - 0, j - 0] += In[i, 8] * Weights[8, j]\\n            OutStaged[i - 0, j - 0] += In[i, 9] * Weights[9, j]\\n            OutStaged[i - 0, j - 0] += In[i, 10] * Weights[10, j]\\n            OutStaged[i - 0, j - 0] += In[i, 11] * Weights[11, j]\\n            OutStaged[i - 0, j - 0] += In[i, 12] * Weights[12, j]\\n            OutStaged[i - 0, j - 0] += In[i, 13] * Weights[13, j]\\n            OutStaged[i - 0, j - 0] += In[i, 14] * Weights[14, j]\\n            OutStaged[i - 0, j - 0] += In[i, 15] * Weights[15, j]\\n        for i0 in seq(0, 16 - 0):\\n            for i1 in seq(0, 16 - 0):\\n                Out[i0 + 0, i1 + 0] = OutStaged[i0, i1]'),)\n",
      "((0.42035931162887985, 0.5687355860124179, 'def generated_operation(In: i8[16, 16] @ DRAM, Weights: i8[16, 16] @ DRAM,\\n                        Out: i8[16, 16] @ DRAM):\\n    for i in seq(0, 16):\\n        OutStaged: i8[16 - 0, 16 - 0] @ DRAM\\n        for i0 in seq(0, 16 - 0):\\n            for i1 in seq(0, 16 - 0):\\n                OutStaged[i0, i1] = Out[i0 + 0, i1 + 0]\\n        for j in seq(0, 16):\\n            OutStaged[i - 0, j - 0] += In[i, 0] * Weights[0, j]\\n            OutStaged[i - 0, j - 0] += In[i, 1] * Weights[1, j]\\n            OutStaged[i - 0, j - 0] += In[i, 2] * Weights[2, j]\\n            OutStaged[i - 0, j - 0] += In[i, 3] * Weights[3, j]\\n            OutStaged[i - 0, j - 0] += In[i, 4] * Weights[4, j]\\n            OutStaged[i - 0, j - 0] += In[i, 5] * Weights[5, j]\\n            OutStaged[i - 0, j - 0] += In[i, 6] * Weights[6, j]\\n            OutStaged[i - 0, j - 0] += In[i, 7] * Weights[7, j]\\n            OutStaged[i - 0, j - 0] += In[i, 8] * Weights[8, j]\\n            OutStaged[i - 0, j - 0] += In[i, 9] * Weights[9, j]\\n            OutStaged[i - 0, j - 0] += In[i, 10] * Weights[10, j]\\n            OutStaged[i - 0, j - 0] += In[i, 11] * Weights[11, j]\\n            OutStaged[i - 0, j - 0] += In[i, 12] * Weights[12, j]\\n            OutStaged[i - 0, j - 0] += In[i, 13] * Weights[13, j]\\n            OutStaged[i - 0, j - 0] += In[i, 14] * Weights[14, j]\\n            OutStaged[i - 0, j - 0] += In[i, 15] * Weights[15, j]\\n        for i0 in seq(0, 16 - 0):\\n            for i1 in seq(0, 16 - 0):\\n                Out[i0 + 0, i1 + 0] = OutStaged[i0, i1]'), (0.7924932284966374, 0.5130240605191281, 'def generated_operation(In: i8[16, 16] @ DRAM, Weights: i8[16, 16] @ DRAM,\\n                        Out: i8[16, 16] @ DRAM):\\n    for i in seq(0, 16):\\n        OutStaged: i8[16 - 0, 16 - 0] @ DRAM\\n        for i0 in seq(0, 16 - 0):\\n            for i1 in seq(0, 16 - 0):\\n                OutStaged[i0, i1] = Out[i0 + 0, i1 + 0]\\n        for j in seq(0, 16):\\n            OutStaged[i - 0, j - 0] += In[i, 0] * Weights[0, j]\\n            OutStaged[i - 0, j - 0] += In[i, 1] * Weights[1, j]\\n            OutStaged[i - 0, j - 0] += In[i, 2] * Weights[2, j]\\n            OutStaged[i - 0, j - 0] += In[i, 3] * Weights[3, j]\\n            OutStaged[i - 0, j - 0] += In[i, 4] * Weights[4, j]\\n            OutStaged[i - 0, j - 0] += In[i, 5] * Weights[5, j]\\n            OutStaged[i - 0, j - 0] += In[i, 6] * Weights[6, j]\\n            OutStaged[i - 0, j - 0] += In[i, 7] * Weights[7, j]\\n            OutStaged[i - 0, j - 0] += In[i, 8] * Weights[8, j]\\n            OutStaged[i - 0, j - 0] += In[i, 9] * Weights[9, j]\\n            OutStaged[i - 0, j - 0] += In[i, 10] * Weights[10, j]\\n            OutStaged[i - 0, j - 0] += In[i, 11] * Weights[11, j]\\n            OutStaged[i - 0, j - 0] += In[i, 12] * Weights[12, j]\\n            OutStaged[i - 0, j - 0] += In[i, 13] * Weights[13, j]\\n            OutStaged[i - 0, j - 0] += In[i, 14] * Weights[14, j]\\n            OutStaged[i - 0, j - 0] += In[i, 15] * Weights[15, j]\\n        for i0 in seq(0, 16 - 0):\\n            for i1 in seq(0, 16 - 0):\\n                Out[i0 + 0, i1 + 0] = OutStaged[i0, i1]'), (0.9172885818476175, 0.5520612891967648, 'def generated_operation(In: i8[16, 16] @ DRAM, Weights: i8[16, 16] @ DRAM,\\n                        Out: i8[16, 16] @ DRAM):\\n    for i in seq(0, 16):\\n        OutStaged: i8[16 - 0, 16 - 0] @ DRAM\\n        for i0 in seq(0, 16 - 0):\\n            for i1 in seq(0, 16 - 0):\\n                OutStaged[i0, i1] = Out[i0 + 0, i1 + 0]\\n        for j in seq(0, 16):\\n            OutStaged[i - 0, j - 0] += In[i, 0] * Weights[0, j]\\n            OutStaged[i - 0, j - 0] += In[i, 1] * Weights[1, j]\\n            OutStaged[i - 0, j - 0] += In[i, 2] * Weights[2, j]\\n            OutStaged[i - 0, j - 0] += In[i, 3] * Weights[3, j]\\n            OutStaged[i - 0, j - 0] += In[i, 4] * Weights[4, j]\\n            OutStaged[i - 0, j - 0] += In[i, 5] * Weights[5, j]\\n            OutStaged[i - 0, j - 0] += In[i, 6] * Weights[6, j]\\n            OutStaged[i - 0, j - 0] += In[i, 7] * Weights[7, j]\\n            OutStaged[i - 0, j - 0] += In[i, 8] * Weights[8, j]\\n            OutStaged[i - 0, j - 0] += In[i, 9] * Weights[9, j]\\n            OutStaged[i - 0, j - 0] += In[i, 10] * Weights[10, j]\\n            OutStaged[i - 0, j - 0] += In[i, 11] * Weights[11, j]\\n            OutStaged[i - 0, j - 0] += In[i, 12] * Weights[12, j]\\n            OutStaged[i - 0, j - 0] += In[i, 13] * Weights[13, j]\\n            OutStaged[i - 0, j - 0] += In[i, 14] * Weights[14, j]\\n            OutStaged[i - 0, j - 0] += In[i, 15] * Weights[15, j]\\n        for i0 in seq(0, 16 - 0):\\n            for i1 in seq(0, 16 - 0):\\n                Out[i0 + 0, i1 + 0] = OutStaged[i0, i1]'), (0.8772878081515048, 1.0190558161810328, 'def generated_operation(In: i8[16, 16] @ DRAM, Weights: i8[16, 16] @ DRAM,\\n                        Out: i8[16, 16] @ DRAM):\\n    for i in seq(0, 16):\\n        OutStaged: i8[16 - 0, 16 - 0] @ DRAM\\n        for i0 in seq(0, 16 - 0):\\n            for i1 in seq(0, 16 - 0):\\n                OutStaged[i0, i1] = Out[i0 + 0, i1 + 0]\\n        for j in seq(0, 16):\\n            OutStaged[i - 0, j - 0] += In[i, 0] * Weights[0, j]\\n            OutStaged[i - 0, j - 0] += In[i, 1] * Weights[1, j]\\n            OutStaged[i - 0, j - 0] += In[i, 2] * Weights[2, j]\\n            OutStaged[i - 0, j - 0] += In[i, 3] * Weights[3, j]\\n            OutStaged[i - 0, j - 0] += In[i, 4] * Weights[4, j]\\n            OutStaged[i - 0, j - 0] += In[i, 5] * Weights[5, j]\\n            OutStaged[i - 0, j - 0] += In[i, 6] * Weights[6, j]\\n            OutStaged[i - 0, j - 0] += In[i, 7] * Weights[7, j]\\n            OutStaged[i - 0, j - 0] += In[i, 8] * Weights[8, j]\\n            OutStaged[i - 0, j - 0] += In[i, 9] * Weights[9, j]\\n            OutStaged[i - 0, j - 0] += In[i, 10] * Weights[10, j]\\n            OutStaged[i - 0, j - 0] += In[i, 11] * Weights[11, j]\\n            OutStaged[i - 0, j - 0] += In[i, 12] * Weights[12, j]\\n            OutStaged[i - 0, j - 0] += In[i, 13] * Weights[13, j]\\n            OutStaged[i - 0, j - 0] += In[i, 14] * Weights[14, j]\\n            OutStaged[i - 0, j - 0] += In[i, 15] * Weights[15, j]\\n        for i0 in seq(0, 16 - 0):\\n            for i1 in seq(0, 16 - 0):\\n                Out[i0 + 0, i1 + 0] = OutStaged[i0, i1]'))\n",
      "((0.1747745672533032, 0.09587106055674233, 'def generated_operation(In: i8[16, 16] @ DRAM, Weights: i8[16, 16] @ DRAM,\\n                        Out: i8[16, 16] @ DRAM):\\n    for i in seq(0, 16):\\n        OutStaged: i8[16 - 0, 16 - 0] @ DRAM\\n        for i0 in seq(0, 16 - 0):\\n            for i1 in seq(0, 16 - 0):\\n                OutStaged[i0, i1] = Out[i0 + 0, i1 + 0]\\n        for j in seq(0, 16):\\n            OutStaged[i - 0, j - 0] += In[i, 0] * Weights[0, j]\\n            OutStaged[i - 0, j - 0] += In[i, 1] * Weights[1, j]\\n            OutStaged[i - 0, j - 0] += In[i, 2] * Weights[2, j]\\n            OutStaged[i - 0, j - 0] += In[i, 3] * Weights[3, j]\\n            OutStaged[i - 0, j - 0] += In[i, 4] * Weights[4, j]\\n            OutStaged[i - 0, j - 0] += In[i, 5] * Weights[5, j]\\n            OutStaged[i - 0, j - 0] += In[i, 6] * Weights[6, j]\\n            OutStaged[i - 0, j - 0] += In[i, 7] * Weights[7, j]\\n            OutStaged[i - 0, j - 0] += In[i, 8] * Weights[8, j]\\n            OutStaged[i - 0, j - 0] += In[i, 9] * Weights[9, j]\\n            OutStaged[i - 0, j - 0] += In[i, 10] * Weights[10, j]\\n            OutStaged[i - 0, j - 0] += In[i, 11] * Weights[11, j]\\n            OutStaged[i - 0, j - 0] += In[i, 12] * Weights[12, j]\\n            OutStaged[i - 0, j - 0] += In[i, 13] * Weights[13, j]\\n            OutStaged[i - 0, j - 0] += In[i, 14] * Weights[14, j]\\n            OutStaged[i - 0, j - 0] += In[i, 15] * Weights[15, j]\\n        for i0 in seq(0, 16 - 0):\\n            for i1 in seq(0, 16 - 0):\\n                Out[i0 + 0, i1 + 0] = OutStaged[i0, i1]'),)\n",
      "((0.19311147118007954, 0.750052619496206, 'def generated_operation(In: i8[16, 16] @ DRAM, Weights: i8[16, 16] @ DRAM,\\n                        Out: i8[16, 16] @ DRAM):\\n    for i in seq(0, 16):\\n        OutStaged: i8[16 - 0, 16 - 0] @ DRAM\\n        for i0 in seq(0, 16 - 0):\\n            for i1 in seq(0, 16 - 0):\\n                OutStaged[i0, i1] = Out[i0 + 0, i1 + 0]\\n        for j in seq(0, 16):\\n            OutStaged[i - 0, j - 0] += In[i, 0] * Weights[0, j]\\n            OutStaged[i - 0, j - 0] += In[i, 1] * Weights[1, j]\\n            OutStaged[i - 0, j - 0] += In[i, 2] * Weights[2, j]\\n            OutStaged[i - 0, j - 0] += In[i, 3] * Weights[3, j]\\n            OutStaged[i - 0, j - 0] += In[i, 4] * Weights[4, j]\\n            OutStaged[i - 0, j - 0] += In[i, 5] * Weights[5, j]\\n            OutStaged[i - 0, j - 0] += In[i, 6] * Weights[6, j]\\n            OutStaged[i - 0, j - 0] += In[i, 7] * Weights[7, j]\\n            OutStaged[i - 0, j - 0] += In[i, 8] * Weights[8, j]\\n            OutStaged[i - 0, j - 0] += In[i, 9] * Weights[9, j]\\n            OutStaged[i - 0, j - 0] += In[i, 10] * Weights[10, j]\\n            OutStaged[i - 0, j - 0] += In[i, 11] * Weights[11, j]\\n            OutStaged[i - 0, j - 0] += In[i, 12] * Weights[12, j]\\n            OutStaged[i - 0, j - 0] += In[i, 13] * Weights[13, j]\\n            OutStaged[i - 0, j - 0] += In[i, 14] * Weights[14, j]\\n            OutStaged[i - 0, j - 0] += In[i, 15] * Weights[15, j]\\n        for i0 in seq(0, 16 - 0):\\n            for i1 in seq(0, 16 - 0):\\n                Out[i0 + 0, i1 + 0] = OutStaged[i0, i1]'), (0.2738839245226984, 0.5059636575509938, 'def generated_operation(In: i8[16, 16] @ DRAM, Weights: i8[16, 16] @ DRAM,\\n                        Out: i8[16, 16] @ DRAM):\\n    for i in seq(0, 16):\\n        OutStaged: i8[16 - 0, 16 - 0] @ DRAM\\n        for i0 in seq(0, 16 - 0):\\n            for i1 in seq(0, 16 - 0):\\n                OutStaged[i0, i1] = Out[i0 + 0, i1 + 0]\\n        for j in seq(0, 16):\\n            OutStaged[i - 0, j - 0] += In[i, 0] * Weights[0, j]\\n            OutStaged[i - 0, j - 0] += In[i, 1] * Weights[1, j]\\n            OutStaged[i - 0, j - 0] += In[i, 2] * Weights[2, j]\\n            OutStaged[i - 0, j - 0] += In[i, 3] * Weights[3, j]\\n            OutStaged[i - 0, j - 0] += In[i, 4] * Weights[4, j]\\n            OutStaged[i - 0, j - 0] += In[i, 5] * Weights[5, j]\\n            OutStaged[i - 0, j - 0] += In[i, 6] * Weights[6, j]\\n            OutStaged[i - 0, j - 0] += In[i, 7] * Weights[7, j]\\n            OutStaged[i - 0, j - 0] += In[i, 8] * Weights[8, j]\\n            OutStaged[i - 0, j - 0] += In[i, 9] * Weights[9, j]\\n            OutStaged[i - 0, j - 0] += In[i, 10] * Weights[10, j]\\n            OutStaged[i - 0, j - 0] += In[i, 11] * Weights[11, j]\\n            OutStaged[i - 0, j - 0] += In[i, 12] * Weights[12, j]\\n            OutStaged[i - 0, j - 0] += In[i, 13] * Weights[13, j]\\n            OutStaged[i - 0, j - 0] += In[i, 14] * Weights[14, j]\\n            OutStaged[i - 0, j - 0] += In[i, 15] * Weights[15, j]\\n        for i0 in seq(0, 16 - 0):\\n            for i1 in seq(0, 16 - 0):\\n                Out[i0 + 0, i1 + 0] = OutStaged[i0, i1]'), (0.5539941439346678, 0.4462042151704999, 'def generated_operation(In: i8[16, 16] @ DRAM, Weights: i8[16, 16] @ DRAM,\\n                        Out: i8[16, 16] @ DRAM):\\n    for i in seq(0, 16):\\n        Out[i, 0] += In[i, 0] * Weights[0, 0]\\n        Out[i, 0] += In[i, 1] * Weights[1, 0]\\n        Out[i, 0] += In[i, 2] * Weights[2, 0]\\n        Out[i, 0] += In[i, 3] * Weights[3, 0]\\n        Out[i, 0] += In[i, 4] * Weights[4, 0]\\n        Out[i, 0] += In[i, 5] * Weights[5, 0]\\n        Out[i, 0] += In[i, 6] * Weights[6, 0]\\n        Out[i, 0] += In[i, 7] * Weights[7, 0]\\n        Out[i, 0] += In[i, 8] * Weights[8, 0]\\n        Out[i, 0] += In[i, 9] * Weights[9, 0]\\n        Out[i, 0] += In[i, 10] * Weights[10, 0]\\n        Out[i, 0] += In[i, 11] * Weights[11, 0]\\n        Out[i, 0] += In[i, 12] * Weights[12, 0]\\n        Out[i, 0] += In[i, 13] * Weights[13, 0]\\n        Out[i, 0] += In[i, 14] * Weights[14, 0]\\n        Out[i, 0] += In[i, 15] * Weights[15, 0]\\n        Out[i, 1] += In[i, 0] * Weights[0, 1]\\n        Out[i, 1] += In[i, 1] * Weights[1, 1]\\n        Out[i, 1] += In[i, 2] * Weights[2, 1]\\n        Out[i, 1] += In[i, 3] * Weights[3, 1]\\n        Out[i, 1] += In[i, 4] * Weights[4, 1]\\n        Out[i, 1] += In[i, 5] * Weights[5, 1]\\n        Out[i, 1] += In[i, 6] * Weights[6, 1]\\n        Out[i, 1] += In[i, 7] * Weights[7, 1]\\n        Out[i, 1] += In[i, 8] * Weights[8, 1]\\n        Out[i, 1] += In[i, 9] * Weights[9, 1]\\n        Out[i, 1] += In[i, 10] * Weights[10, 1]\\n        Out[i, 1] += In[i, 11] * Weights[11, 1]\\n        Out[i, 1] += In[i, 12] * Weights[12, 1]\\n        Out[i, 1] += In[i, 13] * Weights[13, 1]\\n        Out[i, 1] += In[i, 14] * Weights[14, 1]\\n        Out[i, 1] += In[i, 15] * Weights[15, 1]\\n        Out[i, 2] += In[i, 0] * Weights[0, 2]\\n        Out[i, 2] += In[i, 1] * Weights[1, 2]\\n        Out[i, 2] += In[i, 2] * Weights[2, 2]\\n        Out[i, 2] += In[i, 3] * Weights[3, 2]\\n        Out[i, 2] += In[i, 4] * Weights[4, 2]\\n        Out[i, 2] += In[i, 5] * Weights[5, 2]\\n        Out[i, 2] += In[i, 6] * Weights[6, 2]\\n        Out[i, 2] += In[i, 7] * Weights[7, 2]\\n        Out[i, 2] += In[i, 8] * Weights[8, 2]\\n        Out[i, 2] += In[i, 9] * Weights[9, 2]\\n        Out[i, 2] += In[i, 10] * Weights[10, 2]\\n        Out[i, 2] += In[i, 11] * Weights[11, 2]\\n        Out[i, 2] += In[i, 12] * Weights[12, 2]\\n        Out[i, 2] += In[i, 13] * Weights[13, 2]\\n        Out[i, 2] += In[i, 14] * Weights[14, 2]\\n        Out[i, 2] += In[i, 15] * Weights[15, 2]\\n        Out[i, 3] += In[i, 0] * Weights[0, 3]\\n        Out[i, 3] += In[i, 1] * Weights[1, 3]\\n        Out[i, 3] += In[i, 2] * Weights[2, 3]\\n        Out[i, 3] += In[i, 3] * Weights[3, 3]\\n        Out[i, 3] += In[i, 4] * Weights[4, 3]\\n        Out[i, 3] += In[i, 5] * Weights[5, 3]\\n        Out[i, 3] += In[i, 6] * Weights[6, 3]\\n        Out[i, 3] += In[i, 7] * Weights[7, 3]\\n        Out[i, 3] += In[i, 8] * Weights[8, 3]\\n        Out[i, 3] += In[i, 9] * Weights[9, 3]\\n        Out[i, 3] += In[i, 10] * Weights[10, 3]\\n        Out[i, 3] += In[i, 11] * Weights[11, 3]\\n        Out[i, 3] += In[i, 12] * Weights[12, 3]\\n        Out[i, 3] += In[i, 13] * Weights[13, 3]\\n        Out[i, 3] += In[i, 14] * Weights[14, 3]\\n        Out[i, 3] += In[i, 15] * Weights[15, 3]\\n        Out[i, 4] += In[i, 0] * Weights[0, 4]\\n        Out[i, 4] += In[i, 1] * Weights[1, 4]\\n        Out[i, 4] += In[i, 2] * Weights[2, 4]\\n        Out[i, 4] += In[i, 3] * Weights[3, 4]\\n        Out[i, 4] += In[i, 4] * Weights[4, 4]\\n        Out[i, 4] += In[i, 5] * Weights[5, 4]\\n        Out[i, 4] += In[i, 6] * Weights[6, 4]\\n        Out[i, 4] += In[i, 7] * Weights[7, 4]\\n        Out[i, 4] += In[i, 8] * Weights[8, 4]\\n        Out[i, 4] += In[i, 9] * Weights[9, 4]\\n        Out[i, 4] += In[i, 10] * Weights[10, 4]\\n        Out[i, 4] += In[i, 11] * Weights[11, 4]\\n        Out[i, 4] += In[i, 12] * Weights[12, 4]\\n        Out[i, 4] += In[i, 13] * Weights[13, 4]\\n        Out[i, 4] += In[i, 14] * Weights[14, 4]\\n        Out[i, 4] += In[i, 15] * Weights[15, 4]\\n        Out[i, 5] += In[i, 0] * Weights[0, 5]\\n        Out[i, 5] += In[i, 1] * Weights[1, 5]\\n        Out[i, 5] += In[i, 2] * Weights[2, 5]\\n        Out[i, 5] += In[i, 3] * Weights[3, 5]\\n        Out[i, 5] += In[i, 4] * Weights[4, 5]\\n        Out[i, 5] += In[i, 5] * Weights[5, 5]\\n        Out[i, 5] += In[i, 6] * Weights[6, 5]\\n        Out[i, 5] += In[i, 7] * Weights[7, 5]\\n        Out[i, 5] += In[i, 8] * Weights[8, 5]\\n        Out[i, 5] += In[i, 9] * Weights[9, 5]\\n        Out[i, 5] += In[i, 10] * Weights[10, 5]\\n        Out[i, 5] += In[i, 11] * Weights[11, 5]\\n        Out[i, 5] += In[i, 12] * Weights[12, 5]\\n        Out[i, 5] += In[i, 13] * Weights[13, 5]\\n        Out[i, 5] += In[i, 14] * Weights[14, 5]\\n        Out[i, 5] += In[i, 15] * Weights[15, 5]\\n        Out[i, 6] += In[i, 0] * Weights[0, 6]\\n        Out[i, 6] += In[i, 1] * Weights[1, 6]\\n        Out[i, 6] += In[i, 2] * Weights[2, 6]\\n        Out[i, 6] += In[i, 3] * Weights[3, 6]\\n        Out[i, 6] += In[i, 4] * Weights[4, 6]\\n        Out[i, 6] += In[i, 5] * Weights[5, 6]\\n        Out[i, 6] += In[i, 6] * Weights[6, 6]\\n        Out[i, 6] += In[i, 7] * Weights[7, 6]\\n        Out[i, 6] += In[i, 8] * Weights[8, 6]\\n        Out[i, 6] += In[i, 9] * Weights[9, 6]\\n        Out[i, 6] += In[i, 10] * Weights[10, 6]\\n        Out[i, 6] += In[i, 11] * Weights[11, 6]\\n        Out[i, 6] += In[i, 12] * Weights[12, 6]\\n        Out[i, 6] += In[i, 13] * Weights[13, 6]\\n        Out[i, 6] += In[i, 14] * Weights[14, 6]\\n        Out[i, 6] += In[i, 15] * Weights[15, 6]\\n        Out[i, 7] += In[i, 0] * Weights[0, 7]\\n        Out[i, 7] += In[i, 1] * Weights[1, 7]\\n        Out[i, 7] += In[i, 2] * Weights[2, 7]\\n        Out[i, 7] += In[i, 3] * Weights[3, 7]\\n        Out[i, 7] += In[i, 4] * Weights[4, 7]\\n        Out[i, 7] += In[i, 5] * Weights[5, 7]\\n        Out[i, 7] += In[i, 6] * Weights[6, 7]\\n        Out[i, 7] += In[i, 7] * Weights[7, 7]\\n        Out[i, 7] += In[i, 8] * Weights[8, 7]\\n        Out[i, 7] += In[i, 9] * Weights[9, 7]\\n        Out[i, 7] += In[i, 10] * Weights[10, 7]\\n        Out[i, 7] += In[i, 11] * Weights[11, 7]\\n        Out[i, 7] += In[i, 12] * Weights[12, 7]\\n        Out[i, 7] += In[i, 13] * Weights[13, 7]\\n        Out[i, 7] += In[i, 14] * Weights[14, 7]\\n        Out[i, 7] += In[i, 15] * Weights[15, 7]\\n        Out[i, 8] += In[i, 0] * Weights[0, 8]\\n        Out[i, 8] += In[i, 1] * Weights[1, 8]\\n        Out[i, 8] += In[i, 2] * Weights[2, 8]\\n        Out[i, 8] += In[i, 3] * Weights[3, 8]\\n        Out[i, 8] += In[i, 4] * Weights[4, 8]\\n        Out[i, 8] += In[i, 5] * Weights[5, 8]\\n        Out[i, 8] += In[i, 6] * Weights[6, 8]\\n        Out[i, 8] += In[i, 7] * Weights[7, 8]\\n        Out[i, 8] += In[i, 8] * Weights[8, 8]\\n        Out[i, 8] += In[i, 9] * Weights[9, 8]\\n        Out[i, 8] += In[i, 10] * Weights[10, 8]\\n        Out[i, 8] += In[i, 11] * Weights[11, 8]\\n        Out[i, 8] += In[i, 12] * Weights[12, 8]\\n        Out[i, 8] += In[i, 13] * Weights[13, 8]\\n        Out[i, 8] += In[i, 14] * Weights[14, 8]\\n        Out[i, 8] += In[i, 15] * Weights[15, 8]\\n        Out[i, 9] += In[i, 0] * Weights[0, 9]\\n        Out[i, 9] += In[i, 1] * Weights[1, 9]\\n        Out[i, 9] += In[i, 2] * Weights[2, 9]\\n        Out[i, 9] += In[i, 3] * Weights[3, 9]\\n        Out[i, 9] += In[i, 4] * Weights[4, 9]\\n        Out[i, 9] += In[i, 5] * Weights[5, 9]\\n        Out[i, 9] += In[i, 6] * Weights[6, 9]\\n        Out[i, 9] += In[i, 7] * Weights[7, 9]\\n        Out[i, 9] += In[i, 8] * Weights[8, 9]\\n        Out[i, 9] += In[i, 9] * Weights[9, 9]\\n        Out[i, 9] += In[i, 10] * Weights[10, 9]\\n        Out[i, 9] += In[i, 11] * Weights[11, 9]\\n        Out[i, 9] += In[i, 12] * Weights[12, 9]\\n        Out[i, 9] += In[i, 13] * Weights[13, 9]\\n        Out[i, 9] += In[i, 14] * Weights[14, 9]\\n        Out[i, 9] += In[i, 15] * Weights[15, 9]\\n        Out[i, 10] += In[i, 0] * Weights[0, 10]\\n        Out[i, 10] += In[i, 1] * Weights[1, 10]\\n        Out[i, 10] += In[i, 2] * Weights[2, 10]\\n        Out[i, 10] += In[i, 3] * Weights[3, 10]\\n        Out[i, 10] += In[i, 4] * Weights[4, 10]\\n        Out[i, 10] += In[i, 5] * Weights[5, 10]\\n        Out[i, 10] += In[i, 6] * Weights[6, 10]\\n        Out[i, 10] += In[i, 7] * Weights[7, 10]\\n        Out[i, 10] += In[i, 8] * Weights[8, 10]\\n        Out[i, 10] += In[i, 9] * Weights[9, 10]\\n        Out[i, 10] += In[i, 10] * Weights[10, 10]\\n        Out[i, 10] += In[i, 11] * Weights[11, 10]\\n        Out[i, 10] += In[i, 12] * Weights[12, 10]\\n        Out[i, 10] += In[i, 13] * Weights[13, 10]\\n        Out[i, 10] += In[i, 14] * Weights[14, 10]\\n        Out[i, 10] += In[i, 15] * Weights[15, 10]\\n        Out[i, 11] += In[i, 0] * Weights[0, 11]\\n        Out[i, 11] += In[i, 1] * Weights[1, 11]\\n        Out[i, 11] += In[i, 2] * Weights[2, 11]\\n        Out[i, 11] += In[i, 3] * Weights[3, 11]\\n        Out[i, 11] += In[i, 4] * Weights[4, 11]\\n        Out[i, 11] += In[i, 5] * Weights[5, 11]\\n        Out[i, 11] += In[i, 6] * Weights[6, 11]\\n        Out[i, 11] += In[i, 7] * Weights[7, 11]\\n        Out[i, 11] += In[i, 8] * Weights[8, 11]\\n        Out[i, 11] += In[i, 9] * Weights[9, 11]\\n        Out[i, 11] += In[i, 10] * Weights[10, 11]\\n        Out[i, 11] += In[i, 11] * Weights[11, 11]\\n        Out[i, 11] += In[i, 12] * Weights[12, 11]\\n        Out[i, 11] += In[i, 13] * Weights[13, 11]\\n        Out[i, 11] += In[i, 14] * Weights[14, 11]\\n        Out[i, 11] += In[i, 15] * Weights[15, 11]\\n        Out[i, 12] += In[i, 0] * Weights[0, 12]\\n        Out[i, 12] += In[i, 1] * Weights[1, 12]\\n        Out[i, 12] += In[i, 2] * Weights[2, 12]\\n        Out[i, 12] += In[i, 3] * Weights[3, 12]\\n        Out[i, 12] += In[i, 4] * Weights[4, 12]\\n        Out[i, 12] += In[i, 5] * Weights[5, 12]\\n        Out[i, 12] += In[i, 6] * Weights[6, 12]\\n        Out[i, 12] += In[i, 7] * Weights[7, 12]\\n        Out[i, 12] += In[i, 8] * Weights[8, 12]\\n        Out[i, 12] += In[i, 9] * Weights[9, 12]\\n        Out[i, 12] += In[i, 10] * Weights[10, 12]\\n        Out[i, 12] += In[i, 11] * Weights[11, 12]\\n        Out[i, 12] += In[i, 12] * Weights[12, 12]\\n        Out[i, 12] += In[i, 13] * Weights[13, 12]\\n        Out[i, 12] += In[i, 14] * Weights[14, 12]\\n        Out[i, 12] += In[i, 15] * Weights[15, 12]\\n        Out[i, 13] += In[i, 0] * Weights[0, 13]\\n        Out[i, 13] += In[i, 1] * Weights[1, 13]\\n        Out[i, 13] += In[i, 2] * Weights[2, 13]\\n        Out[i, 13] += In[i, 3] * Weights[3, 13]\\n        Out[i, 13] += In[i, 4] * Weights[4, 13]\\n        Out[i, 13] += In[i, 5] * Weights[5, 13]\\n        Out[i, 13] += In[i, 6] * Weights[6, 13]\\n        Out[i, 13] += In[i, 7] * Weights[7, 13]\\n        Out[i, 13] += In[i, 8] * Weights[8, 13]\\n        Out[i, 13] += In[i, 9] * Weights[9, 13]\\n        Out[i, 13] += In[i, 10] * Weights[10, 13]\\n        Out[i, 13] += In[i, 11] * Weights[11, 13]\\n        Out[i, 13] += In[i, 12] * Weights[12, 13]\\n        Out[i, 13] += In[i, 13] * Weights[13, 13]\\n        Out[i, 13] += In[i, 14] * Weights[14, 13]\\n        Out[i, 13] += In[i, 15] * Weights[15, 13]\\n        Out[i, 14] += In[i, 0] * Weights[0, 14]\\n        Out[i, 14] += In[i, 1] * Weights[1, 14]\\n        Out[i, 14] += In[i, 2] * Weights[2, 14]\\n        Out[i, 14] += In[i, 3] * Weights[3, 14]\\n        Out[i, 14] += In[i, 4] * Weights[4, 14]\\n        Out[i, 14] += In[i, 5] * Weights[5, 14]\\n        Out[i, 14] += In[i, 6] * Weights[6, 14]\\n        Out[i, 14] += In[i, 7] * Weights[7, 14]\\n        Out[i, 14] += In[i, 8] * Weights[8, 14]\\n        Out[i, 14] += In[i, 9] * Weights[9, 14]\\n        Out[i, 14] += In[i, 10] * Weights[10, 14]\\n        Out[i, 14] += In[i, 11] * Weights[11, 14]\\n        Out[i, 14] += In[i, 12] * Weights[12, 14]\\n        Out[i, 14] += In[i, 13] * Weights[13, 14]\\n        Out[i, 14] += In[i, 14] * Weights[14, 14]\\n        Out[i, 14] += In[i, 15] * Weights[15, 14]\\n        Out[i, 15] += In[i, 0] * Weights[0, 15]\\n        Out[i, 15] += In[i, 1] * Weights[1, 15]\\n        Out[i, 15] += In[i, 2] * Weights[2, 15]\\n        Out[i, 15] += In[i, 3] * Weights[3, 15]\\n        Out[i, 15] += In[i, 4] * Weights[4, 15]\\n        Out[i, 15] += In[i, 5] * Weights[5, 15]\\n        Out[i, 15] += In[i, 6] * Weights[6, 15]\\n        Out[i, 15] += In[i, 7] * Weights[7, 15]\\n        Out[i, 15] += In[i, 8] * Weights[8, 15]\\n        Out[i, 15] += In[i, 9] * Weights[9, 15]\\n        Out[i, 15] += In[i, 10] * Weights[10, 15]\\n        Out[i, 15] += In[i, 11] * Weights[11, 15]\\n        Out[i, 15] += In[i, 12] * Weights[12, 15]\\n        Out[i, 15] += In[i, 13] * Weights[13, 15]\\n        Out[i, 15] += In[i, 14] * Weights[14, 15]\\n        Out[i, 15] += In[i, 15] * Weights[15, 15]'), (0.5699110852937787, 0.32927239046000356, 'def generated_operation(In: i8[16, 16] @ DRAM, Weights: i8[16, 16] @ DRAM,\\n                        Out: i8[16, 16] @ DRAM):\\n    for i in seq(0, 16):\\n        Out[i, 0] += In[i, 0] * Weights[0, 0]\\n        Out[i, 0] += In[i, 1] * Weights[1, 0]\\n        Out[i, 0] += In[i, 2] * Weights[2, 0]\\n        Out[i, 0] += In[i, 3] * Weights[3, 0]\\n        Out[i, 0] += In[i, 4] * Weights[4, 0]\\n        Out[i, 0] += In[i, 5] * Weights[5, 0]\\n        Out[i, 0] += In[i, 6] * Weights[6, 0]\\n        Out[i, 0] += In[i, 7] * Weights[7, 0]\\n        Out[i, 0] += In[i, 8] * Weights[8, 0]\\n        Out[i, 0] += In[i, 9] * Weights[9, 0]\\n        Out[i, 0] += In[i, 10] * Weights[10, 0]\\n        Out[i, 0] += In[i, 11] * Weights[11, 0]\\n        Out[i, 0] += In[i, 12] * Weights[12, 0]\\n        Out[i, 0] += In[i, 13] * Weights[13, 0]\\n        Out[i, 0] += In[i, 14] * Weights[14, 0]\\n        Out[i, 0] += In[i, 15] * Weights[15, 0]\\n        Out[i, 1] += In[i, 0] * Weights[0, 1]\\n        Out[i, 1] += In[i, 1] * Weights[1, 1]\\n        Out[i, 1] += In[i, 2] * Weights[2, 1]\\n        Out[i, 1] += In[i, 3] * Weights[3, 1]\\n        Out[i, 1] += In[i, 4] * Weights[4, 1]\\n        Out[i, 1] += In[i, 5] * Weights[5, 1]\\n        Out[i, 1] += In[i, 6] * Weights[6, 1]\\n        Out[i, 1] += In[i, 7] * Weights[7, 1]\\n        Out[i, 1] += In[i, 8] * Weights[8, 1]\\n        Out[i, 1] += In[i, 9] * Weights[9, 1]\\n        Out[i, 1] += In[i, 10] * Weights[10, 1]\\n        Out[i, 1] += In[i, 11] * Weights[11, 1]\\n        Out[i, 1] += In[i, 12] * Weights[12, 1]\\n        Out[i, 1] += In[i, 13] * Weights[13, 1]\\n        Out[i, 1] += In[i, 14] * Weights[14, 1]\\n        Out[i, 1] += In[i, 15] * Weights[15, 1]\\n        Out[i, 2] += In[i, 0] * Weights[0, 2]\\n        Out[i, 2] += In[i, 1] * Weights[1, 2]\\n        Out[i, 2] += In[i, 2] * Weights[2, 2]\\n        Out[i, 2] += In[i, 3] * Weights[3, 2]\\n        Out[i, 2] += In[i, 4] * Weights[4, 2]\\n        Out[i, 2] += In[i, 5] * Weights[5, 2]\\n        Out[i, 2] += In[i, 6] * Weights[6, 2]\\n        Out[i, 2] += In[i, 7] * Weights[7, 2]\\n        Out[i, 2] += In[i, 8] * Weights[8, 2]\\n        Out[i, 2] += In[i, 9] * Weights[9, 2]\\n        Out[i, 2] += In[i, 10] * Weights[10, 2]\\n        Out[i, 2] += In[i, 11] * Weights[11, 2]\\n        Out[i, 2] += In[i, 12] * Weights[12, 2]\\n        Out[i, 2] += In[i, 13] * Weights[13, 2]\\n        Out[i, 2] += In[i, 14] * Weights[14, 2]\\n        Out[i, 2] += In[i, 15] * Weights[15, 2]\\n        Out[i, 3] += In[i, 0] * Weights[0, 3]\\n        Out[i, 3] += In[i, 1] * Weights[1, 3]\\n        Out[i, 3] += In[i, 2] * Weights[2, 3]\\n        Out[i, 3] += In[i, 3] * Weights[3, 3]\\n        Out[i, 3] += In[i, 4] * Weights[4, 3]\\n        Out[i, 3] += In[i, 5] * Weights[5, 3]\\n        Out[i, 3] += In[i, 6] * Weights[6, 3]\\n        Out[i, 3] += In[i, 7] * Weights[7, 3]\\n        Out[i, 3] += In[i, 8] * Weights[8, 3]\\n        Out[i, 3] += In[i, 9] * Weights[9, 3]\\n        Out[i, 3] += In[i, 10] * Weights[10, 3]\\n        Out[i, 3] += In[i, 11] * Weights[11, 3]\\n        Out[i, 3] += In[i, 12] * Weights[12, 3]\\n        Out[i, 3] += In[i, 13] * Weights[13, 3]\\n        Out[i, 3] += In[i, 14] * Weights[14, 3]\\n        Out[i, 3] += In[i, 15] * Weights[15, 3]\\n        Out[i, 4] += In[i, 0] * Weights[0, 4]\\n        Out[i, 4] += In[i, 1] * Weights[1, 4]\\n        Out[i, 4] += In[i, 2] * Weights[2, 4]\\n        Out[i, 4] += In[i, 3] * Weights[3, 4]\\n        Out[i, 4] += In[i, 4] * Weights[4, 4]\\n        Out[i, 4] += In[i, 5] * Weights[5, 4]\\n        Out[i, 4] += In[i, 6] * Weights[6, 4]\\n        Out[i, 4] += In[i, 7] * Weights[7, 4]\\n        Out[i, 4] += In[i, 8] * Weights[8, 4]\\n        Out[i, 4] += In[i, 9] * Weights[9, 4]\\n        Out[i, 4] += In[i, 10] * Weights[10, 4]\\n        Out[i, 4] += In[i, 11] * Weights[11, 4]\\n        Out[i, 4] += In[i, 12] * Weights[12, 4]\\n        Out[i, 4] += In[i, 13] * Weights[13, 4]\\n        Out[i, 4] += In[i, 14] * Weights[14, 4]\\n        Out[i, 4] += In[i, 15] * Weights[15, 4]\\n        Out[i, 5] += In[i, 0] * Weights[0, 5]\\n        Out[i, 5] += In[i, 1] * Weights[1, 5]\\n        Out[i, 5] += In[i, 2] * Weights[2, 5]\\n        Out[i, 5] += In[i, 3] * Weights[3, 5]\\n        Out[i, 5] += In[i, 4] * Weights[4, 5]\\n        Out[i, 5] += In[i, 5] * Weights[5, 5]\\n        Out[i, 5] += In[i, 6] * Weights[6, 5]\\n        Out[i, 5] += In[i, 7] * Weights[7, 5]\\n        Out[i, 5] += In[i, 8] * Weights[8, 5]\\n        Out[i, 5] += In[i, 9] * Weights[9, 5]\\n        Out[i, 5] += In[i, 10] * Weights[10, 5]\\n        Out[i, 5] += In[i, 11] * Weights[11, 5]\\n        Out[i, 5] += In[i, 12] * Weights[12, 5]\\n        Out[i, 5] += In[i, 13] * Weights[13, 5]\\n        Out[i, 5] += In[i, 14] * Weights[14, 5]\\n        Out[i, 5] += In[i, 15] * Weights[15, 5]\\n        Out[i, 6] += In[i, 0] * Weights[0, 6]\\n        Out[i, 6] += In[i, 1] * Weights[1, 6]\\n        Out[i, 6] += In[i, 2] * Weights[2, 6]\\n        Out[i, 6] += In[i, 3] * Weights[3, 6]\\n        Out[i, 6] += In[i, 4] * Weights[4, 6]\\n        Out[i, 6] += In[i, 5] * Weights[5, 6]\\n        Out[i, 6] += In[i, 6] * Weights[6, 6]\\n        Out[i, 6] += In[i, 7] * Weights[7, 6]\\n        Out[i, 6] += In[i, 8] * Weights[8, 6]\\n        Out[i, 6] += In[i, 9] * Weights[9, 6]\\n        Out[i, 6] += In[i, 10] * Weights[10, 6]\\n        Out[i, 6] += In[i, 11] * Weights[11, 6]\\n        Out[i, 6] += In[i, 12] * Weights[12, 6]\\n        Out[i, 6] += In[i, 13] * Weights[13, 6]\\n        Out[i, 6] += In[i, 14] * Weights[14, 6]\\n        Out[i, 6] += In[i, 15] * Weights[15, 6]\\n        Out[i, 7] += In[i, 0] * Weights[0, 7]\\n        Out[i, 7] += In[i, 1] * Weights[1, 7]\\n        Out[i, 7] += In[i, 2] * Weights[2, 7]\\n        Out[i, 7] += In[i, 3] * Weights[3, 7]\\n        Out[i, 7] += In[i, 4] * Weights[4, 7]\\n        Out[i, 7] += In[i, 5] * Weights[5, 7]\\n        Out[i, 7] += In[i, 6] * Weights[6, 7]\\n        Out[i, 7] += In[i, 7] * Weights[7, 7]\\n        Out[i, 7] += In[i, 8] * Weights[8, 7]\\n        Out[i, 7] += In[i, 9] * Weights[9, 7]\\n        Out[i, 7] += In[i, 10] * Weights[10, 7]\\n        Out[i, 7] += In[i, 11] * Weights[11, 7]\\n        Out[i, 7] += In[i, 12] * Weights[12, 7]\\n        Out[i, 7] += In[i, 13] * Weights[13, 7]\\n        Out[i, 7] += In[i, 14] * Weights[14, 7]\\n        Out[i, 7] += In[i, 15] * Weights[15, 7]\\n        Out[i, 8] += In[i, 0] * Weights[0, 8]\\n        Out[i, 8] += In[i, 1] * Weights[1, 8]\\n        Out[i, 8] += In[i, 2] * Weights[2, 8]\\n        Out[i, 8] += In[i, 3] * Weights[3, 8]\\n        Out[i, 8] += In[i, 4] * Weights[4, 8]\\n        Out[i, 8] += In[i, 5] * Weights[5, 8]\\n        Out[i, 8] += In[i, 6] * Weights[6, 8]\\n        Out[i, 8] += In[i, 7] * Weights[7, 8]\\n        Out[i, 8] += In[i, 8] * Weights[8, 8]\\n        Out[i, 8] += In[i, 9] * Weights[9, 8]\\n        Out[i, 8] += In[i, 10] * Weights[10, 8]\\n        Out[i, 8] += In[i, 11] * Weights[11, 8]\\n        Out[i, 8] += In[i, 12] * Weights[12, 8]\\n        Out[i, 8] += In[i, 13] * Weights[13, 8]\\n        Out[i, 8] += In[i, 14] * Weights[14, 8]\\n        Out[i, 8] += In[i, 15] * Weights[15, 8]\\n        Out[i, 9] += In[i, 0] * Weights[0, 9]\\n        Out[i, 9] += In[i, 1] * Weights[1, 9]\\n        Out[i, 9] += In[i, 2] * Weights[2, 9]\\n        Out[i, 9] += In[i, 3] * Weights[3, 9]\\n        Out[i, 9] += In[i, 4] * Weights[4, 9]\\n        Out[i, 9] += In[i, 5] * Weights[5, 9]\\n        Out[i, 9] += In[i, 6] * Weights[6, 9]\\n        Out[i, 9] += In[i, 7] * Weights[7, 9]\\n        Out[i, 9] += In[i, 8] * Weights[8, 9]\\n        Out[i, 9] += In[i, 9] * Weights[9, 9]\\n        Out[i, 9] += In[i, 10] * Weights[10, 9]\\n        Out[i, 9] += In[i, 11] * Weights[11, 9]\\n        Out[i, 9] += In[i, 12] * Weights[12, 9]\\n        Out[i, 9] += In[i, 13] * Weights[13, 9]\\n        Out[i, 9] += In[i, 14] * Weights[14, 9]\\n        Out[i, 9] += In[i, 15] * Weights[15, 9]\\n        Out[i, 10] += In[i, 0] * Weights[0, 10]\\n        Out[i, 10] += In[i, 1] * Weights[1, 10]\\n        Out[i, 10] += In[i, 2] * Weights[2, 10]\\n        Out[i, 10] += In[i, 3] * Weights[3, 10]\\n        Out[i, 10] += In[i, 4] * Weights[4, 10]\\n        Out[i, 10] += In[i, 5] * Weights[5, 10]\\n        Out[i, 10] += In[i, 6] * Weights[6, 10]\\n        Out[i, 10] += In[i, 7] * Weights[7, 10]\\n        Out[i, 10] += In[i, 8] * Weights[8, 10]\\n        Out[i, 10] += In[i, 9] * Weights[9, 10]\\n        Out[i, 10] += In[i, 10] * Weights[10, 10]\\n        Out[i, 10] += In[i, 11] * Weights[11, 10]\\n        Out[i, 10] += In[i, 12] * Weights[12, 10]\\n        Out[i, 10] += In[i, 13] * Weights[13, 10]\\n        Out[i, 10] += In[i, 14] * Weights[14, 10]\\n        Out[i, 10] += In[i, 15] * Weights[15, 10]\\n        Out[i, 11] += In[i, 0] * Weights[0, 11]\\n        Out[i, 11] += In[i, 1] * Weights[1, 11]\\n        Out[i, 11] += In[i, 2] * Weights[2, 11]\\n        Out[i, 11] += In[i, 3] * Weights[3, 11]\\n        Out[i, 11] += In[i, 4] * Weights[4, 11]\\n        Out[i, 11] += In[i, 5] * Weights[5, 11]\\n        Out[i, 11] += In[i, 6] * Weights[6, 11]\\n        Out[i, 11] += In[i, 7] * Weights[7, 11]\\n        Out[i, 11] += In[i, 8] * Weights[8, 11]\\n        Out[i, 11] += In[i, 9] * Weights[9, 11]\\n        Out[i, 11] += In[i, 10] * Weights[10, 11]\\n        Out[i, 11] += In[i, 11] * Weights[11, 11]\\n        Out[i, 11] += In[i, 12] * Weights[12, 11]\\n        Out[i, 11] += In[i, 13] * Weights[13, 11]\\n        Out[i, 11] += In[i, 14] * Weights[14, 11]\\n        Out[i, 11] += In[i, 15] * Weights[15, 11]\\n        Out[i, 12] += In[i, 0] * Weights[0, 12]\\n        Out[i, 12] += In[i, 1] * Weights[1, 12]\\n        Out[i, 12] += In[i, 2] * Weights[2, 12]\\n        Out[i, 12] += In[i, 3] * Weights[3, 12]\\n        Out[i, 12] += In[i, 4] * Weights[4, 12]\\n        Out[i, 12] += In[i, 5] * Weights[5, 12]\\n        Out[i, 12] += In[i, 6] * Weights[6, 12]\\n        Out[i, 12] += In[i, 7] * Weights[7, 12]\\n        Out[i, 12] += In[i, 8] * Weights[8, 12]\\n        Out[i, 12] += In[i, 9] * Weights[9, 12]\\n        Out[i, 12] += In[i, 10] * Weights[10, 12]\\n        Out[i, 12] += In[i, 11] * Weights[11, 12]\\n        Out[i, 12] += In[i, 12] * Weights[12, 12]\\n        Out[i, 12] += In[i, 13] * Weights[13, 12]\\n        Out[i, 12] += In[i, 14] * Weights[14, 12]\\n        Out[i, 12] += In[i, 15] * Weights[15, 12]\\n        Out[i, 13] += In[i, 0] * Weights[0, 13]\\n        Out[i, 13] += In[i, 1] * Weights[1, 13]\\n        Out[i, 13] += In[i, 2] * Weights[2, 13]\\n        Out[i, 13] += In[i, 3] * Weights[3, 13]\\n        Out[i, 13] += In[i, 4] * Weights[4, 13]\\n        Out[i, 13] += In[i, 5] * Weights[5, 13]\\n        Out[i, 13] += In[i, 6] * Weights[6, 13]\\n        Out[i, 13] += In[i, 7] * Weights[7, 13]\\n        Out[i, 13] += In[i, 8] * Weights[8, 13]\\n        Out[i, 13] += In[i, 9] * Weights[9, 13]\\n        Out[i, 13] += In[i, 10] * Weights[10, 13]\\n        Out[i, 13] += In[i, 11] * Weights[11, 13]\\n        Out[i, 13] += In[i, 12] * Weights[12, 13]\\n        Out[i, 13] += In[i, 13] * Weights[13, 13]\\n        Out[i, 13] += In[i, 14] * Weights[14, 13]\\n        Out[i, 13] += In[i, 15] * Weights[15, 13]\\n        Out[i, 14] += In[i, 0] * Weights[0, 14]\\n        Out[i, 14] += In[i, 1] * Weights[1, 14]\\n        Out[i, 14] += In[i, 2] * Weights[2, 14]\\n        Out[i, 14] += In[i, 3] * Weights[3, 14]\\n        Out[i, 14] += In[i, 4] * Weights[4, 14]\\n        Out[i, 14] += In[i, 5] * Weights[5, 14]\\n        Out[i, 14] += In[i, 6] * Weights[6, 14]\\n        Out[i, 14] += In[i, 7] * Weights[7, 14]\\n        Out[i, 14] += In[i, 8] * Weights[8, 14]\\n        Out[i, 14] += In[i, 9] * Weights[9, 14]\\n        Out[i, 14] += In[i, 10] * Weights[10, 14]\\n        Out[i, 14] += In[i, 11] * Weights[11, 14]\\n        Out[i, 14] += In[i, 12] * Weights[12, 14]\\n        Out[i, 14] += In[i, 13] * Weights[13, 14]\\n        Out[i, 14] += In[i, 14] * Weights[14, 14]\\n        Out[i, 14] += In[i, 15] * Weights[15, 14]\\n        Out[i, 15] += In[i, 0] * Weights[0, 15]\\n        Out[i, 15] += In[i, 1] * Weights[1, 15]\\n        Out[i, 15] += In[i, 2] * Weights[2, 15]\\n        Out[i, 15] += In[i, 3] * Weights[3, 15]\\n        Out[i, 15] += In[i, 4] * Weights[4, 15]\\n        Out[i, 15] += In[i, 5] * Weights[5, 15]\\n        Out[i, 15] += In[i, 6] * Weights[6, 15]\\n        Out[i, 15] += In[i, 7] * Weights[7, 15]\\n        Out[i, 15] += In[i, 8] * Weights[8, 15]\\n        Out[i, 15] += In[i, 9] * Weights[9, 15]\\n        Out[i, 15] += In[i, 10] * Weights[10, 15]\\n        Out[i, 15] += In[i, 11] * Weights[11, 15]\\n        Out[i, 15] += In[i, 12] * Weights[12, 15]\\n        Out[i, 15] += In[i, 13] * Weights[13, 15]\\n        Out[i, 15] += In[i, 14] * Weights[14, 15]\\n        Out[i, 15] += In[i, 15] * Weights[15, 15]'))\n",
      "((0.016037395826310363, 0.315140124489933, 'def generated_operation(In: i8[16, 16] @ DRAM, Weights: i8[16, 16] @ DRAM,\\n                        Out: i8[16, 16] @ DRAM):\\n    for i in seq(0, 16):\\n        OutStaged: i8[16 - 0, 16 - 0] @ DRAM\\n        for i0 in seq(0, 16 - 0):\\n            for i1 in seq(0, 16 - 0):\\n                OutStaged[i0, i1] = Out[i0 + 0, i1 + 0]\\n        for j in seq(0, 16):\\n            OutStaged[i - 0, j - 0] += In[i, 0] * Weights[0, j]\\n            OutStaged[i - 0, j - 0] += In[i, 1] * Weights[1, j]\\n            OutStaged[i - 0, j - 0] += In[i, 2] * Weights[2, j]\\n            OutStaged[i - 0, j - 0] += In[i, 3] * Weights[3, j]\\n            OutStaged[i - 0, j - 0] += In[i, 4] * Weights[4, j]\\n            OutStaged[i - 0, j - 0] += In[i, 5] * Weights[5, j]\\n            OutStaged[i - 0, j - 0] += In[i, 6] * Weights[6, j]\\n            OutStaged[i - 0, j - 0] += In[i, 7] * Weights[7, j]\\n            OutStaged[i - 0, j - 0] += In[i, 8] * Weights[8, j]\\n            OutStaged[i - 0, j - 0] += In[i, 9] * Weights[9, j]\\n            OutStaged[i - 0, j - 0] += In[i, 10] * Weights[10, j]\\n            OutStaged[i - 0, j - 0] += In[i, 11] * Weights[11, j]\\n            OutStaged[i - 0, j - 0] += In[i, 12] * Weights[12, j]\\n            OutStaged[i - 0, j - 0] += In[i, 13] * Weights[13, j]\\n            OutStaged[i - 0, j - 0] += In[i, 14] * Weights[14, j]\\n            OutStaged[i - 0, j - 0] += In[i, 15] * Weights[15, j]\\n        for i0 in seq(0, 16 - 0):\\n            for i1 in seq(0, 16 - 0):\\n                Out[i0 + 0, i1 + 0] = OutStaged[i0, i1]'),)\n",
      "((0.6816137588549238, 0.45037549427968704, 'def generated_operation(In: i8[16, 16] @ DRAM, Weights: i8[16, 16] @ DRAM,\\n                        Out: i8[16, 16] @ DRAM):\\n    for i in seq(0, 16):\\n        for j in seq(0, 16):\\n            Out[i, j] += In[i, 0] * Weights[0, j]\\n            Out[i, j] += In[i, 1] * Weights[1, j]\\n            Out[i, j] += In[i, 2] * Weights[2, j]\\n            Out[i, j] += In[i, 3] * Weights[3, j]\\n            Out[i, j] += In[i, 4] * Weights[4, j]\\n            Out[i, j] += In[i, 5] * Weights[5, j]\\n            Out[i, j] += In[i, 6] * Weights[6, j]\\n            Out[i, j] += In[i, 7] * Weights[7, j]\\n            Out[i, j] += In[i, 8] * Weights[8, j]\\n            Out[i, j] += In[i, 9] * Weights[9, j]\\n            Out[i, j] += In[i, 10] * Weights[10, j]\\n            Out[i, j] += In[i, 11] * Weights[11, j]\\n            Out[i, j] += In[i, 12] * Weights[12, j]\\n            Out[i, j] += In[i, 13] * Weights[13, j]\\n            Out[i, j] += In[i, 14] * Weights[14, j]\\n            Out[i, j] += In[i, 15] * Weights[15, j]'), (0.807033308623682, 0.15395190540552894, 'def generated_operation(In: i8[16, 16] @ DRAM, Weights: i8[16, 16] @ DRAM,\\n                        Out: i8[16, 16] @ DRAM):\\n    for i in seq(0, 16):\\n        for j in seq(0, 16):\\n            Out[i, j] += In[i, 0] * Weights[0, j]\\n            Out[i, j] += In[i, 1] * Weights[1, j]\\n            Out[i, j] += In[i, 2] * Weights[2, j]\\n            Out[i, j] += In[i, 3] * Weights[3, j]\\n            Out[i, j] += In[i, 4] * Weights[4, j]\\n            Out[i, j] += In[i, 5] * Weights[5, j]\\n            Out[i, j] += In[i, 6] * Weights[6, j]\\n            Out[i, j] += In[i, 7] * Weights[7, j]\\n            Out[i, j] += In[i, 8] * Weights[8, j]\\n            Out[i, j] += In[i, 9] * Weights[9, j]\\n            Out[i, j] += In[i, 10] * Weights[10, j]\\n            Out[i, j] += In[i, 11] * Weights[11, j]\\n            Out[i, j] += In[i, 12] * Weights[12, j]\\n            Out[i, j] += In[i, 13] * Weights[13, j]\\n            Out[i, j] += In[i, 14] * Weights[14, j]\\n            Out[i, j] += In[i, 15] * Weights[15, j]'), (0.8264772943483434, 0.8028730236171118, 'def generated_operation(In: i8[16, 16] @ DRAM, Weights: i8[16, 16] @ DRAM,\\n                        Out: i8[16, 16] @ DRAM):\\n    for i in seq(0, 16):\\n        for j_out in seq(0, 16 / 12):\\n            for j_in in seq(0, 12):\\n                Out[i, 12 * j_out +\\n                    j_in] += In[i, 0] * Weights[0, 12 * j_out + j_in]\\n                Out[i, 12 * j_out +\\n                    j_in] += In[i, 1] * Weights[1, 12 * j_out + j_in]\\n                Out[i, 12 * j_out +\\n                    j_in] += In[i, 2] * Weights[2, 12 * j_out + j_in]\\n                Out[i, 12 * j_out +\\n                    j_in] += In[i, 3] * Weights[3, 12 * j_out + j_in]\\n                Out[i, 12 * j_out +\\n                    j_in] += In[i, 4] * Weights[4, 12 * j_out + j_in]\\n                Out[i, 12 * j_out +\\n                    j_in] += In[i, 5] * Weights[5, 12 * j_out + j_in]\\n                Out[i, 12 * j_out +\\n                    j_in] += In[i, 6] * Weights[6, 12 * j_out + j_in]\\n                Out[i, 12 * j_out +\\n                    j_in] += In[i, 7] * Weights[7, 12 * j_out + j_in]\\n                Out[i, 12 * j_out +\\n                    j_in] += In[i, 8] * Weights[8, 12 * j_out + j_in]\\n                Out[i, 12 * j_out +\\n                    j_in] += In[i, 9] * Weights[9, 12 * j_out + j_in]\\n                Out[i, 12 * j_out +\\n                    j_in] += In[i, 10] * Weights[10, 12 * j_out + j_in]\\n                Out[i, 12 * j_out +\\n                    j_in] += In[i, 11] * Weights[11, 12 * j_out + j_in]\\n                Out[i, 12 * j_out +\\n                    j_in] += In[i, 12] * Weights[12, 12 * j_out + j_in]\\n                Out[i, 12 * j_out +\\n                    j_in] += In[i, 13] * Weights[13, 12 * j_out + j_in]\\n                Out[i, 12 * j_out +\\n                    j_in] += In[i, 14] * Weights[14, 12 * j_out + j_in]\\n                Out[i, 12 * j_out +\\n                    j_in] += In[i, 15] * Weights[15, 12 * j_out + j_in]\\n        for j_in in seq(0, 16 % 12):\\n            Out[i, j_in +\\n                16 / 12 * 12] += In[i, 0] * Weights[0, j_in + 16 / 12 * 12]\\n            Out[i, j_in +\\n                16 / 12 * 12] += In[i, 1] * Weights[1, j_in + 16 / 12 * 12]\\n            Out[i, j_in +\\n                16 / 12 * 12] += In[i, 2] * Weights[2, j_in + 16 / 12 * 12]\\n            Out[i, j_in +\\n                16 / 12 * 12] += In[i, 3] * Weights[3, j_in + 16 / 12 * 12]\\n            Out[i, j_in +\\n                16 / 12 * 12] += In[i, 4] * Weights[4, j_in + 16 / 12 * 12]\\n            Out[i, j_in +\\n                16 / 12 * 12] += In[i, 5] * Weights[5, j_in + 16 / 12 * 12]\\n            Out[i, j_in +\\n                16 / 12 * 12] += In[i, 6] * Weights[6, j_in + 16 / 12 * 12]\\n            Out[i, j_in +\\n                16 / 12 * 12] += In[i, 7] * Weights[7, j_in + 16 / 12 * 12]\\n            Out[i, j_in +\\n                16 / 12 * 12] += In[i, 8] * Weights[8, j_in + 16 / 12 * 12]\\n            Out[i, j_in +\\n                16 / 12 * 12] += In[i, 9] * Weights[9, j_in + 16 / 12 * 12]\\n            Out[i, j_in +\\n                16 / 12 * 12] += In[i, 10] * Weights[10, j_in + 16 / 12 * 12]\\n            Out[i, j_in +\\n                16 / 12 * 12] += In[i, 11] * Weights[11, j_in + 16 / 12 * 12]\\n            Out[i, j_in +\\n                16 / 12 * 12] += In[i, 12] * Weights[12, j_in + 16 / 12 * 12]\\n            Out[i, j_in +\\n                16 / 12 * 12] += In[i, 13] * Weights[13, j_in + 16 / 12 * 12]\\n            Out[i, j_in +\\n                16 / 12 * 12] += In[i, 14] * Weights[14, j_in + 16 / 12 * 12]\\n            Out[i, j_in +\\n                16 / 12 * 12] += In[i, 15] * Weights[15, j_in + 16 / 12 * 12]'), (0.9838211130291653, 0.6026520703881174, 'def generated_operation(In: i8[16, 16] @ DRAM, Weights: i8[16, 16] @ DRAM,\\n                        Out: i8[16, 16] @ DRAM):\\n    for i in seq(0, 16):\\n        for j_out in seq(0, 16 / 12):\\n            for j_in in seq(0, 12):\\n                Out[i, 12 * j_out +\\n                    j_in] += In[i, 0] * Weights[0, 12 * j_out + j_in]\\n                Out[i, 12 * j_out +\\n                    j_in] += In[i, 1] * Weights[1, 12 * j_out + j_in]\\n                Out[i, 12 * j_out +\\n                    j_in] += In[i, 2] * Weights[2, 12 * j_out + j_in]\\n                Out[i, 12 * j_out +\\n                    j_in] += In[i, 3] * Weights[3, 12 * j_out + j_in]\\n                Out[i, 12 * j_out +\\n                    j_in] += In[i, 4] * Weights[4, 12 * j_out + j_in]\\n                Out[i, 12 * j_out +\\n                    j_in] += In[i, 5] * Weights[5, 12 * j_out + j_in]\\n                Out[i, 12 * j_out +\\n                    j_in] += In[i, 6] * Weights[6, 12 * j_out + j_in]\\n                Out[i, 12 * j_out +\\n                    j_in] += In[i, 7] * Weights[7, 12 * j_out + j_in]\\n                Out[i, 12 * j_out +\\n                    j_in] += In[i, 8] * Weights[8, 12 * j_out + j_in]\\n                Out[i, 12 * j_out +\\n                    j_in] += In[i, 9] * Weights[9, 12 * j_out + j_in]\\n                Out[i, 12 * j_out +\\n                    j_in] += In[i, 10] * Weights[10, 12 * j_out + j_in]\\n                Out[i, 12 * j_out +\\n                    j_in] += In[i, 11] * Weights[11, 12 * j_out + j_in]\\n                Out[i, 12 * j_out +\\n                    j_in] += In[i, 12] * Weights[12, 12 * j_out + j_in]\\n                Out[i, 12 * j_out +\\n                    j_in] += In[i, 13] * Weights[13, 12 * j_out + j_in]\\n                Out[i, 12 * j_out +\\n                    j_in] += In[i, 14] * Weights[14, 12 * j_out + j_in]\\n                Out[i, 12 * j_out +\\n                    j_in] += In[i, 15] * Weights[15, 12 * j_out + j_in]\\n        for j_in in seq(0, 16 % 12):\\n            Out[i, j_in +\\n                16 / 12 * 12] += In[i, 0] * Weights[0, j_in + 16 / 12 * 12]\\n            Out[i, j_in +\\n                16 / 12 * 12] += In[i, 1] * Weights[1, j_in + 16 / 12 * 12]\\n            Out[i, j_in +\\n                16 / 12 * 12] += In[i, 2] * Weights[2, j_in + 16 / 12 * 12]\\n            Out[i, j_in +\\n                16 / 12 * 12] += In[i, 3] * Weights[3, j_in + 16 / 12 * 12]\\n            Out[i, j_in +\\n                16 / 12 * 12] += In[i, 4] * Weights[4, j_in + 16 / 12 * 12]\\n            Out[i, j_in +\\n                16 / 12 * 12] += In[i, 5] * Weights[5, j_in + 16 / 12 * 12]\\n            Out[i, j_in +\\n                16 / 12 * 12] += In[i, 6] * Weights[6, j_in + 16 / 12 * 12]\\n            Out[i, j_in +\\n                16 / 12 * 12] += In[i, 7] * Weights[7, j_in + 16 / 12 * 12]\\n            Out[i, j_in +\\n                16 / 12 * 12] += In[i, 8] * Weights[8, j_in + 16 / 12 * 12]\\n            Out[i, j_in +\\n                16 / 12 * 12] += In[i, 9] * Weights[9, j_in + 16 / 12 * 12]\\n            Out[i, j_in +\\n                16 / 12 * 12] += In[i, 10] * Weights[10, j_in + 16 / 12 * 12]\\n            Out[i, j_in +\\n                16 / 12 * 12] += In[i, 11] * Weights[11, j_in + 16 / 12 * 12]\\n            Out[i, j_in +\\n                16 / 12 * 12] += In[i, 12] * Weights[12, j_in + 16 / 12 * 12]\\n            Out[i, j_in +\\n                16 / 12 * 12] += In[i, 13] * Weights[13, j_in + 16 / 12 * 12]\\n            Out[i, j_in +\\n                16 / 12 * 12] += In[i, 14] * Weights[14, j_in + 16 / 12 * 12]\\n            Out[i, j_in +\\n                16 / 12 * 12] += In[i, 15] * Weights[15, j_in + 16 / 12 * 12]'))\n",
      "((0.5872492456176199, 0.17885936268773917, 'def generated_operation(In: i8[16, 16] @ DRAM, Weights: i8[16, 16] @ DRAM,\\n                        Out: i8[16, 16] @ DRAM):\\n    for i in seq(0, 16):\\n        for j_out in seq(0, 16 / 12):\\n            for j_in in seq(0, 12):\\n                Out[i, 12 * j_out +\\n                    j_in] += In[i, 0] * Weights[0, 12 * j_out + j_in]\\n                Out[i, 12 * j_out +\\n                    j_in] += In[i, 1] * Weights[1, 12 * j_out + j_in]\\n                Out[i, 12 * j_out +\\n                    j_in] += In[i, 2] * Weights[2, 12 * j_out + j_in]\\n                Out[i, 12 * j_out +\\n                    j_in] += In[i, 3] * Weights[3, 12 * j_out + j_in]\\n                Out[i, 12 * j_out +\\n                    j_in] += In[i, 4] * Weights[4, 12 * j_out + j_in]\\n                Out[i, 12 * j_out +\\n                    j_in] += In[i, 5] * Weights[5, 12 * j_out + j_in]\\n                Out[i, 12 * j_out +\\n                    j_in] += In[i, 6] * Weights[6, 12 * j_out + j_in]\\n                Out[i, 12 * j_out +\\n                    j_in] += In[i, 7] * Weights[7, 12 * j_out + j_in]\\n                Out[i, 12 * j_out +\\n                    j_in] += In[i, 8] * Weights[8, 12 * j_out + j_in]\\n                Out[i, 12 * j_out +\\n                    j_in] += In[i, 9] * Weights[9, 12 * j_out + j_in]\\n                Out[i, 12 * j_out +\\n                    j_in] += In[i, 10] * Weights[10, 12 * j_out + j_in]\\n                Out[i, 12 * j_out +\\n                    j_in] += In[i, 11] * Weights[11, 12 * j_out + j_in]\\n                Out[i, 12 * j_out +\\n                    j_in] += In[i, 12] * Weights[12, 12 * j_out + j_in]\\n                Out[i, 12 * j_out +\\n                    j_in] += In[i, 13] * Weights[13, 12 * j_out + j_in]\\n                Out[i, 12 * j_out +\\n                    j_in] += In[i, 14] * Weights[14, 12 * j_out + j_in]\\n                Out[i, 12 * j_out +\\n                    j_in] += In[i, 15] * Weights[15, 12 * j_out + j_in]\\n        for j_in in seq(0, 16 % 12):\\n            Out[i, j_in +\\n                16 / 12 * 12] += In[i, 0] * Weights[0, j_in + 16 / 12 * 12]\\n            Out[i, j_in +\\n                16 / 12 * 12] += In[i, 1] * Weights[1, j_in + 16 / 12 * 12]\\n            Out[i, j_in +\\n                16 / 12 * 12] += In[i, 2] * Weights[2, j_in + 16 / 12 * 12]\\n            Out[i, j_in +\\n                16 / 12 * 12] += In[i, 3] * Weights[3, j_in + 16 / 12 * 12]\\n            Out[i, j_in +\\n                16 / 12 * 12] += In[i, 4] * Weights[4, j_in + 16 / 12 * 12]\\n            Out[i, j_in +\\n                16 / 12 * 12] += In[i, 5] * Weights[5, j_in + 16 / 12 * 12]\\n            Out[i, j_in +\\n                16 / 12 * 12] += In[i, 6] * Weights[6, j_in + 16 / 12 * 12]\\n            Out[i, j_in +\\n                16 / 12 * 12] += In[i, 7] * Weights[7, j_in + 16 / 12 * 12]\\n            Out[i, j_in +\\n                16 / 12 * 12] += In[i, 8] * Weights[8, j_in + 16 / 12 * 12]\\n            Out[i, j_in +\\n                16 / 12 * 12] += In[i, 9] * Weights[9, j_in + 16 / 12 * 12]\\n            Out[i, j_in +\\n                16 / 12 * 12] += In[i, 10] * Weights[10, j_in + 16 / 12 * 12]\\n            Out[i, j_in +\\n                16 / 12 * 12] += In[i, 11] * Weights[11, j_in + 16 / 12 * 12]\\n            Out[i, j_in +\\n                16 / 12 * 12] += In[i, 12] * Weights[12, j_in + 16 / 12 * 12]\\n            Out[i, j_in +\\n                16 / 12 * 12] += In[i, 13] * Weights[13, j_in + 16 / 12 * 12]\\n            Out[i, j_in +\\n                16 / 12 * 12] += In[i, 14] * Weights[14, j_in + 16 / 12 * 12]\\n            Out[i, j_in +\\n                16 / 12 * 12] += In[i, 15] * Weights[15, j_in + 16 / 12 * 12]'),)\n",
      "((0.256142464737381, 0.21691155185079403, 'def generated_operation(In: i8[16, 16] @ DRAM, Weights: i8[16, 16] @ DRAM,\\n                        Out: i8[16, 16] @ DRAM):\\n    for i in seq(0, 16):\\n        for j in seq(0, 16):\\n            Out[i, j] += In[i, 0] * Weights[0, j]\\n            Out[i, j] += In[i, 1] * Weights[1, j]\\n            Out[i, j] += In[i, 2] * Weights[2, j]\\n            Out[i, j] += In[i, 3] * Weights[3, j]\\n            Out[i, j] += In[i, 4] * Weights[4, j]\\n            Out[i, j] += In[i, 5] * Weights[5, j]\\n            Out[i, j] += In[i, 6] * Weights[6, j]\\n            Out[i, j] += In[i, 7] * Weights[7, j]\\n            Out[i, j] += In[i, 8] * Weights[8, j]\\n            Out[i, j] += In[i, 9] * Weights[9, j]\\n            Out[i, j] += In[i, 10] * Weights[10, j]\\n            Out[i, j] += In[i, 11] * Weights[11, j]\\n            Out[i, j] += In[i, 12] * Weights[12, j]\\n            Out[i, j] += In[i, 13] * Weights[13, j]\\n            Out[i, j] += In[i, 14] * Weights[14, j]\\n            Out[i, j] += In[i, 15] * Weights[15, j]'), (0.9849546761427646, 0.17482228330326044, 'def generated_operation(In: i8[16, 16] @ DRAM, Weights: i8[16, 16] @ DRAM,\\n                        Out: i8[16, 16] @ DRAM):\\n    for i in seq(0, 16):\\n        for j in seq(0, 16):\\n            Out[i, j] += In[i, 0] * Weights[0, j]\\n            Out[i, j] += In[i, 1] * Weights[1, j]\\n            Out[i, j] += In[i, 2] * Weights[2, j]\\n            Out[i, j] += In[i, 3] * Weights[3, j]\\n            Out[i, j] += In[i, 4] * Weights[4, j]\\n            Out[i, j] += In[i, 5] * Weights[5, j]\\n            Out[i, j] += In[i, 6] * Weights[6, j]\\n            Out[i, j] += In[i, 7] * Weights[7, j]\\n            Out[i, j] += In[i, 8] * Weights[8, j]\\n            Out[i, j] += In[i, 9] * Weights[9, j]\\n            Out[i, j] += In[i, 10] * Weights[10, j]\\n            Out[i, j] += In[i, 11] * Weights[11, j]\\n            Out[i, j] += In[i, 12] * Weights[12, j]\\n            Out[i, j] += In[i, 13] * Weights[13, j]\\n            Out[i, j] += In[i, 14] * Weights[14, j]\\n            Out[i, j] += In[i, 15] * Weights[15, j]'))\n",
      "((0.04687927520649182, 0.9018373133777954, 'def generated_operation(In: i8[16, 16] @ DRAM, Weights: i8[16, 16] @ DRAM,\\n                        Out: i8[16, 16] @ DRAM):\\n    for i in seq(0, 16):\\n        for j in seq(0, 16):\\n            Out[i, j] += In[i, 0] * Weights[0, j]\\n            Out[i, j] += In[i, 1] * Weights[1, j]\\n            Out[i, j] += In[i, 2] * Weights[2, j]\\n            Out[i, j] += In[i, 3] * Weights[3, j]\\n            Out[i, j] += In[i, 4] * Weights[4, j]\\n            Out[i, j] += In[i, 5] * Weights[5, j]\\n            Out[i, j] += In[i, 6] * Weights[6, j]\\n            Out[i, j] += In[i, 7] * Weights[7, j]\\n            Out[i, j] += In[i, 8] * Weights[8, j]\\n            Out[i, j] += In[i, 9] * Weights[9, j]\\n            Out[i, j] += In[i, 10] * Weights[10, j]\\n            Out[i, j] += In[i, 11] * Weights[11, j]\\n            Out[i, j] += In[i, 12] * Weights[12, j]\\n            Out[i, j] += In[i, 13] * Weights[13, j]\\n            Out[i, j] += In[i, 14] * Weights[14, j]\\n            Out[i, j] += In[i, 15] * Weights[15, j]'),)\n",
      "((0.016037395826310363, 0.315140124489933, 'def generated_operation(In: i8[16, 16] @ DRAM, Weights: i8[16, 16] @ DRAM,\\n                        Out: i8[16, 16] @ DRAM):\\n    for i in seq(0, 16):\\n        OutStaged: i8[16 - 0, 16 - 0] @ DRAM\\n        for i0 in seq(0, 16 - 0):\\n            for i1 in seq(0, 16 - 0):\\n                OutStaged[i0, i1] = Out[i0 + 0, i1 + 0]\\n        for j in seq(0, 16):\\n            OutStaged[i - 0, j - 0] += In[i, 0] * Weights[0, j]\\n            OutStaged[i - 0, j - 0] += In[i, 1] * Weights[1, j]\\n            OutStaged[i - 0, j - 0] += In[i, 2] * Weights[2, j]\\n            OutStaged[i - 0, j - 0] += In[i, 3] * Weights[3, j]\\n            OutStaged[i - 0, j - 0] += In[i, 4] * Weights[4, j]\\n            OutStaged[i - 0, j - 0] += In[i, 5] * Weights[5, j]\\n            OutStaged[i - 0, j - 0] += In[i, 6] * Weights[6, j]\\n            OutStaged[i - 0, j - 0] += In[i, 7] * Weights[7, j]\\n            OutStaged[i - 0, j - 0] += In[i, 8] * Weights[8, j]\\n            OutStaged[i - 0, j - 0] += In[i, 9] * Weights[9, j]\\n            OutStaged[i - 0, j - 0] += In[i, 10] * Weights[10, j]\\n            OutStaged[i - 0, j - 0] += In[i, 11] * Weights[11, j]\\n            OutStaged[i - 0, j - 0] += In[i, 12] * Weights[12, j]\\n            OutStaged[i - 0, j - 0] += In[i, 13] * Weights[13, j]\\n            OutStaged[i - 0, j - 0] += In[i, 14] * Weights[14, j]\\n            OutStaged[i - 0, j - 0] += In[i, 15] * Weights[15, j]\\n        for i0 in seq(0, 16 - 0):\\n            for i1 in seq(0, 16 - 0):\\n                Out[i0 + 0, i1 + 0] = OutStaged[i0, i1]'),)\n",
      "expanding node 3\n",
      "((0.19311147118007954, 0.750052619496206, 'def generated_operation(In: i8[16, 16] @ DRAM, Weights: i8[16, 16] @ DRAM,\\n                        Out: i8[16, 16] @ DRAM):\\n    for i in seq(0, 16):\\n        OutStaged: i8[16 - 0, 16 - 0] @ DRAM\\n        for i0 in seq(0, 16 - 0):\\n            for i1 in seq(0, 16 - 0):\\n                OutStaged[i0, i1] = Out[i0 + 0, i1 + 0]\\n        for j in seq(0, 16):\\n            OutStaged[i - 0, j - 0] += In[i, 0] * Weights[0, j]\\n            OutStaged[i - 0, j - 0] += In[i, 1] * Weights[1, j]\\n            OutStaged[i - 0, j - 0] += In[i, 2] * Weights[2, j]\\n            OutStaged[i - 0, j - 0] += In[i, 3] * Weights[3, j]\\n            OutStaged[i - 0, j - 0] += In[i, 4] * Weights[4, j]\\n            OutStaged[i - 0, j - 0] += In[i, 5] * Weights[5, j]\\n            OutStaged[i - 0, j - 0] += In[i, 6] * Weights[6, j]\\n            OutStaged[i - 0, j - 0] += In[i, 7] * Weights[7, j]\\n            OutStaged[i - 0, j - 0] += In[i, 8] * Weights[8, j]\\n            OutStaged[i - 0, j - 0] += In[i, 9] * Weights[9, j]\\n            OutStaged[i - 0, j - 0] += In[i, 10] * Weights[10, j]\\n            OutStaged[i - 0, j - 0] += In[i, 11] * Weights[11, j]\\n            OutStaged[i - 0, j - 0] += In[i, 12] * Weights[12, j]\\n            OutStaged[i - 0, j - 0] += In[i, 13] * Weights[13, j]\\n            OutStaged[i - 0, j - 0] += In[i, 14] * Weights[14, j]\\n            OutStaged[i - 0, j - 0] += In[i, 15] * Weights[15, j]\\n        for i0 in seq(0, 16 - 0):\\n            for i1 in seq(0, 16 - 0):\\n                Out[i0 + 0, i1 + 0] = OutStaged[i0, i1]'),)\n",
      "went to a thing\n",
      "WARNING: Encountered <<<unknown directive>>>: expected loop 'i1' to have constant bounds\n",
      "WARNING: Encountered <<<unknown directive>>>: expected loop 'i1' to have constant bounds\n",
      "WARNING: Encountered <<<unknown directive>>>: expected loop 'i1' to have constant bounds\n",
      "WARNING: Encountered <<<unknown directive>>>: expected loop 'i1' to have constant bounds\n",
      "WARNING: Encountered <<<unknown directive>>>: expected loop 'i1' to have constant bounds\n",
      "WARNING: Encountered <<<unknown directive>>>: expected loop 'i1' to have constant bounds\n",
      "((0.7214588900774983, 1.0042739244747292, 'def generated_operation(In: i8[16, 16] @ DRAM, Weights: i8[16, 16] @ DRAM,\\n                        Out: i8[16, 16] @ DRAM):\\n    for i in seq(0, 16):\\n        OutStaged: i8[16 - 0, 16 - 0] @ DRAM\\n        for i0 in seq(0, 16 - 0):\\n            for j_out in seq(0, (16 - 0) / 12):\\n                for j_in in seq(0, 12):\\n                    OutStaged[i0,\\n                              12 * j_out + j_in] = Out[i0 + 0,\\n                                                       12 * j_out + j_in + 0]\\n            for j_in in seq(0, (16 - 0) % 12):\\n                OutStaged[i0, j_in +\\n                          (16 - 0) / 12 * 12] = Out[i0 + 0, j_in +\\n                                                    (16 - 0) / 12 * 12 + 0]\\n        for j in seq(0, 16):\\n            OutStaged[i - 0, j - 0] += In[i, 0] * Weights[0, j]\\n            OutStaged[i - 0, j - 0] += In[i, 1] * Weights[1, j]\\n            OutStaged[i - 0, j - 0] += In[i, 2] * Weights[2, j]\\n            OutStaged[i - 0, j - 0] += In[i, 3] * Weights[3, j]\\n            OutStaged[i - 0, j - 0] += In[i, 4] * Weights[4, j]\\n            OutStaged[i - 0, j - 0] += In[i, 5] * Weights[5, j]\\n            OutStaged[i - 0, j - 0] += In[i, 6] * Weights[6, j]\\n            OutStaged[i - 0, j - 0] += In[i, 7] * Weights[7, j]\\n            OutStaged[i - 0, j - 0] += In[i, 8] * Weights[8, j]\\n            OutStaged[i - 0, j - 0] += In[i, 9] * Weights[9, j]\\n            OutStaged[i - 0, j - 0] += In[i, 10] * Weights[10, j]\\n            OutStaged[i - 0, j - 0] += In[i, 11] * Weights[11, j]\\n            OutStaged[i - 0, j - 0] += In[i, 12] * Weights[12, j]\\n            OutStaged[i - 0, j - 0] += In[i, 13] * Weights[13, j]\\n            OutStaged[i - 0, j - 0] += In[i, 14] * Weights[14, j]\\n            OutStaged[i - 0, j - 0] += In[i, 15] * Weights[15, j]\\n        for i0 in seq(0, 16 - 0):\\n            for i1 in seq(0, 16 - 0):\\n                Out[i0 + 0, i1 + 0] = OutStaged[i0, i1]'), (0.7242668708945562, 0.9748204128545355, 'def generated_operation(In: i8[16, 16] @ DRAM, Weights: i8[16, 16] @ DRAM,\\n                        Out: i8[16, 16] @ DRAM):\\n    for i in seq(0, 16):\\n        OutStaged: i8[16 - 0, 16 - 0] @ DRAM\\n        for i1 in seq(0, 16 - 0):\\n            for i0 in seq(0, 16 - 0):\\n                OutStaged[i0, i1] = Out[i0 + 0, i1 + 0]\\n        for j in seq(0, 16):\\n            OutStaged[i - 0, j - 0] += In[i, 0] * Weights[0, j]\\n            OutStaged[i - 0, j - 0] += In[i, 1] * Weights[1, j]\\n            OutStaged[i - 0, j - 0] += In[i, 2] * Weights[2, j]\\n            OutStaged[i - 0, j - 0] += In[i, 3] * Weights[3, j]\\n            OutStaged[i - 0, j - 0] += In[i, 4] * Weights[4, j]\\n            OutStaged[i - 0, j - 0] += In[i, 5] * Weights[5, j]\\n            OutStaged[i - 0, j - 0] += In[i, 6] * Weights[6, j]\\n            OutStaged[i - 0, j - 0] += In[i, 7] * Weights[7, j]\\n            OutStaged[i - 0, j - 0] += In[i, 8] * Weights[8, j]\\n            OutStaged[i - 0, j - 0] += In[i, 9] * Weights[9, j]\\n            OutStaged[i - 0, j - 0] += In[i, 10] * Weights[10, j]\\n            OutStaged[i - 0, j - 0] += In[i, 11] * Weights[11, j]\\n            OutStaged[i - 0, j - 0] += In[i, 12] * Weights[12, j]\\n            OutStaged[i - 0, j - 0] += In[i, 13] * Weights[13, j]\\n            OutStaged[i - 0, j - 0] += In[i, 14] * Weights[14, j]\\n            OutStaged[i - 0, j - 0] += In[i, 15] * Weights[15, j]\\n        for i0 in seq(0, 16 - 0):\\n            for i1 in seq(0, 16 - 0):\\n                Out[i0 + 0, i1 + 0] = OutStaged[i0, i1]'), (0.9459989894230476, 0.6100855231403081, 'def generated_operation(In: i8[16, 16] @ DRAM, Weights: i8[16, 16] @ DRAM,\\n                        Out: i8[16, 16] @ DRAM):\\n    for i in seq(0, 16):\\n        OutStaged: i8[16 - 0, 16 - 0] @ DRAM\\n        for i0 in seq(0, 16 - 0):\\n            for j_out in seq(0, (16 - 0) / 12):\\n                for j_in in seq(0, 12):\\n                    OutStaged[i0,\\n                              12 * j_out + j_in] = Out[i0 + 0,\\n                                                       12 * j_out + j_in + 0]\\n            for j_in in seq(0, (16 - 0) % 12):\\n                OutStaged[i0, j_in +\\n                          (16 - 0) / 12 * 12] = Out[i0 + 0, j_in +\\n                                                    (16 - 0) / 12 * 12 + 0]\\n        for j in seq(0, 16):\\n            OutStaged[i - 0, j - 0] += In[i, 0] * Weights[0, j]\\n            OutStaged[i - 0, j - 0] += In[i, 1] * Weights[1, j]\\n            OutStaged[i - 0, j - 0] += In[i, 2] * Weights[2, j]\\n            OutStaged[i - 0, j - 0] += In[i, 3] * Weights[3, j]\\n            OutStaged[i - 0, j - 0] += In[i, 4] * Weights[4, j]\\n            OutStaged[i - 0, j - 0] += In[i, 5] * Weights[5, j]\\n            OutStaged[i - 0, j - 0] += In[i, 6] * Weights[6, j]\\n            OutStaged[i - 0, j - 0] += In[i, 7] * Weights[7, j]\\n            OutStaged[i - 0, j - 0] += In[i, 8] * Weights[8, j]\\n            OutStaged[i - 0, j - 0] += In[i, 9] * Weights[9, j]\\n            OutStaged[i - 0, j - 0] += In[i, 10] * Weights[10, j]\\n            OutStaged[i - 0, j - 0] += In[i, 11] * Weights[11, j]\\n            OutStaged[i - 0, j - 0] += In[i, 12] * Weights[12, j]\\n            OutStaged[i - 0, j - 0] += In[i, 13] * Weights[13, j]\\n            OutStaged[i - 0, j - 0] += In[i, 14] * Weights[14, j]\\n            OutStaged[i - 0, j - 0] += In[i, 15] * Weights[15, j]\\n        for i0 in seq(0, 16 - 0):\\n            for i1 in seq(0, 16 - 0):\\n                Out[i0 + 0, i1 + 0] = OutStaged[i0, i1]'), (0.9797921976090469, 0.9366408547606833, 'def generated_operation(In: i8[16, 16] @ DRAM, Weights: i8[16, 16] @ DRAM,\\n                        Out: i8[16, 16] @ DRAM):\\n    for i in seq(0, 16):\\n        OutStaged: i8[16 - 0, 16 - 0] @ DRAM\\n        for i0 in seq(0, 16 - 0):\\n            for i1 in seq(0, 16 - 0):\\n                OutStaged[i0, i1] = Out[i0 + 0, i1 + 0]\\n        for j in seq(0, 16):\\n            OutStaged[i - 0, j - 0] += In[i, 0] * Weights[0, j]\\n            OutStaged[i - 0, j - 0] += In[i, 1] * Weights[1, j]\\n            OutStaged[i - 0, j - 0] += In[i, 2] * Weights[2, j]\\n            OutStaged[i - 0, j - 0] += In[i, 3] * Weights[3, j]\\n            OutStaged[i - 0, j - 0] += In[i, 4] * Weights[4, j]\\n            OutStaged[i - 0, j - 0] += In[i, 5] * Weights[5, j]\\n            OutStaged[i - 0, j - 0] += In[i, 6] * Weights[6, j]\\n            OutStaged[i - 0, j - 0] += In[i, 7] * Weights[7, j]\\n            OutStaged[i - 0, j - 0] += In[i, 8] * Weights[8, j]\\n            OutStaged[i - 0, j - 0] += In[i, 9] * Weights[9, j]\\n            OutStaged[i - 0, j - 0] += In[i, 10] * Weights[10, j]\\n            OutStaged[i - 0, j - 0] += In[i, 11] * Weights[11, j]\\n            OutStaged[i - 0, j - 0] += In[i, 12] * Weights[12, j]\\n            OutStaged[i - 0, j - 0] += In[i, 13] * Weights[13, j]\\n            OutStaged[i - 0, j - 0] += In[i, 14] * Weights[14, j]\\n            OutStaged[i - 0, j - 0] += In[i, 15] * Weights[15, j]\\n        for i0 in seq(0, 16 - 0):\\n            for i1 in seq(0, 16 - 0):\\n                Out[i0 + 0, i1 + 0] = OutStaged[i0, i1]'))\n",
      "((0.15650988517680697, 0.16400658047323446, 'def generated_operation(In: i8[16, 16] @ DRAM, Weights: i8[16, 16] @ DRAM,\\n                        Out: i8[16, 16] @ DRAM):\\n    for i in seq(0, 16):\\n        OutStaged: i8[16 - 0, 16 - 0] @ DRAM\\n        for i0 in seq(0, 16 - 0):\\n            for j_out in seq(0, (16 - 0) / 12):\\n                for j_in in seq(0, 12):\\n                    OutStaged[i0,\\n                              12 * j_out + j_in] = Out[i0 + 0,\\n                                                       12 * j_out + j_in + 0]\\n            for j_in in seq(0, (16 - 0) % 12):\\n                OutStaged[i0, j_in +\\n                          (16 - 0) / 12 * 12] = Out[i0 + 0, j_in +\\n                                                    (16 - 0) / 12 * 12 + 0]\\n        for j in seq(0, 16):\\n            OutStaged[i - 0, j - 0] += In[i, 0] * Weights[0, j]\\n            OutStaged[i - 0, j - 0] += In[i, 1] * Weights[1, j]\\n            OutStaged[i - 0, j - 0] += In[i, 2] * Weights[2, j]\\n            OutStaged[i - 0, j - 0] += In[i, 3] * Weights[3, j]\\n            OutStaged[i - 0, j - 0] += In[i, 4] * Weights[4, j]\\n            OutStaged[i - 0, j - 0] += In[i, 5] * Weights[5, j]\\n            OutStaged[i - 0, j - 0] += In[i, 6] * Weights[6, j]\\n            OutStaged[i - 0, j - 0] += In[i, 7] * Weights[7, j]\\n            OutStaged[i - 0, j - 0] += In[i, 8] * Weights[8, j]\\n            OutStaged[i - 0, j - 0] += In[i, 9] * Weights[9, j]\\n            OutStaged[i - 0, j - 0] += In[i, 10] * Weights[10, j]\\n            OutStaged[i - 0, j - 0] += In[i, 11] * Weights[11, j]\\n            OutStaged[i - 0, j - 0] += In[i, 12] * Weights[12, j]\\n            OutStaged[i - 0, j - 0] += In[i, 13] * Weights[13, j]\\n            OutStaged[i - 0, j - 0] += In[i, 14] * Weights[14, j]\\n            OutStaged[i - 0, j - 0] += In[i, 15] * Weights[15, j]\\n        for i0 in seq(0, 16 - 0):\\n            for i1 in seq(0, 16 - 0):\\n                Out[i0 + 0, i1 + 0] = OutStaged[i0, i1]'),)\n",
      "((0.12463885198313207, 0.5558720909159665, 'def generated_operation(In: i8[16, 16] @ DRAM, Weights: i8[16, 16] @ DRAM,\\n                        Out: i8[16, 16] @ DRAM):\\n    for i in seq(0, 16):\\n        OutStaged: i8[16 - 0, 16 - 0] @ DRAM\\n        for i0 in seq(0, 16 - 0):\\n            for i1 in seq(0, 16 - 0):\\n                OutStaged[i0, i1] = Out[i0 + 0, i1 + 0]\\n        for j in seq(0, 16):\\n            OutStaged[i - 0, j - 0] += In[i, 0] * Weights[0, j]\\n            OutStaged[i - 0, j - 0] += In[i, 1] * Weights[1, j]\\n            OutStaged[i - 0, j - 0] += In[i, 2] * Weights[2, j]\\n            OutStaged[i - 0, j - 0] += In[i, 3] * Weights[3, j]\\n            OutStaged[i - 0, j - 0] += In[i, 4] * Weights[4, j]\\n            OutStaged[i - 0, j - 0] += In[i, 5] * Weights[5, j]\\n            OutStaged[i - 0, j - 0] += In[i, 6] * Weights[6, j]\\n            OutStaged[i - 0, j - 0] += In[i, 7] * Weights[7, j]\\n            OutStaged[i - 0, j - 0] += In[i, 8] * Weights[8, j]\\n            OutStaged[i - 0, j - 0] += In[i, 9] * Weights[9, j]\\n            OutStaged[i - 0, j - 0] += In[i, 10] * Weights[10, j]\\n            OutStaged[i - 0, j - 0] += In[i, 11] * Weights[11, j]\\n            OutStaged[i - 0, j - 0] += In[i, 12] * Weights[12, j]\\n            OutStaged[i - 0, j - 0] += In[i, 13] * Weights[13, j]\\n            OutStaged[i - 0, j - 0] += In[i, 14] * Weights[14, j]\\n            OutStaged[i - 0, j - 0] += In[i, 15] * Weights[15, j]\\n        for i0 in seq(0, 16 - 0):\\n            for i1 in seq(0, 16 - 0):\\n                Out[i0 + 0, i1 + 0] = OutStaged[i0, i1]'), (0.15170812288112678, 0.893398197236057, 'def generated_operation(In: i8[16, 16] @ DRAM, Weights: i8[16, 16] @ DRAM,\\n                        Out: i8[16, 16] @ DRAM):\\n    for i in seq(0, 16):\\n        OutStaged: i8[16, 16] @ DRAM\\n        for i0 in seq(0, 16):\\n            for i1 in seq(0, 16):\\n                OutStaged[i0, i1] = Out[i0, i1]\\n        for j in seq(0, 16):\\n            OutStaged[i, j] += In[i, 0] * Weights[0, j]\\n            OutStaged[i, j] += In[i, 1] * Weights[1, j]\\n            OutStaged[i, j] += In[i, 2] * Weights[2, j]\\n            OutStaged[i, j] += In[i, 3] * Weights[3, j]\\n            OutStaged[i, j] += In[i, 4] * Weights[4, j]\\n            OutStaged[i, j] += In[i, 5] * Weights[5, j]\\n            OutStaged[i, j] += In[i, 6] * Weights[6, j]\\n            OutStaged[i, j] += In[i, 7] * Weights[7, j]\\n            OutStaged[i, j] += In[i, 8] * Weights[8, j]\\n            OutStaged[i, j] += In[i, 9] * Weights[9, j]\\n            OutStaged[i, j] += In[i, 10] * Weights[10, j]\\n            OutStaged[i, j] += In[i, 11] * Weights[11, j]\\n            OutStaged[i, j] += In[i, 12] * Weights[12, j]\\n            OutStaged[i, j] += In[i, 13] * Weights[13, j]\\n            OutStaged[i, j] += In[i, 14] * Weights[14, j]\\n            OutStaged[i, j] += In[i, 15] * Weights[15, j]\\n        for i0 in seq(0, 16):\\n            for i1 in seq(0, 16):\\n                Out[i0, i1] = OutStaged[i0, i1]'), (0.47312825370298384, 0.8653404560605511, 'def generated_operation(In: i8[16, 16] @ DRAM, Weights: i8[16, 16] @ DRAM,\\n                        Out: i8[16, 16] @ DRAM):\\n    for i in seq(0, 16):\\n        OutStaged: i8[16 - 0, 16 - 0] @ DRAM\\n        for i0 in seq(0, 16 - 0):\\n            for i1 in seq(0, 16 - 0):\\n                OutStaged[i0, i1] = Out[i0 + 0, i1 + 0]\\n        for j in seq(0, 16):\\n            OutStaged[i - 0, j - 0] += In[i, 0] * Weights[0, j]\\n            OutStaged[i - 0, j - 0] += In[i, 1] * Weights[1, j]\\n            OutStaged[i - 0, j - 0] += In[i, 2] * Weights[2, j]\\n            OutStaged[i - 0, j - 0] += In[i, 3] * Weights[3, j]\\n            OutStaged[i - 0, j - 0] += In[i, 4] * Weights[4, j]\\n            OutStaged[i - 0, j - 0] += In[i, 5] * Weights[5, j]\\n            OutStaged[i - 0, j - 0] += In[i, 6] * Weights[6, j]\\n            OutStaged[i - 0, j - 0] += In[i, 7] * Weights[7, j]\\n            OutStaged[i - 0, j - 0] += In[i, 8] * Weights[8, j]\\n            OutStaged[i - 0, j - 0] += In[i, 9] * Weights[9, j]\\n            OutStaged[i - 0, j - 0] += In[i, 10] * Weights[10, j]\\n            OutStaged[i - 0, j - 0] += In[i, 11] * Weights[11, j]\\n            OutStaged[i - 0, j - 0] += In[i, 12] * Weights[12, j]\\n            OutStaged[i - 0, j - 0] += In[i, 13] * Weights[13, j]\\n            OutStaged[i - 0, j - 0] += In[i, 14] * Weights[14, j]\\n            OutStaged[i - 0, j - 0] += In[i, 15] * Weights[15, j]\\n        for i0 in seq(0, 16 - 0):\\n            for i1 in seq(0, 16 - 0):\\n                Out[i0 + 0, i1 + 0] = OutStaged[i0, i1]'))\n",
      "((0.06204433924352959, 0.44541728431097605, 'def generated_operation(In: i8[16, 16] @ DRAM, Weights: i8[16, 16] @ DRAM,\\n                        Out: i8[16, 16] @ DRAM):\\n    for i in seq(0, 16):\\n        OutStaged: i8[16 - 0, 16 - 0] @ DRAM\\n        for i0 in seq(0, 16 - 0):\\n            for i1 in seq(0, 16 - 0):\\n                OutStaged[i0, i1] = Out[i0 + 0, i1 + 0]\\n        for j in seq(0, 16):\\n            OutStaged[i - 0, j - 0] += In[i, 0] * Weights[0, j]\\n            OutStaged[i - 0, j - 0] += In[i, 1] * Weights[1, j]\\n            OutStaged[i - 0, j - 0] += In[i, 2] * Weights[2, j]\\n            OutStaged[i - 0, j - 0] += In[i, 3] * Weights[3, j]\\n            OutStaged[i - 0, j - 0] += In[i, 4] * Weights[4, j]\\n            OutStaged[i - 0, j - 0] += In[i, 5] * Weights[5, j]\\n            OutStaged[i - 0, j - 0] += In[i, 6] * Weights[6, j]\\n            OutStaged[i - 0, j - 0] += In[i, 7] * Weights[7, j]\\n            OutStaged[i - 0, j - 0] += In[i, 8] * Weights[8, j]\\n            OutStaged[i - 0, j - 0] += In[i, 9] * Weights[9, j]\\n            OutStaged[i - 0, j - 0] += In[i, 10] * Weights[10, j]\\n            OutStaged[i - 0, j - 0] += In[i, 11] * Weights[11, j]\\n            OutStaged[i - 0, j - 0] += In[i, 12] * Weights[12, j]\\n            OutStaged[i - 0, j - 0] += In[i, 13] * Weights[13, j]\\n            OutStaged[i - 0, j - 0] += In[i, 14] * Weights[14, j]\\n            OutStaged[i - 0, j - 0] += In[i, 15] * Weights[15, j]\\n        for i0 in seq(0, 16 - 0):\\n            for i1 in seq(0, 16 - 0):\\n                Out[i0 + 0, i1 + 0] = OutStaged[i0, i1]'),)\n",
      "((0.04687927520649182, 0.9018373133777954, 'def generated_operation(In: i8[16, 16] @ DRAM, Weights: i8[16, 16] @ DRAM,\\n                        Out: i8[16, 16] @ DRAM):\\n    for i in seq(0, 16):\\n        for j in seq(0, 16):\\n            Out[i, j] += In[i, 0] * Weights[0, j]\\n            Out[i, j] += In[i, 1] * Weights[1, j]\\n            Out[i, j] += In[i, 2] * Weights[2, j]\\n            Out[i, j] += In[i, 3] * Weights[3, j]\\n            Out[i, j] += In[i, 4] * Weights[4, j]\\n            Out[i, j] += In[i, 5] * Weights[5, j]\\n            Out[i, j] += In[i, 6] * Weights[6, j]\\n            Out[i, j] += In[i, 7] * Weights[7, j]\\n            Out[i, j] += In[i, 8] * Weights[8, j]\\n            Out[i, j] += In[i, 9] * Weights[9, j]\\n            Out[i, j] += In[i, 10] * Weights[10, j]\\n            Out[i, j] += In[i, 11] * Weights[11, j]\\n            Out[i, j] += In[i, 12] * Weights[12, j]\\n            Out[i, j] += In[i, 13] * Weights[13, j]\\n            Out[i, j] += In[i, 14] * Weights[14, j]\\n            Out[i, j] += In[i, 15] * Weights[15, j]'),)\n",
      "expanding node 4\n",
      "((0.256142464737381, 0.21691155185079403, 'def generated_operation(In: i8[16, 16] @ DRAM, Weights: i8[16, 16] @ DRAM,\\n                        Out: i8[16, 16] @ DRAM):\\n    for i in seq(0, 16):\\n        for j in seq(0, 16):\\n            Out[i, j] += In[i, 0] * Weights[0, j]\\n            Out[i, j] += In[i, 1] * Weights[1, j]\\n            Out[i, j] += In[i, 2] * Weights[2, j]\\n            Out[i, j] += In[i, 3] * Weights[3, j]\\n            Out[i, j] += In[i, 4] * Weights[4, j]\\n            Out[i, j] += In[i, 5] * Weights[5, j]\\n            Out[i, j] += In[i, 6] * Weights[6, j]\\n            Out[i, j] += In[i, 7] * Weights[7, j]\\n            Out[i, j] += In[i, 8] * Weights[8, j]\\n            Out[i, j] += In[i, 9] * Weights[9, j]\\n            Out[i, j] += In[i, 10] * Weights[10, j]\\n            Out[i, j] += In[i, 11] * Weights[11, j]\\n            Out[i, j] += In[i, 12] * Weights[12, j]\\n            Out[i, j] += In[i, 13] * Weights[13, j]\\n            Out[i, j] += In[i, 14] * Weights[14, j]\\n            Out[i, j] += In[i, 15] * Weights[15, j]'),)\n",
      "went to a thing\n",
      "((0.06204433924352959, 0.44541728431097605, 'def generated_operation(In: i8[16, 16] @ DRAM, Weights: i8[16, 16] @ DRAM,\\n                        Out: i8[16, 16] @ DRAM):\\n    for i in seq(0, 16):\\n        OutStaged: i8[16 - 0, 16 - 0] @ DRAM\\n        for i0 in seq(0, 16 - 0):\\n            for i1 in seq(0, 16 - 0):\\n                OutStaged[i0, i1] = Out[i0 + 0, i1 + 0]\\n        for j in seq(0, 16):\\n            OutStaged[i - 0, j - 0] += In[i, 0] * Weights[0, j]\\n            OutStaged[i - 0, j - 0] += In[i, 1] * Weights[1, j]\\n            OutStaged[i - 0, j - 0] += In[i, 2] * Weights[2, j]\\n            OutStaged[i - 0, j - 0] += In[i, 3] * Weights[3, j]\\n            OutStaged[i - 0, j - 0] += In[i, 4] * Weights[4, j]\\n            OutStaged[i - 0, j - 0] += In[i, 5] * Weights[5, j]\\n            OutStaged[i - 0, j - 0] += In[i, 6] * Weights[6, j]\\n            OutStaged[i - 0, j - 0] += In[i, 7] * Weights[7, j]\\n            OutStaged[i - 0, j - 0] += In[i, 8] * Weights[8, j]\\n            OutStaged[i - 0, j - 0] += In[i, 9] * Weights[9, j]\\n            OutStaged[i - 0, j - 0] += In[i, 10] * Weights[10, j]\\n            OutStaged[i - 0, j - 0] += In[i, 11] * Weights[11, j]\\n            OutStaged[i - 0, j - 0] += In[i, 12] * Weights[12, j]\\n            OutStaged[i - 0, j - 0] += In[i, 13] * Weights[13, j]\\n            OutStaged[i - 0, j - 0] += In[i, 14] * Weights[14, j]\\n            OutStaged[i - 0, j - 0] += In[i, 15] * Weights[15, j]\\n        for i0 in seq(0, 16 - 0):\\n            for i1 in seq(0, 16 - 0):\\n                Out[i0 + 0, i1 + 0] = OutStaged[i0, i1]'),)\n",
      "expanding node 5\n",
      "((0.12463885198313207, 0.5558720909159665, 'def generated_operation(In: i8[16, 16] @ DRAM, Weights: i8[16, 16] @ DRAM,\\n                        Out: i8[16, 16] @ DRAM):\\n    for i in seq(0, 16):\\n        OutStaged: i8[16 - 0, 16 - 0] @ DRAM\\n        for i0 in seq(0, 16 - 0):\\n            for i1 in seq(0, 16 - 0):\\n                OutStaged[i0, i1] = Out[i0 + 0, i1 + 0]\\n        for j in seq(0, 16):\\n            OutStaged[i - 0, j - 0] += In[i, 0] * Weights[0, j]\\n            OutStaged[i - 0, j - 0] += In[i, 1] * Weights[1, j]\\n            OutStaged[i - 0, j - 0] += In[i, 2] * Weights[2, j]\\n            OutStaged[i - 0, j - 0] += In[i, 3] * Weights[3, j]\\n            OutStaged[i - 0, j - 0] += In[i, 4] * Weights[4, j]\\n            OutStaged[i - 0, j - 0] += In[i, 5] * Weights[5, j]\\n            OutStaged[i - 0, j - 0] += In[i, 6] * Weights[6, j]\\n            OutStaged[i - 0, j - 0] += In[i, 7] * Weights[7, j]\\n            OutStaged[i - 0, j - 0] += In[i, 8] * Weights[8, j]\\n            OutStaged[i - 0, j - 0] += In[i, 9] * Weights[9, j]\\n            OutStaged[i - 0, j - 0] += In[i, 10] * Weights[10, j]\\n            OutStaged[i - 0, j - 0] += In[i, 11] * Weights[11, j]\\n            OutStaged[i - 0, j - 0] += In[i, 12] * Weights[12, j]\\n            OutStaged[i - 0, j - 0] += In[i, 13] * Weights[13, j]\\n            OutStaged[i - 0, j - 0] += In[i, 14] * Weights[14, j]\\n            OutStaged[i - 0, j - 0] += In[i, 15] * Weights[15, j]\\n        for i0 in seq(0, 16 - 0):\\n            for i1 in seq(0, 16 - 0):\\n                Out[i0 + 0, i1 + 0] = OutStaged[i0, i1]'),)\n",
      "went to a thing\n",
      "((0.10612490104530325, 0.7390504769664191, 'def generated_operation(In: i8[16, 16] @ DRAM, Weights: i8[16, 16] @ DRAM,\\n                        Out: i8[16, 16] @ DRAM):\\n    for j in seq(0, 16):\\n        for i in seq(0, 16):\\n            for k in seq(0, 16):\\n                Out[i, j] += In[i, k] * Weights[k, j]'),)\n",
      "expanding node 6\n",
      "((0.2466905700761014, 0.16232725368081602, 'def generated_operation(In: i8[16, 16] @ DRAM, Weights: i8[16, 16] @ DRAM,\\n                        Out: i8[16, 16] @ DRAM):\\n    for i in seq(0, 16):\\n        for j in seq(0, 16):\\n            OutStaged: i8[16 - 0, 16 - 0] @ DRAM\\n            for i0 in seq(0, 16 - 0):\\n                for i1 in seq(0, 16 - 0):\\n                    OutStaged[i0, i1] = Out[i0 + 0, i1 + 0]\\n            for k in seq(0, 16):\\n                OutStaged[i - 0, j - 0] += In[i, k] * Weights[k, j]\\n            for i0 in seq(0, 16 - 0):\\n                for i1 in seq(0, 16 - 0):\\n                    Out[i0 + 0, i1 + 0] = OutStaged[i0, i1]'),)\n",
      "went to a thing\n",
      "WARNING: Encountered find: failed to find matches\n",
      "Pattern: Out : _\n",
      "WARNING: Encountered find: failed to find matches\n",
      "Pattern: Out : _\n",
      "WARNING: Encountered find: failed to find matches\n",
      "Pattern: Out : _\n",
      "((0.34902205268859365, 0.6968851117197894, 'def generated_operation(In: i8[16, 16] @ DRAM, Weights: i8[16, 16] @ DRAM,\\n                        Out: i8[16, 16] @ DRAM):\\n    for j in seq(0, 16):\\n        for i in seq(0, 16):\\n            OutStaged: i8[16 - 0, 16 - 0] @ DRAM\\n            for i0 in seq(0, 16 - 0):\\n                for i1 in seq(0, 16 - 0):\\n                    OutStaged[i0, i1] = Out[i0 + 0, i1 + 0]\\n            for k in seq(0, 16):\\n                OutStaged[i - 0, j - 0] += In[i, k] * Weights[k, j]\\n            for i0 in seq(0, 16 - 0):\\n                for i1 in seq(0, 16 - 0):\\n                    Out[i0 + 0, i1 + 0] = OutStaged[i0, i1]'), (0.759408500262921, 0.11825106660751272, 'def generated_operation(In: i8[16, 16] @ DRAM, Weights: i8[16, 16] @ DRAM,\\n                        Out: i8[16, 16] @ DRAM):\\n    for j in seq(0, 16):\\n        for i in seq(0, 16):\\n            OutStaged: i8[16 - 0, 16 - 0] @ DRAM\\n            for i0 in seq(0, 16 - 0):\\n                for i1 in seq(0, 16 - 0):\\n                    OutStaged[i0, i1] = Out[i0 + 0, i1 + 0]\\n            for k in seq(0, 16):\\n                OutStaged[i - 0, j - 0] += In[i, k] * Weights[k, j]\\n            for i0 in seq(0, 16 - 0):\\n                for i1 in seq(0, 16 - 0):\\n                    Out[i0 + 0, i1 + 0] = OutStaged[i0, i1]'), (0.9575343230264388, 0.4885621772477988, 'def generated_operation(In: i8[16, 16] @ DRAM, Weights: i8[16, 16] @ DRAM,\\n                        Out: i8[16, 16] @ DRAM):\\n    for i in seq(0, 16):\\n        for j in seq(0, 16):\\n            for k in seq(0, 16):\\n                Out[i, j] += In[i, k] * Weights[k, j]'), (0.8988918555123011, 0.3968017252892653, 'def generated_operation(In: i8[16, 16] @ DRAM, Weights: i8[16, 16] @ DRAM,\\n                        Out: i8[16, 16] @ DRAM):\\n    for j in seq(0, 16):\\n        for k in seq(0, 16):\\n            for i in seq(0, 16):\\n                Out[i, j] += In[i, k] * Weights[k, j]'))\n",
      "((0.0894486950019916, 0.6224451864729875, 'def generated_operation(In: i8[16, 16] @ DRAM, Weights: i8[16, 16] @ DRAM,\\n                        Out: i8[16, 16] @ DRAM):\\n    for j in seq(0, 16):\\n        for i in seq(0, 16):\\n            OutStaged: i8[16 - 0, 16 - 0] @ DRAM\\n            for i0 in seq(0, 16 - 0):\\n                for i1 in seq(0, 16 - 0):\\n                    OutStaged[i0, i1] = Out[i0 + 0, i1 + 0]\\n            for k in seq(0, 16):\\n                OutStaged[i - 0, j - 0] += In[i, k] * Weights[k, j]\\n            for i0 in seq(0, 16 - 0):\\n                for i1 in seq(0, 16 - 0):\\n                    Out[i0 + 0, i1 + 0] = OutStaged[i0, i1]'),)\n",
      "((0.037195281378302525, 0.9508544543829401, 'def generated_operation(In: i8[16, 16] @ DRAM, Weights: i8[16, 16] @ DRAM,\\n                        Out: i8[16, 16] @ DRAM):\\n    for j in seq(0, 16):\\n        for i in seq(0, 16):\\n            OutStaged: i8[16 - 0, 16 - 0] @ DRAM\\n            for i0 in seq(0, 16 - 0):\\n                for i1 in seq(0, 16 - 0):\\n                    OutStaged[i0, i1] = Out[i0 + 0, i1 + 0]\\n            for k in seq(0, 16):\\n                OutStaged[i - 0, j - 0] += In[i, k] * Weights[k, j]\\n            for i0 in seq(0, 16 - 0):\\n                for i1 in seq(0, 16 - 0):\\n                    Out[i0 + 0, i1 + 0] = OutStaged[i0, i1]'), (0.1801265805107497, 0.950598890628789, 'def generated_operation(In: i8[16, 16] @ DRAM, Weights: i8[16, 16] @ DRAM,\\n                        Out: i8[16, 16] @ DRAM):\\n    for j in seq(0, 16):\\n        for i in seq(0, 16):\\n            OutStaged: i8[16 - 0, 16 - 0] @ DRAM\\n            for i0 in seq(0, 16 - 0):\\n                for i1 in seq(0, 16 - 0):\\n                    OutStaged[i0, i1] = Out[i0 + 0, i1 + 0]\\n            for k in seq(0, 16):\\n                OutStaged[i - 0, j - 0] += In[i, k] * Weights[k, j]\\n            for i0 in seq(0, 16 - 0):\\n                for i1 in seq(0, 16 - 0):\\n                    Out[i0 + 0, i1 + 0] = OutStaged[i0, i1]'), (0.570355818030365, 0.6820879340895553, 'def generated_operation(In: i8[16, 16] @ DRAM, Weights: i8[16, 16] @ DRAM,\\n                        Out: i8[16, 16] @ DRAM):\\n    for j in seq(0, 16):\\n        for i in seq(0, 16):\\n            OutStaged: i8[16 - 0, 16 - 0] @ DRAM\\n            for i0 in seq(0, 16 - 0):\\n                for i1 in seq(0, 16 - 0):\\n                    OutStaged[i0, i1] = Out[i0 + 0, i1 + 0]\\n            for k in seq(0, 16):\\n                OutStaged[i - 0, j - 0] += In[i, k] * Weights[k, j]\\n            for i0 in seq(0, 16 - 0):\\n                for i1 in seq(0, 16 - 0):\\n                    Out[i0 + 0, i1 + 0] = OutStaged[i0, i1]'), (0.3888572955714181, 0.742393791518647, 'def generated_operation(In: i8[16, 16] @ DRAM, Weights: i8[16, 16] @ DRAM,\\n                        Out: i8[16, 16] @ DRAM):\\n    for j in seq(0, 16):\\n        for i in seq(0, 16):\\n            OutStaged: i8[16 - 0, 16 - 0] @ DRAM\\n            for i0 in seq(0, 16 - 0):\\n                for i1 in seq(0, 16 - 0):\\n                    OutStaged[i0, i1] = Out[i0 + 0, i1 + 0]\\n            for k in seq(0, 16):\\n                OutStaged[i - 0, j - 0] += In[i, k] * Weights[k, j]\\n            for i0 in seq(0, 16 - 0):\\n                for i1 in seq(0, 16 - 0):\\n                    Out[i0 + 0, i1 + 0] = OutStaged[i0, i1]'))\n",
      "((0.03616070274351546, 0.15793666708043552, 'def generated_operation(In: i8[16, 16] @ DRAM, Weights: i8[16, 16] @ DRAM,\\n                        Out: i8[16, 16] @ DRAM):\\n    for j in seq(0, 16):\\n        for i in seq(0, 16):\\n            OutStaged: i8[16 - 0, 16 - 0] @ DRAM\\n            for i0 in seq(0, 16 - 0):\\n                for i1 in seq(0, 16 - 0):\\n                    OutStaged[i0, i1] = Out[i0 + 0, i1 + 0]\\n            for k in seq(0, 16):\\n                OutStaged[i - 0, j - 0] += In[i, k] * Weights[k, j]\\n            for i0 in seq(0, 16 - 0):\\n                for i1 in seq(0, 16 - 0):\\n                    Out[i0 + 0, i1 + 0] = OutStaged[i0, i1]'),)\n",
      "((0.5696477766254581, 0.7649393544985127, 'def generated_operation(In: i8[16, 16] @ DRAM, Weights: i8[16, 16] @ DRAM,\\n                        Out: i8[16, 16] @ DRAM):\\n    for j in seq(0, 16):\\n        for i in seq(0, 16):\\n            OutStaged: i8[16 - 0, 16 - 0] @ DRAM\\n            for i0 in seq(0, 16 - 0):\\n                for i1 in seq(0, 16 - 0):\\n                    OutStaged[i0, i1] = Out[i0 + 0, i1 + 0]\\n            for k in seq(0, 16):\\n                OutStaged[i - 0, j - 0] += In[i, k] * Weights[k, j]\\n            for i0 in seq(0, 16 - 0):\\n                for i1 in seq(0, 16 - 0):\\n                    Out[i0 + 0, i1 + 0] = OutStaged[i0, i1]'), (0.6633236112428268, 0.4145670252925602, 'def generated_operation(In: i8[16, 16] @ DRAM, Weights: i8[16, 16] @ DRAM,\\n                        Out: i8[16, 16] @ DRAM):\\n    for j in seq(0, 16):\\n        for i in seq(0, 16):\\n            OutStaged: i8[16 - 0, 16 - 0] @ DRAM\\n            for i0 in seq(0, 16 - 0):\\n                for i1 in seq(0, 16 - 0):\\n                    OutStaged[i0, i1] = Out[i0 + 0, i1 + 0]\\n            for k in seq(0, 16):\\n                OutStaged[i - 0, j - 0] += In[i, k] * Weights[k, j]\\n            for i0 in seq(0, 16 - 0):\\n                for i1 in seq(0, 16 - 0):\\n                    Out[i0 + 0, i1 + 0] = OutStaged[i0, i1]'), (0.6546336105235249, 0.8475326761605696, 'def generated_operation(In: i8[16, 16] @ DRAM, Weights: i8[16, 16] @ DRAM,\\n                        Out: i8[16, 16] @ DRAM):\\n    for j in seq(0, 16):\\n        for i in seq(0, 16):\\n            OutStaged: i8[16 - 0, 16 - 0] @ DRAM\\n            for i0 in seq(0, 16 - 0):\\n                for i1 in seq(0, 16 - 0):\\n                    OutStaged[i0, i1] = Out[i0 + 0, i1 + 0]\\n            for k in seq(0, 16):\\n                OutStaged[i - 0, j - 0] += In[i, k] * Weights[k, j]\\n            for i0 in seq(0, 16 - 0):\\n                for i1 in seq(0, 16 - 0):\\n                    Out[i0 + 0, i1 + 0] = OutStaged[i0, i1]'), (0.8003292887841911, 0.1545188090818378, 'def generated_operation(In: i8[16, 16] @ DRAM, Weights: i8[16, 16] @ DRAM,\\n                        Out: i8[16, 16] @ DRAM):\\n    for j in seq(0, 16):\\n        for i in seq(0, 16):\\n            OutStaged: i8[16 - 0, 16 - 0] @ DRAM\\n            for i0 in seq(0, 16 - 0):\\n                for i1 in seq(0, 16 - 0):\\n                    OutStaged[i0, i1] = Out[i0 + 0, i1 + 0]\\n            for k in seq(0, 16):\\n                OutStaged[i - 0, j - 0] += In[i, k] * Weights[k, j]\\n            for i0 in seq(0, 16 - 0):\\n                for i1 in seq(0, 16 - 0):\\n                    Out[i0 + 0, i1 + 0] = OutStaged[i0, i1]'))\n",
      "((0.2414781740693115, 0.7863082663255604, 'def generated_operation(In: i8[16, 16] @ DRAM, Weights: i8[16, 16] @ DRAM,\\n                        Out: i8[16, 16] @ DRAM):\\n    for j in seq(0, 16):\\n        for i in seq(0, 16):\\n            OutStaged: i8[16 - 0, 16 - 0] @ DRAM\\n            for i0 in seq(0, 16 - 0):\\n                for i1 in seq(0, 16 - 0):\\n                    OutStaged[i0, i1] = Out[i0 + 0, i1 + 0]\\n            for k in seq(0, 16):\\n                OutStaged[i - 0, j - 0] += In[i, k] * Weights[k, j]\\n            for i0 in seq(0, 16 - 0):\\n                for i1 in seq(0, 16 - 0):\\n                    Out[i0 + 0, i1 + 0] = OutStaged[i0, i1]'),)\n",
      "((0.28602499971575623, 0.7825925200579689, 'def generated_operation(In: i8[16, 16] @ DRAM, Weights: i8[16, 16] @ DRAM,\\n                        Out: i8[16, 16] @ DRAM):\\n    for j in seq(0, 16):\\n        for i in seq(0, 16):\\n            OutStaged: i8[16 - 0, 16 - 0] @ DRAM\\n            for i0 in seq(0, 16 - 0):\\n                for i1 in seq(0, 16 - 0):\\n                    OutStaged[i0, i1] = Out[i0 + 0, i1 + 0]\\n            for k in seq(0, 16):\\n                OutStaged[i - 0, j - 0] += In[i, k] * Weights[k, j]\\n            for i0 in seq(0, 16 - 0):\\n                for i1 in seq(0, 16 - 0):\\n                    Out[i0 + 0, i1 + 0] = OutStaged[i0, i1]'), (0.5671063976681688, 0.9019921326725465, 'def generated_operation(In: i8[16, 16] @ DRAM, Weights: i8[16, 16] @ DRAM,\\n                        Out: i8[16, 16] @ DRAM):\\n    for j in seq(0, 16):\\n        for i in seq(0, 16):\\n            OutStaged: i8[16 - 0, 16 - 0] @ DRAM\\n            for i0 in seq(0, 16 - 0):\\n                for i1 in seq(0, 16 - 0):\\n                    OutStaged[i0, i1] = Out[i0 + 0, i1 + 0]\\n            for k in seq(0, 16):\\n                OutStaged[i - 0, j - 0] += In[i, k] * Weights[k, j]\\n            for i0 in seq(0, 16 - 0):\\n                for i1 in seq(0, 16 - 0):\\n                    Out[i0 + 0, i1 + 0] = OutStaged[i0, i1]'), (0.5033373464949656, 0.5210560921012692, 'def generated_operation(In: i8[16, 16] @ DRAM, Weights: i8[16, 16] @ DRAM,\\n                        Out: i8[16, 16] @ DRAM):\\n    for j in seq(0, 16):\\n        for i in seq(0, 16):\\n            OutStaged: i8[16 - 0, 16 - 0] @ DRAM\\n            for i0 in seq(0, 16 - 0):\\n                for i1 in seq(0, 16 - 0):\\n                    OutStaged[i0, i1] = Out[i0 + 0, i1 + 0]\\n            for k in seq(0, 16):\\n                OutStaged[i - 0, j - 0] += In[i, k] * Weights[k, j]\\n            for i0 in seq(0, 16 - 0):\\n                for i1 in seq(0, 16 - 0):\\n                    Out[i0 + 0, i1 + 0] = OutStaged[i0, i1]'), (0.890570809349648, 0.7855194402996859, 'def generated_operation(In: i8[16, 16] @ DRAM, Weights: i8[16, 16] @ DRAM,\\n                        Out: i8[16, 16] @ DRAM):\\n    for j in seq(0, 16):\\n        for i in seq(0, 16):\\n            OutStaged: i8[16 - 0, 16 - 0] @ DRAM\\n            for i0 in seq(0, 16 - 0):\\n                for i1 in seq(0, 16 - 0):\\n                    OutStaged[i0, i1] = Out[i0 + 0, i1 + 0]\\n            for k in seq(0, 16):\\n                OutStaged[i - 0, j - 0] += In[i, k] * Weights[k, j]\\n            for i0 in seq(0, 16 - 0):\\n                for i1 in seq(0, 16 - 0):\\n                    Out[i0 + 0, i1 + 0] = OutStaged[i0, i1]'))\n",
      "((0.09328692098095404, 0.36552356267958985, 'def generated_operation(In: i8[16, 16] @ DRAM, Weights: i8[16, 16] @ DRAM,\\n                        Out: i8[16, 16] @ DRAM):\\n    for j in seq(0, 16):\\n        for i in seq(0, 16):\\n            OutStaged: i8[16 - 0, 16 - 0] @ DRAM\\n            for i0 in seq(0, 16 - 0):\\n                for i1 in seq(0, 16 - 0):\\n                    OutStaged[i0, i1] = Out[i0 + 0, i1 + 0]\\n            for k in seq(0, 16):\\n                OutStaged[i - 0, j - 0] += In[i, k] * Weights[k, j]\\n            for i0 in seq(0, 16 - 0):\\n                for i1 in seq(0, 16 - 0):\\n                    Out[i0 + 0, i1 + 0] = OutStaged[i0, i1]'),)\n",
      "((0.15524521564900717, 0.32781773004337467, 'def generated_operation(In: i8[16, 16] @ DRAM, Weights: i8[16, 16] @ DRAM,\\n                        Out: i8[16, 16] @ DRAM):\\n    for j in seq(0, 16):\\n        for i in seq(0, 16):\\n            Out[i, j] += In[i, 0] * Weights[0, j]\\n            Out[i, j] += In[i, 1] * Weights[1, j]\\n            Out[i, j] += In[i, 2] * Weights[2, j]\\n            Out[i, j] += In[i, 3] * Weights[3, j]\\n            Out[i, j] += In[i, 4] * Weights[4, j]\\n            Out[i, j] += In[i, 5] * Weights[5, j]\\n            Out[i, j] += In[i, 6] * Weights[6, j]\\n            Out[i, j] += In[i, 7] * Weights[7, j]\\n            Out[i, j] += In[i, 8] * Weights[8, j]\\n            Out[i, j] += In[i, 9] * Weights[9, j]\\n            Out[i, j] += In[i, 10] * Weights[10, j]\\n            Out[i, j] += In[i, 11] * Weights[11, j]\\n            Out[i, j] += In[i, 12] * Weights[12, j]\\n            Out[i, j] += In[i, 13] * Weights[13, j]\\n            Out[i, j] += In[i, 14] * Weights[14, j]\\n            Out[i, j] += In[i, 15] * Weights[15, j]'), (0.41453481975118955, 0.6748970237181477, 'def generated_operation(In: i8[16, 16] @ DRAM, Weights: i8[16, 16] @ DRAM,\\n                        Out: i8[16, 16] @ DRAM):\\n    for j in seq(0, 16):\\n        for i in seq(0, 16):\\n            for k_out in seq(0, 16 / 12):\\n                for k_in in seq(0, 12):\\n                    Out[i, j] += In[i, 12 * k_out +\\n                                    k_in] * Weights[12 * k_out + k_in, j]\\n            for k_in in seq(0, 16 % 12):\\n                Out[i, j] += In[i, k_in +\\n                                16 / 12 * 12] * Weights[k_in + 16 / 12 * 12, j]'), (0.3878314725406731, 1.0339654047237974, 'def generated_operation(In: i8[16, 16] @ DRAM, Weights: i8[16, 16] @ DRAM,\\n                        Out: i8[16, 16] @ DRAM):\\n    for j in seq(0, 16):\\n        for i in seq(0, 16):\\n            Out[i, j] += In[i, 0] * Weights[0, j]\\n            Out[i, j] += In[i, 1] * Weights[1, j]\\n            Out[i, j] += In[i, 2] * Weights[2, j]\\n            Out[i, j] += In[i, 3] * Weights[3, j]\\n            Out[i, j] += In[i, 4] * Weights[4, j]\\n            Out[i, j] += In[i, 5] * Weights[5, j]\\n            Out[i, j] += In[i, 6] * Weights[6, j]\\n            Out[i, j] += In[i, 7] * Weights[7, j]\\n            Out[i, j] += In[i, 8] * Weights[8, j]\\n            Out[i, j] += In[i, 9] * Weights[9, j]\\n            Out[i, j] += In[i, 10] * Weights[10, j]\\n            Out[i, j] += In[i, 11] * Weights[11, j]\\n            Out[i, j] += In[i, 12] * Weights[12, j]\\n            Out[i, j] += In[i, 13] * Weights[13, j]\\n            Out[i, j] += In[i, 14] * Weights[14, j]\\n            Out[i, j] += In[i, 15] * Weights[15, j]'), (0.5862356815324699, 0.5182984368161214, 'def generated_operation(In: i8[16, 16] @ DRAM, Weights: i8[16, 16] @ DRAM,\\n                        Out: i8[16, 16] @ DRAM):\\n    for j in seq(0, 16):\\n        for i in seq(0, 16):\\n            Out[i, j] += In[i, 0] * Weights[0, j]\\n            Out[i, j] += In[i, 1] * Weights[1, j]\\n            Out[i, j] += In[i, 2] * Weights[2, j]\\n            Out[i, j] += In[i, 3] * Weights[3, j]\\n            Out[i, j] += In[i, 4] * Weights[4, j]\\n            Out[i, j] += In[i, 5] * Weights[5, j]\\n            Out[i, j] += In[i, 6] * Weights[6, j]\\n            Out[i, j] += In[i, 7] * Weights[7, j]\\n            Out[i, j] += In[i, 8] * Weights[8, j]\\n            Out[i, j] += In[i, 9] * Weights[9, j]\\n            Out[i, j] += In[i, 10] * Weights[10, j]\\n            Out[i, j] += In[i, 11] * Weights[11, j]\\n            Out[i, j] += In[i, 12] * Weights[12, j]\\n            Out[i, j] += In[i, 13] * Weights[13, j]\\n            Out[i, j] += In[i, 14] * Weights[14, j]\\n            Out[i, j] += In[i, 15] * Weights[15, j]'))\n",
      "((0.12473205054995118, 0.12718350850652482, 'def generated_operation(In: i8[16, 16] @ DRAM, Weights: i8[16, 16] @ DRAM,\\n                        Out: i8[16, 16] @ DRAM):\\n    for j in seq(0, 16):\\n        for i in seq(0, 16):\\n            for k_out in seq(0, 16 / 12):\\n                for k_in in seq(0, 12):\\n                    Out[i, j] += In[i, 12 * k_out +\\n                                    k_in] * Weights[12 * k_out + k_in, j]\\n            for k_in in seq(0, 16 % 12):\\n                Out[i, j] += In[i, k_in +\\n                                16 / 12 * 12] * Weights[k_in + 16 / 12 * 12, j]'),)\n",
      "((0.3351396065443657, 0.6478519965575049, 'def generated_operation(In: i8[16, 16] @ DRAM, Weights: i8[16, 16] @ DRAM,\\n                        Out: i8[16, 16] @ DRAM):\\n    for j in seq(0, 16):\\n        for i in seq(0, 16):\\n            for k in seq(0, 16):\\n                Out[i, j] += In[i, k] * Weights[k, j]'), (0.5132715664802259, 0.390048868651635, 'def generated_operation(In: i8[16, 16] @ DRAM, Weights: i8[16, 16] @ DRAM,\\n                        Out: i8[16, 16] @ DRAM):\\n    for j in seq(0, 16):\\n        for i in seq(0, 16):\\n            for k in seq(0, 16):\\n                Out[i, j] += In[i, k] * Weights[k, j]'), (0.9509143564003187, 0.11849935041232151, 'def generated_operation(In: i8[16, 16] @ DRAM, Weights: i8[16, 16] @ DRAM,\\n                        Out: i8[16, 16] @ DRAM):\\n    for j in seq(0, 16):\\n        for i in seq(0, 16):\\n            for k_out in seq(0, 16 / 12):\\n                for k_in in seq(0, 12):\\n                    Out[i, j] += In[i, 12 * k_out +\\n                                    k_in] * Weights[12 * k_out + k_in, j]\\n            for k_in in seq(0, 16 % 12):\\n                Out[i, j] += In[i, k_in +\\n                                16 / 12 * 12] * Weights[k_in + 16 / 12 * 12, j]'), (0.7349082180847529, 0.18502271260562564, 'def generated_operation(In: i8[16, 16] @ DRAM, Weights: i8[16, 16] @ DRAM,\\n                        Out: i8[16, 16] @ DRAM):\\n    for j in seq(0, 16):\\n        for i in seq(0, 16):\\n            for k in seq(0, 16):\\n                Out[i, j] += In[i, k] * Weights[k, j]'))\n",
      "((0.30700933961205235, 0.15654919223646158, 'def generated_operation(In: i8[16, 16] @ DRAM, Weights: i8[16, 16] @ DRAM,\\n                        Out: i8[16, 16] @ DRAM):\\n    for j in seq(0, 16):\\n        for i in seq(0, 16):\\n            for k in seq(0, 16):\\n                Out[i, j] += In[i, k] * Weights[k, j]'),)\n",
      "()\n",
      "((0.4967782856609795, 0.42035349731637395, 'def generated_operation(In: i8[16, 16] @ DRAM, Weights: i8[16, 16] @ DRAM,\\n                        Out: i8[16, 16] @ DRAM):\\n    for j in seq(0, 16):\\n        for i in seq(0, 16):\\n            for k in seq(0, 16):\\n                Out[i, j] += In[i, k] * Weights[k, j]'),)\n",
      "((0.03616070274351546, 0.15793666708043552, 'def generated_operation(In: i8[16, 16] @ DRAM, Weights: i8[16, 16] @ DRAM,\\n                        Out: i8[16, 16] @ DRAM):\\n    for j in seq(0, 16):\\n        for i in seq(0, 16):\\n            OutStaged: i8[16 - 0, 16 - 0] @ DRAM\\n            for i0 in seq(0, 16 - 0):\\n                for i1 in seq(0, 16 - 0):\\n                    OutStaged[i0, i1] = Out[i0 + 0, i1 + 0]\\n            for k in seq(0, 16):\\n                OutStaged[i - 0, j - 0] += In[i, k] * Weights[k, j]\\n            for i0 in seq(0, 16 - 0):\\n                for i1 in seq(0, 16 - 0):\\n                    Out[i0 + 0, i1 + 0] = OutStaged[i0, i1]'),)\n",
      "expanding node 7\n",
      "((0.037195281378302525, 0.9508544543829401, 'def generated_operation(In: i8[16, 16] @ DRAM, Weights: i8[16, 16] @ DRAM,\\n                        Out: i8[16, 16] @ DRAM):\\n    for j in seq(0, 16):\\n        for i in seq(0, 16):\\n            OutStaged: i8[16 - 0, 16 - 0] @ DRAM\\n            for i0 in seq(0, 16 - 0):\\n                for i1 in seq(0, 16 - 0):\\n                    OutStaged[i0, i1] = Out[i0 + 0, i1 + 0]\\n            for k in seq(0, 16):\\n                OutStaged[i - 0, j - 0] += In[i, k] * Weights[k, j]\\n            for i0 in seq(0, 16 - 0):\\n                for i1 in seq(0, 16 - 0):\\n                    Out[i0 + 0, i1 + 0] = OutStaged[i0, i1]'),)\n",
      "went to a thing\n",
      "WARNING: Encountered <<<unknown directive>>>: Loops j and i at /workspaces/project/src/my_out.py:7:4 cannot be reordered.\n",
      "WARNING: Encountered <<<unknown directive>>>: expected loop 'i1' to have constant bounds\n",
      "WARNING: Encountered <<<unknown directive>>>: expected loop 'i1' to have constant bounds\n",
      "WARNING: Encountered <<<unknown directive>>>: expected loop 'i1' to have constant bounds\n",
      "WARNING: Encountered <<<unknown directive>>>: expected loop 'i1' to have constant bounds\n",
      "WARNING: Encountered <<<unknown directive>>>: expected loop 'i1' to have constant bounds\n",
      "WARNING: Encountered <<<unknown directive>>>: expected loop 'i1' to have constant bounds\n",
      "WARNING: Encountered <<<unknown directive>>>: expected loop 'i1' to have constant bounds\n",
      "((0.14034230223648325, 0.6989477776627439, 'def generated_operation(In: i8[16, 16] @ DRAM, Weights: i8[16, 16] @ DRAM,\\n                        Out: i8[16, 16] @ DRAM):\\n    for j in seq(0, 16):\\n        for i in seq(0, 16):\\n            OutStaged: i8[16 - 0, 16 - 0] @ DRAM\\n            for i1 in seq(0, 16 - 0):\\n                for i0 in seq(0, 16 - 0):\\n                    OutStaged[i0, i1] = Out[i0 + 0, i1 + 0]\\n            for k in seq(0, 16):\\n                OutStaged[i - 0, j - 0] += In[i, k] * Weights[k, j]\\n            for i0 in seq(0, 16 - 0):\\n                for i1 in seq(0, 16 - 0):\\n                    Out[i0 + 0, i1 + 0] = OutStaged[i0, i1]'), (0.37699596615103126, 0.6055215671911985, 'def generated_operation(In: i8[16, 16] @ DRAM, Weights: i8[16, 16] @ DRAM,\\n                        Out: i8[16, 16] @ DRAM):\\n    for j in seq(0, 16):\\n        for i in seq(0, 16):\\n            OutStaged: i8[16 - 0, 16 - 0] @ DRAM\\n            for i0 in seq(0, 16 - 0):\\n                for k_out in seq(0, (16 - 0) / 12):\\n                    for k_in in seq(0, 12):\\n                        OutStaged[i0, 12 * k_out +\\n                                  k_in] = Out[i0 + 0, 12 * k_out + k_in + 0]\\n                for k_in in seq(0, (16 - 0) % 12):\\n                    OutStaged[i0, k_in +\\n                              (16 - 0) / 12 * 12] = Out[i0 + 0, k_in +\\n                                                        (16 - 0) / 12 * 12 + 0]\\n            for k in seq(0, 16):\\n                OutStaged[i - 0, j - 0] += In[i, k] * Weights[k, j]\\n            for i0 in seq(0, 16 - 0):\\n                for i1 in seq(0, 16 - 0):\\n                    Out[i0 + 0, i1 + 0] = OutStaged[i0, i1]'), (0.7679959261527924, 0.614860273157388, 'def generated_operation(In: i8[16, 16] @ DRAM, Weights: i8[16, 16] @ DRAM,\\n                        Out: i8[16, 16] @ DRAM):\\n    for j in seq(0, 16):\\n        for i in seq(0, 16):\\n            OutStaged: i8[16 - 0, 16 - 0] @ DRAM\\n            for i0 in seq(0, 16 - 0):\\n                for i1 in seq(0, 16 - 0):\\n                    OutStaged[i0, i1] = Out[i0 + 0, i1 + 0]\\n            for k in seq(0, 16):\\n                OutStaged[i - 0, j - 0] += In[i, k] * Weights[k, j]\\n            for i0 in seq(0, 16 - 0):\\n                for i1 in seq(0, 16 - 0):\\n                    Out[i0 + 0, i1 + 0] = OutStaged[i0, i1]'), (0.49146037295218614, 0.9044829783603535, 'def generated_operation(In: i8[16, 16] @ DRAM, Weights: i8[16, 16] @ DRAM,\\n                        Out: i8[16, 16] @ DRAM):\\n    for j in seq(0, 16):\\n        for i in seq(0, 16):\\n            OutStaged: i8[16 - 0, 16 - 0] @ DRAM\\n            for i0 in seq(0, 16 - 0):\\n                for k_out in seq(0, (16 - 0) / 12):\\n                    for k_in in seq(0, 12):\\n                        OutStaged[i0, 12 * k_out +\\n                                  k_in] = Out[i0 + 0, 12 * k_out + k_in + 0]\\n                for k_in in seq(0, (16 - 0) % 12):\\n                    OutStaged[i0, k_in +\\n                              (16 - 0) / 12 * 12] = Out[i0 + 0, k_in +\\n                                                        (16 - 0) / 12 * 12 + 0]\\n            for k in seq(0, 16):\\n                OutStaged[i - 0, j - 0] += In[i, k] * Weights[k, j]\\n            for i0 in seq(0, 16 - 0):\\n                for i1 in seq(0, 16 - 0):\\n                    Out[i0 + 0, i1 + 0] = OutStaged[i0, i1]'))\n",
      "((0.13985887519134577, 0.5419952036302005, 'def generated_operation(In: i8[16, 16] @ DRAM, Weights: i8[16, 16] @ DRAM,\\n                        Out: i8[16, 16] @ DRAM):\\n    for j in seq(0, 16):\\n        for i in seq(0, 16):\\n            OutStaged: i8[16 - 0, 16 - 0] @ DRAM\\n            for i0 in seq(0, 16 - 0):\\n                for k_out in seq(0, (16 - 0) / 12):\\n                    for k_in in seq(0, 12):\\n                        OutStaged[i0, 12 * k_out +\\n                                  k_in] = Out[i0 + 0, 12 * k_out + k_in + 0]\\n                for k_in in seq(0, (16 - 0) % 12):\\n                    OutStaged[i0, k_in +\\n                              (16 - 0) / 12 * 12] = Out[i0 + 0, k_in +\\n                                                        (16 - 0) / 12 * 12 + 0]\\n            for k in seq(0, 16):\\n                OutStaged[i - 0, j - 0] += In[i, k] * Weights[k, j]\\n            for i0 in seq(0, 16 - 0):\\n                for i1 in seq(0, 16 - 0):\\n                    Out[i0 + 0, i1 + 0] = OutStaged[i0, i1]'),)\n",
      "((0.3292045922235438, 0.19595779464817453, 'def generated_operation(In: i8[16, 16] @ DRAM, Weights: i8[16, 16] @ DRAM,\\n                        Out: i8[16, 16] @ DRAM):\\n    for j in seq(0, 16):\\n        for i in seq(0, 16):\\n            OutStaged: i8[16 - 0, 16 - 0] @ DRAM\\n            for i0 in seq(0, 16 - 0):\\n                for i1 in seq(0, 16 - 0):\\n                    OutStaged[i0, i1] = Out[i0 + 0, i1 + 0]\\n            for k in seq(0, 16):\\n                OutStaged[i - 0, j - 0] += In[i, k] * Weights[k, j]\\n            for i0 in seq(0, 16 - 0):\\n                for i1 in seq(0, 16 - 0):\\n                    Out[i0 + 0, i1 + 0] = OutStaged[i0, i1]'), (0.8128334721820674, 0.7531149054332342, 'def generated_operation(In: i8[16, 16] @ DRAM, Weights: i8[16, 16] @ DRAM,\\n                        Out: i8[16, 16] @ DRAM):\\n    for j in seq(0, 16):\\n        for i in seq(0, 16):\\n            OutStaged: i8[16 - 0, 16 - 0] @ DRAM\\n            for i0 in seq(0, 16 - 0):\\n                for i1 in seq(0, 16 - 0):\\n                    OutStaged[i0, i1] = Out[i0 + 0, i1 + 0]\\n            for k in seq(0, 16):\\n                OutStaged[i - 0, j - 0] += In[i, k] * Weights[k, j]\\n            for i0 in seq(0, 16 - 0):\\n                for i1 in seq(0, 16 - 0):\\n                    Out[i0 + 0, i1 + 0] = OutStaged[i0, i1]'), (0.5228042125515813, 0.8095812927523806, 'def generated_operation(In: i8[16, 16] @ DRAM, Weights: i8[16, 16] @ DRAM,\\n                        Out: i8[16, 16] @ DRAM):\\n    for j in seq(0, 16):\\n        for i in seq(0, 16):\\n            OutStaged: i8[16 - 0, 16 - 0] @ DRAM\\n            for i0 in seq(0, 16 - 0):\\n                for i1 in seq(0, 16 - 0):\\n                    OutStaged[i0, i1] = Out[i0 + 0, i1 + 0]\\n            for k in seq(0, 16):\\n                OutStaged[i - 0, j - 0] += In[i, k] * Weights[k, j]\\n            for i0 in seq(0, 16 - 0):\\n                for i1 in seq(0, 16 - 0):\\n                    Out[i0 + 0, i1 + 0] = OutStaged[i0, i1]'))\n",
      "((0.1065918779931675, 0.4735643850419686, 'def generated_operation(In: i8[16, 16] @ DRAM, Weights: i8[16, 16] @ DRAM,\\n                        Out: i8[16, 16] @ DRAM):\\n    for j in seq(0, 16):\\n        for i in seq(0, 16):\\n            OutStaged: i8[16, 16] @ DRAM\\n            for i0 in seq(0, 16):\\n                for i1 in seq(0, 16):\\n                    OutStaged[i0, i1] = Out[i0, i1]\\n            for k in seq(0, 16):\\n                OutStaged[i, j] += In[i, k] * Weights[k, j]\\n            for i0 in seq(0, 16):\\n                for i1 in seq(0, 16):\\n                    Out[i0, i1] = OutStaged[i0, i1]'),)\n",
      "((0.037195281378302525, 0.9508544543829401, 'def generated_operation(In: i8[16, 16] @ DRAM, Weights: i8[16, 16] @ DRAM,\\n                        Out: i8[16, 16] @ DRAM):\\n    for j in seq(0, 16):\\n        for i in seq(0, 16):\\n            OutStaged: i8[16 - 0, 16 - 0] @ DRAM\\n            for i0 in seq(0, 16 - 0):\\n                for i1 in seq(0, 16 - 0):\\n                    OutStaged[i0, i1] = Out[i0 + 0, i1 + 0]\\n            for k in seq(0, 16):\\n                OutStaged[i - 0, j - 0] += In[i, k] * Weights[k, j]\\n            for i0 in seq(0, 16 - 0):\\n                for i1 in seq(0, 16 - 0):\\n                    Out[i0 + 0, i1 + 0] = OutStaged[i0, i1]'),)\n",
      "expanding node 8\n",
      "((0.0894486950019916, 0.6224451864729875, 'def generated_operation(In: i8[16, 16] @ DRAM, Weights: i8[16, 16] @ DRAM,\\n                        Out: i8[16, 16] @ DRAM):\\n    for j in seq(0, 16):\\n        for i in seq(0, 16):\\n            OutStaged: i8[16 - 0, 16 - 0] @ DRAM\\n            for i0 in seq(0, 16 - 0):\\n                for i1 in seq(0, 16 - 0):\\n                    OutStaged[i0, i1] = Out[i0 + 0, i1 + 0]\\n            for k in seq(0, 16):\\n                OutStaged[i - 0, j - 0] += In[i, k] * Weights[k, j]\\n            for i0 in seq(0, 16 - 0):\\n                for i1 in seq(0, 16 - 0):\\n                    Out[i0 + 0, i1 + 0] = OutStaged[i0, i1]'),)\n",
      "expanding node 9\n",
      "((0.34902205268859365, 0.6968851117197894, 'def generated_operation(In: i8[16, 16] @ DRAM, Weights: i8[16, 16] @ DRAM,\\n                        Out: i8[16, 16] @ DRAM):\\n    for j in seq(0, 16):\\n        for i in seq(0, 16):\\n            OutStaged: i8[16 - 0, 16 - 0] @ DRAM\\n            for i0 in seq(0, 16 - 0):\\n                for i1 in seq(0, 16 - 0):\\n                    OutStaged[i0, i1] = Out[i0 + 0, i1 + 0]\\n            for k in seq(0, 16):\\n                OutStaged[i - 0, j - 0] += In[i, k] * Weights[k, j]\\n            for i0 in seq(0, 16 - 0):\\n                for i1 in seq(0, 16 - 0):\\n                    Out[i0 + 0, i1 + 0] = OutStaged[i0, i1]'),)\n",
      "went to a thing\n",
      "((0.09328692098095404, 0.36552356267958985, 'def generated_operation(In: i8[16, 16] @ DRAM, Weights: i8[16, 16] @ DRAM,\\n                        Out: i8[16, 16] @ DRAM):\\n    for j in seq(0, 16):\\n        for i in seq(0, 16):\\n            OutStaged: i8[16 - 0, 16 - 0] @ DRAM\\n            for i0 in seq(0, 16 - 0):\\n                for i1 in seq(0, 16 - 0):\\n                    OutStaged[i0, i1] = Out[i0 + 0, i1 + 0]\\n            for k in seq(0, 16):\\n                OutStaged[i - 0, j - 0] += In[i, k] * Weights[k, j]\\n            for i0 in seq(0, 16 - 0):\\n                for i1 in seq(0, 16 - 0):\\n                    Out[i0 + 0, i1 + 0] = OutStaged[i0, i1]'),)\n",
      "expanding node 10\n",
      "((0.28602499971575623, 0.7825925200579689, 'def generated_operation(In: i8[16, 16] @ DRAM, Weights: i8[16, 16] @ DRAM,\\n                        Out: i8[16, 16] @ DRAM):\\n    for j in seq(0, 16):\\n        for i in seq(0, 16):\\n            OutStaged: i8[16 - 0, 16 - 0] @ DRAM\\n            for i0 in seq(0, 16 - 0):\\n                for i1 in seq(0, 16 - 0):\\n                    OutStaged[i0, i1] = Out[i0 + 0, i1 + 0]\\n            for k in seq(0, 16):\\n                OutStaged[i - 0, j - 0] += In[i, k] * Weights[k, j]\\n            for i0 in seq(0, 16 - 0):\\n                for i1 in seq(0, 16 - 0):\\n                    Out[i0 + 0, i1 + 0] = OutStaged[i0, i1]'),)\n",
      "went to a thing\n",
      "((0.1065918779931675, 0.4735643850419686, 'def generated_operation(In: i8[16, 16] @ DRAM, Weights: i8[16, 16] @ DRAM,\\n                        Out: i8[16, 16] @ DRAM):\\n    for j in seq(0, 16):\\n        for i in seq(0, 16):\\n            OutStaged: i8[16, 16] @ DRAM\\n            for i0 in seq(0, 16):\\n                for i1 in seq(0, 16):\\n                    OutStaged[i0, i1] = Out[i0, i1]\\n            for k in seq(0, 16):\\n                OutStaged[i, j] += In[i, k] * Weights[k, j]\\n            for i0 in seq(0, 16):\\n                for i1 in seq(0, 16):\\n                    Out[i0, i1] = OutStaged[i0, i1]'),)\n",
      "expanding node 11\n",
      "((0.3292045922235438, 0.19595779464817453, 'def generated_operation(In: i8[16, 16] @ DRAM, Weights: i8[16, 16] @ DRAM,\\n                        Out: i8[16, 16] @ DRAM):\\n    for j in seq(0, 16):\\n        for i in seq(0, 16):\\n            OutStaged: i8[16 - 0, 16 - 0] @ DRAM\\n            for i0 in seq(0, 16 - 0):\\n                for i1 in seq(0, 16 - 0):\\n                    OutStaged[i0, i1] = Out[i0 + 0, i1 + 0]\\n            for k in seq(0, 16):\\n                OutStaged[i - 0, j - 0] += In[i, k] * Weights[k, j]\\n            for i0 in seq(0, 16 - 0):\\n                for i1 in seq(0, 16 - 0):\\n                    Out[i0 + 0, i1 + 0] = OutStaged[i0, i1]'),)\n",
      "went to a thing\n",
      "WARNING: Encountered <<<unknown directive>>>: Loops j and i at /workspaces/project/src/my_out.py:7:4 cannot be reordered.\n",
      "((0.1764914405682727, 0.8263667070250014, 'def generated_operation(In: i8[16, 16] @ DRAM, Weights: i8[16, 16] @ DRAM,\\n                        Out: i8[16, 16] @ DRAM):\\n    for j in seq(0, 16):\\n        for i in seq(0, 16):\\n            OutStaged: i8[16, 16] @ DRAM\\n            for i0 in seq(0, 16):\\n                OutStagedStaged: i8[16 - 0, 16 - 0] @ DRAM\\n                for i1 in seq(0, 16):\\n                    OutStagedStaged[i0 - 0, i1 - 0] = Out[i0, i1]\\n                for i0_1 in seq(0, 16 - 0):\\n                    for i1 in seq(0, 16 - 0):\\n                        OutStaged[i0_1 + 0, i1 + 0] = OutStagedStaged[i0_1, i1]\\n            for k in seq(0, 16):\\n                OutStaged[i, j] += In[i, k] * Weights[k, j]\\n            for i0 in seq(0, 16):\\n                for i1 in seq(0, 16):\\n                    Out[i0, i1] = OutStaged[i0, i1]'), (0.2360984915487213, 1.0719572555172356, 'def generated_operation(In: i8[16, 16] @ DRAM, Weights: i8[16, 16] @ DRAM,\\n                        Out: i8[16, 16] @ DRAM):\\n    for j in seq(0, 16):\\n        for i in seq(0, 16):\\n            OutStaged: i8[16, 16] @ DRAM\\n            for i1 in seq(0, 16):\\n                for i0 in seq(0, 16):\\n                    OutStaged[i0, i1] = Out[i0, i1]\\n            for k in seq(0, 16):\\n                OutStaged[i, j] += In[i, k] * Weights[k, j]\\n            for i0 in seq(0, 16):\\n                for i1 in seq(0, 16):\\n                    Out[i0, i1] = OutStaged[i0, i1]'), (0.7327522365136462, 0.4035136292127267, 'def generated_operation(In: i8[16, 16] @ DRAM, Weights: i8[16, 16] @ DRAM,\\n                        Out: i8[16, 16] @ DRAM):\\n    for j in seq(0, 16):\\n        for i in seq(0, 16):\\n            OutStaged: i8[16, 16] @ DRAM\\n            for i0 in seq(0, 16):\\n                OutStagedStaged: i8[16 - 0, 16 - 0] @ DRAM\\n                for i1 in seq(0, 16):\\n                    OutStagedStaged[i0 - 0, i1 - 0] = Out[i0, i1]\\n                for i0_1 in seq(0, 16 - 0):\\n                    for i1 in seq(0, 16 - 0):\\n                        OutStaged[i0_1 + 0, i1 + 0] = OutStagedStaged[i0_1, i1]\\n            for k in seq(0, 16):\\n                OutStaged[i, j] += In[i, k] * Weights[k, j]\\n            for i0 in seq(0, 16):\\n                for i1 in seq(0, 16):\\n                    Out[i0, i1] = OutStaged[i0, i1]'), (0.673255359214637, 0.9111962282206659, 'def generated_operation(In: i8[16, 16] @ DRAM, Weights: i8[16, 16] @ DRAM,\\n                        Out: i8[16, 16] @ DRAM):\\n    for j in seq(0, 16):\\n        for i in seq(0, 16):\\n            OutStaged: i8[16, 16] @ DRAM\\n            for i0 in seq(0, 16):\\n                OutStagedStaged: i8[16 - 0, 16 - 0] @ DRAM\\n                for i1 in seq(0, 16):\\n                    OutStagedStaged[i0 - 0, i1 - 0] = Out[i0, i1]\\n                for i0_1 in seq(0, 16 - 0):\\n                    for i1 in seq(0, 16 - 0):\\n                        OutStaged[i0_1 + 0, i1 + 0] = OutStagedStaged[i0_1, i1]\\n            for k in seq(0, 16):\\n                OutStaged[i, j] += In[i, k] * Weights[k, j]\\n            for i0 in seq(0, 16):\\n                for i1 in seq(0, 16):\\n                    Out[i0, i1] = OutStaged[i0, i1]'))\n",
      "((0.08575793978394164, 0.8469164960820615, 'def generated_operation(In: i8[16, 16] @ DRAM, Weights: i8[16, 16] @ DRAM,\\n                        Out: i8[16, 16] @ DRAM):\\n    for j in seq(0, 16):\\n        for i in seq(0, 16):\\n            OutStaged: i8[16, 16] @ DRAM\\n            for i0 in seq(0, 16):\\n                OutStagedStaged: i8[16 - 0, 16 - 0] @ DRAM\\n                for i1 in seq(0, 16):\\n                    OutStagedStaged[i0 - 0, i1 - 0] = Out[i0, i1]\\n                for i0_1 in seq(0, 16 - 0):\\n                    for i1 in seq(0, 16 - 0):\\n                        OutStaged[i0_1 + 0, i1 + 0] = OutStagedStaged[i0_1, i1]\\n            for k in seq(0, 16):\\n                OutStaged[i, j] += In[i, k] * Weights[k, j]\\n            for i0 in seq(0, 16):\\n                for i1 in seq(0, 16):\\n                    Out[i0, i1] = OutStaged[i0, i1]'),)\n",
      "((0.40590491927186123, 0.9204591440184489, 'def generated_operation(In: i8[16, 16] @ DRAM, Weights: i8[16, 16] @ DRAM,\\n                        Out: i8[16, 16] @ DRAM):\\n    for j in seq(0, 16):\\n        for i in seq(0, 16):\\n            OutStaged: i8[16, 16] @ DRAM\\n            for i0 in seq(0, 16):\\n                OutStagedStaged: i8[16 - 0, 16 - 0] @ DRAM\\n                for i1 in seq(0, 16):\\n                    OutStagedStaged[i0 - 0, i1 - 0] = Out[i0, i1]\\n                for i0_1 in seq(0, 16 - 0):\\n                    for i1 in seq(0, 16 - 0):\\n                        OutStaged[i0_1 + 0, i1 + 0] = OutStagedStaged[i0_1, i1]\\n            for k in seq(0, 16):\\n                OutStaged[i, j] += In[i, k] * Weights[k, j]\\n            for i0 in seq(0, 16):\\n                for i1 in seq(0, 16):\\n                    Out[i0, i1] = OutStaged[i0, i1]'), (0.791752902097754, 0.16056218769847908, 'def generated_operation(In: i8[16, 16] @ DRAM, Weights: i8[16, 16] @ DRAM,\\n                        Out: i8[16, 16] @ DRAM):\\n    for j in seq(0, 16):\\n        for i in seq(0, 16):\\n            OutStaged: i8[16, 16] @ DRAM\\n            for i0 in seq(0, 16):\\n                OutStagedStaged: i8[16 - 0, 16 - 0] @ DRAM\\n                for i1 in seq(0, 16):\\n                    OutStagedStaged[i0 - 0, i1 - 0] = Out[i0, i1]\\n                for i0_1 in seq(0, 16 - 0):\\n                    for i1 in seq(0, 16 - 0):\\n                        OutStaged[i0_1 + 0, i1 + 0] = OutStagedStaged[i0_1, i1]\\n            for k in seq(0, 16):\\n                OutStaged[i, j] += In[i, k] * Weights[k, j]\\n            for i0 in seq(0, 16):\\n                for i1 in seq(0, 16):\\n                    Out[i0, i1] = OutStaged[i0, i1]'), (0.547565102975602, 0.8521145034132549, 'def generated_operation(In: i8[16, 16] @ DRAM, Weights: i8[16, 16] @ DRAM,\\n                        Out: i8[16, 16] @ DRAM):\\n    for j in seq(0, 16):\\n        for i in seq(0, 16):\\n            OutStaged: i8[16, 16] @ DRAM\\n            for i0 in seq(0, 16):\\n                OutStagedStaged: i8[16 - 0, 16 - 0] @ DRAM\\n                for i1 in seq(0, 16):\\n                    OutStagedStaged[i0 - 0, i1 - 0] = Out[i0, i1]\\n                for i0_1 in seq(0, 16 - 0):\\n                    for i1 in seq(0, 16 - 0):\\n                        OutStaged[i0_1 + 0, i1 + 0] = OutStagedStaged[i0_1, i1]\\n            for k in seq(0, 16):\\n                OutStaged[i, j] += In[i, k] * Weights[k, j]\\n            for i0 in seq(0, 16):\\n                for i1 in seq(0, 16):\\n                    Out[i0, i1] = OutStaged[i0, i1]'), (0.9635293261464924, 0.7989947299874097, 'def generated_operation(In: i8[16, 16] @ DRAM, Weights: i8[16, 16] @ DRAM,\\n                        Out: i8[16, 16] @ DRAM):\\n    for j in seq(0, 16):\\n        for i in seq(0, 16):\\n            OutStaged: i8[16, 16] @ DRAM\\n            for i0 in seq(0, 16):\\n                OutStagedStaged: i8[16 - 0, 16 - 0] @ DRAM\\n                for i1 in seq(0, 16):\\n                    OutStagedStaged[i0 - 0, i1 - 0] = Out[i0, i1]\\n                for i0_1 in seq(0, 16 - 0):\\n                    for i1 in seq(0, 16 - 0):\\n                        OutStaged[i0_1 + 0, i1 + 0] = OutStagedStaged[i0_1, i1]\\n            for k in seq(0, 16):\\n                OutStaged[i, j] += In[i, k] * Weights[k, j]\\n            for i0 in seq(0, 16):\\n                for i1 in seq(0, 16):\\n                    Out[i0, i1] = OutStaged[i0, i1]'))\n",
      "((0.09554131832345969, 0.11352644355317587, 'def generated_operation(In: i8[16, 16] @ DRAM, Weights: i8[16, 16] @ DRAM,\\n                        Out: i8[16, 16] @ DRAM):\\n    for j in seq(0, 16):\\n        for i in seq(0, 16):\\n            OutStaged: i8[16, 16] @ DRAM\\n            for i0 in seq(0, 16):\\n                OutStagedStaged: i8[16 - 0, 16 - 0] @ DRAM\\n                for i1 in seq(0, 16):\\n                    OutStagedStaged[i0 - 0, i1 - 0] = Out[i0, i1]\\n                for i0_1 in seq(0, 16 - 0):\\n                    for i1 in seq(0, 16 - 0):\\n                        OutStaged[i0_1 + 0, i1 + 0] = OutStagedStaged[i0_1, i1]\\n            for k in seq(0, 16):\\n                OutStaged[i, j] += In[i, k] * Weights[k, j]\\n            for i0 in seq(0, 16):\\n                for i1 in seq(0, 16):\\n                    Out[i0, i1] = OutStaged[i0, i1]'),)\n",
      "((0.24668632720220862, 0.7524104826705942, 'def generated_operation(In: i8[16, 16] @ DRAM, Weights: i8[16, 16] @ DRAM,\\n                        Out: i8[16, 16] @ DRAM):\\n    for j in seq(0, 16):\\n        for i in seq(0, 16):\\n            OutStaged: i8[16, 16] @ DRAM\\n            for i0 in seq(0, 16):\\n                OutStagedStaged: i8[16 - 0, 16 - 0] @ DRAM\\n                for i1 in seq(0, 16):\\n                    OutStagedStaged[i0 - 0, i1 - 0] = Out[i0, i1]\\n                for i0_1 in seq(0, 16 - 0):\\n                    for i1 in seq(0, 16 - 0):\\n                        OutStaged[i0_1 + 0, i1 + 0] = OutStagedStaged[i0_1, i1]\\n            for k in seq(0, 16):\\n                OutStaged[i, j] += In[i, k] * Weights[k, j]\\n            for i0 in seq(0, 16):\\n                for i1 in seq(0, 16):\\n                    Out[i0, i1] = OutStaged[i0, i1]'), (0.29011720989839374, 0.7154014590739521, 'def generated_operation(In: i8[16, 16] @ DRAM, Weights: i8[16, 16] @ DRAM,\\n                        Out: i8[16, 16] @ DRAM):\\n    for j in seq(0, 16):\\n        for i in seq(0, 16):\\n            OutStaged: i8[16, 16] @ DRAM\\n            for i0 in seq(0, 16):\\n                OutStagedStaged: i8[16 - 0, 16 - 0] @ DRAM\\n                for i1 in seq(0, 16):\\n                    OutStagedStaged[i0 - 0, i1 - 0] = Out[i0, i1]\\n                for i0_1 in seq(0, 16 - 0):\\n                    for i1 in seq(0, 16 - 0):\\n                        OutStaged[i0_1 + 0, i1 + 0] = OutStagedStaged[i0_1, i1]\\n            for k in seq(0, 16):\\n                OutStaged[i, j] += In[i, k] * Weights[k, j]\\n            for i0 in seq(0, 16):\\n                for i1 in seq(0, 16):\\n                    Out[i0, i1] = OutStaged[i0, i1]'), (0.5883261018211459, 0.13308649981311282, 'def generated_operation(In: i8[16, 16] @ DRAM, Weights: i8[16, 16] @ DRAM,\\n                        Out: i8[16, 16] @ DRAM):\\n    for j in seq(0, 16):\\n        for i in seq(0, 16):\\n            OutStaged: i8[16, 16] @ DRAM\\n            for i0 in seq(0, 16):\\n                OutStagedStaged: i8[16 - 0, 16 - 0] @ DRAM\\n                for i1 in seq(0, 16):\\n                    OutStagedStaged[i0 - 0, i1 - 0] = Out[i0, i1]\\n                for i0_1 in seq(0, 16 - 0):\\n                    for i1 in seq(0, 16 - 0):\\n                        OutStaged[i0_1 + 0, i1 + 0] = OutStagedStaged[i0_1, i1]\\n            for k in seq(0, 16):\\n                OutStaged[i, j] += In[i, k] * Weights[k, j]\\n            for i0 in seq(0, 16):\\n                for i1 in seq(0, 16):\\n                    Out[i0, i1] = OutStaged[i0, i1]'), (0.531653407176273, 0.6971231363759086, 'def generated_operation(In: i8[16, 16] @ DRAM, Weights: i8[16, 16] @ DRAM,\\n                        Out: i8[16, 16] @ DRAM):\\n    for j in seq(0, 16):\\n        for i in seq(0, 16):\\n            OutStaged: i8[16, 16] @ DRAM\\n            for i0 in seq(0, 16):\\n                OutStagedStaged: i8[16 - 0, 16 - 0] @ DRAM\\n                for i1 in seq(0, 16):\\n                    OutStagedStaged[i0 - 0, i1 - 0] = Out[i0, i1]\\n                for i0_1 in seq(0, 16 - 0):\\n                    for i1 in seq(0, 16 - 0):\\n                        OutStaged[i0_1 + 0, i1 + 0] = OutStagedStaged[i0_1, i1]\\n            for k in seq(0, 16):\\n                OutStaged[i, j] += In[i, k] * Weights[k, j]\\n            for i0 in seq(0, 16):\\n                for i1 in seq(0, 16):\\n                    Out[i0, i1] = OutStaged[i0, i1]'))\n",
      "((0.014790847054962142, 0.9256890652887187, 'def generated_operation(In: i8[16, 16] @ DRAM, Weights: i8[16, 16] @ DRAM,\\n                        Out: i8[16, 16] @ DRAM):\\n    for j in seq(0, 16):\\n        for i in seq(0, 16):\\n            OutStaged: i8[16, 16] @ DRAM\\n            for i0 in seq(0, 16):\\n                OutStagedStaged: i8[16 - 0, 16 - 0] @ DRAM\\n                for i1 in seq(0, 16):\\n                    OutStagedStaged[i0 - 0, i1 - 0] = Out[i0, i1]\\n                for i0_1 in seq(0, 16 - 0):\\n                    for i1 in seq(0, 16 - 0):\\n                        OutStaged[i0_1 + 0, i1 + 0] = OutStagedStaged[i0_1, i1]\\n            for k in seq(0, 16):\\n                OutStaged[i, j] += In[i, k] * Weights[k, j]\\n            for i0 in seq(0, 16):\\n                for i1 in seq(0, 16):\\n                    Out[i0, i1] = OutStaged[i0, i1]'),)\n",
      "((0.4083233202719546, 0.7514280325255887, 'def generated_operation(In: i8[16, 16] @ DRAM, Weights: i8[16, 16] @ DRAM,\\n                        Out: i8[16, 16] @ DRAM):\\n    for j in seq(0, 16):\\n        for i in seq(0, 16):\\n            OutStaged: i8[16, 16] @ DRAM\\n            for i0 in seq(0, 16):\\n                OutStagedStaged: i8[16 - 0, 16 - 0] @ DRAM\\n                for i1 in seq(0, 16):\\n                    OutStagedStaged[i0 - 0, i1 - 0] = Out[i0, i1]\\n                for i0_1 in seq(0, 16 - 0):\\n                    for i1 in seq(0, 16 - 0):\\n                        OutStaged[i0_1 + 0, i1 + 0] = OutStagedStaged[i0_1, i1]\\n            for k in seq(0, 16):\\n                OutStaged[i, j] += In[i, k] * Weights[k, j]\\n            for i0 in seq(0, 16):\\n                for i1 in seq(0, 16):\\n                    Out[i0, i1] = OutStaged[i0, i1]'), (0.845647366333578, 0.2527895675721483, 'def generated_operation(In: i8[16, 16] @ DRAM, Weights: i8[16, 16] @ DRAM,\\n                        Out: i8[16, 16] @ DRAM):\\n    for j in seq(0, 16):\\n        for i in seq(0, 16):\\n            OutStaged: i8[16, 16] @ DRAM\\n            for i0 in seq(0, 16):\\n                OutStagedStaged: i8[16 - 0, 16 - 0] @ DRAM\\n                for i1 in seq(0, 16):\\n                    OutStagedStaged[i0 - 0, i1 - 0] = Out[i0, i1]\\n                for i0_1 in seq(0, 16 - 0):\\n                    for i1 in seq(0, 16 - 0):\\n                        OutStaged[i0_1 + 0, i1 + 0] = OutStagedStaged[i0_1, i1]\\n            for k in seq(0, 16):\\n                OutStaged[i, j] += In[i, k] * Weights[k, j]\\n            for i0 in seq(0, 16):\\n                for i1 in seq(0, 16):\\n                    Out[i0, i1] = OutStaged[i0, i1]'), (0.6170714801428866, 0.8702457232987272, 'def generated_operation(In: i8[16, 16] @ DRAM, Weights: i8[16, 16] @ DRAM,\\n                        Out: i8[16, 16] @ DRAM):\\n    for j in seq(0, 16):\\n        for i in seq(0, 16):\\n            OutStaged: i8[16, 16] @ DRAM\\n            for i0 in seq(0, 16):\\n                OutStagedStaged: i8[16 - 0, 16 - 0] @ DRAM\\n                for i1 in seq(0, 16):\\n                    OutStagedStaged[i0 - 0, i1 - 0] = Out[i0, i1]\\n                for i0_1 in seq(0, 16 - 0):\\n                    for i1 in seq(0, 16 - 0):\\n                        OutStaged[i0_1 + 0, i1 + 0] = OutStagedStaged[i0_1, i1]\\n            for k in seq(0, 16):\\n                OutStaged[i, j] += In[i, k] * Weights[k, j]\\n            for i0 in seq(0, 16):\\n                for i1 in seq(0, 16):\\n                    Out[i0, i1] = OutStaged[i0, i1]'), (0.9667403477970871, 0.7170580552927296, 'def generated_operation(In: i8[16, 16] @ DRAM, Weights: i8[16, 16] @ DRAM,\\n                        Out: i8[16, 16] @ DRAM):\\n    for j in seq(0, 16):\\n        for i in seq(0, 16):\\n            OutStaged: i8[16, 16] @ DRAM\\n            for i0 in seq(0, 16):\\n                OutStagedStaged: i8[16 - 0, 16 - 0] @ DRAM\\n                for i1 in seq(0, 16):\\n                    OutStagedStaged[i0 - 0, i1 - 0] = Out[i0, i1]\\n                for i0_1 in seq(0, 16 - 0):\\n                    for i1 in seq(0, 16 - 0):\\n                        OutStaged[i0_1 + 0, i1 + 0] = OutStagedStaged[i0_1, i1]\\n            for k in seq(0, 16):\\n                OutStaged[i, j] += In[i, k] * Weights[k, j]\\n            for i0 in seq(0, 16):\\n                for i1 in seq(0, 16):\\n                    Out[i0, i1] = OutStaged[i0, i1]'))\n",
      "((0.25411111776530304, 0.11148031167501349, 'def generated_operation(In: i8[16, 16] @ DRAM, Weights: i8[16, 16] @ DRAM,\\n                        Out: i8[16, 16] @ DRAM):\\n    for j in seq(0, 16):\\n        for i in seq(0, 16):\\n            OutStaged: i8[16, 16] @ DRAM\\n            for i0 in seq(0, 16):\\n                OutStagedStaged: i8[16 - 0, 16 - 0] @ DRAM\\n                for i1 in seq(0, 16):\\n                    OutStagedStaged[i0 - 0, i1 - 0] = Out[i0, i1]\\n                for i0_1 in seq(0, 16 - 0):\\n                    for i1 in seq(0, 16 - 0):\\n                        OutStaged[i0_1 + 0, i1 + 0] = OutStagedStaged[i0_1, i1]\\n            for k in seq(0, 16):\\n                OutStaged[i, j] += In[i, k] * Weights[k, j]\\n            for i0 in seq(0, 16):\\n                for i1 in seq(0, 16):\\n                    Out[i0, i1] = OutStaged[i0, i1]'),)\n",
      "((0.24532555396970745, 0.7957480636710269, 'def generated_operation(In: i8[16, 16] @ DRAM, Weights: i8[16, 16] @ DRAM,\\n                        Out: i8[16, 16] @ DRAM):\\n    for j in seq(0, 16):\\n        for i in seq(0, 16):\\n            OutStaged: i8[16, 16] @ DRAM\\n            for i0 in seq(0, 16):\\n                OutStagedStaged: i8[16 - 0, 16 - 0] @ DRAM\\n                for i1 in seq(0, 16):\\n                    OutStagedStaged[i0 - 0, i1 - 0] = Out[i0, i1]\\n                for i0_1 in seq(0, 16 - 0):\\n                    for i1 in seq(0, 16 - 0):\\n                        OutStaged[i0_1 + 0, i1 + 0] = OutStagedStaged[i0_1, i1]\\n            for k in seq(0, 16):\\n                OutStaged[i, j] += In[i, k] * Weights[k, j]\\n            for i0 in seq(0, 16):\\n                for i1 in seq(0, 16):\\n                    Out[i0, i1] = OutStaged[i0, i1]'), (0.4338567117250123, 0.32981387713729293, 'def generated_operation(In: i8[16, 16] @ DRAM, Weights: i8[16, 16] @ DRAM,\\n                        Out: i8[16, 16] @ DRAM):\\n    for j in seq(0, 16):\\n        for i in seq(0, 16):\\n            OutStaged: i8[16, 16] @ DRAM\\n            for i0 in seq(0, 16):\\n                OutStagedStaged: i8[16 - 0, 16 - 0] @ DRAM\\n                for i1 in seq(0, 16):\\n                    OutStagedStaged[i0 - 0, i1 - 0] = Out[i0, i1]\\n                for i0_1 in seq(0, 16 - 0):\\n                    for i1 in seq(0, 16 - 0):\\n                        OutStaged[i0_1 + 0, i1 + 0] = OutStagedStaged[i0_1, i1]\\n            for k in seq(0, 16):\\n                OutStaged[i, j] += In[i, k] * Weights[k, j]\\n            for i0 in seq(0, 16):\\n                for i1 in seq(0, 16):\\n                    Out[i0, i1] = OutStaged[i0, i1]'), (0.6477508629902882, 0.5163226490039844, 'def generated_operation(In: i8[16, 16] @ DRAM, Weights: i8[16, 16] @ DRAM,\\n                        Out: i8[16, 16] @ DRAM):\\n    for j in seq(0, 16):\\n        for i in seq(0, 16):\\n            OutStaged: i8[16, 16] @ DRAM\\n            for i0 in seq(0, 16):\\n                OutStagedStaged: i8[16 - 0, 16 - 0] @ DRAM\\n                for i1 in seq(0, 16):\\n                    OutStagedStaged[i0 - 0, i1 - 0] = Out[i0, i1]\\n                for i0_1 in seq(0, 16 - 0):\\n                    for i1 in seq(0, 16 - 0):\\n                        OutStaged[i0_1 + 0, i1 + 0] = OutStagedStaged[i0_1, i1]\\n            for k in seq(0, 16):\\n                OutStaged[i, j] += In[i, k] * Weights[k, j]\\n            for i0 in seq(0, 16):\\n                for i1 in seq(0, 16):\\n                    Out[i0, i1] = OutStaged[i0, i1]'), (0.8267773493099024, 0.8535760674583934, 'def generated_operation(In: i8[16, 16] @ DRAM, Weights: i8[16, 16] @ DRAM,\\n                        Out: i8[16, 16] @ DRAM):\\n    for j in seq(0, 16):\\n        for i in seq(0, 16):\\n            OutStaged: i8[16, 16] @ DRAM\\n            for i0 in seq(0, 16):\\n                OutStagedStaged: i8[16 - 0, 16 - 0] @ DRAM\\n                for i1 in seq(0, 16):\\n                    OutStagedStaged[i0 - 0, i1 - 0] = Out[i0, i1]\\n                for i0_1 in seq(0, 16 - 0):\\n                    for i1 in seq(0, 16 - 0):\\n                        OutStaged[i0_1 + 0, i1 + 0] = OutStagedStaged[i0_1, i1]\\n            for k in seq(0, 16):\\n                OutStaged[i, j] += In[i, k] * Weights[k, j]\\n            for i0 in seq(0, 16):\\n                for i1 in seq(0, 16):\\n                    Out[i0, i1] = OutStaged[i0, i1]'))\n",
      "((0.18604502966395442, 0.5987889933664506, 'def generated_operation(In: i8[16, 16] @ DRAM, Weights: i8[16, 16] @ DRAM,\\n                        Out: i8[16, 16] @ DRAM):\\n    for j in seq(0, 16):\\n        for i in seq(0, 16):\\n            OutStaged: i8[16, 16] @ DRAM\\n            for i0 in seq(0, 16):\\n                OutStagedStaged: i8[16 - 0, 16 - 0] @ DRAM\\n                for i1 in seq(0, 16):\\n                    OutStagedStaged[i0 - 0, i1 - 0] = Out[i0, i1]\\n                for i0_1 in seq(0, 16 - 0):\\n                    for i1 in seq(0, 16 - 0):\\n                        OutStaged[i0_1 + 0, i1 + 0] = OutStagedStaged[i0_1, i1]\\n            for k in seq(0, 16):\\n                OutStaged[i, j] += In[i, k] * Weights[k, j]\\n            for i0 in seq(0, 16):\\n                for i1 in seq(0, 16):\\n                    Out[i0, i1] = OutStaged[i0, i1]'),)\n",
      "((0.19202194785979587, 0.6154020284128369, 'def generated_operation(In: i8[16, 16] @ DRAM, Weights: i8[16, 16] @ DRAM,\\n                        Out: i8[16, 16] @ DRAM):\\n    for j in seq(0, 16):\\n        for i in seq(0, 16):\\n            OutStaged: i8[16, 16] @ DRAM\\n            for i0 in seq(0, 16):\\n                OutStagedStaged: i8[16 - 0, 16 - 0] @ DRAM\\n                for i1 in seq(0, 16):\\n                    OutStagedStaged[i0 - 0, i1 - 0] = Out[i0, i1]\\n                for i0_1 in seq(0, 16 - 0):\\n                    for i1 in seq(0, 16 - 0):\\n                        OutStaged[i0_1 + 0, i1 + 0] = OutStagedStaged[i0_1, i1]\\n            for k in seq(0, 16):\\n                OutStaged[i, j] += In[i, k] * Weights[k, j]\\n            for i0 in seq(0, 16):\\n                for i1 in seq(0, 16):\\n                    Out[i0, i1] = OutStaged[i0, i1]'), (0.6494607256365651, 0.4573495686218172, 'def generated_operation(In: i8[16, 16] @ DRAM, Weights: i8[16, 16] @ DRAM,\\n                        Out: i8[16, 16] @ DRAM):\\n    for j in seq(0, 16):\\n        for i in seq(0, 16):\\n            OutStaged: i8[16, 16] @ DRAM\\n            for i0 in seq(0, 16):\\n                OutStagedStaged: i8[16 - 0, 16 - 0] @ DRAM\\n                for i1 in seq(0, 16):\\n                    OutStagedStaged[i0 - 0, i1 - 0] = Out[i0, i1]\\n                for i0_1 in seq(0, 16 - 0):\\n                    for i1 in seq(0, 16 - 0):\\n                        OutStaged[i0_1 + 0, i1 + 0] = OutStagedStaged[i0_1, i1]\\n            for k in seq(0, 16):\\n                OutStaged[i, j] += In[i, k] * Weights[k, j]\\n            for i0 in seq(0, 16):\\n                for i1 in seq(0, 16):\\n                    Out[i0, i1] = OutStaged[i0, i1]'), (0.822007464641952, 0.8178463688951149, 'def generated_operation(In: i8[16, 16] @ DRAM, Weights: i8[16, 16] @ DRAM,\\n                        Out: i8[16, 16] @ DRAM):\\n    for j in seq(0, 16):\\n        for i in seq(0, 16):\\n            OutStaged: i8[16, 16] @ DRAM\\n            for i0 in seq(0, 16):\\n                OutStagedStaged: i8[16 - 0, 16 - 0] @ DRAM\\n                for i1 in seq(0, 16):\\n                    OutStagedStaged[i0 - 0, i1 - 0] = Out[i0, i1]\\n                for i0_1 in seq(0, 16 - 0):\\n                    for i1 in seq(0, 16 - 0):\\n                        OutStaged[i0_1 + 0, i1 + 0] = OutStagedStaged[i0_1, i1]\\n            for k in seq(0, 16):\\n                OutStaged[i, j] += In[i, k] * Weights[k, j]\\n            for i0 in seq(0, 16):\\n                for i1 in seq(0, 16):\\n                    Out[i0, i1] = OutStaged[i0, i1]'), (0.6806918695968462, 0.1652855461378827, 'def generated_operation(In: i8[16, 16] @ DRAM, Weights: i8[16, 16] @ DRAM,\\n                        Out: i8[16, 16] @ DRAM):\\n    for j in seq(0, 16):\\n        for i in seq(0, 16):\\n            OutStaged: i8[16, 16] @ DRAM\\n            for i0 in seq(0, 16):\\n                OutStagedStaged: i8[16 - 0, 16 - 0] @ DRAM\\n                for i1 in seq(0, 16):\\n                    OutStagedStaged[i0 - 0, i1 - 0] = Out[i0, i1]\\n                for i0_1 in seq(0, 16 - 0):\\n                    for i1 in seq(0, 16 - 0):\\n                        OutStaged[i0_1 + 0, i1 + 0] = OutStagedStaged[i0_1, i1]\\n            for k in seq(0, 16):\\n                OutStaged[i, j] += In[i, k] * Weights[k, j]\\n            for i0 in seq(0, 16):\\n                for i1 in seq(0, 16):\\n                    Out[i0, i1] = OutStaged[i0, i1]'))\n",
      "((0.13436810064485516, 0.9124143194150746, 'def generated_operation(In: i8[16, 16] @ DRAM, Weights: i8[16, 16] @ DRAM,\\n                        Out: i8[16, 16] @ DRAM):\\n    for j in seq(0, 16):\\n        for i in seq(0, 16):\\n            OutStaged: i8[16, 16] @ DRAM\\n            for i0 in seq(0, 16):\\n                OutStagedStaged: i8[16 - 0, 16 - 0] @ DRAM\\n                for i1 in seq(0, 16):\\n                    OutStagedStaged[i0 - 0, i1 - 0] = Out[i0, i1]\\n                for i0_1 in seq(0, 16 - 0):\\n                    for i1 in seq(0, 16 - 0):\\n                        OutStaged[i0_1 + 0, i1 + 0] = OutStagedStaged[i0_1, i1]\\n            for k in seq(0, 16):\\n                OutStaged[i, j] += In[i, k] * Weights[k, j]\\n            for i0 in seq(0, 16):\\n                for i1 in seq(0, 16):\\n                    Out[i0, i1] = OutStaged[i0, i1]'),)\n",
      "((0.29521815602516555, 1.0572904111494834, 'def generated_operation(In: i8[16, 16] @ DRAM, Weights: i8[16, 16] @ DRAM,\\n                        Out: i8[16, 16] @ DRAM):\\n    for j in seq(0, 16):\\n        for i in seq(0, 16):\\n            OutStaged: i8[16, 16] @ DRAM\\n            for i0 in seq(0, 16):\\n                OutStagedStaged: i8[16 - 0, 16 - 0] @ DRAM\\n                for i1 in seq(0, 16):\\n                    OutStagedStaged[i0 - 0, i1 - 0] = Out[i0, i1]\\n                for i0_1 in seq(0, 16 - 0):\\n                    for i1 in seq(0, 16 - 0):\\n                        OutStaged[i0_1 + 0, i1 + 0] = OutStagedStaged[i0_1, i1]\\n            for k in seq(0, 16):\\n                OutStaged[i, j] += In[i, k] * Weights[k, j]\\n            for i0 in seq(0, 16):\\n                for i1 in seq(0, 16):\\n                    Out[i0, i1] = OutStaged[i0, i1]'), (0.5742363520233078, 0.16855400429262246, 'def generated_operation(In: i8[16, 16] @ DRAM, Weights: i8[16, 16] @ DRAM,\\n                        Out: i8[16, 16] @ DRAM):\\n    for j in seq(0, 16):\\n        for i in seq(0, 16):\\n            OutStaged: i8[16, 16] @ DRAM\\n            for i0 in seq(0, 16):\\n                OutStagedStaged: i8[16 - 0, 16 - 0] @ DRAM\\n                for i1 in seq(0, 16):\\n                    OutStagedStaged[i0 - 0, i1 - 0] = Out[i0, i1]\\n                for i0_1 in seq(0, 16 - 0):\\n                    for i1 in seq(0, 16 - 0):\\n                        OutStaged[i0_1 + 0, i1 + 0] = OutStagedStaged[i0_1, i1]\\n            for k in seq(0, 16):\\n                OutStaged[i, j] += In[i, k] * Weights[k, j]\\n            for i0 in seq(0, 16):\\n                for i1 in seq(0, 16):\\n                    Out[i0, i1] = OutStaged[i0, i1]'), (0.653656695323906, 0.16422812475588178, 'def generated_operation(In: i8[16, 16] @ DRAM, Weights: i8[16, 16] @ DRAM,\\n                        Out: i8[16, 16] @ DRAM):\\n    for j in seq(0, 16):\\n        for i in seq(0, 16):\\n            OutStaged: i8[16, 16] @ DRAM\\n            for i0 in seq(0, 16):\\n                OutStagedStaged: i8[16 - 0, 16 - 0] @ DRAM\\n                for i1 in seq(0, 16):\\n                    OutStagedStaged[i0 - 0, i1 - 0] = Out[i0, i1]\\n                for i0_1 in seq(0, 16 - 0):\\n                    for i1 in seq(0, 16 - 0):\\n                        OutStaged[i0_1 + 0, i1 + 0] = OutStagedStaged[i0_1, i1]\\n            for k in seq(0, 16):\\n                OutStaged[i, j] += In[i, k] * Weights[k, j]\\n            for i0 in seq(0, 16):\\n                for i1 in seq(0, 16):\\n                    Out[i0, i1] = OutStaged[i0, i1]'), (0.9262277707844042, 0.239033235694593, 'def generated_operation(In: i8[16, 16] @ DRAM, Weights: i8[16, 16] @ DRAM,\\n                        Out: i8[16, 16] @ DRAM):\\n    for j in seq(0, 16):\\n        for i in seq(0, 16):\\n            OutStaged: i8[16, 16] @ DRAM\\n            for i0 in seq(0, 16):\\n                OutStagedStaged: i8[16 - 0, 16 - 0] @ DRAM\\n                for i1 in seq(0, 16):\\n                    OutStagedStaged[i0 - 0, i1 - 0] = Out[i0, i1]\\n                for i0_1 in seq(0, 16 - 0):\\n                    for i1 in seq(0, 16 - 0):\\n                        OutStaged[i0_1 + 0, i1 + 0] = OutStagedStaged[i0_1, i1]\\n            for k in seq(0, 16):\\n                OutStaged[i, j] += In[i, k] * Weights[k, j]\\n            for i0 in seq(0, 16):\\n                for i1 in seq(0, 16):\\n                    Out[i0, i1] = OutStaged[i0, i1]'))\n",
      "((0.004896531776025781, 0.4500689757831947, 'def generated_operation(In: i8[16, 16] @ DRAM, Weights: i8[16, 16] @ DRAM,\\n                        Out: i8[16, 16] @ DRAM):\\n    for j in seq(0, 16):\\n        for i in seq(0, 16):\\n            OutStaged: i8[16, 16] @ DRAM\\n            for i0 in seq(0, 16):\\n                OutStagedStaged: i8[16 - 0, 16 - 0] @ DRAM\\n                for i1 in seq(0, 16):\\n                    OutStagedStaged[i0 - 0, i1 - 0] = Out[i0, i1]\\n                for i0_1 in seq(0, 16 - 0):\\n                    for i1 in seq(0, 16 - 0):\\n                        OutStaged[i0_1 + 0, i1 + 0] = OutStagedStaged[i0_1, i1]\\n            for k in seq(0, 16):\\n                OutStaged[i, j] += In[i, k] * Weights[k, j]\\n            for i0 in seq(0, 16):\\n                for i1 in seq(0, 16):\\n                    Out[i0, i1] = OutStaged[i0, i1]'),)\n",
      "((0.24267809409969432, 0.9961159085646162, 'def generated_operation(In: i8[16, 16] @ DRAM, Weights: i8[16, 16] @ DRAM,\\n                        Out: i8[16, 16] @ DRAM):\\n    for j in seq(0, 16):\\n        for i in seq(0, 16):\\n            OutStaged: i8[16, 16] @ DRAM\\n            for i0 in seq(0, 16):\\n                OutStagedStaged: i8[16 - 0, 16 - 0] @ DRAM\\n                for i1 in seq(0, 16):\\n                    OutStagedStaged[i0 - 0, i1 - 0] = Out[i0, i1]\\n                for i0_1 in seq(0, 16 - 0):\\n                    for i1 in seq(0, 16 - 0):\\n                        OutStaged[i0_1 + 0, i1 + 0] = OutStagedStaged[i0_1, i1]\\n            for k in seq(0, 16):\\n                OutStaged[i, j] += In[i, k] * Weights[k, j]\\n            for i0 in seq(0, 16):\\n                for i1 in seq(0, 16):\\n                    Out[i0, i1] = OutStaged[i0, i1]'), (0.8927994137217102, 0.4345976085500085, 'def generated_operation(In: i8[16, 16] @ DRAM, Weights: i8[16, 16] @ DRAM,\\n                        Out: i8[16, 16] @ DRAM):\\n    for j in seq(0, 16):\\n        for i in seq(0, 16):\\n            OutStaged: i8[16, 16] @ DRAM\\n            for i0 in seq(0, 16):\\n                OutStagedStaged: i8[16 - 0, 16 - 0] @ DRAM\\n                for i1 in seq(0, 16):\\n                    OutStagedStaged[i0 - 0, i1 - 0] = Out[i0, i1]\\n                for i0_1 in seq(0, 16 - 0):\\n                    for i1 in seq(0, 16 - 0):\\n                        OutStaged[i0_1 + 0, i1 + 0] = OutStagedStaged[i0_1, i1]\\n            for k in seq(0, 16):\\n                OutStaged[i, j] += In[i, k] * Weights[k, j]\\n            for i0 in seq(0, 16):\\n                for i1 in seq(0, 16):\\n                    Out[i0, i1] = OutStaged[i0, i1]'), (0.31600561161883, 0.7395324368664402, 'def generated_operation(In: i8[16, 16] @ DRAM, Weights: i8[16, 16] @ DRAM,\\n                        Out: i8[16, 16] @ DRAM):\\n    for j in seq(0, 16):\\n        for i in seq(0, 16):\\n            OutStaged: i8[16, 16] @ DRAM\\n            for i0 in seq(0, 16):\\n                OutStagedStaged: i8[16 - 0, 16 - 0] @ DRAM\\n                for i1 in seq(0, 16):\\n                    OutStagedStaged[i0 - 0, i1 - 0] = Out[i0, i1]\\n                for i0_1 in seq(0, 16 - 0):\\n                    for i1 in seq(0, 16 - 0):\\n                        OutStaged[i0_1 + 0, i1 + 0] = OutStagedStaged[i0_1, i1]\\n            for k in seq(0, 16):\\n                OutStaged[i, j] += In[i, k] * Weights[k, j]\\n            for i0 in seq(0, 16):\\n                for i1 in seq(0, 16):\\n                    Out[i0, i1] = OutStaged[i0, i1]'), (0.9041386312078192, 0.6860776484864121, 'def generated_operation(In: i8[16, 16] @ DRAM, Weights: i8[16, 16] @ DRAM,\\n                        Out: i8[16, 16] @ DRAM):\\n    for j in seq(0, 16):\\n        for i in seq(0, 16):\\n            OutStaged: i8[16, 16] @ DRAM\\n            for i0 in seq(0, 16):\\n                OutStagedStaged: i8[16 - 0, 16 - 0] @ DRAM\\n                for i1 in seq(0, 16):\\n                    OutStagedStaged[i0 - 0, i1 - 0] = Out[i0, i1]\\n                for i0_1 in seq(0, 16 - 0):\\n                    for i1 in seq(0, 16 - 0):\\n                        OutStaged[i0_1 + 0, i1 + 0] = OutStagedStaged[i0_1, i1]\\n            for k in seq(0, 16):\\n                OutStaged[i, j] += In[i, k] * Weights[k, j]\\n            for i0 in seq(0, 16):\\n                for i1 in seq(0, 16):\\n                    Out[i0, i1] = OutStaged[i0, i1]'))\n",
      "((0.15155810357592447, 0.7878648480046895, 'def generated_operation(In: i8[16, 16] @ DRAM, Weights: i8[16, 16] @ DRAM,\\n                        Out: i8[16, 16] @ DRAM):\\n    for j in seq(0, 16):\\n        for i in seq(0, 16):\\n            OutStaged: i8[16, 16] @ DRAM\\n            for i0 in seq(0, 16):\\n                OutStagedStaged: i8[16 - 0, 16 - 0] @ DRAM\\n                for i1 in seq(0, 16):\\n                    OutStagedStaged[i0 - 0, i1 - 0] = Out[i0, i1]\\n                for i0_1 in seq(0, 16 - 0):\\n                    for i1 in seq(0, 16 - 0):\\n                        OutStaged[i0_1 + 0, i1 + 0] = OutStagedStaged[i0_1, i1]\\n            for k in seq(0, 16):\\n                OutStaged[i, j] += In[i, k] * Weights[k, j]\\n            for i0 in seq(0, 16):\\n                for i1 in seq(0, 16):\\n                    Out[i0, i1] = OutStaged[i0, i1]'),)\n",
      "((0.37988922879169107, 0.9642426241046198, 'def generated_operation(In: i8[16, 16] @ DRAM, Weights: i8[16, 16] @ DRAM,\\n                        Out: i8[16, 16] @ DRAM):\\n    for j in seq(0, 16):\\n        for i in seq(0, 16):\\n            OutStaged: i8[16, 16] @ DRAM\\n            for i0 in seq(0, 16):\\n                OutStagedStaged: i8[16 - 0, 16 - 0] @ DRAM\\n                for i1 in seq(0, 16):\\n                    OutStagedStaged[i0 - 0, i1 - 0] = Out[i0, i1]\\n                for i0_1 in seq(0, 16 - 0):\\n                    for i1 in seq(0, 16 - 0):\\n                        OutStaged[i0_1 + 0, i1 + 0] = OutStagedStaged[i0_1, i1]\\n            for k in seq(0, 16):\\n                OutStaged[i, j] += In[i, k] * Weights[k, j]\\n            for i0 in seq(0, 16):\\n                for i1 in seq(0, 16):\\n                    Out[i0, i1] = OutStaged[i0, i1]'), (0.41995956232062037, 0.5953190830256334, 'def generated_operation(In: i8[16, 16] @ DRAM, Weights: i8[16, 16] @ DRAM,\\n                        Out: i8[16, 16] @ DRAM):\\n    for j in seq(0, 16):\\n        for i in seq(0, 16):\\n            OutStaged: i8[16, 16] @ DRAM\\n            for i0 in seq(0, 16):\\n                OutStagedStaged: i8[16 - 0, 16 - 0] @ DRAM\\n                for i1 in seq(0, 16):\\n                    OutStagedStaged[i0 - 0, i1 - 0] = Out[i0, i1]\\n                for i0_1 in seq(0, 16 - 0):\\n                    for i1 in seq(0, 16 - 0):\\n                        OutStaged[i0_1 + 0, i1 + 0] = OutStagedStaged[i0_1, i1]\\n            for k in seq(0, 16):\\n                OutStaged[i, j] += In[i, k] * Weights[k, j]\\n            for i0 in seq(0, 16):\\n                for i1 in seq(0, 16):\\n                    Out[i0, i1] = OutStaged[i0, i1]'), (0.7146398509812861, 0.7201920452489643, 'def generated_operation(In: i8[16, 16] @ DRAM, Weights: i8[16, 16] @ DRAM,\\n                        Out: i8[16, 16] @ DRAM):\\n    for j in seq(0, 16):\\n        for i in seq(0, 16):\\n            OutStaged: i8[16, 16] @ DRAM\\n            for i0 in seq(0, 16):\\n                OutStagedStaged: i8[16 - 0, 16 - 0] @ DRAM\\n                for i1 in seq(0, 16):\\n                    OutStagedStaged[i0 - 0, i1 - 0] = Out[i0, i1]\\n                for i0_1 in seq(0, 16 - 0):\\n                    for i1 in seq(0, 16 - 0):\\n                        OutStaged[i0_1 + 0, i1 + 0] = OutStagedStaged[i0_1, i1]\\n            for k in seq(0, 16):\\n                OutStaged[i, j] += In[i, k] * Weights[k, j]\\n            for i0 in seq(0, 16):\\n                for i1 in seq(0, 16):\\n                    Out[i0, i1] = OutStaged[i0, i1]'), (0.7010293662504349, 0.23051747153087154, 'def generated_operation(In: i8[16, 16] @ DRAM, Weights: i8[16, 16] @ DRAM,\\n                        Out: i8[16, 16] @ DRAM):\\n    for j in seq(0, 16):\\n        for i in seq(0, 16):\\n            OutStaged: i8[16, 16] @ DRAM\\n            for i0 in seq(0, 16):\\n                OutStagedStaged: i8[16 - 0, 16 - 0] @ DRAM\\n                for i1 in seq(0, 16):\\n                    OutStagedStaged[i0 - 0, i1 - 0] = Out[i0, i1]\\n                for i0_1 in seq(0, 16 - 0):\\n                    for i1 in seq(0, 16 - 0):\\n                        OutStaged[i0_1 + 0, i1 + 0] = OutStagedStaged[i0_1, i1]\\n            for k in seq(0, 16):\\n                OutStaged[i, j] += In[i, k] * Weights[k, j]\\n            for i0 in seq(0, 16):\\n                for i1 in seq(0, 16):\\n                    Out[i0, i1] = OutStaged[i0, i1]'))\n",
      "((0.3384494342068891, 0.36991980801402125, 'def generated_operation(In: i8[16, 16] @ DRAM, Weights: i8[16, 16] @ DRAM,\\n                        Out: i8[16, 16] @ DRAM):\\n    for j in seq(0, 16):\\n        for i in seq(0, 16):\\n            OutStaged: i8[16, 16] @ DRAM\\n            for i0 in seq(0, 16):\\n                OutStagedStaged: i8[16 - 0, 16 - 0] @ DRAM\\n                for i1 in seq(0, 16):\\n                    OutStagedStaged[i0 - 0, i1 - 0] = Out[i0, i1]\\n                for i0_1 in seq(0, 16 - 0):\\n                    for i1 in seq(0, 16 - 0):\\n                        OutStaged[i0_1 + 0, i1 + 0] = OutStagedStaged[i0_1, i1]\\n            for k in seq(0, 16):\\n                OutStaged[i, j] += In[i, k] * Weights[k, j]\\n            for i0 in seq(0, 16):\\n                for i1 in seq(0, 16):\\n                    Out[i0, i1] = OutStaged[i0, i1]'),)\n",
      "((0.29521991842606177, 0.871978503612041, 'def generated_operation(In: i8[16, 16] @ DRAM, Weights: i8[16, 16] @ DRAM,\\n                        Out: i8[16, 16] @ DRAM):\\n    for j in seq(0, 16):\\n        for i in seq(0, 16):\\n            OutStaged: i8[16, 16] @ DRAM\\n            for i0 in seq(0, 16):\\n                OutStagedStaged: i8[16 - 0, 16 - 0] @ DRAM\\n                for i1 in seq(0, 16):\\n                    OutStagedStaged[i0 - 0, i1 - 0] = Out[i0, i1]\\n                for i0_1 in seq(0, 16 - 0):\\n                    for i1 in seq(0, 16 - 0):\\n                        OutStaged[i0_1 + 0, i1 + 0] = OutStagedStaged[i0_1, i1]\\n            for k in seq(0, 16):\\n                OutStaged[i, j] += In[i, k] * Weights[k, j]\\n            for i0 in seq(0, 16):\\n                for i1 in seq(0, 16):\\n                    Out[i0, i1] = OutStaged[i0, i1]'), (0.4609350925530714, 0.9811132625270356, 'def generated_operation(In: i8[16, 16] @ DRAM, Weights: i8[16, 16] @ DRAM,\\n                        Out: i8[16, 16] @ DRAM):\\n    for j in seq(0, 16):\\n        for i in seq(0, 16):\\n            OutStaged: i8[16, 16] @ DRAM\\n            for i0 in seq(0, 16):\\n                OutStagedStaged: i8[16 - 0, 16 - 0] @ DRAM\\n                for i1 in seq(0, 16):\\n                    OutStagedStaged[i0 - 0, i1 - 0] = Out[i0, i1]\\n                for i0_1 in seq(0, 16 - 0):\\n                    for i1 in seq(0, 16 - 0):\\n                        OutStaged[i0_1 + 0, i1 + 0] = OutStagedStaged[i0_1, i1]\\n            for k in seq(0, 16):\\n                OutStaged[i, j] += In[i, k] * Weights[k, j]\\n            for i0 in seq(0, 16):\\n                for i1 in seq(0, 16):\\n                    Out[i0, i1] = OutStaged[i0, i1]'), (0.7519085998283715, 0.2523728276861176, 'def generated_operation(In: i8[16, 16] @ DRAM, Weights: i8[16, 16] @ DRAM,\\n                        Out: i8[16, 16] @ DRAM):\\n    for j in seq(0, 16):\\n        for i in seq(0, 16):\\n            OutStaged: i8[16, 16] @ DRAM\\n            for i0 in seq(0, 16):\\n                OutStagedStaged: i8[16 - 0, 16 - 0] @ DRAM\\n                for i1 in seq(0, 16):\\n                    OutStagedStaged[i0 - 0, i1 - 0] = Out[i0, i1]\\n                for i0_1 in seq(0, 16 - 0):\\n                    for i1 in seq(0, 16 - 0):\\n                        OutStaged[i0_1 + 0, i1 + 0] = OutStagedStaged[i0_1, i1]\\n            for k in seq(0, 16):\\n                OutStaged[i, j] += In[i, k] * Weights[k, j]\\n            for i0 in seq(0, 16):\\n                for i1 in seq(0, 16):\\n                    Out[i0, i1] = OutStaged[i0, i1]'), (0.8420163965311598, 0.7773642075049703, 'def generated_operation(In: i8[16, 16] @ DRAM, Weights: i8[16, 16] @ DRAM,\\n                        Out: i8[16, 16] @ DRAM):\\n    for j in seq(0, 16):\\n        for i in seq(0, 16):\\n            OutStaged: i8[16, 16] @ DRAM\\n            for i0 in seq(0, 16):\\n                OutStagedStaged: i8[16 - 0, 16 - 0] @ DRAM\\n                for i1 in seq(0, 16):\\n                    OutStagedStaged[i0 - 0, i1 - 0] = Out[i0, i1]\\n                for i0_1 in seq(0, 16 - 0):\\n                    for i1 in seq(0, 16 - 0):\\n                        OutStaged[i0_1 + 0, i1 + 0] = OutStagedStaged[i0_1, i1]\\n            for k in seq(0, 16):\\n                OutStaged[i, j] += In[i, k] * Weights[k, j]\\n            for i0 in seq(0, 16):\\n                for i1 in seq(0, 16):\\n                    Out[i0, i1] = OutStaged[i0, i1]'))\n",
      "((0.11144393527353691, 0.8444862443347284, 'def generated_operation(In: i8[16, 16] @ DRAM, Weights: i8[16, 16] @ DRAM,\\n                        Out: i8[16, 16] @ DRAM):\\n    for j in seq(0, 16):\\n        for i in seq(0, 16):\\n            OutStaged: i8[16, 16] @ DRAM\\n            for i0 in seq(0, 16):\\n                OutStagedStaged: i8[16 - 0, 16 - 0] @ DRAM\\n                for i1 in seq(0, 16):\\n                    OutStagedStaged[i0 - 0, i1 - 0] = Out[i0, i1]\\n                for i0_1 in seq(0, 16 - 0):\\n                    for i1 in seq(0, 16 - 0):\\n                        OutStaged[i0_1 + 0, i1 + 0] = OutStagedStaged[i0_1, i1]\\n            for k in seq(0, 16):\\n                OutStaged[i, j] += In[i, k] * Weights[k, j]\\n            for i0 in seq(0, 16):\\n                for i1 in seq(0, 16):\\n                    Out[i0, i1] = OutStaged[i0, i1]'),)\n",
      "((0.24930521078638135, 1.066775664146765, 'def generated_operation(In: i8[16, 16] @ DRAM, Weights: i8[16, 16] @ DRAM,\\n                        Out: i8[16, 16] @ DRAM):\\n    for j in seq(0, 16):\\n        for i in seq(0, 16):\\n            OutStaged: i8[16, 16] @ DRAM\\n            for i0 in seq(0, 16):\\n                OutStagedStaged: i8[16 - 0, 16 - 0] @ DRAM\\n                for i1 in seq(0, 16):\\n                    OutStagedStaged[i0 - 0, i1 - 0] = Out[i0, i1]\\n                for i0_1 in seq(0, 16 - 0):\\n                    for i1 in seq(0, 16 - 0):\\n                        OutStaged[i0_1 + 0, i1 + 0] = OutStagedStaged[i0_1, i1]\\n            for k in seq(0, 16):\\n                OutStaged[i, j] += In[i, k] * Weights[k, j]\\n            for i0 in seq(0, 16):\\n                for i1 in seq(0, 16):\\n                    Out[i0, i1] = OutStaged[i0, i1]'), (0.32232769572075415, 1.0041196881569108, 'def generated_operation(In: i8[16, 16] @ DRAM, Weights: i8[16, 16] @ DRAM,\\n                        Out: i8[16, 16] @ DRAM):\\n    for j in seq(0, 16):\\n        for i in seq(0, 16):\\n            OutStaged: i8[16, 16] @ DRAM\\n            for i0 in seq(0, 16):\\n                OutStagedStaged: i8[16 - 0, 16 - 0] @ DRAM\\n                for i1 in seq(0, 16):\\n                    OutStagedStaged[i0 - 0, i1 - 0] = Out[i0, i1]\\n                for i0_1 in seq(0, 16 - 0):\\n                    for i1 in seq(0, 16 - 0):\\n                        OutStaged[i0_1 + 0, i1 + 0] = OutStagedStaged[i0_1, i1]\\n            for k in seq(0, 16):\\n                OutStaged[i, j] += In[i, k] * Weights[k, j]\\n            for i0 in seq(0, 16):\\n                for i1 in seq(0, 16):\\n                    Out[i0, i1] = OutStaged[i0, i1]'), (0.7260386184835488, 0.2864536539933653, 'def generated_operation(In: i8[16, 16] @ DRAM, Weights: i8[16, 16] @ DRAM,\\n                        Out: i8[16, 16] @ DRAM):\\n    for j in seq(0, 16):\\n        for i in seq(0, 16):\\n            OutStaged: i8[16, 16] @ DRAM\\n            for i0 in seq(0, 16):\\n                OutStagedStaged: i8[16 - 0, 16 - 0] @ DRAM\\n                for i1 in seq(0, 16):\\n                    OutStagedStaged[i0 - 0, i1 - 0] = Out[i0, i1]\\n                for i0_1 in seq(0, 16 - 0):\\n                    for i1 in seq(0, 16 - 0):\\n                        OutStaged[i0_1 + 0, i1 + 0] = OutStagedStaged[i0_1, i1]\\n            for k in seq(0, 16):\\n                OutStaged[i, j] += In[i, k] * Weights[k, j]\\n            for i0 in seq(0, 16):\\n                for i1 in seq(0, 16):\\n                    Out[i0, i1] = OutStaged[i0, i1]'), (0.7173506749867503, 0.7728428274079897, 'def generated_operation(In: i8[16, 16] @ DRAM, Weights: i8[16, 16] @ DRAM,\\n                        Out: i8[16, 16] @ DRAM):\\n    for j in seq(0, 16):\\n        for i in seq(0, 16):\\n            OutStaged: i8[16, 16] @ DRAM\\n            for i0 in seq(0, 16):\\n                OutStagedStaged: i8[16 - 0, 16 - 0] @ DRAM\\n                for i1 in seq(0, 16):\\n                    OutStagedStaged[i0 - 0, i1 - 0] = Out[i0, i1]\\n                for i0_1 in seq(0, 16 - 0):\\n                    for i1 in seq(0, 16 - 0):\\n                        OutStaged[i0_1 + 0, i1 + 0] = OutStagedStaged[i0_1, i1]\\n            for k in seq(0, 16):\\n                OutStaged[i, j] += In[i, k] * Weights[k, j]\\n            for i0 in seq(0, 16):\\n                for i1 in seq(0, 16):\\n                    Out[i0, i1] = OutStaged[i0, i1]'))\n",
      "((0.245230595162089, 0.4367556042532884, 'def generated_operation(In: i8[16, 16] @ DRAM, Weights: i8[16, 16] @ DRAM,\\n                        Out: i8[16, 16] @ DRAM):\\n    for j in seq(0, 16):\\n        for i in seq(0, 16):\\n            OutStaged: i8[16, 16] @ DRAM\\n            for i0 in seq(0, 16):\\n                OutStagedStaged: i8[16 - 0, 16 - 0] @ DRAM\\n                for i1 in seq(0, 16):\\n                    OutStagedStaged[i0 - 0, i1 - 0] = Out[i0, i1]\\n                for i0_1 in seq(0, 16 - 0):\\n                    for i1 in seq(0, 16 - 0):\\n                        OutStaged[i0_1 + 0, i1 + 0] = OutStagedStaged[i0_1, i1]\\n            for k in seq(0, 16):\\n                OutStaged[i, j] += In[i, k] * Weights[k, j]\\n            for i0 in seq(0, 16):\\n                for i1 in seq(0, 16):\\n                    Out[i0, i1] = OutStaged[i0, i1]'),)\n",
      "((0.20292622636884705, 1.0566860654447396, 'def generated_operation(In: i8[16, 16] @ DRAM, Weights: i8[16, 16] @ DRAM,\\n                        Out: i8[16, 16] @ DRAM):\\n    for j in seq(0, 16):\\n        for i in seq(0, 16):\\n            OutStaged: i8[4 * 16, 4] @ DRAM\\n            for i0 in seq(0, 16):\\n                for i1 in seq(0, 16):\\n                    OutStaged[4 * i0 + i1 / 4, i1 % 4] = Out[i0, i1]\\n            for k in seq(0, 16):\\n                OutStaged[4 * i + j / 4, j % 4] += In[i, k] * Weights[k, j]\\n            for i0 in seq(0, 16):\\n                for i1 in seq(0, 16):\\n                    Out[i0, i1] = OutStaged[4 * i0 + i1 / 4, i1 % 4]'), (0.24731270098260483, 0.2707480954691892, 'def generated_operation(In: i8[16, 16] @ DRAM, Weights: i8[16, 16] @ DRAM,\\n                        Out: i8[16, 16] @ DRAM):\\n    for j in seq(0, 16):\\n        for i in seq(0, 16):\\n            OutStaged: i8[4 * 16, 4] @ DRAM\\n            for i0 in seq(0, 16):\\n                for i1 in seq(0, 16):\\n                    OutStaged[4 * i0 + i1 / 4, i1 % 4] = Out[i0, i1]\\n            for k in seq(0, 16):\\n                OutStaged[4 * i + j / 4, j % 4] += In[i, k] * Weights[k, j]\\n            for i0 in seq(0, 16):\\n                for i1 in seq(0, 16):\\n                    Out[i0, i1] = OutStaged[4 * i0 + i1 / 4, i1 % 4]'), (0.26821896646014154, 0.6357120587513789, 'def generated_operation(In: i8[16, 16] @ DRAM, Weights: i8[16, 16] @ DRAM,\\n                        Out: i8[16, 16] @ DRAM):\\n    for j in seq(0, 16):\\n        for i in seq(0, 16):\\n            OutStaged: i8[16, 16] @ DRAM\\n            for i0 in seq(0, 16):\\n                OutStagedStaged: i8[16 - 0, 16 - 0] @ DRAM\\n                for i1 in seq(0, 16):\\n                    OutStagedStaged[i0 - 0, i1 - 0] = Out[i0, i1]\\n                for i0_1 in seq(0, 16 - 0):\\n                    for i1 in seq(0, 16 - 0):\\n                        OutStaged[i0_1 + 0, i1 + 0] = OutStagedStaged[i0_1, i1]\\n            for k in seq(0, 16):\\n                OutStaged[i, j] += In[i, k] * Weights[k, j]\\n            for i0 in seq(0, 16):\\n                for i1 in seq(0, 16):\\n                    Out[i0, i1] = OutStaged[i0, i1]'), (0.45376340138657656, 0.6816482337513053, 'def generated_operation(In: i8[16, 16] @ DRAM, Weights: i8[16, 16] @ DRAM,\\n                        Out: i8[16, 16] @ DRAM):\\n    for j in seq(0, 16):\\n        for i in seq(0, 16):\\n            OutStaged: i8[4 * 16, 4] @ DRAM\\n            for i0 in seq(0, 16):\\n                for i1 in seq(0, 16):\\n                    OutStaged[4 * i0 + i1 / 4, i1 % 4] = Out[i0, i1]\\n            for k in seq(0, 16):\\n                OutStaged[4 * i + j / 4, j % 4] += In[i, k] * Weights[k, j]\\n            for i0 in seq(0, 16):\\n                for i1 in seq(0, 16):\\n                    Out[i0, i1] = OutStaged[4 * i0 + i1 / 4, i1 % 4]'))\n",
      "((0.12926565505109444, 0.6306591198814756, 'def generated_operation(In: i8[16, 16] @ DRAM, Weights: i8[16, 16] @ DRAM,\\n                        Out: i8[16, 16] @ DRAM):\\n    for j in seq(0, 16):\\n        for i in seq(0, 16):\\n            OutStaged: i8[4 * 16, 4] @ DRAM\\n            for i0 in seq(0, 16):\\n                for i1 in seq(0, 16):\\n                    OutStaged[4 * i0 + i1 / 4, i1 % 4] = Out[i0, i1]\\n            for k in seq(0, 16):\\n                OutStaged[4 * i + j / 4, j % 4] += In[i, k] * Weights[k, j]\\n            for i0 in seq(0, 16):\\n                for i1 in seq(0, 16):\\n                    Out[i0, i1] = OutStaged[4 * i0 + i1 / 4, i1 % 4]'),)\n",
      "((0.4438203232423046, 0.8354170611408939, 'def generated_operation(In: i8[16, 16] @ DRAM, Weights: i8[16, 16] @ DRAM,\\n                        Out: i8[16, 16] @ DRAM):\\n    for j in seq(0, 16):\\n        for i in seq(0, 16):\\n            OutStaged: i8[16, 16] @ DRAM\\n            for i0 in seq(0, 16):\\n                OutStaged[i0, 0] = Out[i0, 0]\\n                OutStaged[i0, 1] = Out[i0, 1]\\n                OutStaged[i0, 2] = Out[i0, 2]\\n                OutStaged[i0, 3] = Out[i0, 3]\\n                OutStaged[i0, 4] = Out[i0, 4]\\n                OutStaged[i0, 5] = Out[i0, 5]\\n                OutStaged[i0, 6] = Out[i0, 6]\\n                OutStaged[i0, 7] = Out[i0, 7]\\n                OutStaged[i0, 8] = Out[i0, 8]\\n                OutStaged[i0, 9] = Out[i0, 9]\\n                OutStaged[i0, 10] = Out[i0, 10]\\n                OutStaged[i0, 11] = Out[i0, 11]\\n                OutStaged[i0, 12] = Out[i0, 12]\\n                OutStaged[i0, 13] = Out[i0, 13]\\n                OutStaged[i0, 14] = Out[i0, 14]\\n                OutStaged[i0, 15] = Out[i0, 15]\\n            for k in seq(0, 16):\\n                OutStaged[i, j] += In[i, k] * Weights[k, j]\\n            for i0 in seq(0, 16):\\n                for i1 in seq(0, 16):\\n                    Out[i0, i1] = OutStaged[i0, i1]'), (0.7415873822417457, 0.2931682589873198, 'def generated_operation(In: i8[16, 16] @ DRAM, Weights: i8[16, 16] @ DRAM,\\n                        Out: i8[16, 16] @ DRAM):\\n    for j in seq(0, 16):\\n        for i in seq(0, 16):\\n            OutStaged: i8[16, 16] @ DRAM\\n            for i0 in seq(0, 16):\\n                OutStaged[i0, 0] = Out[i0, 0]\\n                OutStaged[i0, 1] = Out[i0, 1]\\n                OutStaged[i0, 2] = Out[i0, 2]\\n                OutStaged[i0, 3] = Out[i0, 3]\\n                OutStaged[i0, 4] = Out[i0, 4]\\n                OutStaged[i0, 5] = Out[i0, 5]\\n                OutStaged[i0, 6] = Out[i0, 6]\\n                OutStaged[i0, 7] = Out[i0, 7]\\n                OutStaged[i0, 8] = Out[i0, 8]\\n                OutStaged[i0, 9] = Out[i0, 9]\\n                OutStaged[i0, 10] = Out[i0, 10]\\n                OutStaged[i0, 11] = Out[i0, 11]\\n                OutStaged[i0, 12] = Out[i0, 12]\\n                OutStaged[i0, 13] = Out[i0, 13]\\n                OutStaged[i0, 14] = Out[i0, 14]\\n                OutStaged[i0, 15] = Out[i0, 15]\\n            for k in seq(0, 16):\\n                OutStaged[i, j] += In[i, k] * Weights[k, j]\\n            for i0 in seq(0, 16):\\n                for i1 in seq(0, 16):\\n                    Out[i0, i1] = OutStaged[i0, i1]'), (0.9754876828112979, 0.7945200205968594, 'def generated_operation(In: i8[16, 16] @ DRAM, Weights: i8[16, 16] @ DRAM,\\n                        Out: i8[16, 16] @ DRAM):\\n    for j in seq(0, 16):\\n        for i in seq(0, 16):\\n            OutStaged: i8[16, 16] @ DRAM\\n            for i0 in seq(0, 16):\\n                OutStaged[i0, 0] = Out[i0, 0]\\n                OutStaged[i0, 1] = Out[i0, 1]\\n                OutStaged[i0, 2] = Out[i0, 2]\\n                OutStaged[i0, 3] = Out[i0, 3]\\n                OutStaged[i0, 4] = Out[i0, 4]\\n                OutStaged[i0, 5] = Out[i0, 5]\\n                OutStaged[i0, 6] = Out[i0, 6]\\n                OutStaged[i0, 7] = Out[i0, 7]\\n                OutStaged[i0, 8] = Out[i0, 8]\\n                OutStaged[i0, 9] = Out[i0, 9]\\n                OutStaged[i0, 10] = Out[i0, 10]\\n                OutStaged[i0, 11] = Out[i0, 11]\\n                OutStaged[i0, 12] = Out[i0, 12]\\n                OutStaged[i0, 13] = Out[i0, 13]\\n                OutStaged[i0, 14] = Out[i0, 14]\\n                OutStaged[i0, 15] = Out[i0, 15]\\n            for k in seq(0, 16):\\n                OutStaged[i, j] += In[i, k] * Weights[k, j]\\n            for i0 in seq(0, 16):\\n                for i1 in seq(0, 16):\\n                    Out[i0, i1] = OutStaged[i0, i1]'), (0.9743150872621285, 0.3143627497546637, 'def generated_operation(In: i8[16, 16] @ DRAM, Weights: i8[16, 16] @ DRAM,\\n                        Out: i8[16, 16] @ DRAM):\\n    for j in seq(0, 16):\\n        for i in seq(0, 16):\\n            OutStaged: i8[16, 16] @ DRAM\\n            for i0 in seq(0, 16):\\n                OutStaged[i0, 0] = Out[i0, 0]\\n                OutStaged[i0, 1] = Out[i0, 1]\\n                OutStaged[i0, 2] = Out[i0, 2]\\n                OutStaged[i0, 3] = Out[i0, 3]\\n                OutStaged[i0, 4] = Out[i0, 4]\\n                OutStaged[i0, 5] = Out[i0, 5]\\n                OutStaged[i0, 6] = Out[i0, 6]\\n                OutStaged[i0, 7] = Out[i0, 7]\\n                OutStaged[i0, 8] = Out[i0, 8]\\n                OutStaged[i0, 9] = Out[i0, 9]\\n                OutStaged[i0, 10] = Out[i0, 10]\\n                OutStaged[i0, 11] = Out[i0, 11]\\n                OutStaged[i0, 12] = Out[i0, 12]\\n                OutStaged[i0, 13] = Out[i0, 13]\\n                OutStaged[i0, 14] = Out[i0, 14]\\n                OutStaged[i0, 15] = Out[i0, 15]\\n            for k in seq(0, 16):\\n                OutStaged[i, j] += In[i, k] * Weights[k, j]\\n            for i0 in seq(0, 16):\\n                for i1 in seq(0, 16):\\n                    Out[i0, i1] = OutStaged[i0, i1]'))\n",
      "((0.20305251287537118, 0.45139646697373537, 'def generated_operation(In: i8[16, 16] @ DRAM, Weights: i8[16, 16] @ DRAM,\\n                        Out: i8[16, 16] @ DRAM):\\n    for j in seq(0, 16):\\n        for i in seq(0, 16):\\n            OutStaged: i8[16, 16] @ DRAM\\n            for i0 in seq(0, 16):\\n                OutStaged[i0, 0] = Out[i0, 0]\\n                OutStaged[i0, 1] = Out[i0, 1]\\n                OutStaged[i0, 2] = Out[i0, 2]\\n                OutStaged[i0, 3] = Out[i0, 3]\\n                OutStaged[i0, 4] = Out[i0, 4]\\n                OutStaged[i0, 5] = Out[i0, 5]\\n                OutStaged[i0, 6] = Out[i0, 6]\\n                OutStaged[i0, 7] = Out[i0, 7]\\n                OutStaged[i0, 8] = Out[i0, 8]\\n                OutStaged[i0, 9] = Out[i0, 9]\\n                OutStaged[i0, 10] = Out[i0, 10]\\n                OutStaged[i0, 11] = Out[i0, 11]\\n                OutStaged[i0, 12] = Out[i0, 12]\\n                OutStaged[i0, 13] = Out[i0, 13]\\n                OutStaged[i0, 14] = Out[i0, 14]\\n                OutStaged[i0, 15] = Out[i0, 15]\\n            for k in seq(0, 16):\\n                OutStaged[i, j] += In[i, k] * Weights[k, j]\\n            for i0 in seq(0, 16):\\n                for i1 in seq(0, 16):\\n                    Out[i0, i1] = OutStaged[i0, i1]'),)\n",
      "((0.06473770449383887, 0.5490157587102023, 'def generated_operation(In: i8[16, 16] @ DRAM, Weights: i8[16, 16] @ DRAM,\\n                        Out: i8[16, 16] @ DRAM):\\n    for j in seq(0, 16):\\n        for i in seq(0, 16):\\n            OutStaged: i8[16, 16] @ DRAM\\n            for i0 in seq(0, 16):\\n                for i1_out in seq(0, 16 / 12):\\n                    for i1_in in seq(0, 12):\\n                        OutStaged[i0, 12 * i1_out +\\n                                  i1_in] = Out[i0, 12 * i1_out + i1_in]\\n                for i1_in in seq(0, 16 % 12):\\n                    OutStaged[i0,\\n                              i1_in + 16 / 12 * 12] = Out[i0,\\n                                                          i1_in + 16 / 12 * 12]\\n            for k in seq(0, 16):\\n                OutStaged[i, j] += In[i, k] * Weights[k, j]\\n            for i0 in seq(0, 16):\\n                for i1 in seq(0, 16):\\n                    Out[i0, i1] = OutStaged[i0, i1]'), (0.9489372150558455, 0.646765308469311, 'def generated_operation(In: i8[16, 16] @ DRAM, Weights: i8[16, 16] @ DRAM,\\n                        Out: i8[16, 16] @ DRAM):\\n    for j in seq(0, 16):\\n        for i in seq(0, 16):\\n            OutStaged: i8[16, 16] @ DRAM\\n            for i0 in seq(0, 16):\\n                OutStaged[i0, 0] = Out[i0, 0]\\n                OutStaged[i0, 1] = Out[i0, 1]\\n                OutStaged[i0, 2] = Out[i0, 2]\\n                OutStaged[i0, 3] = Out[i0, 3]\\n                OutStaged[i0, 4] = Out[i0, 4]\\n                OutStaged[i0, 5] = Out[i0, 5]\\n                OutStaged[i0, 6] = Out[i0, 6]\\n                OutStaged[i0, 7] = Out[i0, 7]\\n                OutStaged[i0, 8] = Out[i0, 8]\\n                OutStaged[i0, 9] = Out[i0, 9]\\n                OutStaged[i0, 10] = Out[i0, 10]\\n                OutStaged[i0, 11] = Out[i0, 11]\\n                OutStaged[i0, 12] = Out[i0, 12]\\n                OutStaged[i0, 13] = Out[i0, 13]\\n                OutStaged[i0, 14] = Out[i0, 14]\\n                OutStaged[i0, 15] = Out[i0, 15]\\n            for k in seq(0, 16):\\n                OutStaged[i, j] += In[i, k] * Weights[k, j]\\n            for i0 in seq(0, 16):\\n                for i1 in seq(0, 16):\\n                    Out[i0, i1] = OutStaged[i0, i1]'), (0.9995427591029308, 0.17628095302518954, 'def generated_operation(In: i8[16, 16] @ DRAM, Weights: i8[16, 16] @ DRAM,\\n                        Out: i8[16, 16] @ DRAM):\\n    for j in seq(0, 16):\\n        for i in seq(0, 16):\\n            OutStaged: i8[16, 16] @ DRAM\\n            for i0 in seq(0, 16):\\n                for i1_out in seq(0, 16 / 12):\\n                    for i1_in in seq(0, 12):\\n                        OutStaged[i0, 12 * i1_out +\\n                                  i1_in] = Out[i0, 12 * i1_out + i1_in]\\n                for i1_in in seq(0, 16 % 12):\\n                    OutStaged[i0,\\n                              i1_in + 16 / 12 * 12] = Out[i0,\\n                                                          i1_in + 16 / 12 * 12]\\n            for k in seq(0, 16):\\n                OutStaged[i, j] += In[i, k] * Weights[k, j]\\n            for i0 in seq(0, 16):\\n                for i1 in seq(0, 16):\\n                    Out[i0, i1] = OutStaged[i0, i1]'), (0.9796346540748078, 0.7632186144500712, 'def generated_operation(In: i8[16, 16] @ DRAM, Weights: i8[16, 16] @ DRAM,\\n                        Out: i8[16, 16] @ DRAM):\\n    for j in seq(0, 16):\\n        for i in seq(0, 16):\\n            OutStaged: i8[16, 16] @ DRAM\\n            for i0 in seq(0, 16):\\n                OutStaged[i0, 0] = Out[i0, 0]\\n                OutStaged[i0, 1] = Out[i0, 1]\\n                OutStaged[i0, 2] = Out[i0, 2]\\n                OutStaged[i0, 3] = Out[i0, 3]\\n                OutStaged[i0, 4] = Out[i0, 4]\\n                OutStaged[i0, 5] = Out[i0, 5]\\n                OutStaged[i0, 6] = Out[i0, 6]\\n                OutStaged[i0, 7] = Out[i0, 7]\\n                OutStaged[i0, 8] = Out[i0, 8]\\n                OutStaged[i0, 9] = Out[i0, 9]\\n                OutStaged[i0, 10] = Out[i0, 10]\\n                OutStaged[i0, 11] = Out[i0, 11]\\n                OutStaged[i0, 12] = Out[i0, 12]\\n                OutStaged[i0, 13] = Out[i0, 13]\\n                OutStaged[i0, 14] = Out[i0, 14]\\n                OutStaged[i0, 15] = Out[i0, 15]\\n            for k in seq(0, 16):\\n                OutStaged[i, j] += In[i, k] * Weights[k, j]\\n            for i0 in seq(0, 16):\\n                for i1 in seq(0, 16):\\n                    Out[i0, i1] = OutStaged[i0, i1]'))\n",
      "((0.026203295005178706, 0.8162369443281396, 'def generated_operation(In: i8[16, 16] @ DRAM, Weights: i8[16, 16] @ DRAM,\\n                        Out: i8[16, 16] @ DRAM):\\n    for j in seq(0, 16):\\n        for i in seq(0, 16):\\n            OutStaged: i8[16, 16] @ DRAM\\n            for i0 in seq(0, 16):\\n                for i1_out in seq(0, 16 / 12):\\n                    for i1_in in seq(0, 12):\\n                        OutStaged[i0, 12 * i1_out +\\n                                  i1_in] = Out[i0, 12 * i1_out + i1_in]\\n                for i1_in in seq(0, 16 % 12):\\n                    OutStaged[i0,\\n                              i1_in + 16 / 12 * 12] = Out[i0,\\n                                                          i1_in + 16 / 12 * 12]\\n            for k in seq(0, 16):\\n                OutStaged[i, j] += In[i, k] * Weights[k, j]\\n            for i0 in seq(0, 16):\\n                for i1 in seq(0, 16):\\n                    Out[i0, i1] = OutStaged[i0, i1]'),)\n",
      "((0.6224548365558441, 0.1422345158939694, 'def generated_operation(In: i8[16, 16] @ DRAM, Weights: i8[16, 16] @ DRAM,\\n                        Out: i8[16, 16] @ DRAM):\\n    for j in seq(0, 16):\\n        for i in seq(0, 16):\\n            OutStaged: i8[16, 16] @ DRAM\\n            for i0 in seq(0, 16):\\n                for i1_out in seq(0, 16 / 12):\\n                    for i1_in in seq(0, 12):\\n                        OutStaged[i0, 12 * i1_out +\\n                                  i1_in] = Out[i0, 12 * i1_out + i1_in]\\n                for i1_in in seq(0, 16 % 12):\\n                    OutStaged[i0,\\n                              i1_in + 16 / 12 * 12] = Out[i0,\\n                                                          i1_in + 16 / 12 * 12]\\n            for k in seq(0, 16):\\n                OutStaged[i, j] += In[i, k] * Weights[k, j]\\n            for i0 in seq(0, 16):\\n                for i1 in seq(0, 16):\\n                    Out[i0, i1] = OutStaged[i0, i1]'), (0.6740006317450625, 0.7686430991383548, 'def generated_operation(In: i8[16, 16] @ DRAM, Weights: i8[16, 16] @ DRAM,\\n                        Out: i8[16, 16] @ DRAM):\\n    for j in seq(0, 16):\\n        for i in seq(0, 16):\\n            OutStaged: i8[16, 16] @ DRAM\\n            for i0 in seq(0, 16):\\n                for i1_out in seq(0, 16 / 12):\\n                    for i1_in in seq(0, 12):\\n                        OutStaged[i0, 12 * i1_out +\\n                                  i1_in] = Out[i0, 12 * i1_out + i1_in]\\n                for i1_in in seq(0, 16 % 12):\\n                    OutStaged[i0,\\n                              i1_in + 16 / 12 * 12] = Out[i0,\\n                                                          i1_in + 16 / 12 * 12]\\n            for k in seq(0, 16):\\n                OutStaged[i, j] += In[i, k] * Weights[k, j]\\n            for i0 in seq(0, 16):\\n                for i1 in seq(0, 16):\\n                    Out[i0, i1] = OutStaged[i0, i1]'), (0.9765703710731323, 0.8957878793371714, 'def generated_operation(In: i8[16, 16] @ DRAM, Weights: i8[16, 16] @ DRAM,\\n                        Out: i8[16, 16] @ DRAM):\\n    for j in seq(0, 16):\\n        for i in seq(0, 16):\\n            OutStaged: i8[16, 16] @ DRAM\\n            for i0 in seq(0, 16):\\n                for i1_out in seq(0, 16 / 12):\\n                    for i1_in in seq(0, 12):\\n                        OutStaged[i0, 12 * i1_out +\\n                                  i1_in] = Out[i0, 12 * i1_out + i1_in]\\n                for i1_in in seq(0, 16 % 12):\\n                    OutStaged[i0,\\n                              i1_in + 16 / 12 * 12] = Out[i0,\\n                                                          i1_in + 16 / 12 * 12]\\n            for k in seq(0, 16):\\n                OutStaged[i, j] += In[i, k] * Weights[k, j]\\n            for i0 in seq(0, 16):\\n                for i1 in seq(0, 16):\\n                    Out[i0, i1] = OutStaged[i0, i1]'), (0.928245544031234, 0.1560817888365984, 'def generated_operation(In: i8[16, 16] @ DRAM, Weights: i8[16, 16] @ DRAM,\\n                        Out: i8[16, 16] @ DRAM):\\n    for j in seq(0, 16):\\n        for i in seq(0, 16):\\n            OutStaged: i8[16, 16] @ DRAM\\n            for i0 in seq(0, 16):\\n                for i1_out in seq(0, 16 / 12):\\n                    for i1_in in seq(0, 12):\\n                        OutStaged[i0, 12 * i1_out +\\n                                  i1_in] = Out[i0, 12 * i1_out + i1_in]\\n                for i1_in in seq(0, 16 % 12):\\n                    OutStaged[i0,\\n                              i1_in + 16 / 12 * 12] = Out[i0,\\n                                                          i1_in + 16 / 12 * 12]\\n            for k in seq(0, 16):\\n                OutStaged[i, j] += In[i, k] * Weights[k, j]\\n            for i0 in seq(0, 16):\\n                for i1 in seq(0, 16):\\n                    Out[i0, i1] = OutStaged[i0, i1]'))\n",
      "((0.5224406416269988, 0.6973036866598435, 'def generated_operation(In: i8[16, 16] @ DRAM, Weights: i8[16, 16] @ DRAM,\\n                        Out: i8[16, 16] @ DRAM):\\n    for j in seq(0, 16):\\n        for i in seq(0, 16):\\n            OutStaged: i8[16, 16] @ DRAM\\n            for i0 in seq(0, 16):\\n                for i1_out in seq(0, 16 / 12):\\n                    for i1_in in seq(0, 12):\\n                        OutStaged[i0, 12 * i1_out +\\n                                  i1_in] = Out[i0, 12 * i1_out + i1_in]\\n                for i1_in in seq(0, 16 % 12):\\n                    OutStaged[i0,\\n                              i1_in + 16 / 12 * 12] = Out[i0,\\n                                                          i1_in + 16 / 12 * 12]\\n            for k in seq(0, 16):\\n                OutStaged[i, j] += In[i, k] * Weights[k, j]\\n            for i0 in seq(0, 16):\\n                for i1 in seq(0, 16):\\n                    Out[i0, i1] = OutStaged[i0, i1]'),)\n",
      "((0.10833688984173884, 0.507684939568349, 'def generated_operation(In: i8[16, 16] @ DRAM, Weights: i8[16, 16] @ DRAM,\\n                        Out: i8[16, 16] @ DRAM):\\n    for j in seq(0, 16):\\n        for i in seq(0, 16):\\n            OutStaged: i8[16, 16] @ DRAM\\n            for i0 in seq(0, 16):\\n                for i1 in seq(0, 16):\\n                    OutStaged[i0, i1] = Out[i0, i1]\\n            for k in seq(0, 16):\\n                OutStaged[i, j] += In[i, k] * Weights[k, j]\\n            for i0 in seq(0, 16):\\n                for i1 in seq(0, 16):\\n                    Out[i0, i1] = OutStaged[i0, i1]'), (0.12271869591452722, 0.10800846336498338, 'def generated_operation(In: i8[16, 16] @ DRAM, Weights: i8[16, 16] @ DRAM,\\n                        Out: i8[16, 16] @ DRAM):\\n    for j in seq(0, 16):\\n        for i in seq(0, 16):\\n            OutStaged: i8[16, 16] @ DRAM\\n            for i0 in seq(0, 16):\\n                for i1 in seq(0, 16):\\n                    OutStaged[i0, i1] = Out[i0, i1]\\n            for k in seq(0, 16):\\n                OutStaged[i, j] += In[i, k] * Weights[k, j]\\n            for i0 in seq(0, 16):\\n                for i1 in seq(0, 16):\\n                    Out[i0, i1] = OutStaged[i0, i1]'), (0.5349620291455124, 0.34731696288064995, 'def generated_operation(In: i8[16, 16] @ DRAM, Weights: i8[16, 16] @ DRAM,\\n                        Out: i8[16, 16] @ DRAM):\\n    for j in seq(0, 16):\\n        for i in seq(0, 16):\\n            OutStaged: i8[16, 16] @ DRAM\\n            for i0 in seq(0, 16):\\n                for i1 in seq(0, 16):\\n                    OutStaged[i0, i1] = Out[i0, i1]\\n            for k in seq(0, 16):\\n                OutStaged[i, j] += In[i, k] * Weights[k, j]\\n            for i0 in seq(0, 16):\\n                for i1 in seq(0, 16):\\n                    Out[i0, i1] = OutStaged[i0, i1]'), (0.18971584371842232, 0.6968010095104512, 'def generated_operation(In: i8[16, 16] @ DRAM, Weights: i8[16, 16] @ DRAM,\\n                        Out: i8[16, 16] @ DRAM):\\n    for j in seq(0, 16):\\n        for i in seq(0, 16):\\n            OutStaged: i8[16, 16] @ DRAM\\n            for i0 in seq(0, 16):\\n                for i1_out in seq(0, 16 / 12):\\n                    for i1_in in seq(0, 12):\\n                        OutStaged[i0, 12 * i1_out +\\n                                  i1_in] = Out[i0, 12 * i1_out + i1_in]\\n                for i1_in in seq(0, 16 % 12):\\n                    OutStaged[i0,\\n                              i1_in + 16 / 12 * 12] = Out[i0,\\n                                                          i1_in + 16 / 12 * 12]\\n            for k in seq(0, 16):\\n                OutStaged[i, j] += In[i, k] * Weights[k, j]\\n            for i0 in seq(0, 16):\\n                for i1 in seq(0, 16):\\n                    Out[i0, i1] = OutStaged[i0, i1]'))\n",
      "((0.01924479531883705, 0.5726425750642823, 'def generated_operation(In: i8[16, 16] @ DRAM, Weights: i8[16, 16] @ DRAM,\\n                        Out: i8[16, 16] @ DRAM):\\n    for j in seq(0, 16):\\n        for i in seq(0, 16):\\n            OutStaged: i8[16, 16] @ DRAM\\n            for i0 in seq(0, 16):\\n                for i1 in seq(0, 16):\\n                    OutStaged[i0, i1] = Out[i0, i1]\\n            for k in seq(0, 16):\\n                OutStaged[i, j] += In[i, k] * Weights[k, j]\\n            for i0 in seq(0, 16):\\n                for i1 in seq(0, 16):\\n                    Out[i0, i1] = OutStaged[i0, i1]'),)\n",
      "()\n",
      "((0.1841022974741089, 1.0658175334224946, 'def generated_operation(In: i8[16, 16] @ DRAM, Weights: i8[16, 16] @ DRAM,\\n                        Out: i8[16, 16] @ DRAM):\\n    for j in seq(0, 16):\\n        for i in seq(0, 16):\\n            OutStaged: i8[16, 16] @ DRAM\\n            for i0 in seq(0, 16):\\n                for i1 in seq(0, 16):\\n                    OutStaged[i0, i1] = Out[i0, i1]\\n            for k in seq(0, 16):\\n                OutStaged[i, j] += In[i, k] * Weights[k, j]\\n            for i0 in seq(0, 16):\\n                for i1 in seq(0, 16):\\n                    Out[i0, i1] = OutStaged[i0, i1]'),)\n",
      "((0.004896531776025781, 0.4500689757831947, 'def generated_operation(In: i8[16, 16] @ DRAM, Weights: i8[16, 16] @ DRAM,\\n                        Out: i8[16, 16] @ DRAM):\\n    for j in seq(0, 16):\\n        for i in seq(0, 16):\\n            OutStaged: i8[16, 16] @ DRAM\\n            for i0 in seq(0, 16):\\n                OutStagedStaged: i8[16 - 0, 16 - 0] @ DRAM\\n                for i1 in seq(0, 16):\\n                    OutStagedStaged[i0 - 0, i1 - 0] = Out[i0, i1]\\n                for i0_1 in seq(0, 16 - 0):\\n                    for i1 in seq(0, 16 - 0):\\n                        OutStaged[i0_1 + 0, i1 + 0] = OutStagedStaged[i0_1, i1]\\n            for k in seq(0, 16):\\n                OutStaged[i, j] += In[i, k] * Weights[k, j]\\n            for i0 in seq(0, 16):\\n                for i1 in seq(0, 16):\\n                    Out[i0, i1] = OutStaged[i0, i1]'),)\n",
      "expanding node 12\n",
      "((0.29521815602516555, 1.0572904111494834, 'def generated_operation(In: i8[16, 16] @ DRAM, Weights: i8[16, 16] @ DRAM,\\n                        Out: i8[16, 16] @ DRAM):\\n    for j in seq(0, 16):\\n        for i in seq(0, 16):\\n            OutStaged: i8[16, 16] @ DRAM\\n            for i0 in seq(0, 16):\\n                OutStagedStaged: i8[16 - 0, 16 - 0] @ DRAM\\n                for i1 in seq(0, 16):\\n                    OutStagedStaged[i0 - 0, i1 - 0] = Out[i0, i1]\\n                for i0_1 in seq(0, 16 - 0):\\n                    for i1 in seq(0, 16 - 0):\\n                        OutStaged[i0_1 + 0, i1 + 0] = OutStagedStaged[i0_1, i1]\\n            for k in seq(0, 16):\\n                OutStaged[i, j] += In[i, k] * Weights[k, j]\\n            for i0 in seq(0, 16):\\n                for i1 in seq(0, 16):\\n                    Out[i0, i1] = OutStaged[i0, i1]'),)\n",
      "went to a thing\n",
      "WARNING: Encountered <<<unknown directive>>>: Loops j and i at /workspaces/project/src/my_out.py:7:4 cannot be reordered.\n",
      "((0.31020525376564523, 0.9453166575242345, 'def generated_operation(In: i8[16, 16] @ DRAM, Weights: i8[16, 16] @ DRAM,\\n                        Out: i8[16, 16] @ DRAM):\\n    for j in seq(0, 16):\\n        for i in seq(0, 16):\\n            OutStaged: i8[16, 16] @ DRAM\\n            for i0 in seq(0, 16):\\n                OutStagedStaged: i8[16 - 0, 16 - 0] @ DRAM\\n                OutStagedStaged[i0 - 0, 0 - 0] = Out[i0, 0]\\n                OutStagedStaged[i0 - 0, 1 - 0] = Out[i0, 1]\\n                OutStagedStaged[i0 - 0, 2 - 0] = Out[i0, 2]\\n                OutStagedStaged[i0 - 0, 3 - 0] = Out[i0, 3]\\n                OutStagedStaged[i0 - 0, 4 - 0] = Out[i0, 4]\\n                OutStagedStaged[i0 - 0, 5 - 0] = Out[i0, 5]\\n                OutStagedStaged[i0 - 0, 6 - 0] = Out[i0, 6]\\n                OutStagedStaged[i0 - 0, 7 - 0] = Out[i0, 7]\\n                OutStagedStaged[i0 - 0, 8 - 0] = Out[i0, 8]\\n                OutStagedStaged[i0 - 0, 9 - 0] = Out[i0, 9]\\n                OutStagedStaged[i0 - 0, 10 - 0] = Out[i0, 10]\\n                OutStagedStaged[i0 - 0, 11 - 0] = Out[i0, 11]\\n                OutStagedStaged[i0 - 0, 12 - 0] = Out[i0, 12]\\n                OutStagedStaged[i0 - 0, 13 - 0] = Out[i0, 13]\\n                OutStagedStaged[i0 - 0, 14 - 0] = Out[i0, 14]\\n                OutStagedStaged[i0 - 0, 15 - 0] = Out[i0, 15]\\n                for i0_1 in seq(0, 16 - 0):\\n                    for i1 in seq(0, 16 - 0):\\n                        OutStaged[i0_1 + 0, i1 + 0] = OutStagedStaged[i0_1, i1]\\n            for k in seq(0, 16):\\n                OutStaged[i, j] += In[i, k] * Weights[k, j]\\n            for i0 in seq(0, 16):\\n                for i1 in seq(0, 16):\\n                    Out[i0, i1] = OutStaged[i0, i1]'), (0.5469968015356972, 0.6009439202744872, 'def generated_operation(In: i8[16, 16] @ DRAM, Weights: i8[16, 16] @ DRAM,\\n                        Out: i8[16, 16] @ DRAM):\\n    for j in seq(0, 16):\\n        for i in seq(0, 16):\\n            OutStaged: i8[16, 16] @ DRAM\\n            for i0 in seq(0, 16):\\n                OutStagedStaged: i8[16 - 0, 16 - 0] @ DRAM\\n                for i1 in seq(0, 16):\\n                    OutStagedStaged[i0 - 0, i1 - 0] = Out[i0, i1]\\n                for i0_1 in seq(0, 16 - 0):\\n                    for i1 in seq(0, 16 - 0):\\n                        OutStaged[i0_1 + 0, i1 + 0] = OutStagedStaged[i0_1, i1]\\n            for k in seq(0, 16):\\n                OutStaged[i, j] += In[i, k] * Weights[k, j]\\n            for i1 in seq(0, 16):\\n                for i0 in seq(0, 16):\\n                    Out[i0, i1] = OutStaged[i0, i1]'), (0.6862116589153008, 0.8999699310661758, 'def generated_operation(In: i8[16, 16] @ DRAM, Weights: i8[16, 16] @ DRAM,\\n                        Out: i8[16, 16] @ DRAM):\\n    for j in seq(0, 16):\\n        for i in seq(0, 16):\\n            OutStaged: i8[16, 16] @ DRAM\\n            for i0 in seq(0, 16):\\n                OutStagedStaged: i8[16 - 0, 16 - 0] @ DRAM\\n                OutStagedStaged[i0 - 0, 0 - 0] = Out[i0, 0]\\n                OutStagedStaged[i0 - 0, 1 - 0] = Out[i0, 1]\\n                OutStagedStaged[i0 - 0, 2 - 0] = Out[i0, 2]\\n                OutStagedStaged[i0 - 0, 3 - 0] = Out[i0, 3]\\n                OutStagedStaged[i0 - 0, 4 - 0] = Out[i0, 4]\\n                OutStagedStaged[i0 - 0, 5 - 0] = Out[i0, 5]\\n                OutStagedStaged[i0 - 0, 6 - 0] = Out[i0, 6]\\n                OutStagedStaged[i0 - 0, 7 - 0] = Out[i0, 7]\\n                OutStagedStaged[i0 - 0, 8 - 0] = Out[i0, 8]\\n                OutStagedStaged[i0 - 0, 9 - 0] = Out[i0, 9]\\n                OutStagedStaged[i0 - 0, 10 - 0] = Out[i0, 10]\\n                OutStagedStaged[i0 - 0, 11 - 0] = Out[i0, 11]\\n                OutStagedStaged[i0 - 0, 12 - 0] = Out[i0, 12]\\n                OutStagedStaged[i0 - 0, 13 - 0] = Out[i0, 13]\\n                OutStagedStaged[i0 - 0, 14 - 0] = Out[i0, 14]\\n                OutStagedStaged[i0 - 0, 15 - 0] = Out[i0, 15]\\n                for i0_1 in seq(0, 16 - 0):\\n                    for i1 in seq(0, 16 - 0):\\n                        OutStaged[i0_1 + 0, i1 + 0] = OutStagedStaged[i0_1, i1]\\n            for k in seq(0, 16):\\n                OutStaged[i, j] += In[i, k] * Weights[k, j]\\n            for i0 in seq(0, 16):\\n                for i1 in seq(0, 16):\\n                    Out[i0, i1] = OutStaged[i0, i1]'), (0.7114023767538187, 0.3970859537329997, 'def generated_operation(In: i8[16, 16] @ DRAM, Weights: i8[16, 16] @ DRAM,\\n                        Out: i8[16, 16] @ DRAM):\\n    for j in seq(0, 16):\\n        for i in seq(0, 16):\\n            OutStaged: i8[16, 16] @ DRAM\\n            for i0 in seq(0, 16):\\n                OutStagedStaged: i8[16 - 0, 16 - 0] @ DRAM\\n                OutStagedStaged[i0 - 0, 0 - 0] = Out[i0, 0]\\n                OutStagedStaged[i0 - 0, 1 - 0] = Out[i0, 1]\\n                OutStagedStaged[i0 - 0, 2 - 0] = Out[i0, 2]\\n                OutStagedStaged[i0 - 0, 3 - 0] = Out[i0, 3]\\n                OutStagedStaged[i0 - 0, 4 - 0] = Out[i0, 4]\\n                OutStagedStaged[i0 - 0, 5 - 0] = Out[i0, 5]\\n                OutStagedStaged[i0 - 0, 6 - 0] = Out[i0, 6]\\n                OutStagedStaged[i0 - 0, 7 - 0] = Out[i0, 7]\\n                OutStagedStaged[i0 - 0, 8 - 0] = Out[i0, 8]\\n                OutStagedStaged[i0 - 0, 9 - 0] = Out[i0, 9]\\n                OutStagedStaged[i0 - 0, 10 - 0] = Out[i0, 10]\\n                OutStagedStaged[i0 - 0, 11 - 0] = Out[i0, 11]\\n                OutStagedStaged[i0 - 0, 12 - 0] = Out[i0, 12]\\n                OutStagedStaged[i0 - 0, 13 - 0] = Out[i0, 13]\\n                OutStagedStaged[i0 - 0, 14 - 0] = Out[i0, 14]\\n                OutStagedStaged[i0 - 0, 15 - 0] = Out[i0, 15]\\n                for i0_1 in seq(0, 16 - 0):\\n                    for i1 in seq(0, 16 - 0):\\n                        OutStaged[i0_1 + 0, i1 + 0] = OutStagedStaged[i0_1, i1]\\n            for k in seq(0, 16):\\n                OutStaged[i, j] += In[i, k] * Weights[k, j]\\n            for i0 in seq(0, 16):\\n                for i1 in seq(0, 16):\\n                    Out[i0, i1] = OutStaged[i0, i1]'))\n",
      "((0.1625466900330541, 0.9084861939456815, 'def generated_operation(In: i8[16, 16] @ DRAM, Weights: i8[16, 16] @ DRAM,\\n                        Out: i8[16, 16] @ DRAM):\\n    for j in seq(0, 16):\\n        for i in seq(0, 16):\\n            OutStaged: i8[16, 16] @ DRAM\\n            for i0 in seq(0, 16):\\n                OutStagedStaged: i8[16 - 0, 16 - 0] @ DRAM\\n                for i1 in seq(0, 16):\\n                    OutStagedStaged[i0 - 0, i1 - 0] = Out[i0, i1]\\n                for i1 in seq(0, 16 - 0):\\n                    for i0_1 in seq(0, 16 - 0):\\n                        OutStaged[i0_1 + 0, i1 + 0] = OutStagedStaged[i0_1, i1]\\n            for k in seq(0, 16):\\n                OutStaged[i, j] += In[i, k] * Weights[k, j]\\n            for i0 in seq(0, 16):\\n                for i1 in seq(0, 16):\\n                    Out[i0, i1] = OutStaged[i0, i1]'),)\n",
      "((0.2395865398585274, 0.6201502996117684, 'def generated_operation(In: i8[16, 16] @ DRAM, Weights: i8[16, 16] @ DRAM,\\n                        Out: i8[16, 16] @ DRAM):\\n    for j in seq(0, 16):\\n        for i in seq(0, 16):\\n            OutStaged: i8[16, 16] @ DRAM\\n            for i0 in seq(0, 16):\\n                OutStagedStaged: i8[16 - 0, 16 - 0] @ DRAM\\n                OutStagedStaged[i0 - 0, 0 - 0] = Out[i0, 0]\\n                OutStagedStaged[i0 - 0, 1 - 0] = Out[i0, 1]\\n                OutStagedStaged[i0 - 0, 2 - 0] = Out[i0, 2]\\n                OutStagedStaged[i0 - 0, 3 - 0] = Out[i0, 3]\\n                OutStagedStaged[i0 - 0, 4 - 0] = Out[i0, 4]\\n                OutStagedStaged[i0 - 0, 5 - 0] = Out[i0, 5]\\n                OutStagedStaged[i0 - 0, 6 - 0] = Out[i0, 6]\\n                OutStagedStaged[i0 - 0, 7 - 0] = Out[i0, 7]\\n                OutStagedStaged[i0 - 0, 8 - 0] = Out[i0, 8]\\n                OutStagedStaged[i0 - 0, 9 - 0] = Out[i0, 9]\\n                OutStagedStaged[i0 - 0, 10 - 0] = Out[i0, 10]\\n                OutStagedStaged[i0 - 0, 11 - 0] = Out[i0, 11]\\n                OutStagedStaged[i0 - 0, 12 - 0] = Out[i0, 12]\\n                OutStagedStaged[i0 - 0, 13 - 0] = Out[i0, 13]\\n                OutStagedStaged[i0 - 0, 14 - 0] = Out[i0, 14]\\n                OutStagedStaged[i0 - 0, 15 - 0] = Out[i0, 15]\\n                for i0_1 in seq(0, 16 - 0):\\n                    for i1 in seq(0, 16 - 0):\\n                        OutStaged[i0_1 + 0, i1 + 0] = OutStagedStaged[i0_1, i1]\\n            for k in seq(0, 16):\\n                OutStaged[i, j] += In[i, k] * Weights[k, j]\\n            for i0 in seq(0, 16):\\n                for i1 in seq(0, 16):\\n                    Out[i0, i1] = OutStaged[i0, i1]'), (0.31499524527550726, 0.7005127471445179, 'def generated_operation(In: i8[16, 16] @ DRAM, Weights: i8[16, 16] @ DRAM,\\n                        Out: i8[16, 16] @ DRAM):\\n    for j in seq(0, 16):\\n        for i in seq(0, 16):\\n            OutStaged: i8[16, 16] @ DRAM\\n            for i0 in seq(0, 16):\\n                OutStagedStaged: i8[16 - 0, 16 - 0] @ DRAM\\n                OutStagedStaged[i0 - 0, 0 - 0] = Out[i0, 0]\\n                OutStagedStaged[i0 - 0, 1 - 0] = Out[i0, 1]\\n                OutStagedStaged[i0 - 0, 2 - 0] = Out[i0, 2]\\n                OutStagedStaged[i0 - 0, 3 - 0] = Out[i0, 3]\\n                OutStagedStaged[i0 - 0, 4 - 0] = Out[i0, 4]\\n                OutStagedStaged[i0 - 0, 5 - 0] = Out[i0, 5]\\n                OutStagedStaged[i0 - 0, 6 - 0] = Out[i0, 6]\\n                OutStagedStaged[i0 - 0, 7 - 0] = Out[i0, 7]\\n                OutStagedStaged[i0 - 0, 8 - 0] = Out[i0, 8]\\n                OutStagedStaged[i0 - 0, 9 - 0] = Out[i0, 9]\\n                OutStagedStaged[i0 - 0, 10 - 0] = Out[i0, 10]\\n                OutStagedStaged[i0 - 0, 11 - 0] = Out[i0, 11]\\n                OutStagedStaged[i0 - 0, 12 - 0] = Out[i0, 12]\\n                OutStagedStaged[i0 - 0, 13 - 0] = Out[i0, 13]\\n                OutStagedStaged[i0 - 0, 14 - 0] = Out[i0, 14]\\n                OutStagedStaged[i0 - 0, 15 - 0] = Out[i0, 15]\\n                for i0_1 in seq(0, 16 - 0):\\n                    for i1 in seq(0, 16 - 0):\\n                        OutStaged[i0_1 + 0, i1 + 0] = OutStagedStaged[i0_1, i1]\\n            for k in seq(0, 16):\\n                OutStaged[i, j] += In[i, k] * Weights[k, j]\\n            for i0 in seq(0, 16):\\n                for i1 in seq(0, 16):\\n                    Out[i0, i1] = OutStaged[i0, i1]'), (0.7218845148923974, 0.3773455555537871, 'def generated_operation(In: i8[16, 16] @ DRAM, Weights: i8[16, 16] @ DRAM,\\n                        Out: i8[16, 16] @ DRAM):\\n    for j in seq(0, 16):\\n        for i in seq(0, 16):\\n            OutStaged: i8[16, 16] @ DRAM\\n            for i0 in seq(0, 16):\\n                OutStagedStaged: i8[16 - 0, 16 - 0] @ DRAM\\n                OutStagedStaged[i0 - 0, 0 - 0] = Out[i0, 0]\\n                OutStagedStaged[i0 - 0, 1 - 0] = Out[i0, 1]\\n                OutStagedStaged[i0 - 0, 2 - 0] = Out[i0, 2]\\n                OutStagedStaged[i0 - 0, 3 - 0] = Out[i0, 3]\\n                OutStagedStaged[i0 - 0, 4 - 0] = Out[i0, 4]\\n                OutStagedStaged[i0 - 0, 5 - 0] = Out[i0, 5]\\n                OutStagedStaged[i0 - 0, 6 - 0] = Out[i0, 6]\\n                OutStagedStaged[i0 - 0, 7 - 0] = Out[i0, 7]\\n                OutStagedStaged[i0 - 0, 8 - 0] = Out[i0, 8]\\n                OutStagedStaged[i0 - 0, 9 - 0] = Out[i0, 9]\\n                OutStagedStaged[i0 - 0, 10 - 0] = Out[i0, 10]\\n                OutStagedStaged[i0 - 0, 11 - 0] = Out[i0, 11]\\n                OutStagedStaged[i0 - 0, 12 - 0] = Out[i0, 12]\\n                OutStagedStaged[i0 - 0, 13 - 0] = Out[i0, 13]\\n                OutStagedStaged[i0 - 0, 14 - 0] = Out[i0, 14]\\n                OutStagedStaged[i0 - 0, 15 - 0] = Out[i0, 15]\\n                for i0_1 in seq(0, 16 - 0):\\n                    for i1 in seq(0, 16 - 0):\\n                        OutStaged[i0_1 + 0, i1 + 0] = OutStagedStaged[i0_1, i1]\\n            for k in seq(0, 16):\\n                OutStaged[i, j] += In[i, k] * Weights[k, j]\\n            for i0 in seq(0, 16):\\n                for i1 in seq(0, 16):\\n                    Out[i0, i1] = OutStaged[i0, i1]'), (0.6360690623484594, 0.06727466059538856, 'def generated_operation(In: i8[16, 16] @ DRAM, Weights: i8[16, 16] @ DRAM,\\n                        Out: i8[16, 16] @ DRAM):\\n    for j in seq(0, 16):\\n        for i in seq(0, 16):\\n            OutStaged: i8[16, 16] @ DRAM\\n            for i0 in seq(0, 16):\\n                OutStagedStaged: i8[16 - 0, 16 - 0] @ DRAM\\n                OutStagedStaged[i0 - 0, 0 - 0] = Out[i0, 0]\\n                OutStagedStaged[i0 - 0, 1 - 0] = Out[i0, 1]\\n                OutStagedStaged[i0 - 0, 2 - 0] = Out[i0, 2]\\n                OutStagedStaged[i0 - 0, 3 - 0] = Out[i0, 3]\\n                OutStagedStaged[i0 - 0, 4 - 0] = Out[i0, 4]\\n                OutStagedStaged[i0 - 0, 5 - 0] = Out[i0, 5]\\n                OutStagedStaged[i0 - 0, 6 - 0] = Out[i0, 6]\\n                OutStagedStaged[i0 - 0, 7 - 0] = Out[i0, 7]\\n                OutStagedStaged[i0 - 0, 8 - 0] = Out[i0, 8]\\n                OutStagedStaged[i0 - 0, 9 - 0] = Out[i0, 9]\\n                OutStagedStaged[i0 - 0, 10 - 0] = Out[i0, 10]\\n                OutStagedStaged[i0 - 0, 11 - 0] = Out[i0, 11]\\n                OutStagedStaged[i0 - 0, 12 - 0] = Out[i0, 12]\\n                OutStagedStaged[i0 - 0, 13 - 0] = Out[i0, 13]\\n                OutStagedStaged[i0 - 0, 14 - 0] = Out[i0, 14]\\n                OutStagedStaged[i0 - 0, 15 - 0] = Out[i0, 15]\\n                for i0_1 in seq(0, 16 - 0):\\n                    for i1 in seq(0, 16 - 0):\\n                        OutStaged[i0_1 + 0, i1 + 0] = OutStagedStaged[i0_1, i1]\\n            for k in seq(0, 16):\\n                OutStaged[i, j] += In[i, k] * Weights[k, j]\\n            for i0 in seq(0, 16):\\n                for i1 in seq(0, 16):\\n                    Out[i0, i1] = OutStaged[i0, i1]'))\n",
      "((0.12027759545146743, 0.0998855909706835, 'def generated_operation(In: i8[16, 16] @ DRAM, Weights: i8[16, 16] @ DRAM,\\n                        Out: i8[16, 16] @ DRAM):\\n    for j in seq(0, 16):\\n        for i in seq(0, 16):\\n            OutStaged: i8[16, 16] @ DRAM\\n            for i0 in seq(0, 16):\\n                OutStagedStaged: i8[16 - 0, 16 - 0] @ DRAM\\n                OutStagedStaged[i0 - 0, 0 - 0] = Out[i0, 0]\\n                OutStagedStaged[i0 - 0, 1 - 0] = Out[i0, 1]\\n                OutStagedStaged[i0 - 0, 2 - 0] = Out[i0, 2]\\n                OutStagedStaged[i0 - 0, 3 - 0] = Out[i0, 3]\\n                OutStagedStaged[i0 - 0, 4 - 0] = Out[i0, 4]\\n                OutStagedStaged[i0 - 0, 5 - 0] = Out[i0, 5]\\n                OutStagedStaged[i0 - 0, 6 - 0] = Out[i0, 6]\\n                OutStagedStaged[i0 - 0, 7 - 0] = Out[i0, 7]\\n                OutStagedStaged[i0 - 0, 8 - 0] = Out[i0, 8]\\n                OutStagedStaged[i0 - 0, 9 - 0] = Out[i0, 9]\\n                OutStagedStaged[i0 - 0, 10 - 0] = Out[i0, 10]\\n                OutStagedStaged[i0 - 0, 11 - 0] = Out[i0, 11]\\n                OutStagedStaged[i0 - 0, 12 - 0] = Out[i0, 12]\\n                OutStagedStaged[i0 - 0, 13 - 0] = Out[i0, 13]\\n                OutStagedStaged[i0 - 0, 14 - 0] = Out[i0, 14]\\n                OutStagedStaged[i0 - 0, 15 - 0] = Out[i0, 15]\\n                for i0_1 in seq(0, 16 - 0):\\n                    for i1 in seq(0, 16 - 0):\\n                        OutStaged[i0_1 + 0, i1 + 0] = OutStagedStaged[i0_1, i1]\\n            for k in seq(0, 16):\\n                OutStaged[i, j] += In[i, k] * Weights[k, j]\\n            for i0 in seq(0, 16):\\n                for i1 in seq(0, 16):\\n                    Out[i0, i1] = OutStaged[i0, i1]'),)\n",
      "((0.2404728548795202, 0.9435812291835747, 'def generated_operation(In: i8[16, 16] @ DRAM, Weights: i8[16, 16] @ DRAM,\\n                        Out: i8[16, 16] @ DRAM):\\n    for j in seq(0, 16):\\n        for i in seq(0, 16):\\n            OutStaged: i8[16, 16] @ DRAM\\n            for i0 in seq(0, 16):\\n                OutStagedStaged: i8[16 - 0, 16 - 0] @ DRAM\\n                for i1_out in seq(0, 16 / 12):\\n                    for i1_in in seq(0, 12):\\n                        OutStagedStaged[i0 - 0, 12 * i1_out + i1_in -\\n                                        0] = Out[i0, 12 * i1_out + i1_in]\\n                for i1_in in seq(0, 16 % 12):\\n                    OutStagedStaged[i0 - 0, i1_in + 16 / 12 * 12 -\\n                                    0] = Out[i0, i1_in + 16 / 12 * 12]\\n                for i0_1 in seq(0, 16 - 0):\\n                    for i1 in seq(0, 16 - 0):\\n                        OutStaged[i0_1 + 0, i1 + 0] = OutStagedStaged[i0_1, i1]\\n            for k in seq(0, 16):\\n                OutStaged[i, j] += In[i, k] * Weights[k, j]\\n            for i0 in seq(0, 16):\\n                for i1 in seq(0, 16):\\n                    Out[i0, i1] = OutStaged[i0, i1]'), (0.27006185766975943, 0.7158104664513204, 'def generated_operation(In: i8[16, 16] @ DRAM, Weights: i8[16, 16] @ DRAM,\\n                        Out: i8[16, 16] @ DRAM):\\n    for j in seq(0, 16):\\n        for i in seq(0, 16):\\n            OutStaged: i8[16, 16] @ DRAM\\n            for i0 in seq(0, 16):\\n                OutStagedStaged: i8[16 - 0, 16 - 0] @ DRAM\\n                for i1_out in seq(0, 16 / 12):\\n                    for i1_in in seq(0, 12):\\n                        OutStagedStaged[i0 - 0, 12 * i1_out + i1_in -\\n                                        0] = Out[i0, 12 * i1_out + i1_in]\\n                for i1_in in seq(0, 16 % 12):\\n                    OutStagedStaged[i0 - 0, i1_in + 16 / 12 * 12 -\\n                                    0] = Out[i0, i1_in + 16 / 12 * 12]\\n                for i0_1 in seq(0, 16 - 0):\\n                    for i1 in seq(0, 16 - 0):\\n                        OutStaged[i0_1 + 0, i1 + 0] = OutStagedStaged[i0_1, i1]\\n            for k in seq(0, 16):\\n                OutStaged[i, j] += In[i, k] * Weights[k, j]\\n            for i0 in seq(0, 16):\\n                for i1 in seq(0, 16):\\n                    Out[i0, i1] = OutStaged[i0, i1]'), (0.9239651555647447, 0.5290297256944295, 'def generated_operation(In: i8[16, 16] @ DRAM, Weights: i8[16, 16] @ DRAM,\\n                        Out: i8[16, 16] @ DRAM):\\n    for j in seq(0, 16):\\n        for i in seq(0, 16):\\n            OutStaged: i8[16, 16] @ DRAM\\n            for i0 in seq(0, 16):\\n                OutStagedStaged: i8[16 - 0, 16 - 0] @ DRAM\\n                OutStagedStaged[i0 - 0, 0 - 0] = Out[i0, 0]\\n                OutStagedStaged[i0 - 0, 1 - 0] = Out[i0, 1]\\n                OutStagedStaged[i0 - 0, 2 - 0] = Out[i0, 2]\\n                OutStagedStaged[i0 - 0, 3 - 0] = Out[i0, 3]\\n                OutStagedStaged[i0 - 0, 4 - 0] = Out[i0, 4]\\n                OutStagedStaged[i0 - 0, 5 - 0] = Out[i0, 5]\\n                OutStagedStaged[i0 - 0, 6 - 0] = Out[i0, 6]\\n                OutStagedStaged[i0 - 0, 7 - 0] = Out[i0, 7]\\n                OutStagedStaged[i0 - 0, 8 - 0] = Out[i0, 8]\\n                OutStagedStaged[i0 - 0, 9 - 0] = Out[i0, 9]\\n                OutStagedStaged[i0 - 0, 10 - 0] = Out[i0, 10]\\n                OutStagedStaged[i0 - 0, 11 - 0] = Out[i0, 11]\\n                OutStagedStaged[i0 - 0, 12 - 0] = Out[i0, 12]\\n                OutStagedStaged[i0 - 0, 13 - 0] = Out[i0, 13]\\n                OutStagedStaged[i0 - 0, 14 - 0] = Out[i0, 14]\\n                OutStagedStaged[i0 - 0, 15 - 0] = Out[i0, 15]\\n                for i0_1 in seq(0, 16 - 0):\\n                    for i1 in seq(0, 16 - 0):\\n                        OutStaged[i0_1 + 0, i1 + 0] = OutStagedStaged[i0_1, i1]\\n            for k in seq(0, 16):\\n                OutStaged[i, j] += In[i, k] * Weights[k, j]\\n            for i0 in seq(0, 16):\\n                for i1 in seq(0, 16):\\n                    Out[i0, i1] = OutStaged[i0, i1]'), (0.48938616745243824, 0.5083808344325986, 'def generated_operation(In: i8[16, 16] @ DRAM, Weights: i8[16, 16] @ DRAM,\\n                        Out: i8[16, 16] @ DRAM):\\n    for j in seq(0, 16):\\n        for i in seq(0, 16):\\n            OutStaged: i8[16, 16] @ DRAM\\n            for i0 in seq(0, 16):\\n                OutStagedStaged: i8[16 - 0, 16 - 0] @ DRAM\\n                for i1_out in seq(0, 16 / 12):\\n                    for i1_in in seq(0, 12):\\n                        OutStagedStaged[i0 - 0, 12 * i1_out + i1_in -\\n                                        0] = Out[i0, 12 * i1_out + i1_in]\\n                for i1_in in seq(0, 16 % 12):\\n                    OutStagedStaged[i0 - 0, i1_in + 16 / 12 * 12 -\\n                                    0] = Out[i0, i1_in + 16 / 12 * 12]\\n                for i0_1 in seq(0, 16 - 0):\\n                    for i1 in seq(0, 16 - 0):\\n                        OutStaged[i0_1 + 0, i1 + 0] = OutStagedStaged[i0_1, i1]\\n            for k in seq(0, 16):\\n                OutStaged[i, j] += In[i, k] * Weights[k, j]\\n            for i0 in seq(0, 16):\\n                for i1 in seq(0, 16):\\n                    Out[i0, i1] = OutStaged[i0, i1]'))\n",
      "((0.21318530727316076, 0.2511509568112231, 'def generated_operation(In: i8[16, 16] @ DRAM, Weights: i8[16, 16] @ DRAM,\\n                        Out: i8[16, 16] @ DRAM):\\n    for j in seq(0, 16):\\n        for i in seq(0, 16):\\n            OutStaged: i8[16, 16] @ DRAM\\n            for i0 in seq(0, 16):\\n                OutStagedStaged: i8[16 - 0, 16 - 0] @ DRAM\\n                for i1_out in seq(0, 16 / 12):\\n                    for i1_in in seq(0, 12):\\n                        OutStagedStaged[i0 - 0, 12 * i1_out + i1_in -\\n                                        0] = Out[i0, 12 * i1_out + i1_in]\\n                for i1_in in seq(0, 16 % 12):\\n                    OutStagedStaged[i0 - 0, i1_in + 16 / 12 * 12 -\\n                                    0] = Out[i0, i1_in + 16 / 12 * 12]\\n                for i0_1 in seq(0, 16 - 0):\\n                    for i1 in seq(0, 16 - 0):\\n                        OutStaged[i0_1 + 0, i1 + 0] = OutStagedStaged[i0_1, i1]\\n            for k in seq(0, 16):\\n                OutStaged[i, j] += In[i, k] * Weights[k, j]\\n            for i0 in seq(0, 16):\\n                for i1 in seq(0, 16):\\n                    Out[i0, i1] = OutStaged[i0, i1]'),)\n",
      "((0.17434167901758268, 0.9763360580059623, 'def generated_operation(In: i8[16, 16] @ DRAM, Weights: i8[16, 16] @ DRAM,\\n                        Out: i8[16, 16] @ DRAM):\\n    for j in seq(0, 16):\\n        for i in seq(0, 16):\\n            OutStaged: i8[16, 16] @ DRAM\\n            for i0 in seq(0, 16):\\n                OutStagedStaged: i8[16 - 0, 16 - 0] @ DRAM\\n                for i1_out in seq(0, 16 / 12):\\n                    for i1_in in seq(0, 12):\\n                        OutStagedStaged[i0 - 0, 12 * i1_out + i1_in -\\n                                        0] = Out[i0, 12 * i1_out + i1_in]\\n                for i1_in in seq(0, 16 % 12):\\n                    OutStagedStaged[i0 - 0, i1_in + 16 / 12 * 12 -\\n                                    0] = Out[i0, i1_in + 16 / 12 * 12]\\n                for i0_1 in seq(0, 16 - 0):\\n                    for i1 in seq(0, 16 - 0):\\n                        OutStaged[i0_1 + 0, i1 + 0] = OutStagedStaged[i0_1, i1]\\n            for k in seq(0, 16):\\n                OutStaged[i, j] += In[i, k] * Weights[k, j]\\n            for i0 in seq(0, 16):\\n                for i1 in seq(0, 16):\\n                    Out[i0, i1] = OutStaged[i0, i1]'), (0.3983978401921573, 0.669891123162244, 'def generated_operation(In: i8[16, 16] @ DRAM, Weights: i8[16, 16] @ DRAM,\\n                        Out: i8[16, 16] @ DRAM):\\n    for j in seq(0, 16):\\n        for i in seq(0, 16):\\n            OutStaged: i8[16, 16] @ DRAM\\n            for i0 in seq(0, 16):\\n                OutStagedStaged: i8[16 - 0, 16 - 0] @ DRAM\\n                for i1_out in seq(0, 16 / 12):\\n                    for i1_in in seq(0, 12):\\n                        OutStagedStaged[i0 - 0, 12 * i1_out + i1_in -\\n                                        0] = Out[i0, 12 * i1_out + i1_in]\\n                for i1_in in seq(0, 16 % 12):\\n                    OutStagedStaged[i0 - 0, i1_in + 16 / 12 * 12 -\\n                                    0] = Out[i0, i1_in + 16 / 12 * 12]\\n                for i0_1 in seq(0, 16 - 0):\\n                    for i1 in seq(0, 16 - 0):\\n                        OutStaged[i0_1 + 0, i1 + 0] = OutStagedStaged[i0_1, i1]\\n            for k in seq(0, 16):\\n                OutStaged[i, j] += In[i, k] * Weights[k, j]\\n            for i0 in seq(0, 16):\\n                for i1 in seq(0, 16):\\n                    Out[i0, i1] = OutStaged[i0, i1]'), (0.7618303715868242, 0.3527199312080278, 'def generated_operation(In: i8[16, 16] @ DRAM, Weights: i8[16, 16] @ DRAM,\\n                        Out: i8[16, 16] @ DRAM):\\n    for j in seq(0, 16):\\n        for i in seq(0, 16):\\n            OutStaged: i8[16, 16] @ DRAM\\n            for i0 in seq(0, 16):\\n                OutStagedStaged: i8[16 - 0, 16 - 0] @ DRAM\\n                for i1_out in seq(0, 16 / 12):\\n                    for i1_in in seq(0, 12):\\n                        OutStagedStaged[i0 - 0, 12 * i1_out + i1_in -\\n                                        0] = Out[i0, 12 * i1_out + i1_in]\\n                for i1_in in seq(0, 16 % 12):\\n                    OutStagedStaged[i0 - 0, i1_in + 16 / 12 * 12 -\\n                                    0] = Out[i0, i1_in + 16 / 12 * 12]\\n                for i0_1 in seq(0, 16 - 0):\\n                    for i1 in seq(0, 16 - 0):\\n                        OutStaged[i0_1 + 0, i1 + 0] = OutStagedStaged[i0_1, i1]\\n            for k in seq(0, 16):\\n                OutStaged[i, j] += In[i, k] * Weights[k, j]\\n            for i0 in seq(0, 16):\\n                for i1 in seq(0, 16):\\n                    Out[i0, i1] = OutStaged[i0, i1]'), (0.7135753043421814, 0.9053620386633101, 'def generated_operation(In: i8[16, 16] @ DRAM, Weights: i8[16, 16] @ DRAM,\\n                        Out: i8[16, 16] @ DRAM):\\n    for j in seq(0, 16):\\n        for i in seq(0, 16):\\n            OutStaged: i8[16, 16] @ DRAM\\n            for i0 in seq(0, 16):\\n                OutStagedStaged: i8[16 - 0, 16 - 0] @ DRAM\\n                for i1_out in seq(0, 16 / 12):\\n                    for i1_in in seq(0, 12):\\n                        OutStagedStaged[i0 - 0, 12 * i1_out + i1_in -\\n                                        0] = Out[i0, 12 * i1_out + i1_in]\\n                for i1_in in seq(0, 16 % 12):\\n                    OutStagedStaged[i0 - 0, i1_in + 16 / 12 * 12 -\\n                                    0] = Out[i0, i1_in + 16 / 12 * 12]\\n                for i0_1 in seq(0, 16 - 0):\\n                    for i1 in seq(0, 16 - 0):\\n                        OutStaged[i0_1 + 0, i1 + 0] = OutStagedStaged[i0_1, i1]\\n            for k in seq(0, 16):\\n                OutStaged[i, j] += In[i, k] * Weights[k, j]\\n            for i0 in seq(0, 16):\\n                for i1 in seq(0, 16):\\n                    Out[i0, i1] = OutStaged[i0, i1]'))\n",
      "((0.14105811896941056, 0.8155915966693307, 'def generated_operation(In: i8[16, 16] @ DRAM, Weights: i8[16, 16] @ DRAM,\\n                        Out: i8[16, 16] @ DRAM):\\n    for j in seq(0, 16):\\n        for i in seq(0, 16):\\n            OutStaged: i8[16, 16] @ DRAM\\n            for i0 in seq(0, 16):\\n                OutStagedStaged: i8[16 - 0, 16 - 0] @ DRAM\\n                for i1_out in seq(0, 16 / 12):\\n                    for i1_in in seq(0, 12):\\n                        OutStagedStaged[i0 - 0, 12 * i1_out + i1_in -\\n                                        0] = Out[i0, 12 * i1_out + i1_in]\\n                for i1_in in seq(0, 16 % 12):\\n                    OutStagedStaged[i0 - 0, i1_in + 16 / 12 * 12 -\\n                                    0] = Out[i0, i1_in + 16 / 12 * 12]\\n                for i0_1 in seq(0, 16 - 0):\\n                    for i1 in seq(0, 16 - 0):\\n                        OutStaged[i0_1 + 0, i1 + 0] = OutStagedStaged[i0_1, i1]\\n            for k in seq(0, 16):\\n                OutStaged[i, j] += In[i, k] * Weights[k, j]\\n            for i0 in seq(0, 16):\\n                for i1 in seq(0, 16):\\n                    Out[i0, i1] = OutStaged[i0, i1]'),)\n",
      "((0.05557152636589058, 0.8629131813770216, 'def generated_operation(In: i8[16, 16] @ DRAM, Weights: i8[16, 16] @ DRAM,\\n                        Out: i8[16, 16] @ DRAM):\\n    for j in seq(0, 16):\\n        for i in seq(0, 16):\\n            OutStaged: i8[16, 16] @ DRAM\\n            for i0 in seq(0, 16):\\n                OutStagedStaged: i8[16, 16] @ DRAM\\n                for i1 in seq(0, 16):\\n                    OutStagedStaged[i0, i1] = Out[i0, i1]\\n                for i0_1 in seq(0, 16):\\n                    for i1 in seq(0, 16):\\n                        OutStaged[i0_1, i1] = OutStagedStaged[i0_1, i1]\\n            for k in seq(0, 16):\\n                OutStaged[i, j] += In[i, k] * Weights[k, j]\\n            for i0 in seq(0, 16):\\n                for i1 in seq(0, 16):\\n                    Out[i0, i1] = OutStaged[i0, i1]'), (0.47343313008909726, 0.7386116082542542, 'def generated_operation(In: i8[16, 16] @ DRAM, Weights: i8[16, 16] @ DRAM,\\n                        Out: i8[16, 16] @ DRAM):\\n    for j in seq(0, 16):\\n        for i in seq(0, 16):\\n            OutStaged: i8[16, 16] @ DRAM\\n            for i0 in seq(0, 16):\\n                OutStagedStaged: i8[16 - 0, 16 - 0] @ DRAM\\n                for i1 in seq(0, 16):\\n                    OutStagedStaged[i0 - 0, i1 - 0] = Out[i0, i1]\\n                for i0_1 in seq(0, 16 - 0):\\n                    for i1 in seq(0, 16 - 0):\\n                        OutStaged[i0_1 + 0, i1 + 0] = OutStagedStaged[i0_1, i1]\\n            for k in seq(0, 16):\\n                OutStaged[i, j] += In[i, k] * Weights[k, j]\\n            for i0 in seq(0, 16):\\n                for i1 in seq(0, 16):\\n                    Out[i0, i1] = OutStaged[i0, i1]'), (0.5466450787821899, 0.4387603891850185, 'def generated_operation(In: i8[16, 16] @ DRAM, Weights: i8[16, 16] @ DRAM,\\n                        Out: i8[16, 16] @ DRAM):\\n    for j in seq(0, 16):\\n        for i in seq(0, 16):\\n            OutStaged: i8[16, 16] @ DRAM\\n            for i0 in seq(0, 16):\\n                OutStagedStaged: i8[16 - 0, 16 - 0] @ DRAM\\n                for i1 in seq(0, 16):\\n                    OutStagedStaged[i0 - 0, i1 - 0] = Out[i0, i1]\\n                for i0_1 in seq(0, 16 - 0):\\n                    for i1 in seq(0, 16 - 0):\\n                        OutStaged[i0_1 + 0, i1 + 0] = OutStagedStaged[i0_1, i1]\\n            for k in seq(0, 16):\\n                OutStaged[i, j] += In[i, k] * Weights[k, j]\\n            for i0 in seq(0, 16):\\n                for i1 in seq(0, 16):\\n                    Out[i0, i1] = OutStaged[i0, i1]'), (0.6909030543350323, 0.08942471390462436, 'def generated_operation(In: i8[16, 16] @ DRAM, Weights: i8[16, 16] @ DRAM,\\n                        Out: i8[16, 16] @ DRAM):\\n    for j in seq(0, 16):\\n        for i in seq(0, 16):\\n            OutStaged: i8[16, 16] @ DRAM\\n            for i0 in seq(0, 16):\\n                OutStagedStaged: i8[16 - 0, 16 - 0] @ DRAM\\n                for i1 in seq(0, 16):\\n                    OutStagedStaged[i0 - 0, i1 - 0] = Out[i0, i1]\\n                for i0_1 in seq(0, 16 - 0):\\n                    for i1 in seq(0, 16 - 0):\\n                        OutStaged[i0_1 + 0, i1 + 0] = OutStagedStaged[i0_1, i1]\\n            for k in seq(0, 16):\\n                OutStaged[i, j] += In[i, k] * Weights[k, j]\\n            for i0 in seq(0, 16):\\n                for i1 in seq(0, 16):\\n                    Out[i0, i1] = OutStaged[i0, i1]'))\n",
      "((0.004097301010844823, 0.38482351485609856, 'def generated_operation(In: i8[16, 16] @ DRAM, Weights: i8[16, 16] @ DRAM,\\n                        Out: i8[16, 16] @ DRAM):\\n    for j in seq(0, 16):\\n        for i in seq(0, 16):\\n            OutStaged: i8[16, 16] @ DRAM\\n            for i0 in seq(0, 16):\\n                OutStagedStaged: i8[16 - 0, 16 - 0] @ DRAM\\n                for i1 in seq(0, 16):\\n                    OutStagedStaged[i0 - 0, i1 - 0] = Out[i0, i1]\\n                for i0_1 in seq(0, 16 - 0):\\n                    for i1 in seq(0, 16 - 0):\\n                        OutStaged[i0_1 + 0, i1 + 0] = OutStagedStaged[i0_1, i1]\\n            for k in seq(0, 16):\\n                OutStaged[i, j] += In[i, k] * Weights[k, j]\\n            for i0 in seq(0, 16):\\n                for i1 in seq(0, 16):\\n                    Out[i0, i1] = OutStaged[i0, i1]'),)\n",
      "((0.004097301010844823, 0.38482351485609856, 'def generated_operation(In: i8[16, 16] @ DRAM, Weights: i8[16, 16] @ DRAM,\\n                        Out: i8[16, 16] @ DRAM):\\n    for j in seq(0, 16):\\n        for i in seq(0, 16):\\n            OutStaged: i8[16, 16] @ DRAM\\n            for i0 in seq(0, 16):\\n                OutStagedStaged: i8[16 - 0, 16 - 0] @ DRAM\\n                for i1 in seq(0, 16):\\n                    OutStagedStaged[i0 - 0, i1 - 0] = Out[i0, i1]\\n                for i0_1 in seq(0, 16 - 0):\\n                    for i1 in seq(0, 16 - 0):\\n                        OutStaged[i0_1 + 0, i1 + 0] = OutStagedStaged[i0_1, i1]\\n            for k in seq(0, 16):\\n                OutStaged[i, j] += In[i, k] * Weights[k, j]\\n            for i0 in seq(0, 16):\\n                for i1 in seq(0, 16):\\n                    Out[i0, i1] = OutStaged[i0, i1]'),)\n",
      "expanding node 13\n",
      "((0.05557152636589058, 0.8629131813770216, 'def generated_operation(In: i8[16, 16] @ DRAM, Weights: i8[16, 16] @ DRAM,\\n                        Out: i8[16, 16] @ DRAM):\\n    for j in seq(0, 16):\\n        for i in seq(0, 16):\\n            OutStaged: i8[16, 16] @ DRAM\\n            for i0 in seq(0, 16):\\n                OutStagedStaged: i8[16, 16] @ DRAM\\n                for i1 in seq(0, 16):\\n                    OutStagedStaged[i0, i1] = Out[i0, i1]\\n                for i0_1 in seq(0, 16):\\n                    for i1 in seq(0, 16):\\n                        OutStaged[i0_1, i1] = OutStagedStaged[i0_1, i1]\\n            for k in seq(0, 16):\\n                OutStaged[i, j] += In[i, k] * Weights[k, j]\\n            for i0 in seq(0, 16):\\n                for i1 in seq(0, 16):\\n                    Out[i0, i1] = OutStaged[i0, i1]'),)\n",
      "went to a thing\n",
      "((0.014790847054962142, 0.9256890652887187, 'def generated_operation(In: i8[16, 16] @ DRAM, Weights: i8[16, 16] @ DRAM,\\n                        Out: i8[16, 16] @ DRAM):\\n    for j in seq(0, 16):\\n        for i in seq(0, 16):\\n            OutStaged: i8[16, 16] @ DRAM\\n            for i0 in seq(0, 16):\\n                OutStagedStaged: i8[16 - 0, 16 - 0] @ DRAM\\n                for i1 in seq(0, 16):\\n                    OutStagedStaged[i0 - 0, i1 - 0] = Out[i0, i1]\\n                for i0_1 in seq(0, 16 - 0):\\n                    for i1 in seq(0, 16 - 0):\\n                        OutStaged[i0_1 + 0, i1 + 0] = OutStagedStaged[i0_1, i1]\\n            for k in seq(0, 16):\\n                OutStaged[i, j] += In[i, k] * Weights[k, j]\\n            for i0 in seq(0, 16):\\n                for i1 in seq(0, 16):\\n                    Out[i0, i1] = OutStaged[i0, i1]'),)\n",
      "expanding node 14\n",
      "((0.24668632720220862, 0.7524104826705942, 'def generated_operation(In: i8[16, 16] @ DRAM, Weights: i8[16, 16] @ DRAM,\\n                        Out: i8[16, 16] @ DRAM):\\n    for j in seq(0, 16):\\n        for i in seq(0, 16):\\n            OutStaged: i8[16, 16] @ DRAM\\n            for i0 in seq(0, 16):\\n                OutStagedStaged: i8[16 - 0, 16 - 0] @ DRAM\\n                for i1 in seq(0, 16):\\n                    OutStagedStaged[i0 - 0, i1 - 0] = Out[i0, i1]\\n                for i0_1 in seq(0, 16 - 0):\\n                    for i1 in seq(0, 16 - 0):\\n                        OutStaged[i0_1 + 0, i1 + 0] = OutStagedStaged[i0_1, i1]\\n            for k in seq(0, 16):\\n                OutStaged[i, j] += In[i, k] * Weights[k, j]\\n            for i0 in seq(0, 16):\\n                for i1 in seq(0, 16):\\n                    Out[i0, i1] = OutStaged[i0, i1]'),)\n",
      "went to a thing\n",
      "((0.01924479531883705, 0.5726425750642823, 'def generated_operation(In: i8[16, 16] @ DRAM, Weights: i8[16, 16] @ DRAM,\\n                        Out: i8[16, 16] @ DRAM):\\n    for j in seq(0, 16):\\n        for i in seq(0, 16):\\n            OutStaged: i8[16, 16] @ DRAM\\n            for i0 in seq(0, 16):\\n                for i1 in seq(0, 16):\\n                    OutStaged[i0, i1] = Out[i0, i1]\\n            for k in seq(0, 16):\\n                OutStaged[i, j] += In[i, k] * Weights[k, j]\\n            for i0 in seq(0, 16):\\n                for i1 in seq(0, 16):\\n                    Out[i0, i1] = OutStaged[i0, i1]'),)\n",
      "expanding node 15\n",
      "((0.10833688984173884, 0.507684939568349, 'def generated_operation(In: i8[16, 16] @ DRAM, Weights: i8[16, 16] @ DRAM,\\n                        Out: i8[16, 16] @ DRAM):\\n    for j in seq(0, 16):\\n        for i in seq(0, 16):\\n            OutStaged: i8[16, 16] @ DRAM\\n            for i0 in seq(0, 16):\\n                for i1 in seq(0, 16):\\n                    OutStaged[i0, i1] = Out[i0, i1]\\n            for k in seq(0, 16):\\n                OutStaged[i, j] += In[i, k] * Weights[k, j]\\n            for i0 in seq(0, 16):\\n                for i1 in seq(0, 16):\\n                    Out[i0, i1] = OutStaged[i0, i1]'),)\n",
      "went to a thing\n",
      "((0.026203295005178706, 0.8162369443281396, 'def generated_operation(In: i8[16, 16] @ DRAM, Weights: i8[16, 16] @ DRAM,\\n                        Out: i8[16, 16] @ DRAM):\\n    for j in seq(0, 16):\\n        for i in seq(0, 16):\\n            OutStaged: i8[16, 16] @ DRAM\\n            for i0 in seq(0, 16):\\n                for i1_out in seq(0, 16 / 12):\\n                    for i1_in in seq(0, 12):\\n                        OutStaged[i0, 12 * i1_out +\\n                                  i1_in] = Out[i0, 12 * i1_out + i1_in]\\n                for i1_in in seq(0, 16 % 12):\\n                    OutStaged[i0,\\n                              i1_in + 16 / 12 * 12] = Out[i0,\\n                                                          i1_in + 16 / 12 * 12]\\n            for k in seq(0, 16):\\n                OutStaged[i, j] += In[i, k] * Weights[k, j]\\n            for i0 in seq(0, 16):\\n                for i1 in seq(0, 16):\\n                    Out[i0, i1] = OutStaged[i0, i1]'),)\n",
      "expanding node 16\n",
      "((0.06473770449383887, 0.5490157587102023, 'def generated_operation(In: i8[16, 16] @ DRAM, Weights: i8[16, 16] @ DRAM,\\n                        Out: i8[16, 16] @ DRAM):\\n    for j in seq(0, 16):\\n        for i in seq(0, 16):\\n            OutStaged: i8[16, 16] @ DRAM\\n            for i0 in seq(0, 16):\\n                for i1_out in seq(0, 16 / 12):\\n                    for i1_in in seq(0, 12):\\n                        OutStaged[i0, 12 * i1_out +\\n                                  i1_in] = Out[i0, 12 * i1_out + i1_in]\\n                for i1_in in seq(0, 16 % 12):\\n                    OutStaged[i0,\\n                              i1_in + 16 / 12 * 12] = Out[i0,\\n                                                          i1_in + 16 / 12 * 12]\\n            for k in seq(0, 16):\\n                OutStaged[i, j] += In[i, k] * Weights[k, j]\\n            for i0 in seq(0, 16):\\n                for i1 in seq(0, 16):\\n                    Out[i0, i1] = OutStaged[i0, i1]'),)\n",
      "went to a thing\n",
      "WARNING: Encountered <<<unknown directive>>>: Loops j and i at /workspaces/project/src/my_out.py:7:4 cannot be reordered.\n"
     ]
    }
   ],
   "source": [
    "# @profileit(do_print=True)\n",
    "def search_procs(\n",
    "        proc: Procedure,\n",
    "        debug: bool = False,\n",
    "        compile_to_c: bool = True,\n",
    "        parallel_transforms: bool = False,\n",
    "        checkpoint_freq: int = int(1e2)\n",
    "    ):\n",
    "    \"\"\"Perform a randomized breadth-first search of all possible sequences of transformations of the procedure\"\"\"\n",
    "    seen_procs = PersistentMap(\n",
    "        filename=f\"{ARTIFACT_DIR}/seen_procs.pkl\",\n",
    "        overwrite=False\n",
    "    )\n",
    "\n",
    "    journey = VisitationTracker([(0, 0, serialize_proc(proc))])\n",
    "    nodes_expanded: int = 0\n",
    "    checkpoints_made: int = 0\n",
    "\n",
    "    while journey.hasitems():\n",
    "        nodes_expanded = (nodes_expanded + 1) % checkpoint_freq\n",
    "        print(f\"expanding node {nodes_expanded}\")\n",
    "        if nodes_expanded == 0:\n",
    "            checkpoints_made += 1\n",
    "            # save_checkpoint(num=checkpoints_made * checkpoint_freq)\n",
    "\n",
    "\n",
    "        last_estim, last_tie_breaker, p_str = journey.visit() #heappop(visitation_heap)\n",
    "        p = deserialize_proc(p_str)\n",
    "        code = extract_c_code(p)\n",
    "\n",
    "        if seen_procs.get(key=code, default=None): # this is a previously visited node, skip expansion\n",
    "            log_branch(p, None)\n",
    "            continue\n",
    "\n",
    "        seen_procs.put(key=code, value=p_str)\n",
    "        evaluation_queue.put(code)\n",
    "\n",
    "        all_tsfs = get_all_exo_tsfs(p)\n",
    "\n",
    "\n",
    "        if not parallel_transforms:\n",
    "            new_procs = [ ]\n",
    "            for tsf in all_tsfs:\n",
    "                try:\n",
    "                    np = tsf(p) # this calculation is the performance bottleneck (100% serial in #tsfs)\n",
    "                    # np_code = str(np) if not compile_to_c else extract_c_code # this cuts memory usage back only one depth\n",
    "                except:\n",
    "                    log_branch(p, None, failed=True)\n",
    "                    continue\n",
    "\n",
    "                new_procs.append((np, tsf))\n",
    "        else:\n",
    "            with concurrent.futures.ProcessPoolExecutor() as executor:\n",
    "                new_procs = list( # this doesn't work\n",
    "                    executor.map(apply_scheduled_proc, [[t, p] for t in all_tsfs])\n",
    "                )\n",
    "                # the un-pickle-ing of the return values in the above doesn't work:\n",
    "                #    - When pickling, the symbols get packed in as they \n",
    "                #        understand themselves (i.e. <thing>.__getstate__)\n",
    "                #    - The problem is that old objects don't expect to be a \n",
    "                #        part of a more complex construct and so return a\n",
    "                #        __main__.<thing> value for that\n",
    "                #    - However, for us, it's often more complicated -- including\n",
    "                #        imports and submodules, e.g. exo.<thing> due to exo \n",
    "                #        importing <thing> all the way up to its root __init__\n",
    "                #    - So when pickle tries to write to what <thing> thinks it is\n",
    "                #        and finds that that name doesn't actually exist in our\n",
    "                #        namespace, it errors\n",
    "\n",
    "        hops = [ ]\n",
    "        for np, tsf in new_procs:\n",
    "\n",
    "            if np is None:\n",
    "                log_branch(p, None, failed=True)\n",
    "                continue # filter out failed transforms\n",
    "\n",
    "            log_branch(p, np)\n",
    "\n",
    "            # We break ties with randomness\n",
    "            hop = (estimate_cost(np), last_estim + random(), serialize_proc(np))\n",
    "            # heappush(visitation_heap, hop)\n",
    "            hops.append(hop)\n",
    "\n",
    "        journey.see(hops)\n",
    "\n",
    "    return list(seen_procs.get_raw().values())\n",
    "\n",
    "\n",
    "procs = search_procs(get_exo_proc())\n",
    "procs, len(procs)"
   ]
  },
  {
   "cell_type": "markdown",
   "metadata": {},
   "source": [
    "# Exo's scheduling API (copied from docs, but very outdated)"
   ]
  },
  {
   "cell_type": "markdown",
   "metadata": {},
   "source": [
    "\n",
    "## Top-level Python function decorator\n",
    "\n",
    "1. `@proc` - decorates a Python function which is parsed and compiled as Exo. Replaces\n",
    "   the function with a `Procedure` object.\n",
    "2. `@instr` - same as `@proc`, but accepts a hardware instruction as a format string.\n",
    "3. `@config` - decorates a Python class which is parsed and compiled as an Exo\n",
    "   configuration object\n"
   ]
  },
  {
   "cell_type": "markdown",
   "metadata": {},
   "source": [
    "\n",
    "## Procedure object methods\n"
   ]
  },
  {
   "cell_type": "markdown",
   "metadata": {},
   "source": [
    "\n",
    "**Introspection operations**\n",
    "\n",
    "- `.name()` returns the procedure name.\n",
    "- `.check_effects()` forces Exo to run effect checking on the procedure.\n",
    "- `.show_effects()` prints the effects of the procedure.\n",
    "- `.show_effect(stmt)` prints the effect of the `stmt` in the procedure.\n",
    "- `.is_instr()` returns `true` if the procedure has a hardware instruction string.\n",
    "- `.get_instr()` returns the hardware instruction string.\n",
    "- `.get_ast()` returns a `QAST`, which is an AST representation suitable for\n",
    "  introspection.\n"
   ]
  },
  {
   "cell_type": "markdown",
   "metadata": {},
   "source": [
    "\n",
    "**Execution / interpretation operations**\n",
    "\n",
    "- `.compile_c(directory, filename)` compiles the procedure into C and stores\n",
    "  in `filename` in the `directory`.\n",
    "- `.interpret(**args)` runs Exo interpreter on the procedure.\n"
   ]
  },
  {
   "cell_type": "markdown",
   "metadata": {},
   "source": [
    "\n",
    "## Scheduling operations on Procedure objects\n"
   ]
  },
  {
   "cell_type": "markdown",
   "metadata": {},
   "source": [
    "\n",
    "### Loop related operations\n"
   ]
  },
  {
   "cell_type": "markdown",
   "metadata": {},
   "source": [
    "\n",
    "- `.split(loop, split_const, iter_vars, tail='guard', perfect=False)`\n",
    "  - Splits `loop` into an outer and an inner loop. The inner loop bound is `split_const` and the outer and inner loop names are specified by a list of strings `iter_vars`. If `perfect` is True, it will not introduce a tail case. `tail` specifies the tail strategies, where the options are `guard`, `cut`, and `cut_and_guard`.\n",
    "- `.fuse_loop(loop1, loop2)`\n",
    "  - Fuses two adjacent loops with a common iteration variable.\n",
    "- `.partition_loop(loop, num)`\n",
    "  - Partitions `loop` into two loops, the first running between `0` and `num` and the second between `num+1` and `loop`'s original bound.\n",
    "- `.reorder(loop1, loop2)`\n",
    "  - Reorders two nested loops. `loop2` should be nested directly inside `loop1`. `loop1` will be nested inside `loop2` after this operation.\n",
    "- `.unroll(loop)`\n",
    "  - Unrolls the loop. The loop needs to have a constant bound.\n",
    "- `.fission_after(stmt, n_lifts=1)`\n",
    "  - Fissions the `n_lifts` number of loops around the `stmt`. The fissioned loops around the `stmt` need to be directly nested with each other and the statements before and after the `stmt` should not have any allocation dependencies.\n",
    "- `.remove_loop(loop)`\n",
    "  - Replaces the loop with its body if the body is idempotent. The system must be able to prove that the loop runs at least once.\n"
   ]
  },
  {
   "cell_type": "markdown",
   "metadata": {},
   "source": [
    "\n",
    "### Buffer related operations\n"
   ]
  },
  {
   "cell_type": "markdown",
   "metadata": {},
   "source": [
    "\n",
    "- `.reuse_buffer(buf1, buf2` \n",
    "  - Reuses a buffer `buf1` in the use site of `buf2` and removes the allocation of `buf2`\n",
    "- `.inline_window(win_stmt)`\n",
    "  - Removes the window statement `win_stmt`, which is an alias to the window, and inlines the windowing in its use site\n",
    "- `.expand_dim(stmt, alloc_dim, indexing)`\n",
    "  - Expands the dimension of the allocation statement `stmt` with dimension `alloc_dim` of indexing `indexing`\n",
    "- `.bind_expr(new_name, expr)`\n",
    "  - Binds the right hand side expression `expr` to a newly allocated buffer named `new_name`\n",
    "- `.stage_mem(win_expr, new_name, stmt_start, stmt_end=None)`\n",
    "  - Stages the buffer `win_expr` to the new window expression `new_name` in statement block (`stmt_start` to `stmt_end`), and adds an initialization loop and a write-back loop\n",
    "- `.rearrange_dim(alloc, dimensions)`\n",
    "  - Takes an allocation statement and a list of integers to map the dimension. It rearranges the dimensions of `alloc` in `dimension` order. E.g., if `alloc` were `foo[N,M,K]` and the `dimension` were `[2,0,1]`, it would become `foo[K,N,M]` after this operation.\n",
    "- `.lift_alloc(alloc, n_lifts=1, keep_dims=False)`\n",
    "  - Lifts the allocation statement `alloc` out of `n_lifts` number of scopes. If and For statements are the only statements in Exo which introduce a scope. When lifting the allocation out of a for loop, it will expand its dimension to the loop bound if `keep_dims` is True.\n"
   ]
  },
  {
   "cell_type": "markdown",
   "metadata": {},
   "source": [
    "\n",
    "### Config related operations\n"
   ]
  },
  {
   "cell_type": "markdown",
   "metadata": {},
   "source": [
    "\n",
    "- `.bind_config(expr, config, field)`\n",
    "  - Binds the right hand side `expr` to `config.field`. It will replace the use site of `expr` with `config.field` and introduces a config statement of `config.field = expr`.\n",
    "- `.configwrite_root(config, field, expr)`\n",
    "  - Inserts the config statement `config.field = expr` in the beginning of the procedure.\n",
    "- `.configwrite_after(stmt, config, field, expr)`\n",
    "  - Inserts the config statement `config.field = expr` after `stmt`.\n",
    "- `.delete_config(stmt)`\n",
    "  - Deletes the configuration statement.\n"
   ]
  },
  {
   "cell_type": "markdown",
   "metadata": {},
   "source": [
    "\n",
    "### Other scheduling operations\n"
   ]
  },
  {
   "cell_type": "markdown",
   "metadata": {},
   "source": [
    "\n",
    "- `.add_assertion(assertion)`\n",
    "  - Asserts the truth of the expression `assertion` at the beginning of the procedure.\n",
    "- `.lift_if(if, n_lifts=1)`\n",
    "  - Lifts the if statement `if` out of `n_lifts` number of scopes. This is similar to `reorder()`, but for if statements.\n",
    "- `.eliminate_dead_code(stmt)`\n",
    "  - Eliminates `if` statement if condition is always True or False. Eliminates `for` statement if condition is always False.\n",
    "- `.delete_pass()`\n",
    "  - Deletes a `Pass` statement in the procedure.\n",
    "- `.reorder_stmts(stmt1, stmt2)`\n",
    "  - Reorder two adjacent statements `stmt1` and `stmt2`. After this operation, the order will be `stmt2` `stmt1`.\n",
    "  - `.reorder_before(stmt)`\n",
    "    - Move the statement `stmt` before the previous statement. This is a shorthand for `reorder_stmts()`.\n",
    "- `.replace(subproc, stmt)`\n",
    "  - Replace the statement with a call to `subproc`. This operation is one of our contributions and is explained in detail in the paper.\n",
    "- `.replace_all(subproc)`\n",
    "  - Eagerly replace every matching statement with a call to `subproc`.\n",
    "- `.inline(call_site)`\n",
    "  - Inline the function call.\n",
    "- `.is_eq(another_proc)`\n",
    "  - Returns True if `another_proc` is equivalent to the procedure.\n",
    "- `.call_eqv(eqv_proc, call_site)`\n",
    "  - Replace the function call statement of `call_site` with a call to an equivalent procedure `eqv_proc`.\n",
    "- `.repeat(directive, *args)`\n",
    "  - Continue to run the directive until it fails. The directive and its arguments are given separately, e.g. `proc.repeat(Procedure.inline, \"proc_to_inline(_)\")`\n",
    "- `.simplify()`\n",
    "  - Simplify the code in the procedure body. Tries to reduce expressions to constants and eliminate dead branches and loops. Uses branch conditions to simplify expressions inside the branches.\n",
    "- `.rename(new_name)`\n",
    "  - Rename this procedure to `new_name`.\n",
    "- `.make_instr(instr_string)`\n",
    "  - Converts this procedure to an instruction procedure with instruction `instr_string`.\n",
    "- `.partial_eval(*args, **kwargs)`\n",
    "  - Specializes this procedure to the given argument values.\n",
    "- `.set_precision(name, type)`\n",
    "  - Sets the precision type of `name` to `type`.\n",
    "- `.set_window(name, is_window)`\n",
    "  - If `is_window` is True, it sets the buffer `name` to window type, instead of a tensor type.\n",
    "- `.set_memory(name, mem_type)`\n",
    "  - Sets a buffer `name`'s memory type to `mem_type`.\n"
   ]
  },
  {
   "cell_type": "markdown",
   "metadata": {},
   "source": []
  }
 ],
 "metadata": {
  "kernelspec": {
   "display_name": "Python 3",
   "language": "python",
   "name": "python3"
  },
  "language_info": {
   "codemirror_mode": {
    "name": "ipython",
    "version": 3
   },
   "file_extension": ".py",
   "mimetype": "text/x-python",
   "name": "python",
   "nbconvert_exporter": "python",
   "pygments_lexer": "ipython3",
   "version": "3.10.13"
  }
 },
 "nbformat": 4,
 "nbformat_minor": 2
}
