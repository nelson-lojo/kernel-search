{
 "cells": [
  {
   "cell_type": "code",
   "execution_count": 2,
   "metadata": {},
   "outputs": [],
   "source": [
    "from __future__ import annotations\n",
    "from exo import proc, DRAM\n",
    "\n",
    "import os\n",
    "\n",
    "from train import BASE_EXO, evaluate_out"
   ]
  },
  {
   "cell_type": "code",
   "execution_count": 11,
   "metadata": {},
   "outputs": [],
   "source": [
    "from pprint import pprint"
   ]
  },
  {
   "cell_type": "code",
   "execution_count": 3,
   "metadata": {},
   "outputs": [],
   "source": [
    "def get_exo_proc():\n",
    "    @proc\n",
    "    def generated_operation(\n",
    "        In: i8[16, 16] @ DRAM,\n",
    "        Weights: i8[16, 16] @ DRAM,\n",
    "        Out: i8[16, 16] @ DRAM,\n",
    "    ):\n",
    "        for i in seq(0, 16):\n",
    "            for j in seq(0, 16):\n",
    "                for k in seq(0, 16):\n",
    "                    Out[i, j] += In[i, k] * Weights[k, j]\n",
    "\n",
    "    return generated_operation\n",
    "\n",
    "def extract_c_code(proc):\n",
    "    return proc.c_code_str().split(\"#include <stdlib.h>\")[-1]\n"
   ]
  },
  {
   "cell_type": "code",
   "execution_count": 4,
   "metadata": {},
   "outputs": [],
   "source": [
    "def get_valid_tsfs(proc):\n",
    "    pass"
   ]
  },
  {
   "cell_type": "code",
   "execution_count": 13,
   "metadata": {},
   "outputs": [
    {
     "name": "stdout",
     "output_type": "stream",
     "text": [
      "Proc(name='generated_operation',\n",
      "     args=[FnArg(name='In',\n",
      "                 type=tensor(hi=[Const(val=16, type=int()),\n",
      "                                 Const(val=16, type=int())],\n",
      "                             is_window=False,\n",
      "                             type=i8()),\n",
      "                 memory=<class 'exo.memory.DRAM'>),\n",
      "           FnArg(name='Weights',\n",
      "                 type=tensor(hi=[Const(val=16, type=int()),\n",
      "                                 Const(val=16, type=int())],\n",
      "                             is_window=False,\n",
      "                             type=i8()),\n",
      "                 memory=<class 'exo.memory.DRAM'>),\n",
      "           FnArg(name='Out',\n",
      "                 type=tensor(hi=[Const(val=16, type=int()),\n",
      "                                 Const(val=16, type=int())],\n",
      "                             is_window=False,\n",
      "                             type=i8()),\n",
      "                 memory=<class 'exo.memory.DRAM'>)],\n",
      "     assertions=[],\n",
      "     body=[For(name='i',\n",
      "               lo=Const(val=0, type=int()),\n",
      "               hi=Const(val=16, type=int()),\n",
      "               body=[For(name='j',\n",
      "                         lo=Const(val=0, type=int()),\n",
      "                         hi=Const(val=16, type=int()),\n",
      "                         body=[For(name='k',\n",
      "                                   lo=Const(val=0, type=int()),\n",
      "                                   hi=Const(val=16, type=int()),\n",
      "                                   body=[Reduce(name='Out',\n",
      "                                                lhs_type=i8(),\n",
      "                                                idx=[Read(name='i',\n",
      "                                                          idx=[],\n",
      "                                                          type=index()),\n",
      "                                                     Read(name='j',\n",
      "                                                          idx=[],\n",
      "                                                          type=index())],\n",
      "                                                rhs=BinOp(op='*',\n",
      "                                                          lhs=Read(name='In',\n",
      "                                                                   idx=[Read(name='i',\n",
      "                                                                             idx=[],\n",
      "                                                                             type=index()),\n",
      "                                                                        Read(name='k',\n",
      "                                                                             idx=[],\n",
      "                                                                             type=index())],\n",
      "                                                                   type=i8()),\n",
      "                                                          rhs=Read(name='Weights',\n",
      "                                                                   idx=[Read(name='k',\n",
      "                                                                             idx=[],\n",
      "                                                                             type=index()),\n",
      "                                                                        Read(name='j',\n",
      "                                                                             idx=[],\n",
      "                                                                             type=index())],\n",
      "                                                                   type=i8()),\n",
      "                                                          type=i8()))],\n",
      "                                   is_par=False)],\n",
      "                         is_par=False)],\n",
      "               is_par=False)],\n",
      "     instruction=None)\n"
     ]
    }
   ],
   "source": [
    "ast = get_exo_proc().get_ast()\n",
    "pprint(ast)"
   ]
  },
  {
   "cell_type": "code",
   "execution_count": null,
   "metadata": {},
   "outputs": [],
   "source": []
  }
 ],
 "metadata": {
  "kernelspec": {
   "display_name": "Python 3",
   "language": "python",
   "name": "python3"
  },
  "language_info": {
   "codemirror_mode": {
    "name": "ipython",
    "version": 3
   },
   "file_extension": ".py",
   "mimetype": "text/x-python",
   "name": "python",
   "nbconvert_exporter": "python",
   "pygments_lexer": "ipython3",
   "version": "3.10.13"
  }
 },
 "nbformat": 4,
 "nbformat_minor": 2
}
