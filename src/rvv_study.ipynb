{
 "cells": [
  {
   "cell_type": "code",
   "execution_count": 1,
   "metadata": {},
   "outputs": [],
   "source": [
    "from __future__ import annotations\n",
    "\n",
    "from typing import *\n",
    "\n",
    "from exo import proc, DRAM, Memory\n",
    "from exo import Procedure\n",
    "\n",
    "import exo.stdlib.scheduling as s\n",
    "import exo.platforms.rvv as r"
   ]
  },
  {
   "cell_type": "code",
   "execution_count": 2,
   "metadata": {},
   "outputs": [],
   "source": [
    "def get_exo_proc() -> Procedure:\n",
    "    @proc\n",
    "    def generated_operation(\n",
    "        In: f32[16, 16] @ DRAM,\n",
    "        Weights: f32[16, 16] @ DRAM,\n",
    "        Out: f32[16, 16] @ DRAM,\n",
    "    ):\n",
    "        for i in seq(0, 16):\n",
    "            for j in seq(0, 16):\n",
    "                for k in seq(0, 16):\n",
    "                    Out[i, j] += In[i, k] * Weights[k, j]\n",
    "\n",
    "    return generated_operation\n",
    "\n",
    "PROC = get_exo_proc()"
   ]
  },
  {
   "cell_type": "code",
   "execution_count": 3,
   "metadata": {},
   "outputs": [],
   "source": [
    "# from exo.platforms.rvv import (\n",
    "#     RVV,\n",
    "#     rvv_broadcast_4xf32,    # send reg to 4x\n",
    "#     rvv_broadcast_4xf32_0,  # send 0 to 4x\n",
    "#     rvv_broadcast_4xf32_scalar,  # send [0] to 4x\n",
    "#     rvv_vfmacc_1xf32_4xf32,  # macc 1x4\n",
    "#     rvv_vfmacc_4xf32_1xf32,  # macc 4x1\n",
    "#     rvv_vfmacc_4xf32_4xf32,  # macc 4x4\n",
    "#     rvv_vld_4xf32,            # load 4x\n",
    "#     rvv_vst_4xf32             # store 4x\n",
    "# )"
   ]
  },
  {
   "cell_type": "code",
   "execution_count": 31,
   "metadata": {},
   "outputs": [],
   "source": [
    "import re\n",
    "def move_symbol_to_mem_for_block(\n",
    "        proc: Procedure,\n",
    "        block_cursor,\n",
    "        symbol: str,\n",
    "        window: str,\n",
    "        new_mem: type[Memory],\n",
    "        post_process: Callable[[Procedure], Procedure]\n",
    "    ) -> Procedure:\n",
    "    new_symbol = f\"{symbol}Staged\"\n",
    "    p = s.stage_mem(proc, block_cursor, f\"{symbol}{window}\", new_symbol)\n",
    "    p = s.set_memory(p, new_symbol, new_mem)\n",
    "    p = s.simplify(p)\n",
    "\n",
    "    raw_src_code = str(p)\n",
    "\n",
    "    ans = re.search(f'{new_symbol}: f32\\[(.*)\\]', raw_src_code) # find the allocation\n",
    "    if ans is None:\n",
    "        print(raw_src_code)\n",
    "        raise ValueError(ans)\n",
    "\n",
    "    dims = [ int(d) for d in ans.group(1).split(\", \") ] # and pull out the dimensions\n",
    "\n",
    "    p = s.divide_dim(p, f\"{new_symbol} : _\", len(dims)-1, 4) # make the trailing dimension of new_symbol 4\n",
    "    dim = 1\n",
    "    for d in dims[:-1]: # merge all the dimensions to get [_, 4] as our shape\n",
    "        dim *= d\n",
    "        p = s.mult_dim(p, new_symbol, 0, 1)\n",
    "    dim *= dims[-1] // 4\n",
    "\n",
    "    p = s.unroll_buffer(p, new_symbol, 0) # NOW WE MAKE THE THING\n",
    "    # print(dim)\n",
    "    # p = post_process(p)\n",
    "    # p = s.replace_all(p, r.rvv_vld_4xf32)\n",
    "    # p = s.replace_all(p, r.rvv_vst_4xf32)\n",
    "\n",
    "    return p\n",
    "\n",
    "def replace_rvv_ld_st(proc: Procedure) -> Procedure:\n",
    "    return ( s.replace_all(\n",
    "        s.replace_all(\n",
    "            proc, \n",
    "            r.rvv_vld_4xf32\n",
    "        )\n",
    "        , r.rvv_vst_4xf32)\n",
    "    )"
   ]
  },
  {
   "cell_type": "code",
   "execution_count": 32,
   "metadata": {},
   "outputs": [
    {
     "name": "stdout",
     "output_type": "stream",
     "text": [
      "64\n",
      "def matmul(In: f32[16, 16] @ DRAM, Weights: f32[16, 16] @ DRAM,\n",
      "           Out: f32[16, 16] @ DRAM):\n",
      "    InStaged: f32[64, 4] @ RVV\n",
      "    for i0 in seq(0, 16):\n",
      "        for i1 in seq(0, 16):\n",
      "            InStaged[4 * i0 + i1 / 4, i1 % 4] = In[i0, i1]\n",
      "    for i in seq(0, 16):\n",
      "        for j in seq(0, 16):\n",
      "            for k in seq(0, 16):\n",
      "                Out[i, j] += InStaged[4 * i + k / 4, k % 4] * Weights[k, j]\n"
     ]
    }
   ],
   "source": [
    "p = s.rename(PROC, \"matmul\")\n",
    "\n",
    "p = move_symbol_to_mem_for_block(p,\n",
    "    \"for i in _ : _\",\n",
    "    \"In\", \"[0:16, 0:16]\",\n",
    "    r.RVV,\n",
    "    replace_rvv_ld_st\n",
    ")\n",
    "for _ in range(0):\n",
    "    p = move_symbol_to_mem_for_block(p,\n",
    "        \"for i in _ : _\",\n",
    "        \"Out\", \"[0:16, 0:16]\",\n",
    "        r.RVV,\n",
    "        replace_rvv_ld_st\n",
    "    )\n",
    "p = s.simplify(p)\n",
    "print(str(p))"
   ]
  },
  {
   "cell_type": "code",
   "execution_count": 21,
   "metadata": {},
   "outputs": [
    {
     "data": {
      "text/plain": [
       "['16', '16']"
      ]
     },
     "execution_count": 21,
     "metadata": {},
     "output_type": "execute_result"
    }
   ],
   "source": [
    "import re\n",
    "# src = str(p)\n",
    "raw_src_code = str(p)\n",
    "sym = \"InStaged\"\n",
    "\n"
   ]
  },
  {
   "cell_type": "code",
   "execution_count": 6,
   "metadata": {},
   "outputs": [
    {
     "ename": "MemGenError",
     "evalue": "/tmp/ipykernel_54837/4270879120.py:8:8: RVV vectors of type float must be 4-wide, got ['16', '16']",
     "output_type": "error",
     "traceback": [
      "\u001b[0;31m---------------------------------------------------------------------------\u001b[0m",
      "\u001b[0;31mMemGenError\u001b[0m                               Traceback (most recent call last)",
      "Cell \u001b[0;32mIn[6], line 3\u001b[0m\n\u001b[1;32m      1\u001b[0m \u001b[38;5;28;01mdef\u001b[39;00m \u001b[38;5;21mextract_c_code\u001b[39m(proc: Procedure) \u001b[38;5;241m-\u001b[39m\u001b[38;5;241m>\u001b[39m \u001b[38;5;28mstr\u001b[39m:\n\u001b[1;32m      2\u001b[0m     \u001b[38;5;28;01mreturn\u001b[39;00m proc\u001b[38;5;241m.\u001b[39mc_code_str()\u001b[38;5;241m.\u001b[39msplit(\u001b[38;5;124m\"\u001b[39m\u001b[38;5;124m#include <stdlib.h>\u001b[39m\u001b[38;5;124m\"\u001b[39m)[\u001b[38;5;241m-\u001b[39m\u001b[38;5;241m1\u001b[39m]\n\u001b[0;32m----> 3\u001b[0m \u001b[43mextract_c_code\u001b[49m\u001b[43m(\u001b[49m\u001b[43mp\u001b[49m\u001b[43m)\u001b[49m\n",
      "Cell \u001b[0;32mIn[6], line 2\u001b[0m, in \u001b[0;36mextract_c_code\u001b[0;34m(proc)\u001b[0m\n\u001b[1;32m      1\u001b[0m \u001b[38;5;28;01mdef\u001b[39;00m \u001b[38;5;21mextract_c_code\u001b[39m(proc: Procedure) \u001b[38;5;241m-\u001b[39m\u001b[38;5;241m>\u001b[39m \u001b[38;5;28mstr\u001b[39m:\n\u001b[0;32m----> 2\u001b[0m     \u001b[38;5;28;01mreturn\u001b[39;00m \u001b[43mproc\u001b[49m\u001b[38;5;241;43m.\u001b[39;49m\u001b[43mc_code_str\u001b[49m\u001b[43m(\u001b[49m\u001b[43m)\u001b[49m\u001b[38;5;241m.\u001b[39msplit(\u001b[38;5;124m\"\u001b[39m\u001b[38;5;124m#include <stdlib.h>\u001b[39m\u001b[38;5;124m\"\u001b[39m)[\u001b[38;5;241m-\u001b[39m\u001b[38;5;241m1\u001b[39m]\n",
      "File \u001b[0;32m/workspaces/project/chipyard/.conda-env/lib/python3.10/site-packages/exo/API.py:340\u001b[0m, in \u001b[0;36mProcedure.c_code_str\u001b[0;34m(self)\u001b[0m\n\u001b[1;32m    339\u001b[0m \u001b[38;5;28;01mdef\u001b[39;00m \u001b[38;5;21mc_code_str\u001b[39m(\u001b[38;5;28mself\u001b[39m):\n\u001b[0;32m--> 340\u001b[0m     decls, defns \u001b[38;5;241m=\u001b[39m \u001b[43mcompile_to_strings\u001b[49m\u001b[43m(\u001b[49m\u001b[38;5;124;43m\"\u001b[39;49m\u001b[38;5;124;43mc_code_str\u001b[39;49m\u001b[38;5;124;43m\"\u001b[39;49m\u001b[43m,\u001b[49m\u001b[43m \u001b[49m\u001b[43m[\u001b[49m\u001b[38;5;28;43mself\u001b[39;49m\u001b[38;5;241;43m.\u001b[39;49m\u001b[43m_loopir_proc\u001b[49m\u001b[43m]\u001b[49m\u001b[43m)\u001b[49m\n\u001b[1;32m    341\u001b[0m     \u001b[38;5;28;01mreturn\u001b[39;00m decls \u001b[38;5;241m+\u001b[39m \u001b[38;5;124m\"\u001b[39m\u001b[38;5;130;01m\\n\u001b[39;00m\u001b[38;5;124m\"\u001b[39m \u001b[38;5;241m+\u001b[39m defns\n",
      "File \u001b[0;32m/workspaces/project/chipyard/.conda-env/lib/python3.10/site-packages/exo/LoopIR_compiler.py:412\u001b[0m, in \u001b[0;36mcompile_to_strings\u001b[0;34m(lib_name, proc_list)\u001b[0m\n\u001b[1;32m    409\u001b[0m p \u001b[38;5;241m=\u001b[39m WindowAnalysis()\u001b[38;5;241m.\u001b[39mapply_proc(p)\n\u001b[1;32m    410\u001b[0m p \u001b[38;5;241m=\u001b[39m MemoryAnalysis()\u001b[38;5;241m.\u001b[39mrun(p)\n\u001b[0;32m--> 412\u001b[0m comp \u001b[38;5;241m=\u001b[39m \u001b[43mCompiler\u001b[49m\u001b[43m(\u001b[49m\u001b[43mp\u001b[49m\u001b[43m,\u001b[49m\u001b[43m \u001b[49m\u001b[43mctxt_name\u001b[49m\u001b[43m,\u001b[49m\u001b[43m \u001b[49m\u001b[43mis_public_decl\u001b[49m\u001b[38;5;241;43m=\u001b[39;49m\u001b[43mis_public_decl\u001b[49m\u001b[43m)\u001b[49m\n\u001b[1;32m    413\u001b[0m d, b \u001b[38;5;241m=\u001b[39m comp\u001b[38;5;241m.\u001b[39mcomp_top()\n\u001b[1;32m    414\u001b[0m struct_defns \u001b[38;5;241m|\u001b[39m\u001b[38;5;241m=\u001b[39m comp\u001b[38;5;241m.\u001b[39mstruct_defns()\n",
      "File \u001b[0;32m/workspaces/project/chipyard/.conda-env/lib/python3.10/site-packages/exo/LoopIR_compiler.py:589\u001b[0m, in \u001b[0;36mCompiler.__init__\u001b[0;34m(self, proc, ctxt_name, is_public_decl)\u001b[0m\n\u001b[1;32m    586\u001b[0m \u001b[38;5;28;01mif\u001b[39;00m \u001b[38;5;129;01mnot\u001b[39;00m \u001b[38;5;28mself\u001b[39m\u001b[38;5;241m.\u001b[39mstatic_memory_check(\u001b[38;5;28mself\u001b[39m\u001b[38;5;241m.\u001b[39mproc):\n\u001b[1;32m    587\u001b[0m     \u001b[38;5;28;01mraise\u001b[39;00m MemGenError(\u001b[38;5;124m\"\u001b[39m\u001b[38;5;124mCannot generate static memory in non-leaf procs\u001b[39m\u001b[38;5;124m\"\u001b[39m)\n\u001b[0;32m--> 589\u001b[0m \u001b[38;5;28;43mself\u001b[39;49m\u001b[38;5;241;43m.\u001b[39;49m\u001b[43mcomp_stmts\u001b[49m\u001b[43m(\u001b[49m\u001b[38;5;28;43mself\u001b[39;49m\u001b[38;5;241;43m.\u001b[39;49m\u001b[43mproc\u001b[49m\u001b[38;5;241;43m.\u001b[39;49m\u001b[43mbody\u001b[49m\u001b[43m)\u001b[49m\n\u001b[1;32m    591\u001b[0m static_kwd \u001b[38;5;241m=\u001b[39m \u001b[38;5;124m\"\u001b[39m\u001b[38;5;124m\"\u001b[39m \u001b[38;5;28;01mif\u001b[39;00m is_public_decl \u001b[38;5;28;01melse\u001b[39;00m \u001b[38;5;124m\"\u001b[39m\u001b[38;5;124mstatic \u001b[39m\u001b[38;5;124m\"\u001b[39m\n\u001b[1;32m    593\u001b[0m \u001b[38;5;66;03m# Generate headers here?\u001b[39;00m\n",
      "File \u001b[0;32m/workspaces/project/chipyard/.conda-env/lib/python3.10/site-packages/exo/LoopIR_compiler.py:648\u001b[0m, in \u001b[0;36mCompiler.comp_stmts\u001b[0;34m(self, stmts)\u001b[0m\n\u001b[1;32m    646\u001b[0m \u001b[38;5;28;01mdef\u001b[39;00m \u001b[38;5;21mcomp_stmts\u001b[39m(\u001b[38;5;28mself\u001b[39m, stmts):\n\u001b[1;32m    647\u001b[0m     \u001b[38;5;28;01mfor\u001b[39;00m b \u001b[38;5;129;01min\u001b[39;00m stmts:\n\u001b[0;32m--> 648\u001b[0m         \u001b[38;5;28;43mself\u001b[39;49m\u001b[38;5;241;43m.\u001b[39;49m\u001b[43mcomp_s\u001b[49m\u001b[43m(\u001b[49m\u001b[43mb\u001b[49m\u001b[43m)\u001b[49m\n",
      "File \u001b[0;32m/workspaces/project/chipyard/.conda-env/lib/python3.10/site-packages/exo/LoopIR_compiler.py:906\u001b[0m, in \u001b[0;36mCompiler.comp_s\u001b[0;34m(self, s)\u001b[0m\n\u001b[1;32m    904\u001b[0m     ctype \u001b[38;5;241m=\u001b[39m s\u001b[38;5;241m.\u001b[39mtype\u001b[38;5;241m.\u001b[39mbasetype()\u001b[38;5;241m.\u001b[39mctype()\n\u001b[1;32m    905\u001b[0m     mem \u001b[38;5;241m=\u001b[39m s\u001b[38;5;241m.\u001b[39mmem \u001b[38;5;129;01mor\u001b[39;00m DRAM\n\u001b[0;32m--> 906\u001b[0m     line \u001b[38;5;241m=\u001b[39m \u001b[43mmem\u001b[49m\u001b[38;5;241;43m.\u001b[39;49m\u001b[43malloc\u001b[49m\u001b[43m(\u001b[49m\u001b[43mname\u001b[49m\u001b[43m,\u001b[49m\u001b[43m \u001b[49m\u001b[43mctype\u001b[49m\u001b[43m,\u001b[49m\u001b[43m \u001b[49m\u001b[38;5;28;43mself\u001b[39;49m\u001b[38;5;241;43m.\u001b[39;49m\u001b[43mshape_strs\u001b[49m\u001b[43m(\u001b[49m\u001b[43ms\u001b[49m\u001b[38;5;241;43m.\u001b[39;49m\u001b[43mtype\u001b[49m\u001b[38;5;241;43m.\u001b[39;49m\u001b[43mshape\u001b[49m\u001b[43m(\u001b[49m\u001b[43m)\u001b[49m\u001b[43m)\u001b[49m\u001b[43m,\u001b[49m\u001b[43m \u001b[49m\u001b[43ms\u001b[49m\u001b[38;5;241;43m.\u001b[39;49m\u001b[43msrcinfo\u001b[49m\u001b[43m)\u001b[49m\n\u001b[1;32m    908\u001b[0m     \u001b[38;5;28mself\u001b[39m\u001b[38;5;241m.\u001b[39madd_line(line)\n\u001b[1;32m    909\u001b[0m \u001b[38;5;28;01melif\u001b[39;00m \u001b[38;5;28misinstance\u001b[39m(s, LoopIR\u001b[38;5;241m.\u001b[39mFree):\n",
      "File \u001b[0;32m/workspaces/project/chipyard/.conda-env/lib/python3.10/site-packages/exo/platforms/rvv.py:48\u001b[0m, in \u001b[0;36mRVV.alloc\u001b[0;34m(cls, new_name, prim_type, shape, srcinfo)\u001b[0m\n\u001b[1;32m     44\u001b[0m \u001b[38;5;28;01mif\u001b[39;00m \u001b[38;5;129;01mnot\u001b[39;00m _is_const_size(shape[\u001b[38;5;241m-\u001b[39m\u001b[38;5;241m1\u001b[39m], reg_width):\n\u001b[1;32m     45\u001b[0m \n\u001b[1;32m     46\u001b[0m     \u001b[38;5;66;03m# This will help with dynamic lengths (I hope)\u001b[39;00m\n\u001b[1;32m     47\u001b[0m     \u001b[38;5;28;01mif\u001b[39;00m \u001b[38;5;28mint\u001b[39m(shape[\u001b[38;5;241m-\u001b[39m\u001b[38;5;241m1\u001b[39m]) \u001b[38;5;241m>\u001b[39m reg_width:\n\u001b[0;32m---> 48\u001b[0m         \u001b[38;5;28;01mraise\u001b[39;00m MemGenError(\n\u001b[1;32m     49\u001b[0m             \u001b[38;5;124mf\u001b[39m\u001b[38;5;124m\"\u001b[39m\u001b[38;5;132;01m{\u001b[39;00msrcinfo\u001b[38;5;132;01m}\u001b[39;00m\u001b[38;5;124m: RVV vectors of type \u001b[39m\u001b[38;5;132;01m{\u001b[39;00mprim_type\u001b[38;5;132;01m}\u001b[39;00m\u001b[38;5;124m must be \u001b[39m\u001b[38;5;132;01m{\u001b[39;00mreg_width\u001b[38;5;132;01m}\u001b[39;00m\u001b[38;5;124m-wide, got \u001b[39m\u001b[38;5;132;01m{\u001b[39;00mshape\u001b[38;5;132;01m}\u001b[39;00m\u001b[38;5;124m\"\u001b[39m\n\u001b[1;32m     50\u001b[0m         )\n\u001b[1;32m     51\u001b[0m shape \u001b[38;5;241m=\u001b[39m shape[:\u001b[38;5;241m-\u001b[39m\u001b[38;5;241m1\u001b[39m]\n\u001b[1;32m     52\u001b[0m \u001b[38;5;28;01mif\u001b[39;00m shape:\n",
      "\u001b[0;31mMemGenError\u001b[0m: /tmp/ipykernel_54837/4270879120.py:8:8: RVV vectors of type float must be 4-wide, got ['16', '16']"
     ]
    }
   ],
   "source": [
    "def extract_c_code(proc: Procedure) -> str:\n",
    "    return proc.c_code_str().split(\"#include <stdlib.h>\")[-1]\n",
    "extract_c_code(p)"
   ]
  },
  {
   "cell_type": "code",
   "execution_count": null,
   "metadata": {},
   "outputs": [],
   "source": []
  }
 ],
 "metadata": {
  "kernelspec": {
   "display_name": "Python 3",
   "language": "python",
   "name": "python3"
  },
  "language_info": {
   "codemirror_mode": {
    "name": "ipython",
    "version": 3
   },
   "file_extension": ".py",
   "mimetype": "text/x-python",
   "name": "python",
   "nbconvert_exporter": "python",
   "pygments_lexer": "ipython3",
   "version": "3.10.13"
  }
 },
 "nbformat": 4,
 "nbformat_minor": 2
}
