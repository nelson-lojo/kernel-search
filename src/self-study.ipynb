{
 "cells": [
  {
   "cell_type": "code",
   "execution_count": 103,
   "metadata": {},
   "outputs": [],
   "source": [
    "from __future__ import annotations\n",
    "from exo import proc, DRAM#, i8, i32, f32\n",
    "from exo.platforms.gemmini import GEMM_ACCUM, GEMM_SCRATCH\n",
    "from exo.platforms.gemmini import(\n",
    "    ld_i8,\n",
    "    ld_i8_vector,\n",
    "    ld_i8_block,\n",
    "    matmul_i8,\n",
    "    st_i8,\n",
    "    zero_i8,\n",
    "    zero_acc_i32,\n",
    "    ld_acc_i8,\n",
    "    ld_acc_i32,\n",
    "    st_acc_i8,\n",
    "    st_acc_i32,\n",
    ")"
   ]
  },
  {
   "cell_type": "code",
   "execution_count": 104,
   "metadata": {},
   "outputs": [],
   "source": [
    "def get_exo_proc() -> Procedure:\n",
    "    @proc\n",
    "    def generated_operation(\n",
    "        In: i8[16, 19] @ DRAM,\n",
    "        Weights: i8[19, 16] @ DRAM,\n",
    "        Out: i8[16, 16] @ DRAM,\n",
    "    ):\n",
    "        for i in seq(0, 16):\n",
    "            for j in seq(0, 16):\n",
    "                for k in seq(0, 19):\n",
    "                    Out[i, j] += In[i, k] * Weights[k, j]\n",
    "\n",
    "    return generated_operation"
   ]
  },
  {
   "cell_type": "code",
   "execution_count": 105,
   "metadata": {},
   "outputs": [],
   "source": [
    "PROC = get_exo_proc()"
   ]
  },
  {
   "cell_type": "code",
   "execution_count": 106,
   "metadata": {},
   "outputs": [],
   "source": [
    "from exo.stdlib.scheduling import (\n",
    "    stage_mem,\n",
    "    rename,\n",
    "    reorder_loops,\n",
    "    simplify,\n",
    "    set_memory,\n",
    "    replace_all,\n",
    "    set_precision,\n",
    "    #\n",
    ")"
   ]
  },
  {
   "cell_type": "code",
   "execution_count": 107,
   "metadata": {},
   "outputs": [
    {
     "data": {
      "text/markdown": [
       "```python\n",
       "def testing_proc(In: i8[16, 19] @ DRAM, Weights: i8[19, 16] @ DRAM,\n",
       "                 Out: i8[16, 16] @ DRAM):\n",
       "    for k in seq(0, 19):\n",
       "        for i in seq(0, 16):\n",
       "            for j in seq(0, 16):\n",
       "                Out[i, j] += In[i, k] * Weights[k, j]\n",
       "```"
      ],
      "text/plain": [
       "<exo.API.Procedure at 0x7fffbe315d20>"
      ]
     },
     "execution_count": 107,
     "metadata": {},
     "output_type": "execute_result"
    }
   ],
   "source": [
    "p = rename(PROC, \"testing_proc\")\n",
    "p = reorder_loops(p, \"j k\")\n",
    "p = reorder_loops(p, \"i k\")\n",
    "p"
   ]
  },
  {
   "cell_type": "code",
   "execution_count": 114,
   "metadata": {},
   "outputs": [],
   "source": [
    "import exo.query_asts as exo_ast\n",
    "def get_presc(node: exo_ast.Read | exo_ast.Reduce | exo_ast.Alloc | exo_ast.Assign | exo_ast.Const):\n",
    "    match node:\n",
    "        case exo_ast.Read (type=t) | \\\n",
    "            exo_ast.Reduce(type=t) | \\\n",
    "            exo_ast.Alloc (type=t) | \\\n",
    "            exo_ast.Assign(type=t) | \\\n",
    "            exo_ast.Const (type=t):\n",
    "            return t\n",
    "        case _:\n",
    "            raise NotImplementedError(node)"
   ]
  },
  {
   "cell_type": "code",
   "execution_count": 127,
   "metadata": {},
   "outputs": [
    {
     "data": {
      "text/plain": [
       "Block(_root=LoopIR.proc(name='generated_operation', args=[LoopIR.fnarg(name=In_11680, type=LoopIR.Tensor(hi=[LoopIR.Const(val=16, type=LoopIR.Int(), srcinfo=<exo.prelude.SrcInfo object at 0x7fffbc563df0>), LoopIR.Const(val=19, type=LoopIR.Int(), srcinfo=<exo.prelude.SrcInfo object at 0x7fffbc560250>)], is_window=False, type=LoopIR.INT8()), mem=<class 'exo.memory.DRAM'>, srcinfo=<exo.prelude.SrcInfo object at 0x7fffbf7e4700>), LoopIR.fnarg(name=Weights_11681, type=LoopIR.Tensor(hi=[LoopIR.Const(val=19, type=LoopIR.Int(), srcinfo=<exo.prelude.SrcInfo object at 0x7fffbc348610>), LoopIR.Const(val=16, type=LoopIR.Int(), srcinfo=<exo.prelude.SrcInfo object at 0x7fffbc2b1cf0>)], is_window=False, type=LoopIR.INT8()), mem=<class 'exo.memory.DRAM'>, srcinfo=<exo.prelude.SrcInfo object at 0x7fffbc348040>), LoopIR.fnarg(name=Out_11682, type=LoopIR.Tensor(hi=[LoopIR.Const(val=16, type=LoopIR.Int(), srcinfo=<exo.prelude.SrcInfo object at 0x7fffbd81c940>), LoopIR.Const(val=16, type=LoopIR.Int(), srcinfo=<exo.prelude.SrcInfo object at 0x7fffbd81d7e0>)], is_window=False, type=LoopIR.INT8()), mem=<class 'exo.memory.DRAM'>, srcinfo=<exo.prelude.SrcInfo object at 0x7fffbd81e590>)], preds=[], body=[LoopIR.For(iter=i_11683, lo=LoopIR.Const(val=0, type=LoopIR.Int(), srcinfo=<exo.prelude.SrcInfo object at 0x7fffbd81cd00>), hi=LoopIR.Const(val=16, type=LoopIR.Int(), srcinfo=<exo.prelude.SrcInfo object at 0x7fffbd81e500>), body=[LoopIR.For(iter=j_11684, lo=LoopIR.Const(val=0, type=LoopIR.Int(), srcinfo=<exo.prelude.SrcInfo object at 0x7fffbc62afe0>), hi=LoopIR.Const(val=16, type=LoopIR.Int(), srcinfo=<exo.prelude.SrcInfo object at 0x7fffbc62ae60>), body=[LoopIR.For(iter=k_11685, lo=LoopIR.Const(val=0, type=LoopIR.Int(), srcinfo=<exo.prelude.SrcInfo object at 0x7fffbc62b280>), hi=LoopIR.Const(val=19, type=LoopIR.Int(), srcinfo=<exo.prelude.SrcInfo object at 0x7fffbc62b340>), body=[LoopIR.Reduce(name=Out_11682, type=LoopIR.INT8(), idx=[LoopIR.Read(name=i_11683, idx=[], type=LoopIR.Index(), srcinfo=<exo.prelude.SrcInfo object at 0x7fffbc628c40>), LoopIR.Read(name=j_11684, idx=[], type=LoopIR.Index(), srcinfo=<exo.prelude.SrcInfo object at 0x7fffbc62aaa0>)], rhs=LoopIR.BinOp(op='*', lhs=LoopIR.Read(name=In_11680, idx=[LoopIR.Read(name=i_11683, idx=[], type=LoopIR.Index(), srcinfo=<exo.prelude.SrcInfo object at 0x7fffbc628760>), LoopIR.Read(name=k_11685, idx=[], type=LoopIR.Index(), srcinfo=<exo.prelude.SrcInfo object at 0x7fffbc62ab00>)], type=LoopIR.INT8(), srcinfo=<exo.prelude.SrcInfo object at 0x7fffbc628730>), rhs=LoopIR.Read(name=Weights_11681, idx=[LoopIR.Read(name=k_11685, idx=[], type=LoopIR.Index(), srcinfo=<exo.prelude.SrcInfo object at 0x7fffbc629630>), LoopIR.Read(name=j_11684, idx=[], type=LoopIR.Index(), srcinfo=<exo.prelude.SrcInfo object at 0x7fffbc62a9b0>)], type=LoopIR.INT8(), srcinfo=<exo.prelude.SrcInfo object at 0x7fffbc628be0>), type=LoopIR.INT8(), srcinfo=<exo.prelude.SrcInfo object at 0x7fffbc629060>), eff=Effects.effect(reads=[Effects.effset(buffer=In_11680, loc=[Effects.Var(name=i_11683, type=LoopIR.Index(), srcinfo=<exo.prelude.SrcInfo object at 0x7fffbc628760>), Effects.Var(name=k_11685, type=LoopIR.Index(), srcinfo=<exo.prelude.SrcInfo object at 0x7fffbc62ab00>)], names=[], pred=None, srcinfo=<exo.prelude.SrcInfo object at 0x7fffbc628730>), Effects.effset(buffer=Weights_11681, loc=[Effects.Var(name=k_11685, type=LoopIR.Index(), srcinfo=<exo.prelude.SrcInfo object at 0x7fffbc629630>), Effects.Var(name=j_11684, type=LoopIR.Index(), srcinfo=<exo.prelude.SrcInfo object at 0x7fffbc62a9b0>)], names=[], pred=None, srcinfo=<exo.prelude.SrcInfo object at 0x7fffbc628be0>)], writes=[], reduces=[Effects.effset(buffer=Out_11682, loc=[Effects.Var(name=i_11683, type=LoopIR.Index(), srcinfo=<exo.prelude.SrcInfo object at 0x7fffbc628c40>), Effects.Var(name=j_11684, type=LoopIR.Index(), srcinfo=<exo.prelude.SrcInfo object at 0x7fffbc62aaa0>)], names=[], pred=None, srcinfo=<exo.prelude.SrcInfo object at 0x7fffbc6280a0>)], config_reads=[], config_writes=[], srcinfo=<exo.prelude.SrcInfo object at 0x7fffbc629060>), srcinfo=<exo.prelude.SrcInfo object at 0x7fffbc6280a0>)], loop_mode=LoopIR.Seq(), eff=Effects.effect(reads=[Effects.effset(buffer=In_11680, loc=[Effects.Var(name=i_11683, type=LoopIR.Index(), srcinfo=<exo.prelude.SrcInfo object at 0x7fffbc628760>), Effects.Var(name=k_11685, type=LoopIR.Index(), srcinfo=<exo.prelude.SrcInfo object at 0x7fffbc62ab00>)], names=[k_11685], pred=Effects.BinOp(op='and', lhs=Effects.BinOp(op='<=', lhs=Effects.Const(val=0, type=LoopIR.Int(), srcinfo=<exo.prelude.SrcInfo object at 0x7fffbc62b280>), rhs=Effects.Var(name=k_11685, type=LoopIR.Index(), srcinfo=<exo.prelude.SrcInfo object at 0x7fffbc6285e0>), type=LoopIR.Bool(), srcinfo=<exo.prelude.SrcInfo object at 0x7fffbc6285e0>), rhs=Effects.BinOp(op='<', lhs=Effects.Var(name=k_11685, type=LoopIR.Index(), srcinfo=<exo.prelude.SrcInfo object at 0x7fffbc6285e0>), rhs=Effects.Const(val=19, type=LoopIR.Int(), srcinfo=<exo.prelude.SrcInfo object at 0x7fffbc62b340>), type=LoopIR.Bool(), srcinfo=<exo.prelude.SrcInfo object at 0x7fffbc6285e0>), type=LoopIR.Bool(), srcinfo=<exo.prelude.SrcInfo object at 0x7fffbc6285e0>), srcinfo=<exo.prelude.SrcInfo object at 0x7fffbc628730>), Effects.effset(buffer=Weights_11681, loc=[Effects.Var(name=k_11685, type=LoopIR.Index(), srcinfo=<exo.prelude.SrcInfo object at 0x7fffbc629630>), Effects.Var(name=j_11684, type=LoopIR.Index(), srcinfo=<exo.prelude.SrcInfo object at 0x7fffbc62a9b0>)], names=[k_11685], pred=Effects.BinOp(op='and', lhs=Effects.BinOp(op='<=', lhs=Effects.Const(val=0, type=LoopIR.Int(), srcinfo=<exo.prelude.SrcInfo object at 0x7fffbc62b280>), rhs=Effects.Var(name=k_11685, type=LoopIR.Index(), srcinfo=<exo.prelude.SrcInfo object at 0x7fffbc6285e0>), type=LoopIR.Bool(), srcinfo=<exo.prelude.SrcInfo object at 0x7fffbc6285e0>), rhs=Effects.BinOp(op='<', lhs=Effects.Var(name=k_11685, type=LoopIR.Index(), srcinfo=<exo.prelude.SrcInfo object at 0x7fffbc6285e0>), rhs=Effects.Const(val=19, type=LoopIR.Int(), srcinfo=<exo.prelude.SrcInfo object at 0x7fffbc62b340>), type=LoopIR.Bool(), srcinfo=<exo.prelude.SrcInfo object at 0x7fffbc6285e0>), type=LoopIR.Bool(), srcinfo=<exo.prelude.SrcInfo object at 0x7fffbc6285e0>), srcinfo=<exo.prelude.SrcInfo object at 0x7fffbc628be0>)], writes=[], reduces=[Effects.effset(buffer=Out_11682, loc=[Effects.Var(name=i_11683, type=LoopIR.Index(), srcinfo=<exo.prelude.SrcInfo object at 0x7fffbc628c40>), Effects.Var(name=j_11684, type=LoopIR.Index(), srcinfo=<exo.prelude.SrcInfo object at 0x7fffbc62aaa0>)], names=[k_11685], pred=Effects.BinOp(op='and', lhs=Effects.BinOp(op='<=', lhs=Effects.Const(val=0, type=LoopIR.Int(), srcinfo=<exo.prelude.SrcInfo object at 0x7fffbc62b280>), rhs=Effects.Var(name=k_11685, type=LoopIR.Index(), srcinfo=<exo.prelude.SrcInfo object at 0x7fffbc6285e0>), type=LoopIR.Bool(), srcinfo=<exo.prelude.SrcInfo object at 0x7fffbc6285e0>), rhs=Effects.BinOp(op='<', lhs=Effects.Var(name=k_11685, type=LoopIR.Index(), srcinfo=<exo.prelude.SrcInfo object at 0x7fffbc6285e0>), rhs=Effects.Const(val=19, type=LoopIR.Int(), srcinfo=<exo.prelude.SrcInfo object at 0x7fffbc62b340>), type=LoopIR.Bool(), srcinfo=<exo.prelude.SrcInfo object at 0x7fffbc6285e0>), type=LoopIR.Bool(), srcinfo=<exo.prelude.SrcInfo object at 0x7fffbc6285e0>), srcinfo=<exo.prelude.SrcInfo object at 0x7fffbc6280a0>)], config_reads=[], config_writes=[], srcinfo=<exo.prelude.SrcInfo object at 0x7fffbc629060>), srcinfo=<exo.prelude.SrcInfo object at 0x7fffbc6285e0>)], loop_mode=LoopIR.Seq(), eff=Effects.effect(reads=[Effects.effset(buffer=In_11680, loc=[Effects.Var(name=i_11683, type=LoopIR.Index(), srcinfo=<exo.prelude.SrcInfo object at 0x7fffbc628760>), Effects.Var(name=k_11685, type=LoopIR.Index(), srcinfo=<exo.prelude.SrcInfo object at 0x7fffbc62ab00>)], names=[j_11684, k_11685], pred=Effects.BinOp(op='and', lhs=Effects.BinOp(op='and', lhs=Effects.BinOp(op='<=', lhs=Effects.Const(val=0, type=LoopIR.Int(), srcinfo=<exo.prelude.SrcInfo object at 0x7fffbc62afe0>), rhs=Effects.Var(name=j_11684, type=LoopIR.Index(), srcinfo=<exo.prelude.SrcInfo object at 0x7fffbc628e80>), type=LoopIR.Bool(), srcinfo=<exo.prelude.SrcInfo object at 0x7fffbc628e80>), rhs=Effects.BinOp(op='<', lhs=Effects.Var(name=j_11684, type=LoopIR.Index(), srcinfo=<exo.prelude.SrcInfo object at 0x7fffbc628e80>), rhs=Effects.Const(val=16, type=LoopIR.Int(), srcinfo=<exo.prelude.SrcInfo object at 0x7fffbc62ae60>), type=LoopIR.Bool(), srcinfo=<exo.prelude.SrcInfo object at 0x7fffbc628e80>), type=LoopIR.Bool(), srcinfo=<exo.prelude.SrcInfo object at 0x7fffbc628e80>), rhs=Effects.BinOp(op='and', lhs=Effects.BinOp(op='<=', lhs=Effects.Const(val=0, type=LoopIR.Int(), srcinfo=<exo.prelude.SrcInfo object at 0x7fffbc62b280>), rhs=Effects.Var(name=k_11685, type=LoopIR.Index(), srcinfo=<exo.prelude.SrcInfo object at 0x7fffbc6285e0>), type=LoopIR.Bool(), srcinfo=<exo.prelude.SrcInfo object at 0x7fffbc6285e0>), rhs=Effects.BinOp(op='<', lhs=Effects.Var(name=k_11685, type=LoopIR.Index(), srcinfo=<exo.prelude.SrcInfo object at 0x7fffbc6285e0>), rhs=Effects.Const(val=19, type=LoopIR.Int(), srcinfo=<exo.prelude.SrcInfo object at 0x7fffbc62b340>), type=LoopIR.Bool(), srcinfo=<exo.prelude.SrcInfo object at 0x7fffbc6285e0>), type=LoopIR.Bool(), srcinfo=<exo.prelude.SrcInfo object at 0x7fffbc6285e0>), type=LoopIR.Bool(), srcinfo=<exo.prelude.SrcInfo object at 0x7fffbc628e80>), srcinfo=<exo.prelude.SrcInfo object at 0x7fffbc628730>), Effects.effset(buffer=Weights_11681, loc=[Effects.Var(name=k_11685, type=LoopIR.Index(), srcinfo=<exo.prelude.SrcInfo object at 0x7fffbc629630>), Effects.Var(name=j_11684, type=LoopIR.Index(), srcinfo=<exo.prelude.SrcInfo object at 0x7fffbc62a9b0>)], names=[j_11684, k_11685], pred=Effects.BinOp(op='and', lhs=Effects.BinOp(op='and', lhs=Effects.BinOp(op='<=', lhs=Effects.Const(val=0, type=LoopIR.Int(), srcinfo=<exo.prelude.SrcInfo object at 0x7fffbc62afe0>), rhs=Effects.Var(name=j_11684, type=LoopIR.Index(), srcinfo=<exo.prelude.SrcInfo object at 0x7fffbc628e80>), type=LoopIR.Bool(), srcinfo=<exo.prelude.SrcInfo object at 0x7fffbc628e80>), rhs=Effects.BinOp(op='<', lhs=Effects.Var(name=j_11684, type=LoopIR.Index(), srcinfo=<exo.prelude.SrcInfo object at 0x7fffbc628e80>), rhs=Effects.Const(val=16, type=LoopIR.Int(), srcinfo=<exo.prelude.SrcInfo object at 0x7fffbc62ae60>), type=LoopIR.Bool(), srcinfo=<exo.prelude.SrcInfo object at 0x7fffbc628e80>), type=LoopIR.Bool(), srcinfo=<exo.prelude.SrcInfo object at 0x7fffbc628e80>), rhs=Effects.BinOp(op='and', lhs=Effects.BinOp(op='<=', lhs=Effects.Const(val=0, type=LoopIR.Int(), srcinfo=<exo.prelude.SrcInfo object at 0x7fffbc62b280>), rhs=Effects.Var(name=k_11685, type=LoopIR.Index(), srcinfo=<exo.prelude.SrcInfo object at 0x7fffbc6285e0>), type=LoopIR.Bool(), srcinfo=<exo.prelude.SrcInfo object at 0x7fffbc6285e0>), rhs=Effects.BinOp(op='<', lhs=Effects.Var(name=k_11685, type=LoopIR.Index(), srcinfo=<exo.prelude.SrcInfo object at 0x7fffbc6285e0>), rhs=Effects.Const(val=19, type=LoopIR.Int(), srcinfo=<exo.prelude.SrcInfo object at 0x7fffbc62b340>), type=LoopIR.Bool(), srcinfo=<exo.prelude.SrcInfo object at 0x7fffbc6285e0>), type=LoopIR.Bool(), srcinfo=<exo.prelude.SrcInfo object at 0x7fffbc6285e0>), type=LoopIR.Bool(), srcinfo=<exo.prelude.SrcInfo object at 0x7fffbc628e80>), srcinfo=<exo.prelude.SrcInfo object at 0x7fffbc628be0>)], writes=[], reduces=[Effects.effset(buffer=Out_11682, loc=[Effects.Var(name=i_11683, type=LoopIR.Index(), srcinfo=<exo.prelude.SrcInfo object at 0x7fffbc628c40>), Effects.Var(name=j_11684, type=LoopIR.Index(), srcinfo=<exo.prelude.SrcInfo object at 0x7fffbc62aaa0>)], names=[j_11684, k_11685], pred=Effects.BinOp(op='and', lhs=Effects.BinOp(op='and', lhs=Effects.BinOp(op='<=', lhs=Effects.Const(val=0, type=LoopIR.Int(), srcinfo=<exo.prelude.SrcInfo object at 0x7fffbc62afe0>), rhs=Effects.Var(name=j_11684, type=LoopIR.Index(), srcinfo=<exo.prelude.SrcInfo object at 0x7fffbc628e80>), type=LoopIR.Bool(), srcinfo=<exo.prelude.SrcInfo object at 0x7fffbc628e80>), rhs=Effects.BinOp(op='<', lhs=Effects.Var(name=j_11684, type=LoopIR.Index(), srcinfo=<exo.prelude.SrcInfo object at 0x7fffbc628e80>), rhs=Effects.Const(val=16, type=LoopIR.Int(), srcinfo=<exo.prelude.SrcInfo object at 0x7fffbc62ae60>), type=LoopIR.Bool(), srcinfo=<exo.prelude.SrcInfo object at 0x7fffbc628e80>), type=LoopIR.Bool(), srcinfo=<exo.prelude.SrcInfo object at 0x7fffbc628e80>), rhs=Effects.BinOp(op='and', lhs=Effects.BinOp(op='<=', lhs=Effects.Const(val=0, type=LoopIR.Int(), srcinfo=<exo.prelude.SrcInfo object at 0x7fffbc62b280>), rhs=Effects.Var(name=k_11685, type=LoopIR.Index(), srcinfo=<exo.prelude.SrcInfo object at 0x7fffbc6285e0>), type=LoopIR.Bool(), srcinfo=<exo.prelude.SrcInfo object at 0x7fffbc6285e0>), rhs=Effects.BinOp(op='<', lhs=Effects.Var(name=k_11685, type=LoopIR.Index(), srcinfo=<exo.prelude.SrcInfo object at 0x7fffbc6285e0>), rhs=Effects.Const(val=19, type=LoopIR.Int(), srcinfo=<exo.prelude.SrcInfo object at 0x7fffbc62b340>), type=LoopIR.Bool(), srcinfo=<exo.prelude.SrcInfo object at 0x7fffbc6285e0>), type=LoopIR.Bool(), srcinfo=<exo.prelude.SrcInfo object at 0x7fffbc6285e0>), type=LoopIR.Bool(), srcinfo=<exo.prelude.SrcInfo object at 0x7fffbc628e80>), srcinfo=<exo.prelude.SrcInfo object at 0x7fffbc6280a0>)], config_reads=[], config_writes=[], srcinfo=<exo.prelude.SrcInfo object at 0x7fffbc629060>), srcinfo=<exo.prelude.SrcInfo object at 0x7fffbc628e80>)], loop_mode=LoopIR.Seq(), eff=Effects.effect(reads=[Effects.effset(buffer=In_11680, loc=[Effects.Var(name=i_11683, type=LoopIR.Index(), srcinfo=<exo.prelude.SrcInfo object at 0x7fffbc628760>), Effects.Var(name=k_11685, type=LoopIR.Index(), srcinfo=<exo.prelude.SrcInfo object at 0x7fffbc62ab00>)], names=[i_11683, j_11684, k_11685], pred=Effects.BinOp(op='and', lhs=Effects.BinOp(op='and', lhs=Effects.BinOp(op='<=', lhs=Effects.Const(val=0, type=LoopIR.Int(), srcinfo=<exo.prelude.SrcInfo object at 0x7fffbd81cd00>), rhs=Effects.Var(name=i_11683, type=LoopIR.Index(), srcinfo=<exo.prelude.SrcInfo object at 0x7fffbd81d540>), type=LoopIR.Bool(), srcinfo=<exo.prelude.SrcInfo object at 0x7fffbd81d540>), rhs=Effects.BinOp(op='<', lhs=Effects.Var(name=i_11683, type=LoopIR.Index(), srcinfo=<exo.prelude.SrcInfo object at 0x7fffbd81d540>), rhs=Effects.Const(val=16, type=LoopIR.Int(), srcinfo=<exo.prelude.SrcInfo object at 0x7fffbd81e500>), type=LoopIR.Bool(), srcinfo=<exo.prelude.SrcInfo object at 0x7fffbd81d540>), type=LoopIR.Bool(), srcinfo=<exo.prelude.SrcInfo object at 0x7fffbd81d540>), rhs=Effects.BinOp(op='and', lhs=Effects.BinOp(op='and', lhs=Effects.BinOp(op='<=', lhs=Effects.Const(val=0, type=LoopIR.Int(), srcinfo=<exo.prelude.SrcInfo object at 0x7fffbc62afe0>), rhs=Effects.Var(name=j_11684, type=LoopIR.Index(), srcinfo=<exo.prelude.SrcInfo object at 0x7fffbc628e80>), type=LoopIR.Bool(), srcinfo=<exo.prelude.SrcInfo object at 0x7fffbc628e80>), rhs=Effects.BinOp(op='<', lhs=Effects.Var(name=j_11684, type=LoopIR.Index(), srcinfo=<exo.prelude.SrcInfo object at 0x7fffbc628e80>), rhs=Effects.Const(val=16, type=LoopIR.Int(), srcinfo=<exo.prelude.SrcInfo object at 0x7fffbc62ae60>), type=LoopIR.Bool(), srcinfo=<exo.prelude.SrcInfo object at 0x7fffbc628e80>), type=LoopIR.Bool(), srcinfo=<exo.prelude.SrcInfo object at 0x7fffbc628e80>), rhs=Effects.BinOp(op='and', lhs=Effects.BinOp(op='<=', lhs=Effects.Const(val=0, type=LoopIR.Int(), srcinfo=<exo.prelude.SrcInfo object at 0x7fffbc62b280>), rhs=Effects.Var(name=k_11685, type=LoopIR.Index(), srcinfo=<exo.prelude.SrcInfo object at 0x7fffbc6285e0>), type=LoopIR.Bool(), srcinfo=<exo.prelude.SrcInfo object at 0x7fffbc6285e0>), rhs=Effects.BinOp(op='<', lhs=Effects.Var(name=k_11685, type=LoopIR.Index(), srcinfo=<exo.prelude.SrcInfo object at 0x7fffbc6285e0>), rhs=Effects.Const(val=19, type=LoopIR.Int(), srcinfo=<exo.prelude.SrcInfo object at 0x7fffbc62b340>), type=LoopIR.Bool(), srcinfo=<exo.prelude.SrcInfo object at 0x7fffbc6285e0>), type=LoopIR.Bool(), srcinfo=<exo.prelude.SrcInfo object at 0x7fffbc6285e0>), type=LoopIR.Bool(), srcinfo=<exo.prelude.SrcInfo object at 0x7fffbc628e80>), type=LoopIR.Bool(), srcinfo=<exo.prelude.SrcInfo object at 0x7fffbd81d540>), srcinfo=<exo.prelude.SrcInfo object at 0x7fffbc628730>), Effects.effset(buffer=Weights_11681, loc=[Effects.Var(name=k_11685, type=LoopIR.Index(), srcinfo=<exo.prelude.SrcInfo object at 0x7fffbc629630>), Effects.Var(name=j_11684, type=LoopIR.Index(), srcinfo=<exo.prelude.SrcInfo object at 0x7fffbc62a9b0>)], names=[i_11683, j_11684, k_11685], pred=Effects.BinOp(op='and', lhs=Effects.BinOp(op='and', lhs=Effects.BinOp(op='<=', lhs=Effects.Const(val=0, type=LoopIR.Int(), srcinfo=<exo.prelude.SrcInfo object at 0x7fffbd81cd00>), rhs=Effects.Var(name=i_11683, type=LoopIR.Index(), srcinfo=<exo.prelude.SrcInfo object at 0x7fffbd81d540>), type=LoopIR.Bool(), srcinfo=<exo.prelude.SrcInfo object at 0x7fffbd81d540>), rhs=Effects.BinOp(op='<', lhs=Effects.Var(name=i_11683, type=LoopIR.Index(), srcinfo=<exo.prelude.SrcInfo object at 0x7fffbd81d540>), rhs=Effects.Const(val=16, type=LoopIR.Int(), srcinfo=<exo.prelude.SrcInfo object at 0x7fffbd81e500>), type=LoopIR.Bool(), srcinfo=<exo.prelude.SrcInfo object at 0x7fffbd81d540>), type=LoopIR.Bool(), srcinfo=<exo.prelude.SrcInfo object at 0x7fffbd81d540>), rhs=Effects.BinOp(op='and', lhs=Effects.BinOp(op='and', lhs=Effects.BinOp(op='<=', lhs=Effects.Const(val=0, type=LoopIR.Int(), srcinfo=<exo.prelude.SrcInfo object at 0x7fffbc62afe0>), rhs=Effects.Var(name=j_11684, type=LoopIR.Index(), srcinfo=<exo.prelude.SrcInfo object at 0x7fffbc628e80>), type=LoopIR.Bool(), srcinfo=<exo.prelude.SrcInfo object at 0x7fffbc628e80>), rhs=Effects.BinOp(op='<', lhs=Effects.Var(name=j_11684, type=LoopIR.Index(), srcinfo=<exo.prelude.SrcInfo object at 0x7fffbc628e80>), rhs=Effects.Const(val=16, type=LoopIR.Int(), srcinfo=<exo.prelude.SrcInfo object at 0x7fffbc62ae60>), type=LoopIR.Bool(), srcinfo=<exo.prelude.SrcInfo object at 0x7fffbc628e80>), type=LoopIR.Bool(), srcinfo=<exo.prelude.SrcInfo object at 0x7fffbc628e80>), rhs=Effects.BinOp(op='and', lhs=Effects.BinOp(op='<=', lhs=Effects.Const(val=0, type=LoopIR.Int(), srcinfo=<exo.prelude.SrcInfo object at 0x7fffbc62b280>), rhs=Effects.Var(name=k_11685, type=LoopIR.Index(), srcinfo=<exo.prelude.SrcInfo object at 0x7fffbc6285e0>), type=LoopIR.Bool(), srcinfo=<exo.prelude.SrcInfo object at 0x7fffbc6285e0>), rhs=Effects.BinOp(op='<', lhs=Effects.Var(name=k_11685, type=LoopIR.Index(), srcinfo=<exo.prelude.SrcInfo object at 0x7fffbc6285e0>), rhs=Effects.Const(val=19, type=LoopIR.Int(), srcinfo=<exo.prelude.SrcInfo object at 0x7fffbc62b340>), type=LoopIR.Bool(), srcinfo=<exo.prelude.SrcInfo object at 0x7fffbc6285e0>), type=LoopIR.Bool(), srcinfo=<exo.prelude.SrcInfo object at 0x7fffbc6285e0>), type=LoopIR.Bool(), srcinfo=<exo.prelude.SrcInfo object at 0x7fffbc628e80>), type=LoopIR.Bool(), srcinfo=<exo.prelude.SrcInfo object at 0x7fffbd81d540>), srcinfo=<exo.prelude.SrcInfo object at 0x7fffbc628be0>)], writes=[], reduces=[Effects.effset(buffer=Out_11682, loc=[Effects.Var(name=i_11683, type=LoopIR.Index(), srcinfo=<exo.prelude.SrcInfo object at 0x7fffbc628c40>), Effects.Var(name=j_11684, type=LoopIR.Index(), srcinfo=<exo.prelude.SrcInfo object at 0x7fffbc62aaa0>)], names=[i_11683, j_11684, k_11685], pred=Effects.BinOp(op='and', lhs=Effects.BinOp(op='and', lhs=Effects.BinOp(op='<=', lhs=Effects.Const(val=0, type=LoopIR.Int(), srcinfo=<exo.prelude.SrcInfo object at 0x7fffbd81cd00>), rhs=Effects.Var(name=i_11683, type=LoopIR.Index(), srcinfo=<exo.prelude.SrcInfo object at 0x7fffbd81d540>), type=LoopIR.Bool(), srcinfo=<exo.prelude.SrcInfo object at 0x7fffbd81d540>), rhs=Effects.BinOp(op='<', lhs=Effects.Var(name=i_11683, type=LoopIR.Index(), srcinfo=<exo.prelude.SrcInfo object at 0x7fffbd81d540>), rhs=Effects.Const(val=16, type=LoopIR.Int(), srcinfo=<exo.prelude.SrcInfo object at 0x7fffbd81e500>), type=LoopIR.Bool(), srcinfo=<exo.prelude.SrcInfo object at 0x7fffbd81d540>), type=LoopIR.Bool(), srcinfo=<exo.prelude.SrcInfo object at 0x7fffbd81d540>), rhs=Effects.BinOp(op='and', lhs=Effects.BinOp(op='and', lhs=Effects.BinOp(op='<=', lhs=Effects.Const(val=0, type=LoopIR.Int(), srcinfo=<exo.prelude.SrcInfo object at 0x7fffbc62afe0>), rhs=Effects.Var(name=j_11684, type=LoopIR.Index(), srcinfo=<exo.prelude.SrcInfo object at 0x7fffbc628e80>), type=LoopIR.Bool(), srcinfo=<exo.prelude.SrcInfo object at 0x7fffbc628e80>), rhs=Effects.BinOp(op='<', lhs=Effects.Var(name=j_11684, type=LoopIR.Index(), srcinfo=<exo.prelude.SrcInfo object at 0x7fffbc628e80>), rhs=Effects.Const(val=16, type=LoopIR.Int(), srcinfo=<exo.prelude.SrcInfo object at 0x7fffbc62ae60>), type=LoopIR.Bool(), srcinfo=<exo.prelude.SrcInfo object at 0x7fffbc628e80>), type=LoopIR.Bool(), srcinfo=<exo.prelude.SrcInfo object at 0x7fffbc628e80>), rhs=Effects.BinOp(op='and', lhs=Effects.BinOp(op='<=', lhs=Effects.Const(val=0, type=LoopIR.Int(), srcinfo=<exo.prelude.SrcInfo object at 0x7fffbc62b280>), rhs=Effects.Var(name=k_11685, type=LoopIR.Index(), srcinfo=<exo.prelude.SrcInfo object at 0x7fffbc6285e0>), type=LoopIR.Bool(), srcinfo=<exo.prelude.SrcInfo object at 0x7fffbc6285e0>), rhs=Effects.BinOp(op='<', lhs=Effects.Var(name=k_11685, type=LoopIR.Index(), srcinfo=<exo.prelude.SrcInfo object at 0x7fffbc6285e0>), rhs=Effects.Const(val=19, type=LoopIR.Int(), srcinfo=<exo.prelude.SrcInfo object at 0x7fffbc62b340>), type=LoopIR.Bool(), srcinfo=<exo.prelude.SrcInfo object at 0x7fffbc6285e0>), type=LoopIR.Bool(), srcinfo=<exo.prelude.SrcInfo object at 0x7fffbc6285e0>), type=LoopIR.Bool(), srcinfo=<exo.prelude.SrcInfo object at 0x7fffbc628e80>), type=LoopIR.Bool(), srcinfo=<exo.prelude.SrcInfo object at 0x7fffbd81d540>), srcinfo=<exo.prelude.SrcInfo object at 0x7fffbc6280a0>)], config_reads=[], config_writes=[], srcinfo=<exo.prelude.SrcInfo object at 0x7fffbc629060>), srcinfo=<exo.prelude.SrcInfo object at 0x7fffbd81d540>)], instr=None, eff=Effects.effect(reads=[Effects.effset(buffer=In_11680, loc=[Effects.Var(name=i_11683, type=LoopIR.Index(), srcinfo=<exo.prelude.SrcInfo object at 0x7fffbc628760>), Effects.Var(name=k_11685, type=LoopIR.Index(), srcinfo=<exo.prelude.SrcInfo object at 0x7fffbc62ab00>)], names=[i_11683, j_11684, k_11685], pred=Effects.BinOp(op='and', lhs=Effects.BinOp(op='and', lhs=Effects.BinOp(op='<=', lhs=Effects.Const(val=0, type=LoopIR.Int(), srcinfo=<exo.prelude.SrcInfo object at 0x7fffbd81cd00>), rhs=Effects.Var(name=i_11683, type=LoopIR.Index(), srcinfo=<exo.prelude.SrcInfo object at 0x7fffbd81d540>), type=LoopIR.Bool(), srcinfo=<exo.prelude.SrcInfo object at 0x7fffbd81d540>), rhs=Effects.BinOp(op='<', lhs=Effects.Var(name=i_11683, type=LoopIR.Index(), srcinfo=<exo.prelude.SrcInfo object at 0x7fffbd81d540>), rhs=Effects.Const(val=16, type=LoopIR.Int(), srcinfo=<exo.prelude.SrcInfo object at 0x7fffbd81e500>), type=LoopIR.Bool(), srcinfo=<exo.prelude.SrcInfo object at 0x7fffbd81d540>), type=LoopIR.Bool(), srcinfo=<exo.prelude.SrcInfo object at 0x7fffbd81d540>), rhs=Effects.BinOp(op='and', lhs=Effects.BinOp(op='and', lhs=Effects.BinOp(op='<=', lhs=Effects.Const(val=0, type=LoopIR.Int(), srcinfo=<exo.prelude.SrcInfo object at 0x7fffbc62afe0>), rhs=Effects.Var(name=j_11684, type=LoopIR.Index(), srcinfo=<exo.prelude.SrcInfo object at 0x7fffbc628e80>), type=LoopIR.Bool(), srcinfo=<exo.prelude.SrcInfo object at 0x7fffbc628e80>), rhs=Effects.BinOp(op='<', lhs=Effects.Var(name=j_11684, type=LoopIR.Index(), srcinfo=<exo.prelude.SrcInfo object at 0x7fffbc628e80>), rhs=Effects.Const(val=16, type=LoopIR.Int(), srcinfo=<exo.prelude.SrcInfo object at 0x7fffbc62ae60>), type=LoopIR.Bool(), srcinfo=<exo.prelude.SrcInfo object at 0x7fffbc628e80>), type=LoopIR.Bool(), srcinfo=<exo.prelude.SrcInfo object at 0x7fffbc628e80>), rhs=Effects.BinOp(op='and', lhs=Effects.BinOp(op='<=', lhs=Effects.Const(val=0, type=LoopIR.Int(), srcinfo=<exo.prelude.SrcInfo object at 0x7fffbc62b280>), rhs=Effects.Var(name=k_11685, type=LoopIR.Index(), srcinfo=<exo.prelude.SrcInfo object at 0x7fffbc6285e0>), type=LoopIR.Bool(), srcinfo=<exo.prelude.SrcInfo object at 0x7fffbc6285e0>), rhs=Effects.BinOp(op='<', lhs=Effects.Var(name=k_11685, type=LoopIR.Index(), srcinfo=<exo.prelude.SrcInfo object at 0x7fffbc6285e0>), rhs=Effects.Const(val=19, type=LoopIR.Int(), srcinfo=<exo.prelude.SrcInfo object at 0x7fffbc62b340>), type=LoopIR.Bool(), srcinfo=<exo.prelude.SrcInfo object at 0x7fffbc6285e0>), type=LoopIR.Bool(), srcinfo=<exo.prelude.SrcInfo object at 0x7fffbc6285e0>), type=LoopIR.Bool(), srcinfo=<exo.prelude.SrcInfo object at 0x7fffbc628e80>), type=LoopIR.Bool(), srcinfo=<exo.prelude.SrcInfo object at 0x7fffbd81d540>), srcinfo=<exo.prelude.SrcInfo object at 0x7fffbc628730>), Effects.effset(buffer=Weights_11681, loc=[Effects.Var(name=k_11685, type=LoopIR.Index(), srcinfo=<exo.prelude.SrcInfo object at 0x7fffbc629630>), Effects.Var(name=j_11684, type=LoopIR.Index(), srcinfo=<exo.prelude.SrcInfo object at 0x7fffbc62a9b0>)], names=[i_11683, j_11684, k_11685], pred=Effects.BinOp(op='and', lhs=Effects.BinOp(op='and', lhs=Effects.BinOp(op='<=', lhs=Effects.Const(val=0, type=LoopIR.Int(), srcinfo=<exo.prelude.SrcInfo object at 0x7fffbd81cd00>), rhs=Effects.Var(name=i_11683, type=LoopIR.Index(), srcinfo=<exo.prelude.SrcInfo object at 0x7fffbd81d540>), type=LoopIR.Bool(), srcinfo=<exo.prelude.SrcInfo object at 0x7fffbd81d540>), rhs=Effects.BinOp(op='<', lhs=Effects.Var(name=i_11683, type=LoopIR.Index(), srcinfo=<exo.prelude.SrcInfo object at 0x7fffbd81d540>), rhs=Effects.Const(val=16, type=LoopIR.Int(), srcinfo=<exo.prelude.SrcInfo object at 0x7fffbd81e500>), type=LoopIR.Bool(), srcinfo=<exo.prelude.SrcInfo object at 0x7fffbd81d540>), type=LoopIR.Bool(), srcinfo=<exo.prelude.SrcInfo object at 0x7fffbd81d540>), rhs=Effects.BinOp(op='and', lhs=Effects.BinOp(op='and', lhs=Effects.BinOp(op='<=', lhs=Effects.Const(val=0, type=LoopIR.Int(), srcinfo=<exo.prelude.SrcInfo object at 0x7fffbc62afe0>), rhs=Effects.Var(name=j_11684, type=LoopIR.Index(), srcinfo=<exo.prelude.SrcInfo object at 0x7fffbc628e80>), type=LoopIR.Bool(), srcinfo=<exo.prelude.SrcInfo object at 0x7fffbc628e80>), rhs=Effects.BinOp(op='<', lhs=Effects.Var(name=j_11684, type=LoopIR.Index(), srcinfo=<exo.prelude.SrcInfo object at 0x7fffbc628e80>), rhs=Effects.Const(val=16, type=LoopIR.Int(), srcinfo=<exo.prelude.SrcInfo object at 0x7fffbc62ae60>), type=LoopIR.Bool(), srcinfo=<exo.prelude.SrcInfo object at 0x7fffbc628e80>), type=LoopIR.Bool(), srcinfo=<exo.prelude.SrcInfo object at 0x7fffbc628e80>), rhs=Effects.BinOp(op='and', lhs=Effects.BinOp(op='<=', lhs=Effects.Const(val=0, type=LoopIR.Int(), srcinfo=<exo.prelude.SrcInfo object at 0x7fffbc62b280>), rhs=Effects.Var(name=k_11685, type=LoopIR.Index(), srcinfo=<exo.prelude.SrcInfo object at 0x7fffbc6285e0>), type=LoopIR.Bool(), srcinfo=<exo.prelude.SrcInfo object at 0x7fffbc6285e0>), rhs=Effects.BinOp(op='<', lhs=Effects.Var(name=k_11685, type=LoopIR.Index(), srcinfo=<exo.prelude.SrcInfo object at 0x7fffbc6285e0>), rhs=Effects.Const(val=19, type=LoopIR.Int(), srcinfo=<exo.prelude.SrcInfo object at 0x7fffbc62b340>), type=LoopIR.Bool(), srcinfo=<exo.prelude.SrcInfo object at 0x7fffbc6285e0>), type=LoopIR.Bool(), srcinfo=<exo.prelude.SrcInfo object at 0x7fffbc6285e0>), type=LoopIR.Bool(), srcinfo=<exo.prelude.SrcInfo object at 0x7fffbc628e80>), type=LoopIR.Bool(), srcinfo=<exo.prelude.SrcInfo object at 0x7fffbd81d540>), srcinfo=<exo.prelude.SrcInfo object at 0x7fffbc628be0>)], writes=[], reduces=[Effects.effset(buffer=Out_11682, loc=[Effects.Var(name=i_11683, type=LoopIR.Index(), srcinfo=<exo.prelude.SrcInfo object at 0x7fffbc628c40>), Effects.Var(name=j_11684, type=LoopIR.Index(), srcinfo=<exo.prelude.SrcInfo object at 0x7fffbc62aaa0>)], names=[i_11683, j_11684, k_11685], pred=Effects.BinOp(op='and', lhs=Effects.BinOp(op='and', lhs=Effects.BinOp(op='<=', lhs=Effects.Const(val=0, type=LoopIR.Int(), srcinfo=<exo.prelude.SrcInfo object at 0x7fffbd81cd00>), rhs=Effects.Var(name=i_11683, type=LoopIR.Index(), srcinfo=<exo.prelude.SrcInfo object at 0x7fffbd81d540>), type=LoopIR.Bool(), srcinfo=<exo.prelude.SrcInfo object at 0x7fffbd81d540>), rhs=Effects.BinOp(op='<', lhs=Effects.Var(name=i_11683, type=LoopIR.Index(), srcinfo=<exo.prelude.SrcInfo object at 0x7fffbd81d540>), rhs=Effects.Const(val=16, type=LoopIR.Int(), srcinfo=<exo.prelude.SrcInfo object at 0x7fffbd81e500>), type=LoopIR.Bool(), srcinfo=<exo.prelude.SrcInfo object at 0x7fffbd81d540>), type=LoopIR.Bool(), srcinfo=<exo.prelude.SrcInfo object at 0x7fffbd81d540>), rhs=Effects.BinOp(op='and', lhs=Effects.BinOp(op='and', lhs=Effects.BinOp(op='<=', lhs=Effects.Const(val=0, type=LoopIR.Int(), srcinfo=<exo.prelude.SrcInfo object at 0x7fffbc62afe0>), rhs=Effects.Var(name=j_11684, type=LoopIR.Index(), srcinfo=<exo.prelude.SrcInfo object at 0x7fffbc628e80>), type=LoopIR.Bool(), srcinfo=<exo.prelude.SrcInfo object at 0x7fffbc628e80>), rhs=Effects.BinOp(op='<', lhs=Effects.Var(name=j_11684, type=LoopIR.Index(), srcinfo=<exo.prelude.SrcInfo object at 0x7fffbc628e80>), rhs=Effects.Const(val=16, type=LoopIR.Int(), srcinfo=<exo.prelude.SrcInfo object at 0x7fffbc62ae60>), type=LoopIR.Bool(), srcinfo=<exo.prelude.SrcInfo object at 0x7fffbc628e80>), type=LoopIR.Bool(), srcinfo=<exo.prelude.SrcInfo object at 0x7fffbc628e80>), rhs=Effects.BinOp(op='and', lhs=Effects.BinOp(op='<=', lhs=Effects.Const(val=0, type=LoopIR.Int(), srcinfo=<exo.prelude.SrcInfo object at 0x7fffbc62b280>), rhs=Effects.Var(name=k_11685, type=LoopIR.Index(), srcinfo=<exo.prelude.SrcInfo object at 0x7fffbc6285e0>), type=LoopIR.Bool(), srcinfo=<exo.prelude.SrcInfo object at 0x7fffbc6285e0>), rhs=Effects.BinOp(op='<', lhs=Effects.Var(name=k_11685, type=LoopIR.Index(), srcinfo=<exo.prelude.SrcInfo object at 0x7fffbc6285e0>), rhs=Effects.Const(val=19, type=LoopIR.Int(), srcinfo=<exo.prelude.SrcInfo object at 0x7fffbc62b340>), type=LoopIR.Bool(), srcinfo=<exo.prelude.SrcInfo object at 0x7fffbc6285e0>), type=LoopIR.Bool(), srcinfo=<exo.prelude.SrcInfo object at 0x7fffbc6285e0>), type=LoopIR.Bool(), srcinfo=<exo.prelude.SrcInfo object at 0x7fffbc628e80>), type=LoopIR.Bool(), srcinfo=<exo.prelude.SrcInfo object at 0x7fffbd81d540>), srcinfo=<exo.prelude.SrcInfo object at 0x7fffbc6280a0>)], config_reads=[], config_writes=[], srcinfo=<exo.prelude.SrcInfo object at 0x7fffbc629060>), srcinfo=<exo.prelude.SrcInfo object at 0x7fffbe212830>), _anchor=Node(_root=LoopIR.proc(name='generated_operation', args=[LoopIR.fnarg(name=In_11680, type=LoopIR.Tensor(hi=[LoopIR.Const(val=16, type=LoopIR.Int(), srcinfo=<exo.prelude.SrcInfo object at 0x7fffbc563df0>), LoopIR.Const(val=19, type=LoopIR.Int(), srcinfo=<exo.prelude.SrcInfo object at 0x7fffbc560250>)], is_window=False, type=LoopIR.INT8()), mem=<class 'exo.memory.DRAM'>, srcinfo=<exo.prelude.SrcInfo object at 0x7fffbf7e4700>), LoopIR.fnarg(name=Weights_11681, type=LoopIR.Tensor(hi=[LoopIR.Const(val=19, type=LoopIR.Int(), srcinfo=<exo.prelude.SrcInfo object at 0x7fffbc348610>), LoopIR.Const(val=16, type=LoopIR.Int(), srcinfo=<exo.prelude.SrcInfo object at 0x7fffbc2b1cf0>)], is_window=False, type=LoopIR.INT8()), mem=<class 'exo.memory.DRAM'>, srcinfo=<exo.prelude.SrcInfo object at 0x7fffbc348040>), LoopIR.fnarg(name=Out_11682, type=LoopIR.Tensor(hi=[LoopIR.Const(val=16, type=LoopIR.Int(), srcinfo=<exo.prelude.SrcInfo object at 0x7fffbd81c940>), LoopIR.Const(val=16, type=LoopIR.Int(), srcinfo=<exo.prelude.SrcInfo object at 0x7fffbd81d7e0>)], is_window=False, type=LoopIR.INT8()), mem=<class 'exo.memory.DRAM'>, srcinfo=<exo.prelude.SrcInfo object at 0x7fffbd81e590>)], preds=[], body=[LoopIR.For(iter=i_11683, lo=LoopIR.Const(val=0, type=LoopIR.Int(), srcinfo=<exo.prelude.SrcInfo object at 0x7fffbd81cd00>), hi=LoopIR.Const(val=16, type=LoopIR.Int(), srcinfo=<exo.prelude.SrcInfo object at 0x7fffbd81e500>), body=[LoopIR.For(iter=j_11684, lo=LoopIR.Const(val=0, type=LoopIR.Int(), srcinfo=<exo.prelude.SrcInfo object at 0x7fffbc62afe0>), hi=LoopIR.Const(val=16, type=LoopIR.Int(), srcinfo=<exo.prelude.SrcInfo object at 0x7fffbc62ae60>), body=[LoopIR.For(iter=k_11685, lo=LoopIR.Const(val=0, type=LoopIR.Int(), srcinfo=<exo.prelude.SrcInfo object at 0x7fffbc62b280>), hi=LoopIR.Const(val=19, type=LoopIR.Int(), srcinfo=<exo.prelude.SrcInfo object at 0x7fffbc62b340>), body=[LoopIR.Reduce(name=Out_11682, type=LoopIR.INT8(), idx=[LoopIR.Read(name=i_11683, idx=[], type=LoopIR.Index(), srcinfo=<exo.prelude.SrcInfo object at 0x7fffbc628c40>), LoopIR.Read(name=j_11684, idx=[], type=LoopIR.Index(), srcinfo=<exo.prelude.SrcInfo object at 0x7fffbc62aaa0>)], rhs=LoopIR.BinOp(op='*', lhs=LoopIR.Read(name=In_11680, idx=[LoopIR.Read(name=i_11683, idx=[], type=LoopIR.Index(), srcinfo=<exo.prelude.SrcInfo object at 0x7fffbc628760>), LoopIR.Read(name=k_11685, idx=[], type=LoopIR.Index(), srcinfo=<exo.prelude.SrcInfo object at 0x7fffbc62ab00>)], type=LoopIR.INT8(), srcinfo=<exo.prelude.SrcInfo object at 0x7fffbc628730>), rhs=LoopIR.Read(name=Weights_11681, idx=[LoopIR.Read(name=k_11685, idx=[], type=LoopIR.Index(), srcinfo=<exo.prelude.SrcInfo object at 0x7fffbc629630>), LoopIR.Read(name=j_11684, idx=[], type=LoopIR.Index(), srcinfo=<exo.prelude.SrcInfo object at 0x7fffbc62a9b0>)], type=LoopIR.INT8(), srcinfo=<exo.prelude.SrcInfo object at 0x7fffbc628be0>), type=LoopIR.INT8(), srcinfo=<exo.prelude.SrcInfo object at 0x7fffbc629060>), eff=Effects.effect(reads=[Effects.effset(buffer=In_11680, loc=[Effects.Var(name=i_11683, type=LoopIR.Index(), srcinfo=<exo.prelude.SrcInfo object at 0x7fffbc628760>), Effects.Var(name=k_11685, type=LoopIR.Index(), srcinfo=<exo.prelude.SrcInfo object at 0x7fffbc62ab00>)], names=[], pred=None, srcinfo=<exo.prelude.SrcInfo object at 0x7fffbc628730>), Effects.effset(buffer=Weights_11681, loc=[Effects.Var(name=k_11685, type=LoopIR.Index(), srcinfo=<exo.prelude.SrcInfo object at 0x7fffbc629630>), Effects.Var(name=j_11684, type=LoopIR.Index(), srcinfo=<exo.prelude.SrcInfo object at 0x7fffbc62a9b0>)], names=[], pred=None, srcinfo=<exo.prelude.SrcInfo object at 0x7fffbc628be0>)], writes=[], reduces=[Effects.effset(buffer=Out_11682, loc=[Effects.Var(name=i_11683, type=LoopIR.Index(), srcinfo=<exo.prelude.SrcInfo object at 0x7fffbc628c40>), Effects.Var(name=j_11684, type=LoopIR.Index(), srcinfo=<exo.prelude.SrcInfo object at 0x7fffbc62aaa0>)], names=[], pred=None, srcinfo=<exo.prelude.SrcInfo object at 0x7fffbc6280a0>)], config_reads=[], config_writes=[], srcinfo=<exo.prelude.SrcInfo object at 0x7fffbc629060>), srcinfo=<exo.prelude.SrcInfo object at 0x7fffbc6280a0>)], loop_mode=LoopIR.Seq(), eff=Effects.effect(reads=[Effects.effset(buffer=In_11680, loc=[Effects.Var(name=i_11683, type=LoopIR.Index(), srcinfo=<exo.prelude.SrcInfo object at 0x7fffbc628760>), Effects.Var(name=k_11685, type=LoopIR.Index(), srcinfo=<exo.prelude.SrcInfo object at 0x7fffbc62ab00>)], names=[k_11685], pred=Effects.BinOp(op='and', lhs=Effects.BinOp(op='<=', lhs=Effects.Const(val=0, type=LoopIR.Int(), srcinfo=<exo.prelude.SrcInfo object at 0x7fffbc62b280>), rhs=Effects.Var(name=k_11685, type=LoopIR.Index(), srcinfo=<exo.prelude.SrcInfo object at 0x7fffbc6285e0>), type=LoopIR.Bool(), srcinfo=<exo.prelude.SrcInfo object at 0x7fffbc6285e0>), rhs=Effects.BinOp(op='<', lhs=Effects.Var(name=k_11685, type=LoopIR.Index(), srcinfo=<exo.prelude.SrcInfo object at 0x7fffbc6285e0>), rhs=Effects.Const(val=19, type=LoopIR.Int(), srcinfo=<exo.prelude.SrcInfo object at 0x7fffbc62b340>), type=LoopIR.Bool(), srcinfo=<exo.prelude.SrcInfo object at 0x7fffbc6285e0>), type=LoopIR.Bool(), srcinfo=<exo.prelude.SrcInfo object at 0x7fffbc6285e0>), srcinfo=<exo.prelude.SrcInfo object at 0x7fffbc628730>), Effects.effset(buffer=Weights_11681, loc=[Effects.Var(name=k_11685, type=LoopIR.Index(), srcinfo=<exo.prelude.SrcInfo object at 0x7fffbc629630>), Effects.Var(name=j_11684, type=LoopIR.Index(), srcinfo=<exo.prelude.SrcInfo object at 0x7fffbc62a9b0>)], names=[k_11685], pred=Effects.BinOp(op='and', lhs=Effects.BinOp(op='<=', lhs=Effects.Const(val=0, type=LoopIR.Int(), srcinfo=<exo.prelude.SrcInfo object at 0x7fffbc62b280>), rhs=Effects.Var(name=k_11685, type=LoopIR.Index(), srcinfo=<exo.prelude.SrcInfo object at 0x7fffbc6285e0>), type=LoopIR.Bool(), srcinfo=<exo.prelude.SrcInfo object at 0x7fffbc6285e0>), rhs=Effects.BinOp(op='<', lhs=Effects.Var(name=k_11685, type=LoopIR.Index(), srcinfo=<exo.prelude.SrcInfo object at 0x7fffbc6285e0>), rhs=Effects.Const(val=19, type=LoopIR.Int(), srcinfo=<exo.prelude.SrcInfo object at 0x7fffbc62b340>), type=LoopIR.Bool(), srcinfo=<exo.prelude.SrcInfo object at 0x7fffbc6285e0>), type=LoopIR.Bool(), srcinfo=<exo.prelude.SrcInfo object at 0x7fffbc6285e0>), srcinfo=<exo.prelude.SrcInfo object at 0x7fffbc628be0>)], writes=[], reduces=[Effects.effset(buffer=Out_11682, loc=[Effects.Var(name=i_11683, type=LoopIR.Index(), srcinfo=<exo.prelude.SrcInfo object at 0x7fffbc628c40>), Effects.Var(name=j_11684, type=LoopIR.Index(), srcinfo=<exo.prelude.SrcInfo object at 0x7fffbc62aaa0>)], names=[k_11685], pred=Effects.BinOp(op='and', lhs=Effects.BinOp(op='<=', lhs=Effects.Const(val=0, type=LoopIR.Int(), srcinfo=<exo.prelude.SrcInfo object at 0x7fffbc62b280>), rhs=Effects.Var(name=k_11685, type=LoopIR.Index(), srcinfo=<exo.prelude.SrcInfo object at 0x7fffbc6285e0>), type=LoopIR.Bool(), srcinfo=<exo.prelude.SrcInfo object at 0x7fffbc6285e0>), rhs=Effects.BinOp(op='<', lhs=Effects.Var(name=k_11685, type=LoopIR.Index(), srcinfo=<exo.prelude.SrcInfo object at 0x7fffbc6285e0>), rhs=Effects.Const(val=19, type=LoopIR.Int(), srcinfo=<exo.prelude.SrcInfo object at 0x7fffbc62b340>), type=LoopIR.Bool(), srcinfo=<exo.prelude.SrcInfo object at 0x7fffbc6285e0>), type=LoopIR.Bool(), srcinfo=<exo.prelude.SrcInfo object at 0x7fffbc6285e0>), srcinfo=<exo.prelude.SrcInfo object at 0x7fffbc6280a0>)], config_reads=[], config_writes=[], srcinfo=<exo.prelude.SrcInfo object at 0x7fffbc629060>), srcinfo=<exo.prelude.SrcInfo object at 0x7fffbc6285e0>)], loop_mode=LoopIR.Seq(), eff=Effects.effect(reads=[Effects.effset(buffer=In_11680, loc=[Effects.Var(name=i_11683, type=LoopIR.Index(), srcinfo=<exo.prelude.SrcInfo object at 0x7fffbc628760>), Effects.Var(name=k_11685, type=LoopIR.Index(), srcinfo=<exo.prelude.SrcInfo object at 0x7fffbc62ab00>)], names=[j_11684, k_11685], pred=Effects.BinOp(op='and', lhs=Effects.BinOp(op='and', lhs=Effects.BinOp(op='<=', lhs=Effects.Const(val=0, type=LoopIR.Int(), srcinfo=<exo.prelude.SrcInfo object at 0x7fffbc62afe0>), rhs=Effects.Var(name=j_11684, type=LoopIR.Index(), srcinfo=<exo.prelude.SrcInfo object at 0x7fffbc628e80>), type=LoopIR.Bool(), srcinfo=<exo.prelude.SrcInfo object at 0x7fffbc628e80>), rhs=Effects.BinOp(op='<', lhs=Effects.Var(name=j_11684, type=LoopIR.Index(), srcinfo=<exo.prelude.SrcInfo object at 0x7fffbc628e80>), rhs=Effects.Const(val=16, type=LoopIR.Int(), srcinfo=<exo.prelude.SrcInfo object at 0x7fffbc62ae60>), type=LoopIR.Bool(), srcinfo=<exo.prelude.SrcInfo object at 0x7fffbc628e80>), type=LoopIR.Bool(), srcinfo=<exo.prelude.SrcInfo object at 0x7fffbc628e80>), rhs=Effects.BinOp(op='and', lhs=Effects.BinOp(op='<=', lhs=Effects.Const(val=0, type=LoopIR.Int(), srcinfo=<exo.prelude.SrcInfo object at 0x7fffbc62b280>), rhs=Effects.Var(name=k_11685, type=LoopIR.Index(), srcinfo=<exo.prelude.SrcInfo object at 0x7fffbc6285e0>), type=LoopIR.Bool(), srcinfo=<exo.prelude.SrcInfo object at 0x7fffbc6285e0>), rhs=Effects.BinOp(op='<', lhs=Effects.Var(name=k_11685, type=LoopIR.Index(), srcinfo=<exo.prelude.SrcInfo object at 0x7fffbc6285e0>), rhs=Effects.Const(val=19, type=LoopIR.Int(), srcinfo=<exo.prelude.SrcInfo object at 0x7fffbc62b340>), type=LoopIR.Bool(), srcinfo=<exo.prelude.SrcInfo object at 0x7fffbc6285e0>), type=LoopIR.Bool(), srcinfo=<exo.prelude.SrcInfo object at 0x7fffbc6285e0>), type=LoopIR.Bool(), srcinfo=<exo.prelude.SrcInfo object at 0x7fffbc628e80>), srcinfo=<exo.prelude.SrcInfo object at 0x7fffbc628730>), Effects.effset(buffer=Weights_11681, loc=[Effects.Var(name=k_11685, type=LoopIR.Index(), srcinfo=<exo.prelude.SrcInfo object at 0x7fffbc629630>), Effects.Var(name=j_11684, type=LoopIR.Index(), srcinfo=<exo.prelude.SrcInfo object at 0x7fffbc62a9b0>)], names=[j_11684, k_11685], pred=Effects.BinOp(op='and', lhs=Effects.BinOp(op='and', lhs=Effects.BinOp(op='<=', lhs=Effects.Const(val=0, type=LoopIR.Int(), srcinfo=<exo.prelude.SrcInfo object at 0x7fffbc62afe0>), rhs=Effects.Var(name=j_11684, type=LoopIR.Index(), srcinfo=<exo.prelude.SrcInfo object at 0x7fffbc628e80>), type=LoopIR.Bool(), srcinfo=<exo.prelude.SrcInfo object at 0x7fffbc628e80>), rhs=Effects.BinOp(op='<', lhs=Effects.Var(name=j_11684, type=LoopIR.Index(), srcinfo=<exo.prelude.SrcInfo object at 0x7fffbc628e80>), rhs=Effects.Const(val=16, type=LoopIR.Int(), srcinfo=<exo.prelude.SrcInfo object at 0x7fffbc62ae60>), type=LoopIR.Bool(), srcinfo=<exo.prelude.SrcInfo object at 0x7fffbc628e80>), type=LoopIR.Bool(), srcinfo=<exo.prelude.SrcInfo object at 0x7fffbc628e80>), rhs=Effects.BinOp(op='and', lhs=Effects.BinOp(op='<=', lhs=Effects.Const(val=0, type=LoopIR.Int(), srcinfo=<exo.prelude.SrcInfo object at 0x7fffbc62b280>), rhs=Effects.Var(name=k_11685, type=LoopIR.Index(), srcinfo=<exo.prelude.SrcInfo object at 0x7fffbc6285e0>), type=LoopIR.Bool(), srcinfo=<exo.prelude.SrcInfo object at 0x7fffbc6285e0>), rhs=Effects.BinOp(op='<', lhs=Effects.Var(name=k_11685, type=LoopIR.Index(), srcinfo=<exo.prelude.SrcInfo object at 0x7fffbc6285e0>), rhs=Effects.Const(val=19, type=LoopIR.Int(), srcinfo=<exo.prelude.SrcInfo object at 0x7fffbc62b340>), type=LoopIR.Bool(), srcinfo=<exo.prelude.SrcInfo object at 0x7fffbc6285e0>), type=LoopIR.Bool(), srcinfo=<exo.prelude.SrcInfo object at 0x7fffbc6285e0>), type=LoopIR.Bool(), srcinfo=<exo.prelude.SrcInfo object at 0x7fffbc628e80>), srcinfo=<exo.prelude.SrcInfo object at 0x7fffbc628be0>)], writes=[], reduces=[Effects.effset(buffer=Out_11682, loc=[Effects.Var(name=i_11683, type=LoopIR.Index(), srcinfo=<exo.prelude.SrcInfo object at 0x7fffbc628c40>), Effects.Var(name=j_11684, type=LoopIR.Index(), srcinfo=<exo.prelude.SrcInfo object at 0x7fffbc62aaa0>)], names=[j_11684, k_11685], pred=Effects.BinOp(op='and', lhs=Effects.BinOp(op='and', lhs=Effects.BinOp(op='<=', lhs=Effects.Const(val=0, type=LoopIR.Int(), srcinfo=<exo.prelude.SrcInfo object at 0x7fffbc62afe0>), rhs=Effects.Var(name=j_11684, type=LoopIR.Index(), srcinfo=<exo.prelude.SrcInfo object at 0x7fffbc628e80>), type=LoopIR.Bool(), srcinfo=<exo.prelude.SrcInfo object at 0x7fffbc628e80>), rhs=Effects.BinOp(op='<', lhs=Effects.Var(name=j_11684, type=LoopIR.Index(), srcinfo=<exo.prelude.SrcInfo object at 0x7fffbc628e80>), rhs=Effects.Const(val=16, type=LoopIR.Int(), srcinfo=<exo.prelude.SrcInfo object at 0x7fffbc62ae60>), type=LoopIR.Bool(), srcinfo=<exo.prelude.SrcInfo object at 0x7fffbc628e80>), type=LoopIR.Bool(), srcinfo=<exo.prelude.SrcInfo object at 0x7fffbc628e80>), rhs=Effects.BinOp(op='and', lhs=Effects.BinOp(op='<=', lhs=Effects.Const(val=0, type=LoopIR.Int(), srcinfo=<exo.prelude.SrcInfo object at 0x7fffbc62b280>), rhs=Effects.Var(name=k_11685, type=LoopIR.Index(), srcinfo=<exo.prelude.SrcInfo object at 0x7fffbc6285e0>), type=LoopIR.Bool(), srcinfo=<exo.prelude.SrcInfo object at 0x7fffbc6285e0>), rhs=Effects.BinOp(op='<', lhs=Effects.Var(name=k_11685, type=LoopIR.Index(), srcinfo=<exo.prelude.SrcInfo object at 0x7fffbc6285e0>), rhs=Effects.Const(val=19, type=LoopIR.Int(), srcinfo=<exo.prelude.SrcInfo object at 0x7fffbc62b340>), type=LoopIR.Bool(), srcinfo=<exo.prelude.SrcInfo object at 0x7fffbc6285e0>), type=LoopIR.Bool(), srcinfo=<exo.prelude.SrcInfo object at 0x7fffbc6285e0>), type=LoopIR.Bool(), srcinfo=<exo.prelude.SrcInfo object at 0x7fffbc628e80>), srcinfo=<exo.prelude.SrcInfo object at 0x7fffbc6280a0>)], config_reads=[], config_writes=[], srcinfo=<exo.prelude.SrcInfo object at 0x7fffbc629060>), srcinfo=<exo.prelude.SrcInfo object at 0x7fffbc628e80>)], loop_mode=LoopIR.Seq(), eff=Effects.effect(reads=[Effects.effset(buffer=In_11680, loc=[Effects.Var(name=i_11683, type=LoopIR.Index(), srcinfo=<exo.prelude.SrcInfo object at 0x7fffbc628760>), Effects.Var(name=k_11685, type=LoopIR.Index(), srcinfo=<exo.prelude.SrcInfo object at 0x7fffbc62ab00>)], names=[i_11683, j_11684, k_11685], pred=Effects.BinOp(op='and', lhs=Effects.BinOp(op='and', lhs=Effects.BinOp(op='<=', lhs=Effects.Const(val=0, type=LoopIR.Int(), srcinfo=<exo.prelude.SrcInfo object at 0x7fffbd81cd00>), rhs=Effects.Var(name=i_11683, type=LoopIR.Index(), srcinfo=<exo.prelude.SrcInfo object at 0x7fffbd81d540>), type=LoopIR.Bool(), srcinfo=<exo.prelude.SrcInfo object at 0x7fffbd81d540>), rhs=Effects.BinOp(op='<', lhs=Effects.Var(name=i_11683, type=LoopIR.Index(), srcinfo=<exo.prelude.SrcInfo object at 0x7fffbd81d540>), rhs=Effects.Const(val=16, type=LoopIR.Int(), srcinfo=<exo.prelude.SrcInfo object at 0x7fffbd81e500>), type=LoopIR.Bool(), srcinfo=<exo.prelude.SrcInfo object at 0x7fffbd81d540>), type=LoopIR.Bool(), srcinfo=<exo.prelude.SrcInfo object at 0x7fffbd81d540>), rhs=Effects.BinOp(op='and', lhs=Effects.BinOp(op='and', lhs=Effects.BinOp(op='<=', lhs=Effects.Const(val=0, type=LoopIR.Int(), srcinfo=<exo.prelude.SrcInfo object at 0x7fffbc62afe0>), rhs=Effects.Var(name=j_11684, type=LoopIR.Index(), srcinfo=<exo.prelude.SrcInfo object at 0x7fffbc628e80>), type=LoopIR.Bool(), srcinfo=<exo.prelude.SrcInfo object at 0x7fffbc628e80>), rhs=Effects.BinOp(op='<', lhs=Effects.Var(name=j_11684, type=LoopIR.Index(), srcinfo=<exo.prelude.SrcInfo object at 0x7fffbc628e80>), rhs=Effects.Const(val=16, type=LoopIR.Int(), srcinfo=<exo.prelude.SrcInfo object at 0x7fffbc62ae60>), type=LoopIR.Bool(), srcinfo=<exo.prelude.SrcInfo object at 0x7fffbc628e80>), type=LoopIR.Bool(), srcinfo=<exo.prelude.SrcInfo object at 0x7fffbc628e80>), rhs=Effects.BinOp(op='and', lhs=Effects.BinOp(op='<=', lhs=Effects.Const(val=0, type=LoopIR.Int(), srcinfo=<exo.prelude.SrcInfo object at 0x7fffbc62b280>), rhs=Effects.Var(name=k_11685, type=LoopIR.Index(), srcinfo=<exo.prelude.SrcInfo object at 0x7fffbc6285e0>), type=LoopIR.Bool(), srcinfo=<exo.prelude.SrcInfo object at 0x7fffbc6285e0>), rhs=Effects.BinOp(op='<', lhs=Effects.Var(name=k_11685, type=LoopIR.Index(), srcinfo=<exo.prelude.SrcInfo object at 0x7fffbc6285e0>), rhs=Effects.Const(val=19, type=LoopIR.Int(), srcinfo=<exo.prelude.SrcInfo object at 0x7fffbc62b340>), type=LoopIR.Bool(), srcinfo=<exo.prelude.SrcInfo object at 0x7fffbc6285e0>), type=LoopIR.Bool(), srcinfo=<exo.prelude.SrcInfo object at 0x7fffbc6285e0>), type=LoopIR.Bool(), srcinfo=<exo.prelude.SrcInfo object at 0x7fffbc628e80>), type=LoopIR.Bool(), srcinfo=<exo.prelude.SrcInfo object at 0x7fffbd81d540>), srcinfo=<exo.prelude.SrcInfo object at 0x7fffbc628730>), Effects.effset(buffer=Weights_11681, loc=[Effects.Var(name=k_11685, type=LoopIR.Index(), srcinfo=<exo.prelude.SrcInfo object at 0x7fffbc629630>), Effects.Var(name=j_11684, type=LoopIR.Index(), srcinfo=<exo.prelude.SrcInfo object at 0x7fffbc62a9b0>)], names=[i_11683, j_11684, k_11685], pred=Effects.BinOp(op='and', lhs=Effects.BinOp(op='and', lhs=Effects.BinOp(op='<=', lhs=Effects.Const(val=0, type=LoopIR.Int(), srcinfo=<exo.prelude.SrcInfo object at 0x7fffbd81cd00>), rhs=Effects.Var(name=i_11683, type=LoopIR.Index(), srcinfo=<exo.prelude.SrcInfo object at 0x7fffbd81d540>), type=LoopIR.Bool(), srcinfo=<exo.prelude.SrcInfo object at 0x7fffbd81d540>), rhs=Effects.BinOp(op='<', lhs=Effects.Var(name=i_11683, type=LoopIR.Index(), srcinfo=<exo.prelude.SrcInfo object at 0x7fffbd81d540>), rhs=Effects.Const(val=16, type=LoopIR.Int(), srcinfo=<exo.prelude.SrcInfo object at 0x7fffbd81e500>), type=LoopIR.Bool(), srcinfo=<exo.prelude.SrcInfo object at 0x7fffbd81d540>), type=LoopIR.Bool(), srcinfo=<exo.prelude.SrcInfo object at 0x7fffbd81d540>), rhs=Effects.BinOp(op='and', lhs=Effects.BinOp(op='and', lhs=Effects.BinOp(op='<=', lhs=Effects.Const(val=0, type=LoopIR.Int(), srcinfo=<exo.prelude.SrcInfo object at 0x7fffbc62afe0>), rhs=Effects.Var(name=j_11684, type=LoopIR.Index(), srcinfo=<exo.prelude.SrcInfo object at 0x7fffbc628e80>), type=LoopIR.Bool(), srcinfo=<exo.prelude.SrcInfo object at 0x7fffbc628e80>), rhs=Effects.BinOp(op='<', lhs=Effects.Var(name=j_11684, type=LoopIR.Index(), srcinfo=<exo.prelude.SrcInfo object at 0x7fffbc628e80>), rhs=Effects.Const(val=16, type=LoopIR.Int(), srcinfo=<exo.prelude.SrcInfo object at 0x7fffbc62ae60>), type=LoopIR.Bool(), srcinfo=<exo.prelude.SrcInfo object at 0x7fffbc628e80>), type=LoopIR.Bool(), srcinfo=<exo.prelude.SrcInfo object at 0x7fffbc628e80>), rhs=Effects.BinOp(op='and', lhs=Effects.BinOp(op='<=', lhs=Effects.Const(val=0, type=LoopIR.Int(), srcinfo=<exo.prelude.SrcInfo object at 0x7fffbc62b280>), rhs=Effects.Var(name=k_11685, type=LoopIR.Index(), srcinfo=<exo.prelude.SrcInfo object at 0x7fffbc6285e0>), type=LoopIR.Bool(), srcinfo=<exo.prelude.SrcInfo object at 0x7fffbc6285e0>), rhs=Effects.BinOp(op='<', lhs=Effects.Var(name=k_11685, type=LoopIR.Index(), srcinfo=<exo.prelude.SrcInfo object at 0x7fffbc6285e0>), rhs=Effects.Const(val=19, type=LoopIR.Int(), srcinfo=<exo.prelude.SrcInfo object at 0x7fffbc62b340>), type=LoopIR.Bool(), srcinfo=<exo.prelude.SrcInfo object at 0x7fffbc6285e0>), type=LoopIR.Bool(), srcinfo=<exo.prelude.SrcInfo object at 0x7fffbc6285e0>), type=LoopIR.Bool(), srcinfo=<exo.prelude.SrcInfo object at 0x7fffbc628e80>), type=LoopIR.Bool(), srcinfo=<exo.prelude.SrcInfo object at 0x7fffbd81d540>), srcinfo=<exo.prelude.SrcInfo object at 0x7fffbc628be0>)], writes=[], reduces=[Effects.effset(buffer=Out_11682, loc=[Effects.Var(name=i_11683, type=LoopIR.Index(), srcinfo=<exo.prelude.SrcInfo object at 0x7fffbc628c40>), Effects.Var(name=j_11684, type=LoopIR.Index(), srcinfo=<exo.prelude.SrcInfo object at 0x7fffbc62aaa0>)], names=[i_11683, j_11684, k_11685], pred=Effects.BinOp(op='and', lhs=Effects.BinOp(op='and', lhs=Effects.BinOp(op='<=', lhs=Effects.Const(val=0, type=LoopIR.Int(), srcinfo=<exo.prelude.SrcInfo object at 0x7fffbd81cd00>), rhs=Effects.Var(name=i_11683, type=LoopIR.Index(), srcinfo=<exo.prelude.SrcInfo object at 0x7fffbd81d540>), type=LoopIR.Bool(), srcinfo=<exo.prelude.SrcInfo object at 0x7fffbd81d540>), rhs=Effects.BinOp(op='<', lhs=Effects.Var(name=i_11683, type=LoopIR.Index(), srcinfo=<exo.prelude.SrcInfo object at 0x7fffbd81d540>), rhs=Effects.Const(val=16, type=LoopIR.Int(), srcinfo=<exo.prelude.SrcInfo object at 0x7fffbd81e500>), type=LoopIR.Bool(), srcinfo=<exo.prelude.SrcInfo object at 0x7fffbd81d540>), type=LoopIR.Bool(), srcinfo=<exo.prelude.SrcInfo object at 0x7fffbd81d540>), rhs=Effects.BinOp(op='and', lhs=Effects.BinOp(op='and', lhs=Effects.BinOp(op='<=', lhs=Effects.Const(val=0, type=LoopIR.Int(), srcinfo=<exo.prelude.SrcInfo object at 0x7fffbc62afe0>), rhs=Effects.Var(name=j_11684, type=LoopIR.Index(), srcinfo=<exo.prelude.SrcInfo object at 0x7fffbc628e80>), type=LoopIR.Bool(), srcinfo=<exo.prelude.SrcInfo object at 0x7fffbc628e80>), rhs=Effects.BinOp(op='<', lhs=Effects.Var(name=j_11684, type=LoopIR.Index(), srcinfo=<exo.prelude.SrcInfo object at 0x7fffbc628e80>), rhs=Effects.Const(val=16, type=LoopIR.Int(), srcinfo=<exo.prelude.SrcInfo object at 0x7fffbc62ae60>), type=LoopIR.Bool(), srcinfo=<exo.prelude.SrcInfo object at 0x7fffbc628e80>), type=LoopIR.Bool(), srcinfo=<exo.prelude.SrcInfo object at 0x7fffbc628e80>), rhs=Effects.BinOp(op='and', lhs=Effects.BinOp(op='<=', lhs=Effects.Const(val=0, type=LoopIR.Int(), srcinfo=<exo.prelude.SrcInfo object at 0x7fffbc62b280>), rhs=Effects.Var(name=k_11685, type=LoopIR.Index(), srcinfo=<exo.prelude.SrcInfo object at 0x7fffbc6285e0>), type=LoopIR.Bool(), srcinfo=<exo.prelude.SrcInfo object at 0x7fffbc6285e0>), rhs=Effects.BinOp(op='<', lhs=Effects.Var(name=k_11685, type=LoopIR.Index(), srcinfo=<exo.prelude.SrcInfo object at 0x7fffbc6285e0>), rhs=Effects.Const(val=19, type=LoopIR.Int(), srcinfo=<exo.prelude.SrcInfo object at 0x7fffbc62b340>), type=LoopIR.Bool(), srcinfo=<exo.prelude.SrcInfo object at 0x7fffbc6285e0>), type=LoopIR.Bool(), srcinfo=<exo.prelude.SrcInfo object at 0x7fffbc6285e0>), type=LoopIR.Bool(), srcinfo=<exo.prelude.SrcInfo object at 0x7fffbc628e80>), type=LoopIR.Bool(), srcinfo=<exo.prelude.SrcInfo object at 0x7fffbd81d540>), srcinfo=<exo.prelude.SrcInfo object at 0x7fffbc6280a0>)], config_reads=[], config_writes=[], srcinfo=<exo.prelude.SrcInfo object at 0x7fffbc629060>), srcinfo=<exo.prelude.SrcInfo object at 0x7fffbd81d540>)], instr=None, eff=Effects.effect(reads=[Effects.effset(buffer=In_11680, loc=[Effects.Var(name=i_11683, type=LoopIR.Index(), srcinfo=<exo.prelude.SrcInfo object at 0x7fffbc628760>), Effects.Var(name=k_11685, type=LoopIR.Index(), srcinfo=<exo.prelude.SrcInfo object at 0x7fffbc62ab00>)], names=[i_11683, j_11684, k_11685], pred=Effects.BinOp(op='and', lhs=Effects.BinOp(op='and', lhs=Effects.BinOp(op='<=', lhs=Effects.Const(val=0, type=LoopIR.Int(), srcinfo=<exo.prelude.SrcInfo object at 0x7fffbd81cd00>), rhs=Effects.Var(name=i_11683, type=LoopIR.Index(), srcinfo=<exo.prelude.SrcInfo object at 0x7fffbd81d540>), type=LoopIR.Bool(), srcinfo=<exo.prelude.SrcInfo object at 0x7fffbd81d540>), rhs=Effects.BinOp(op='<', lhs=Effects.Var(name=i_11683, type=LoopIR.Index(), srcinfo=<exo.prelude.SrcInfo object at 0x7fffbd81d540>), rhs=Effects.Const(val=16, type=LoopIR.Int(), srcinfo=<exo.prelude.SrcInfo object at 0x7fffbd81e500>), type=LoopIR.Bool(), srcinfo=<exo.prelude.SrcInfo object at 0x7fffbd81d540>), type=LoopIR.Bool(), srcinfo=<exo.prelude.SrcInfo object at 0x7fffbd81d540>), rhs=Effects.BinOp(op='and', lhs=Effects.BinOp(op='and', lhs=Effects.BinOp(op='<=', lhs=Effects.Const(val=0, type=LoopIR.Int(), srcinfo=<exo.prelude.SrcInfo object at 0x7fffbc62afe0>), rhs=Effects.Var(name=j_11684, type=LoopIR.Index(), srcinfo=<exo.prelude.SrcInfo object at 0x7fffbc628e80>), type=LoopIR.Bool(), srcinfo=<exo.prelude.SrcInfo object at 0x7fffbc628e80>), rhs=Effects.BinOp(op='<', lhs=Effects.Var(name=j_11684, type=LoopIR.Index(), srcinfo=<exo.prelude.SrcInfo object at 0x7fffbc628e80>), rhs=Effects.Const(val=16, type=LoopIR.Int(), srcinfo=<exo.prelude.SrcInfo object at 0x7fffbc62ae60>), type=LoopIR.Bool(), srcinfo=<exo.prelude.SrcInfo object at 0x7fffbc628e80>), type=LoopIR.Bool(), srcinfo=<exo.prelude.SrcInfo object at 0x7fffbc628e80>), rhs=Effects.BinOp(op='and', lhs=Effects.BinOp(op='<=', lhs=Effects.Const(val=0, type=LoopIR.Int(), srcinfo=<exo.prelude.SrcInfo object at 0x7fffbc62b280>), rhs=Effects.Var(name=k_11685, type=LoopIR.Index(), srcinfo=<exo.prelude.SrcInfo object at 0x7fffbc6285e0>), type=LoopIR.Bool(), srcinfo=<exo.prelude.SrcInfo object at 0x7fffbc6285e0>), rhs=Effects.BinOp(op='<', lhs=Effects.Var(name=k_11685, type=LoopIR.Index(), srcinfo=<exo.prelude.SrcInfo object at 0x7fffbc6285e0>), rhs=Effects.Const(val=19, type=LoopIR.Int(), srcinfo=<exo.prelude.SrcInfo object at 0x7fffbc62b340>), type=LoopIR.Bool(), srcinfo=<exo.prelude.SrcInfo object at 0x7fffbc6285e0>), type=LoopIR.Bool(), srcinfo=<exo.prelude.SrcInfo object at 0x7fffbc6285e0>), type=LoopIR.Bool(), srcinfo=<exo.prelude.SrcInfo object at 0x7fffbc628e80>), type=LoopIR.Bool(), srcinfo=<exo.prelude.SrcInfo object at 0x7fffbd81d540>), srcinfo=<exo.prelude.SrcInfo object at 0x7fffbc628730>), Effects.effset(buffer=Weights_11681, loc=[Effects.Var(name=k_11685, type=LoopIR.Index(), srcinfo=<exo.prelude.SrcInfo object at 0x7fffbc629630>), Effects.Var(name=j_11684, type=LoopIR.Index(), srcinfo=<exo.prelude.SrcInfo object at 0x7fffbc62a9b0>)], names=[i_11683, j_11684, k_11685], pred=Effects.BinOp(op='and', lhs=Effects.BinOp(op='and', lhs=Effects.BinOp(op='<=', lhs=Effects.Const(val=0, type=LoopIR.Int(), srcinfo=<exo.prelude.SrcInfo object at 0x7fffbd81cd00>), rhs=Effects.Var(name=i_11683, type=LoopIR.Index(), srcinfo=<exo.prelude.SrcInfo object at 0x7fffbd81d540>), type=LoopIR.Bool(), srcinfo=<exo.prelude.SrcInfo object at 0x7fffbd81d540>), rhs=Effects.BinOp(op='<', lhs=Effects.Var(name=i_11683, type=LoopIR.Index(), srcinfo=<exo.prelude.SrcInfo object at 0x7fffbd81d540>), rhs=Effects.Const(val=16, type=LoopIR.Int(), srcinfo=<exo.prelude.SrcInfo object at 0x7fffbd81e500>), type=LoopIR.Bool(), srcinfo=<exo.prelude.SrcInfo object at 0x7fffbd81d540>), type=LoopIR.Bool(), srcinfo=<exo.prelude.SrcInfo object at 0x7fffbd81d540>), rhs=Effects.BinOp(op='and', lhs=Effects.BinOp(op='and', lhs=Effects.BinOp(op='<=', lhs=Effects.Const(val=0, type=LoopIR.Int(), srcinfo=<exo.prelude.SrcInfo object at 0x7fffbc62afe0>), rhs=Effects.Var(name=j_11684, type=LoopIR.Index(), srcinfo=<exo.prelude.SrcInfo object at 0x7fffbc628e80>), type=LoopIR.Bool(), srcinfo=<exo.prelude.SrcInfo object at 0x7fffbc628e80>), rhs=Effects.BinOp(op='<', lhs=Effects.Var(name=j_11684, type=LoopIR.Index(), srcinfo=<exo.prelude.SrcInfo object at 0x7fffbc628e80>), rhs=Effects.Const(val=16, type=LoopIR.Int(), srcinfo=<exo.prelude.SrcInfo object at 0x7fffbc62ae60>), type=LoopIR.Bool(), srcinfo=<exo.prelude.SrcInfo object at 0x7fffbc628e80>), type=LoopIR.Bool(), srcinfo=<exo.prelude.SrcInfo object at 0x7fffbc628e80>), rhs=Effects.BinOp(op='and', lhs=Effects.BinOp(op='<=', lhs=Effects.Const(val=0, type=LoopIR.Int(), srcinfo=<exo.prelude.SrcInfo object at 0x7fffbc62b280>), rhs=Effects.Var(name=k_11685, type=LoopIR.Index(), srcinfo=<exo.prelude.SrcInfo object at 0x7fffbc6285e0>), type=LoopIR.Bool(), srcinfo=<exo.prelude.SrcInfo object at 0x7fffbc6285e0>), rhs=Effects.BinOp(op='<', lhs=Effects.Var(name=k_11685, type=LoopIR.Index(), srcinfo=<exo.prelude.SrcInfo object at 0x7fffbc6285e0>), rhs=Effects.Const(val=19, type=LoopIR.Int(), srcinfo=<exo.prelude.SrcInfo object at 0x7fffbc62b340>), type=LoopIR.Bool(), srcinfo=<exo.prelude.SrcInfo object at 0x7fffbc6285e0>), type=LoopIR.Bool(), srcinfo=<exo.prelude.SrcInfo object at 0x7fffbc6285e0>), type=LoopIR.Bool(), srcinfo=<exo.prelude.SrcInfo object at 0x7fffbc628e80>), type=LoopIR.Bool(), srcinfo=<exo.prelude.SrcInfo object at 0x7fffbd81d540>), srcinfo=<exo.prelude.SrcInfo object at 0x7fffbc628be0>)], writes=[], reduces=[Effects.effset(buffer=Out_11682, loc=[Effects.Var(name=i_11683, type=LoopIR.Index(), srcinfo=<exo.prelude.SrcInfo object at 0x7fffbc628c40>), Effects.Var(name=j_11684, type=LoopIR.Index(), srcinfo=<exo.prelude.SrcInfo object at 0x7fffbc62aaa0>)], names=[i_11683, j_11684, k_11685], pred=Effects.BinOp(op='and', lhs=Effects.BinOp(op='and', lhs=Effects.BinOp(op='<=', lhs=Effects.Const(val=0, type=LoopIR.Int(), srcinfo=<exo.prelude.SrcInfo object at 0x7fffbd81cd00>), rhs=Effects.Var(name=i_11683, type=LoopIR.Index(), srcinfo=<exo.prelude.SrcInfo object at 0x7fffbd81d540>), type=LoopIR.Bool(), srcinfo=<exo.prelude.SrcInfo object at 0x7fffbd81d540>), rhs=Effects.BinOp(op='<', lhs=Effects.Var(name=i_11683, type=LoopIR.Index(), srcinfo=<exo.prelude.SrcInfo object at 0x7fffbd81d540>), rhs=Effects.Const(val=16, type=LoopIR.Int(), srcinfo=<exo.prelude.SrcInfo object at 0x7fffbd81e500>), type=LoopIR.Bool(), srcinfo=<exo.prelude.SrcInfo object at 0x7fffbd81d540>), type=LoopIR.Bool(), srcinfo=<exo.prelude.SrcInfo object at 0x7fffbd81d540>), rhs=Effects.BinOp(op='and', lhs=Effects.BinOp(op='and', lhs=Effects.BinOp(op='<=', lhs=Effects.Const(val=0, type=LoopIR.Int(), srcinfo=<exo.prelude.SrcInfo object at 0x7fffbc62afe0>), rhs=Effects.Var(name=j_11684, type=LoopIR.Index(), srcinfo=<exo.prelude.SrcInfo object at 0x7fffbc628e80>), type=LoopIR.Bool(), srcinfo=<exo.prelude.SrcInfo object at 0x7fffbc628e80>), rhs=Effects.BinOp(op='<', lhs=Effects.Var(name=j_11684, type=LoopIR.Index(), srcinfo=<exo.prelude.SrcInfo object at 0x7fffbc628e80>), rhs=Effects.Const(val=16, type=LoopIR.Int(), srcinfo=<exo.prelude.SrcInfo object at 0x7fffbc62ae60>), type=LoopIR.Bool(), srcinfo=<exo.prelude.SrcInfo object at 0x7fffbc628e80>), type=LoopIR.Bool(), srcinfo=<exo.prelude.SrcInfo object at 0x7fffbc628e80>), rhs=Effects.BinOp(op='and', lhs=Effects.BinOp(op='<=', lhs=Effects.Const(val=0, type=LoopIR.Int(), srcinfo=<exo.prelude.SrcInfo object at 0x7fffbc62b280>), rhs=Effects.Var(name=k_11685, type=LoopIR.Index(), srcinfo=<exo.prelude.SrcInfo object at 0x7fffbc6285e0>), type=LoopIR.Bool(), srcinfo=<exo.prelude.SrcInfo object at 0x7fffbc6285e0>), rhs=Effects.BinOp(op='<', lhs=Effects.Var(name=k_11685, type=LoopIR.Index(), srcinfo=<exo.prelude.SrcInfo object at 0x7fffbc6285e0>), rhs=Effects.Const(val=19, type=LoopIR.Int(), srcinfo=<exo.prelude.SrcInfo object at 0x7fffbc62b340>), type=LoopIR.Bool(), srcinfo=<exo.prelude.SrcInfo object at 0x7fffbc6285e0>), type=LoopIR.Bool(), srcinfo=<exo.prelude.SrcInfo object at 0x7fffbc6285e0>), type=LoopIR.Bool(), srcinfo=<exo.prelude.SrcInfo object at 0x7fffbc628e80>), type=LoopIR.Bool(), srcinfo=<exo.prelude.SrcInfo object at 0x7fffbd81d540>), srcinfo=<exo.prelude.SrcInfo object at 0x7fffbc6280a0>)], config_reads=[], config_writes=[], srcinfo=<exo.prelude.SrcInfo object at 0x7fffbc629060>), srcinfo=<exo.prelude.SrcInfo object at 0x7fffbe212830>), _path=[]), _attr='body', _range=range(0, 1))"
      ]
     },
     "execution_count": 127,
     "metadata": {},
     "output_type": "execute_result"
    }
   ],
   "source": [
    "from exo.pattern_match import match_pattern\n",
    "# obj: exo_ast.Proc = PROC.get_ast()\n",
    "# match_pattern(\n",
    "#     PROC.body()._impl,\n",
    "#     \"Out\"\n",
    "# )"
   ]
  },
  {
   "cell_type": "code",
   "execution_count": 111,
   "metadata": {},
   "outputs": [],
   "source": [
    "from exo import *\n",
    "from exo.stdlib.scheduling import *\n",
    "def move_mem_to_gemmini(proc, block_cursor, buff_name: str, window: str, accum: bool = False):\n",
    "    \n",
    "    # Copy Buffer into NewBuff before entering the specified block (e.g. a loop)\n",
    "    proc = stage_mem(proc,\n",
    "        block_cursor,\n",
    "        f\"{buff_name}{window}\",\n",
    "        f\"{buff_name}Staged\",\n",
    "        accum=accum\n",
    "    )\n",
    "\n",
    "    # change the memory location of NewBuff\n",
    "    proc = set_memory(proc,\n",
    "        f\"{buff_name}Staged\",\n",
    "        GEMM_ACCUM if accum else GEMM_SCRATCH\n",
    "    )\n",
    "\n",
    "    proc = set_precision(proc,\n",
    "        f\"{buff_name}Staged\",\n",
    "        \"i32\" if accum else \"i8\"\n",
    "    )\n",
    "\n",
    "    # use the proper insts to do staging and unstaging\n",
    "    proc = replace_all(proc, zero_i8)\n",
    "    proc = replace_all(proc, zero_acc_i32)\n",
    "    \n",
    "    proc = replace_all(proc, ld_i8)\n",
    "    proc = replace_all(proc, ld_acc_i8)\n",
    "    proc = replace_all(proc, ld_acc_i32)\n",
    "\n",
    "    proc = replace_all(proc, st_i8)\n",
    "    proc = replace_all(proc, st_acc_i8)\n",
    "    proc = replace_all(proc, st_acc_i32)\n",
    "\n",
    "    return proc\n",
    "\n",
    "p = rename(PROC, \"testing_proc\")\n",
    "p = reorder_loops(p, \"j k\")\n",
    "p = reorder_loops(p, \"i k\")\n",
    "\n",
    "LOOP_NAME = \"i\"\n",
    "p = move_mem_to_gemmini(p,\n",
    "    f\"for {LOOP_NAME} in _ : _\",\n",
    "    \"Out\",\n",
    "    \"[0:16, 0:16]\",\n",
    "    accum=True\n",
    ")\n",
    "\n",
    "p"
   ]
  },
  {
   "cell_type": "code",
   "execution_count": 113,
   "metadata": {},
   "outputs": [
    {
     "data": {
      "text/markdown": [
       "```python\n",
       "def testing_proc(In: i8[16, 19] @ DRAM, Weights: i8[19, 16] @ DRAM,\n",
       "                 Out: i8[16, 16] @ DRAM):\n",
       "    for k in seq(0, 19):\n",
       "        OutStaged: i32[16 - 0, 16 - 0] @ GEMM_ACCUM\n",
       "        zero_acc_i32(16, 16, OutStaged[0:16, 0:16])\n",
       "        for i in seq(0, 16):\n",
       "            for j in seq(0, 16):\n",
       "                OutStaged[i - 0, j - 0] += In[i, k] * Weights[k, j]\n",
       "        for i0 in seq(0, 16 - 0):\n",
       "            for i1 in seq(0, 16 - 0):\n",
       "                Out[i0 + 0, i1 + 0] += OutStaged[i0, i1]\n",
       "```"
      ],
      "text/plain": [
       "<exo.API.Procedure at 0x7fffbd613220>"
      ]
     },
     "execution_count": 113,
     "metadata": {},
     "output_type": "execute_result"
    }
   ],
   "source": [
    "# LOOP_NAME = \"k\"\n",
    "# p = move_mem_to_gemmini(p,\n",
    "#     f\"for {LOOP_NAME} in _ : _\",\n",
    "#     \"In\",\n",
    "#     \"[0:16, 0:19]\",\n",
    "#     accum=False,\n",
    "# )\n",
    "\n",
    "# LOOP_NAME = \"k\"\n",
    "# p = move_mem_to_gemmini(p,\n",
    "#     f\"for {LOOP_NAME} in _ : _\",\n",
    "#     \"Weights\",\n",
    "#     \"[0:16, 0:16]\"\n",
    "#     accum=False,\n",
    "# )\n",
    "\n",
    "if False:\n",
    "    p = stage_mem(p, \n",
    "        f\"for {LOOP_NAME} in _ : _\",   # Loop marker\n",
    "        f\"{BUFF_NAME}[0:16, 0:16]\",    # Buffer to stage\n",
    "        f\"{BUFF_NAME}Staged\",          # NewBuff to stage *into*\n",
    "        accum=True\n",
    "    )\n",
    "\n",
    "    #              NewBuff v     NewMem v\n",
    "    p = set_memory(p, \n",
    "        f\"{BUFF_NAME}Staged\", # NewBuff\n",
    "        MEMORY                # NewMem\n",
    "    )\n",
    "\n",
    "\n",
    "    # p = replace_all(p, ld_i8)\n",
    "    # p = replace_all(p, st_i8)\n",
    "p "
   ]
  },
  {
   "cell_type": "code",
   "execution_count": null,
   "metadata": {},
   "outputs": [],
   "source": [
    "# p = replace_all(p, ld_i8_vector)\n",
    "# p = replace_all(p, ld_i8_block)"
   ]
  },
  {
   "cell_type": "code",
   "execution_count": null,
   "metadata": {},
   "outputs": [
    {
     "data": {
      "text/markdown": [
       "```python\n",
       "def testing_proc(In: i8[16, 19] @ DRAM, Weights: i8[19, 16] @ DRAM,\n",
       "                 Out: i8[16, 16] @ DRAM):\n",
       "    for k in seq(0, 19):\n",
       "        OutStaged: i8[16 - 0, 16 - 0] @ GEMM_ACCUM\n",
       "        zero_acc_i32(16, 16, OutStaged[0:16, 0:16])\n",
       "        for i in seq(0, 16):\n",
       "            for j in seq(0, 16):\n",
       "                OutStaged[i - 0, j - 0] += In[i, k] * Weights[k, j]\n",
       "        for i0 in seq(0, 16 - 0):\n",
       "            for i1 in seq(0, 16 - 0):\n",
       "                Out[i0 + 0, i1 + 0] += OutStaged[i0, i1]\n",
       "```"
      ],
      "text/plain": [
       "<exo.API.Procedure at 0x7fffbd8652d0>"
      ]
     },
     "execution_count": 93,
     "metadata": {},
     "output_type": "execute_result"
    }
   ],
   "source": [
    "p"
   ]
  },
  {
   "cell_type": "code",
   "execution_count": null,
   "metadata": {},
   "outputs": [],
   "source": [
    "p = replace_all(p, matmul_i8)"
   ]
  },
  {
   "cell_type": "code",
   "execution_count": null,
   "metadata": {},
   "outputs": [
    {
     "data": {
      "text/markdown": [
       "```python\n",
       "def testing_proc(In: i8[16, 19] @ DRAM, Weights: i8[19, 16] @ DRAM,\n",
       "                 Out: i8[16, 16] @ DRAM):\n",
       "    for k in seq(0, 19):\n",
       "        OutStaged: i8[16 - 0, 16 - 0] @ GEMM_ACCUM\n",
       "        zero_acc_i32(16, 16, OutStaged[0:16, 0:16])\n",
       "        for i in seq(0, 16):\n",
       "            for j in seq(0, 16):\n",
       "                OutStaged[i - 0, j - 0] += In[i, k] * Weights[k, j]\n",
       "        for i0 in seq(0, 16 - 0):\n",
       "            for i1 in seq(0, 16 - 0):\n",
       "                Out[i0 + 0, i1 + 0] += OutStaged[i0, i1]\n",
       "```"
      ],
      "text/plain": [
       "<exo.API.Procedure at 0x7fffbd8652d0>"
      ]
     },
     "execution_count": 95,
     "metadata": {},
     "output_type": "execute_result"
    }
   ],
   "source": [
    "p"
   ]
  },
  {
   "cell_type": "code",
   "execution_count": null,
   "metadata": {},
   "outputs": [],
   "source": []
  }
 ],
 "metadata": {
  "kernelspec": {
   "display_name": "Python 3",
   "language": "python",
   "name": "python3"
  },
  "language_info": {
   "codemirror_mode": {
    "name": "ipython",
    "version": 3
   },
   "file_extension": ".py",
   "mimetype": "text/x-python",
   "name": "python",
   "nbconvert_exporter": "python",
   "pygments_lexer": "ipython3",
   "version": "3.10.13"
  }
 },
 "nbformat": 4,
 "nbformat_minor": 2
}
